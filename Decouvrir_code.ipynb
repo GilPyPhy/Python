{
 "cells": [
  {
   "cell_type": "markdown",
   "metadata": {},
   "source": [
    "<h1><div style=\"color:Sienna;font-family:serif;font-size:larger;text-align:center;border:solid,2px;padding:2%;\">Python Hack</div></h1>\n",
    "\n",
    "<div style=\"color:blue;font-family:serif;padding-left:100px\">\n",
    "    <a href=\"#T1\">Tracer des courbes</a><br>\n",
    "        &nbsp;&nbsp;&nbsp;&nbsp;&nbsp;<a href=\"#etape1\">Etape 1 - Liste par extension</a><br>\n",
    "        &nbsp;&nbsp;&nbsp;&nbsp;&nbsp;<a href=\"#etape2\">Etape 2 - Liste par compréhension</a><br>\n",
    "        &nbsp;&nbsp;&nbsp;&nbsp;&nbsp;<a href=\"#etape3\">Etape 3 - Numpy</a><br>\n",
    "        &nbsp;&nbsp;&nbsp;&nbsp;&nbsp;<a href=\"#etape4\">Etape 4 - Graphe complet</a><br>\n",
    "    <a href=\"#T2\">Programmation - Boucles, tests</a><br>\n",
    "        &nbsp;&nbsp;&nbsp;&nbsp;&nbsp;<a href=\"#Prog1\">Etape 1 - Paramètre variable : boucle for</a><br>\n",
    "        &nbsp;&nbsp;&nbsp;&nbsp;&nbsp;<a href=\"#Prog2\">Etape 2 - Fonction complexe : tests</a><br>\n",
    "    <a href=\"#T3\">Suggestions pour poursuivre</a><br>\n",
    "</div>"
   ]
  },
  {
   "cell_type": "markdown",
   "metadata": {},
   "source": [
    "<div style=\"border:solid,1px;padding:1%\"><b><i>Objectifs : analyser le code, le tester, le modifier, l'adapter</i></b><br><br>\n",
    "    Le code est fourni est fonctionnel, ne pas hésiter à le <b>commenter</b>, à en <b>tester des bribes</b> en le modifiant pour comprendre les différentes instructions. Bien analyser les éventuels <b>messages d'erreur</b> (dont la dernière ligne contient en général la source de l'erreur).</div><br><br>"
   ]
  },
  {
   "cell_type": "markdown",
   "metadata": {},
   "source": [
    "# <div id=\"T1\" style=\"color:blue;font-family:serif;border:solid,1px;padding:1%;\">Tracer des courbes</div>"
   ]
  },
  {
   "cell_type": "markdown",
   "metadata": {},
   "source": [
    "#### <div id=\"etape1\" style=\"border-bottom:solid,1px;\"><b>Etape 1 - Liste par extension</b></div>\n",
    "\n",
    "La ligne <b>%matplotlib inline</b> ci-dessous n'est utile que pour un notebook (inutile dans un IDE comme Pyzo ou Spyder par exemple).<br><br>"
   ]
  },
  {
   "cell_type": "markdown",
   "metadata": {},
   "source": [
    "<div>&#128432; Exécuter le code ci-dessous puis ajouter des commentaires dans le code.</div>"
   ]
  },
  {
   "cell_type": "code",
   "execution_count": null,
   "metadata": {},
   "outputs": [],
   "source": [
    "\"\"\" Commentaire sur plusieurs lignes\n",
    "Copier ce code dans une nouvelle cellule pour le modifier \"\"\"\n",
    "\n",
    "# Commentaire sur une seule ligne\n",
    "\n",
    "%matplotlib inline\n",
    "import matplotlib.pyplot as plt # Commentaire\n",
    "\n",
    "def f(x):\n",
    "    global a,b\n",
    "    return (x-a)*(x-b)\n",
    "\n",
    "a = 1\n",
    "b = 3\n",
    "\n",
    "abscisses = [0.0,0.4,0.8,1.2,1.6,2.0,2.4,2.8,3.2,3.6,4.0,4.4,4.8]\n",
    "ordonnees = [f(x) for x in abscisses]\n",
    "\n",
    "plt.plot(abscisses,ordonnees)\n",
    "plt.show()"
   ]
  },
  {
   "cell_type": "markdown",
   "metadata": {},
   "source": [
    "<div>&#128432; Tester des bribes de code (\"pour voir\"). Ne pas hésiter à copier/coller la totalité du code</div>"
   ]
  },
  {
   "cell_type": "code",
   "execution_count": null,
   "metadata": {
    "solution": "hidden"
   },
   "outputs": [],
   "source": []
  },
  {
   "cell_type": "code",
   "execution_count": null,
   "metadata": {},
   "outputs": [],
   "source": []
  },
  {
   "cell_type": "markdown",
   "metadata": {},
   "source": [
    "#### <div id=\"etape2\" style=\"border-bottom:solid,1px;\"><b>Etape 2 - Liste par compréhension</b></div>"
   ]
  },
  {
   "cell_type": "markdown",
   "metadata": {},
   "source": [
    "La définition de la liste des abscisses \"à la main\" (on parle de définition par <b>extension</b>) est perfectible. <br>\n",
    "Tester l'instruction suivante en la modifiant éventuellement."
   ]
  },
  {
   "cell_type": "code",
   "execution_count": null,
   "metadata": {},
   "outputs": [],
   "source": [
    "liste_x = [k for k in range(0, 50, 4)]\n",
    "liste_x"
   ]
  },
  {
   "cell_type": "code",
   "execution_count": null,
   "metadata": {},
   "outputs": [],
   "source": []
  },
  {
   "cell_type": "markdown",
   "metadata": {},
   "source": [
    "Ce type de définition est dit par <b>compréhension</b>.<br>\n",
    "L'instruction range( ) produit une liste d'<b>entiers</b> mais il est tout à fait permis d'écrire une instruction de la forme :<br>\n",
    "<code>liste_x = [<b><i>expression fonction de k</i></b> for k in range(0, 50, 4)]</code><br>\n",
    "Déterminer l'expression qui permet d'obtenir la liste des abscisses de l'exemple 1. "
   ]
  },
  {
   "cell_type": "code",
   "execution_count": null,
   "metadata": {},
   "outputs": [],
   "source": []
  },
  {
   "cell_type": "markdown",
   "metadata": {},
   "source": [
    "<div id=\"Ex2\">&#128432; Récrire le code de l'exemple 1 avec des abscisses appartenant à l'intervalle &#91;-2,5&#93; et variant par pas de 0,2.</div>"
   ]
  },
  {
   "cell_type": "code",
   "execution_count": null,
   "metadata": {},
   "outputs": [],
   "source": []
  },
  {
   "cell_type": "markdown",
   "metadata": {},
   "source": [
    "<a href=\"#S2\">Solution Etape 2</a>"
   ]
  },
  {
   "cell_type": "markdown",
   "metadata": {},
   "source": [
    "#### <div id=\"etape3\" style=\"border-bottom:solid,1px;\"><b>Etape 3 - Numpy</b></div>"
   ]
  },
  {
   "cell_type": "markdown",
   "metadata": {},
   "source": [
    "Le module numpy possède des instructions permettant de simplifier énormément le code précédent.<br>\n",
    "Ce module est chargé en mémoire sous l'alias np par la commande :<br>\n",
    "<code>import numpy as np</code>"
   ]
  },
  {
   "cell_type": "code",
   "execution_count": null,
   "metadata": {},
   "outputs": [],
   "source": [
    "import numpy as np"
   ]
  },
  {
   "cell_type": "markdown",
   "metadata": {},
   "source": [
    "<div >&#128432; Liste de nombres réels : tester l'instruction suivante (après avoir validé l'instruction précédente).</div>"
   ]
  },
  {
   "cell_type": "code",
   "execution_count": null,
   "metadata": {},
   "outputs": [],
   "source": [
    "abscisses = np.arange(-2,5.2,0.2)\n",
    "abscisses"
   ]
  },
  {
   "cell_type": "markdown",
   "metadata": {},
   "source": [
    "<div >&#128432; ufunc (fonction \"universelle\")  : comparer les instructions suivantes.</div>"
   ]
  },
  {
   "cell_type": "code",
   "execution_count": null,
   "metadata": {},
   "outputs": [],
   "source": [
    "ordonnees = f(abscisses)\n",
    "ordonnees"
   ]
  },
  {
   "cell_type": "code",
   "execution_count": null,
   "metadata": {},
   "outputs": [],
   "source": [
    "liste_x = [k for k in range(0, 50, 4)]\n",
    "liste_y = f(liste_x)"
   ]
  },
  {
   "cell_type": "markdown",
   "metadata": {},
   "source": [
    "Conclusion : les tableaux numpy (array) autorisent une syntaxe très simple qui n'est pas valide avec des listes."
   ]
  },
  {
   "cell_type": "markdown",
   "metadata": {},
   "source": [
    "<div id=\"Ex3\">&#128432; Récrire le code de l'exemple 1 avec des abscisses appartenant à l'intervalle &#91;-2,5&#93; et variant par pas de 0,2 avec numpy.</div>"
   ]
  },
  {
   "cell_type": "code",
   "execution_count": null,
   "metadata": {},
   "outputs": [],
   "source": []
  },
  {
   "cell_type": "markdown",
   "metadata": {},
   "source": [
    "<a href=\"#S3\">Solution Etape 3</a>"
   ]
  },
  {
   "cell_type": "markdown",
   "metadata": {},
   "source": [
    "#### <div id=\"etape4\" style=\"border-bottom:solid,1px;\"><b>Etape 4 - Graphe complet</b></div>"
   ]
  },
  {
   "cell_type": "markdown",
   "metadata": {},
   "source": [
    "Pour superposer des courbes, il suffit d'ajouter une autre instruction plot.<br><br>\n",
    "<div>&#128432; Identifier le rôle des instructions suivantes et commenter le code.</div>"
   ]
  },
  {
   "cell_type": "code",
   "execution_count": null,
   "metadata": {},
   "outputs": [],
   "source": [
    "import matplotlib.pyplot as plt\n",
    "import numpy as np\n",
    "\n",
    "def f(x):\n",
    "    global a,b\n",
    "    return -3*(x-a)*(x-b)\n",
    "\n",
    "a = -1\n",
    "b = 3\n",
    "\n",
    "x = np.arange(-5,5.2,0.2)\n",
    "\n",
    "plt.plot(x,f(x),    label='Polynôme $f(x)=-3(x-a)(x-b)$', color='red')  # $ formule LaTeX $\n",
    "plt.plot(x,-2*x+10, label='Droite g(x)=-2x+10',   color='blue')\n",
    "plt.legend()\n",
    "plt.grid()\n",
    "plt.ylim(-5,15)\n",
    "plt.xlim(-2,4)\n",
    "plt.title(\"Mes belles courbes\")\n",
    "plt.xlabel('Abscisses x')\n",
    "plt.ylabel('Ordonnées y')\n",
    "plt.show()"
   ]
  },
  {
   "cell_type": "code",
   "execution_count": null,
   "metadata": {},
   "outputs": [],
   "source": []
  },
  {
   "cell_type": "markdown",
   "metadata": {},
   "source": [
    "# <div id=\"T2\" style=\"color:blue;font-family:serif;border:solid,1px;padding:1%;\">Programmation - Boucles, tests</div>"
   ]
  },
  {
   "cell_type": "markdown",
   "metadata": {},
   "source": [
    "#### <div id=\"Prog1\" style=\"border-bottom:solid,1px;\"><b>Etape 1 - Paramètre variable : boucle for</b></div>"
   ]
  },
  {
   "cell_type": "markdown",
   "metadata": {},
   "source": [
    "<div>&#128432; Identifier le rôle des instructions suivantes (ne pas hésiter à en supprimer pour tester) et commenter le code.</div>"
   ]
  },
  {
   "cell_type": "code",
   "execution_count": null,
   "metadata": {},
   "outputs": [],
   "source": [
    "import matplotlib.pyplot as plt\n",
    "import numpy as np\n",
    "\n",
    "def f(x):\n",
    "    global a,b\n",
    "    return (x-a)*(x-b)\n",
    "\n",
    "a = 1\n",
    "b = 3\n",
    "\n",
    "x = np.arange(-2,5.2,0.1)\n",
    "\n",
    "for a in [-2,0,2]:\n",
    "    plt.plot(x, f(x),label=\"a = \"+str(a))\n",
    "    \n",
    "plt.legend()\n",
    "plt.show()"
   ]
  },
  {
   "cell_type": "markdown",
   "metadata": {},
   "source": [
    "#### <div id=\"Prog2\" style=\"border-bottom:solid,1px;\"><b>Etape 2 - Fonction complexe : tests</b></div>"
   ]
  },
  {
   "cell_type": "markdown",
   "metadata": {},
   "source": [
    "<div>&#128432; Identifier le rôle des instructions suivantes (ne pas hésiter à en supprimer pour tester) et commenter le code.</div>"
   ]
  },
  {
   "cell_type": "code",
   "execution_count": null,
   "metadata": {},
   "outputs": [],
   "source": [
    "import matplotlib.pyplot as plt\n",
    "import numpy as np\n",
    "\n",
    "def f(x):\n",
    "    global a,b\n",
    "    if x != b:\n",
    "        y = (x-a)/(x-b)\n",
    "        if y < 20 and y > -20:\n",
    "            return y\n",
    "    else:\n",
    "        return None\n",
    "\n",
    "b = 3\n",
    "\n",
    "fv = np.vectorize(f)       # Transforme la fonction f en ufunc numpy (imposé par le test)\n",
    "x = np.arange(-2,5.2,0.1)\n",
    "\n",
    "for a in [-2,0,2]:\n",
    "    plt.plot(x, fv(x),label=\"a = \"+str(a))\n",
    "    \n",
    "plt.ylim(-10,10)\n",
    "plt.legend()\n",
    "plt.show()"
   ]
  },
  {
   "cell_type": "code",
   "execution_count": null,
   "metadata": {},
   "outputs": [],
   "source": []
  },
  {
   "cell_type": "markdown",
   "metadata": {},
   "source": [
    "# <div id=\"T3\" style=\"color:blue;font-family:serif;border:solid,1px;padding:1%;\">Suggestions pour poursuivre</div>"
   ]
  },
  {
   "cell_type": "markdown",
   "metadata": {},
   "source": [
    "Deux pistes :<br>\n",
    "- récupérer des données acquises ou créées dans Latispro, Régressi, Excel : [Fichiers](Fichiers.ipynb)\n",
    "- réaliser des applets interactives, animations, graphes 3D : [Simulations](Simulations.ipynb)"
   ]
  },
  {
   "cell_type": "code",
   "execution_count": null,
   "metadata": {},
   "outputs": [],
   "source": []
  },
  {
   "cell_type": "markdown",
   "metadata": {},
   "source": [
    "<hr>\n",
    "<div style=\"color:Sienna;font-family:serif;border:solid,2px;padding:2%;\">\n",
    "    <div style=\"font-size:larger;text-align:center;\">Réponses</div>\n",
    "</div>\n",
    "<hr>"
   ]
  },
  {
   "cell_type": "markdown",
   "metadata": {},
   "source": [
    "<div id=\"S2\"><b>Solution Etape 2</b>&nbsp;&nbsp;<a href=\"#Ex2\" style=\"font-size:smaller;\">Retour exercices</a></div>"
   ]
  },
  {
   "cell_type": "code",
   "execution_count": null,
   "metadata": {},
   "outputs": [],
   "source": [
    "import matplotlib.pyplot as plt\n",
    "\n",
    "def f(x):\n",
    "    global a,b\n",
    "    return (x-a)*(x-b)\n",
    "\n",
    "a = 1\n",
    "b = 3\n",
    "\n",
    "abscisses = [k/10 for k in range(-20,52,2)] # range(debut,fin,pas)  attention, la valeur fin est exclue\n",
    "ordonnees = [f(x) for x in abscisses]\n",
    "\n",
    "plt.plot(abscisses,ordonnees)\n",
    "plt.show()"
   ]
  },
  {
   "cell_type": "markdown",
   "metadata": {},
   "source": [
    "<div id=\"S3\"><b>Solution Etape 3</b>&nbsp;&nbsp;<a href=\"#Ex3\" style=\"font-size:smaller;\">Retour exercices</a></div>"
   ]
  },
  {
   "cell_type": "code",
   "execution_count": null,
   "metadata": {},
   "outputs": [],
   "source": [
    "import matplotlib.pyplot as plt\n",
    "import numpy as np\n",
    "\n",
    "def f(x):\n",
    "    global a,b\n",
    "    return (x-a)*(x-b)\n",
    "\n",
    "a = 1\n",
    "b = 3\n",
    "\n",
    "x = np.arange(-2,5.2,0.2)\n",
    "\n",
    "plt.plot(x,f(x))\n",
    "plt.show()"
   ]
  },
  {
   "cell_type": "code",
   "execution_count": null,
   "metadata": {},
   "outputs": [],
   "source": []
  }
 ],
 "metadata": {
  "kernelspec": {
   "display_name": "Python 3",
   "language": "python",
   "name": "python3"
  },
  "language_info": {
   "codemirror_mode": {
    "name": "ipython",
    "version": 3
   },
   "file_extension": ".py",
   "mimetype": "text/x-python",
   "name": "python",
   "nbconvert_exporter": "python",
   "pygments_lexer": "ipython3",
   "version": "3.7.1"
  }
 },
 "nbformat": 4,
 "nbformat_minor": 2
}
