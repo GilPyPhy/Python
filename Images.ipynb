{
 "cells": [
  {
   "cell_type": "markdown",
   "metadata": {},
   "source": [
    "<h1><div style=\"color:Sienna;font-family:serif;font-size:larger;text-align:center;border:solid,2px;padding:2%;\">Traitement des images</div></h1>\n",
    "\n",
    "<div style=\"color:blue;font-family:serif;padding-left:100px\">\n",
    "    <a href=\"#T1\">Module scikit-image</a><br>\n",
    "    <a href=\"#T2\">Module Pillow</a><br>\n",
    "    <a href=\"#T2\">Traitement d'images - Exemples avec Pillow</a><br>\n",
    "</div>"
   ]
  },
  {
   "cell_type": "markdown",
   "metadata": {},
   "source": [
    "<div style=\"border:solid,1px;padding:1%;\"><b>Tutoriel</b> : <a href=\"http://s15847115.domainepardefaut.fr/python/images/imageNumerique.html\" target=\"_blank\">images numériques et Python</a></div>"
   ]
  },
  {
   "cell_type": "markdown",
   "metadata": {},
   "source": [
    "<div style=\"border:solid,1px;padding:1%;\">\n",
    "    Pour traiter une image, celle-ci est souvent convertie en <b>tableau numpy</b> (analogue à une matrice).<br>\n",
    "Chaque élément de la matrice correspond à un pixel et contient le codage couleur sous forme d’un tuple.\n",
    "<img src=\"image_numpy.png\" alt=\"Image Numpy\" /><br>\n",
    "\n",
    "<b>Modules Python</b> pour ouvrir et traiter des images :<br>\n",
    "<a href=\"http://imageio.readthedocs.io/en/latest/examples.html\" target=\"_blank\">imageio</a><br>\n",
    "<a href=\"http://scikit-image.org/docs/stable/auto_examples/\" target=\"_blank\">scikit-image</a><br>\n",
    "<a href=\"https://pillow.readthedocs.io/en/latest/handbook/tutorial.html\" target=\"_blank\">pillow</a>\n",
    "</div>"
   ]
  },
  {
   "cell_type": "markdown",
   "metadata": {},
   "source": [
    "<h2><div id=\"T1\" style=\"color:blue;font-family:serif;border:solid,1px;padding:1%;\">Module scikit-image</div></h2>"
   ]
  },
  {
   "cell_type": "markdown",
   "metadata": {},
   "source": [
    "<div style=\"border-bottom:solid,1px;\"><b>Exemple 1</b> : skimage seul</div>"
   ]
  },
  {
   "cell_type": "code",
   "execution_count": null,
   "metadata": {},
   "outputs": [],
   "source": [
    "from skimage import io          # Module scikit-image\n",
    "\n",
    "fichier = 'http://upload.wikimedia.org/wikipedia/commons/d/de/Wikipedia_Logo_1.0.png'\n",
    "logoWiki = io.imread(fichier)   # Lecture et création d'un tableau numpy\n",
    "print(logoWiki.shape)           # Dimensions de l'image\n",
    "print(logoWiki.dtype)           # Codage de l'image\n",
    "io.imshow(logoWiki)             # Affichage étape 1\n",
    "io.show()                       # Affichage étape 2"
   ]
  },
  {
   "cell_type": "markdown",
   "metadata": {},
   "source": [
    "<div style=\"border-bottom:solid,1px;\"><b>Exemple 2</b> : skimage et matplotlib</div>"
   ]
  },
  {
   "cell_type": "code",
   "execution_count": null,
   "metadata": {},
   "outputs": [],
   "source": [
    "from skimage import io\n",
    "import matplotlib.pyplot as plt\n",
    "\n",
    "fichier = 'Wikipedia_logo.png'\n",
    "logoWiki = io.imread(fichier)\n",
    "plt.imshow(logoWiki)             # Affichage étape 1\n",
    "plt.show()                       # Affichage étape 2"
   ]
  },
  {
   "cell_type": "markdown",
   "metadata": {},
   "source": [
    "<h2><div id=\"T2\" style=\"color:blue;font-family:serif;border:solid,1px;padding:1%;\">Module Pillow</div></h2>"
   ]
  },
  {
   "cell_type": "markdown",
   "metadata": {},
   "source": [
    "<div style=\"border-bottom:solid,1px;\"><b>Exemple 3</b> : PIL.Image seul</div>"
   ]
  },
  {
   "cell_type": "code",
   "execution_count": null,
   "metadata": {},
   "outputs": [],
   "source": [
    "import PIL.Image                       # Module PIL.Image\n",
    "\n",
    "im = PIL.Image.open('Rubik_cube.png')  # Ouverture\n",
    "print(im.size)                         # Taille en pixels\n",
    "print(im.mode)                         # Codage\n",
    "print(im.format)                       # TIFF, JPEG, BMP, PNG...\n",
    "im.show()"
   ]
  },
  {
   "cell_type": "markdown",
   "metadata": {},
   "source": [
    "<div style=\"border-bottom:solid,1px;\"><b>Exemple 4</b> : PIL.Image et matplotlib</div>"
   ]
  },
  {
   "cell_type": "markdown",
   "metadata": {},
   "source": [
    "Pour traiter l'image, le module Pillow dispose de nombreuses méthodes mais on peut également convertir l'image en tableau Numpy, effectuer les traitements souhaités puis afficher le tableau grâce à matplotlib.pyplot."
   ]
  },
  {
   "cell_type": "code",
   "execution_count": null,
   "metadata": {},
   "outputs": [],
   "source": [
    "import PIL.Image\n",
    "import matplotlib.pyplot as plt\n",
    "import numpy as np\n",
    "\n",
    "im = PIL.Image.open('Rubik_cube.png')  # Ouverture\n",
    "T = np.array(im)                       # Image → tableau numpy\n",
    "plt.imshow(T)                          # Affichage étape 1\n",
    "plt.show()                             # Affichage étape 2"
   ]
  },
  {
   "cell_type": "markdown",
   "metadata": {},
   "source": [
    "Il est possible de transformer une image en tableau numpy puis de retransformer le tableau numpy en image grâce aux instructions :<br> \n",
    "<code>T = np.array(<i>image</i>)</code> (image &rarr; tableau) ;<br>\n",
    "<code>image = PIL.Image.fromarray(<i>tableau</i>)</code> (tableau &rarr; image).<br>\n",
    "L'image obtenue peut être sauvegardée :<br>\n",
    "<code>plt.imsave(<i>nom_de_fichier</i>,<i>image</i>)</code>"
   ]
  },
  {
   "cell_type": "markdown",
   "metadata": {},
   "source": [
    "<h2><div id=\"T3\" style=\"color:blue;font-family:serif;border:solid,1px;padding:1%;\">Traitement d'images - Exemples avec Pillow</div></h2>"
   ]
  },
  {
   "cell_type": "markdown",
   "metadata": {},
   "source": [
    "On utilise le fichier précédent Rubik_cube.png"
   ]
  },
  {
   "cell_type": "markdown",
   "metadata": {},
   "source": [
    "<div style=\"border-bottom:solid,1px;\"><b>Accès à un pixel</b> :</div>"
   ]
  },
  {
   "cell_type": "code",
   "execution_count": null,
   "metadata": {},
   "outputs": [],
   "source": [
    "T[120,120]"
   ]
  },
  {
   "cell_type": "markdown",
   "metadata": {},
   "source": [
    "Le codage est RGBA (Red, Green, Blue, Alpha = transaprence).<br>\n",
    "Les valeurs RGBA  pixel sont codées sur 8 bits (256 valeurs entre 0 et 2<sup>8-1</sup> = 255). "
   ]
  },
  {
   "cell_type": "markdown",
   "metadata": {},
   "source": [
    "<div style=\"border-bottom:solid,1px;\"><b>Modification de pixels</b> (exemple précédent Rubik_cube.png) :</div>"
   ]
  },
  {
   "cell_type": "code",
   "execution_count": null,
   "metadata": {},
   "outputs": [],
   "source": [
    "T[80:160,80:160]=[0, 0, 0, 255]\n",
    "plt.imshow(T)\n",
    "plt.show()   "
   ]
  },
  {
   "cell_type": "markdown",
   "metadata": {},
   "source": [
    "<div style=\"border:solid,1px;padding:1%;\"><b>Exercices</b> : <a href=\"http://s15847115.domainepardefaut.fr/python/images/imageNumerique.html\" target=\"_blank\">images numériques et Python</a></div>"
   ]
  },
  {
   "cell_type": "code",
   "execution_count": null,
   "metadata": {},
   "outputs": [],
   "source": []
  }
 ],
 "metadata": {
  "kernelspec": {
   "display_name": "Python 3",
   "language": "python",
   "name": "python3"
  },
  "language_info": {
   "codemirror_mode": {
    "name": "ipython",
    "version": 3
   },
   "file_extension": ".py",
   "mimetype": "text/x-python",
   "name": "python",
   "nbconvert_exporter": "python",
   "pygments_lexer": "ipython3",
   "version": "3.7.1"
  }
 },
 "nbformat": 4,
 "nbformat_minor": 2
}
