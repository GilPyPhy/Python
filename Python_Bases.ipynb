{
 "cells": [
  {
   "cell_type": "markdown",
   "metadata": {},
   "source": [
    "<h1><div style=\"color:Sienna;font-family:serif;font-size:larger;text-align:center;border:solid,2px;padding:2%;\">Python, numpy, matplotlib - Bases</div></h1>\n",
    "\n",
    "<div style=\"color:blue;font-family:serif;padding-left:100px\">\n",
    "    <a href=\"#T0\">Structuration du code</a><br>\n",
    "    <a href=\"#T1\">Modules / librairies / bibliothèques</a><br>\n",
    "    <a href=\"#T1b\">Variables, affectations</a><br>\n",
    "    <a href=\"#T2\">Opérateurs</a><br>\n",
    "    <a href=\"#T3\">Types simples</a><br>\n",
    "    <a href=\"#T3b\">Nombres et mathématiques</a><br>\n",
    "    <a href=\"#T4\">Types composés</a><br>\n",
    "    <a href=\"#T6\">Intervalle – Fonction range()</a><br>\n",
    "    <a href=\"#T5\">Entrées / sorties</a><br>\n",
    "    <a href=\"#T8\">Chaînes de caractères</a><br>\n",
    "    <a href=\"#T9\">Listes</a><br>\n",
    "    <a href=\"#T7\">Structures de contrôle (tests et boucles)</a><br>\n",
    "    <a href=\"#T10\">Tableaux numpy</a><br>\n",
    "    <a href=\"#T11\">Dictionnaire</a><br>\n",
    "    <a href=\"#T12\">Fonctions</a><br>\n",
    "    <a href=\"#T13\">Graphiques</a><br>\n",
    "    <a href=\"#T14\">Gestion des erreurs</a><br>\n",
    "    <a href=\"#T15\">Gestion des exceptions</a><br>\n",
    "</div>\n",
    "<div style=\"font-family:serif;text-align:center;\"><b>Suite : <a href=\"numpy_matplotlib.ipynb\">numpy et matplotlib</a></b></div><br>"
   ]
  },
  {
   "cell_type": "markdown",
   "metadata": {
    "heading_collapsed": true
   },
   "source": [
    "# <div id=\"T0\" style=\"color:blue;font-family:serif;border:solid,1px;padding:1%;\">Structuration du code</div>"
   ]
  },
  {
   "cell_type": "code",
   "execution_count": null,
   "metadata": {
    "hidden": true
   },
   "outputs": [],
   "source": [
    "\"\"\" Structure d’un programme \"\"\"\n",
    "\n",
    "# Modules           \n",
    "import random as rd  \n",
    "import math\n",
    "\n",
    "# Fonctions        \n",
    "def f(a,b):\n",
    "    return a**2+b \n",
    "\n",
    "# Initialisation des variables (globales)\n",
    "x, y = 1, 2\n",
    "\n",
    "# Programme principal\n",
    "z = f(x,y) \n",
    "\n",
    "# Affichage\n",
    "print('z = ',  z)"
   ]
  },
  {
   "cell_type": "markdown",
   "metadata": {
    "heading_collapsed": true
   },
   "source": [
    "# <div id=\"T1\" style=\"color:blue;font-family:serif;border:solid,1px;padding:1%;\">Modules / librairies / bibliothèques</div>"
   ]
  },
  {
   "cell_type": "markdown",
   "metadata": {
    "hidden": true
   },
   "source": [
    "<div style=\"border:solid,1px;padding:1%;\">\n",
    "<table>\n",
    "  <tr>\n",
    "      <th style=\"text-align:center\"><i>Python</i></th>\n",
    "      <th style=\"text-align:center\"><i>Signification</i></th>\n",
    "      <th style=\"text-align:center\"><i>Syntaxe</i></th>\n",
    "  </tr>\n",
    "  <tr>\n",
    "      <td style=\"text-align:left\"><span style=\"color:red;\">import</span> math</td>\n",
    "    <td style=\"text-align:left\">Charge en mémoire toutes les fonctions et les constantes du module math.</td>\n",
    "    <td style=\"text-align:left\">math.tan(0)<br>math.pi</td>\n",
    "  </tr>\n",
    "  <tr>\n",
    "      <td style=\"text-align:left\"><span style=\"color:red;\">from</span>&nbsp;math&nbsp;<span style=\"color:red;\">import</span>&nbsp;sqrt,&nbsp;cos</td>\n",
    "    <td style=\"text-align:left\">Charge en mémoire uniquement les fonctions et les constantes listées.</td>\n",
    "    <td style=\"text-align:left\">cos(0)</td>\n",
    "  </tr>\n",
    "  <tr>\n",
    "      <td style=\"text-align:left\"><span style=\"color:red;\">from</span> math <span style=\"color:red;\">import *</span></td>\n",
    "    <td style=\"text-align:left\">Même effet que import math mais dangereux (risque de conflit de noms de fonctions entre plusieurs modules). \n",
    "Possible si un seul module est utilisé (avantage : syntaxe raccourcie). À éviter sinon.</td>\n",
    "    <td style=\"text-align:left\">tan(0)<br>pi</td>\n",
    "  </tr>\n",
    "  <tr>\n",
    "      <td style=\"text-align:left\"><span style=\"color:red;\">import</span> random <span style=\"color:red;\">as</span> rd</td>\n",
    "    <td style=\"text-align:left\">Charge le module random et utilise l’alias ‘rd’ au lieu du nom complet ‘random’ (corrige le défaut précédent).</td>\n",
    "    <td style=\"text-align:left\">rd.randint(0,9)</td>\n",
    "  </tr>\n",
    "</table><br>\n",
    "</div>"
   ]
  },
  {
   "cell_type": "markdown",
   "metadata": {
    "hidden": true
   },
   "source": [
    "&#128432; <b>Horreur : message d'erreur</b><div id=\"E1\"></div>\n",
    "Exécuter les instructions suivantes, observer les messages d'erreur et trouver la syntaxe correcte."
   ]
  },
  {
   "cell_type": "code",
   "execution_count": null,
   "metadata": {
    "hidden": true
   },
   "outputs": [],
   "source": [
    "import math\n",
    "2*pi"
   ]
  },
  {
   "cell_type": "markdown",
   "metadata": {
    "heading_collapsed": true
   },
   "source": [
    "# <div id=\"T1b\" style=\"color:blue;font-family:serif;border:solid,1px;padding:1%;\">Variables, affectations</div>"
   ]
  },
  {
   "cell_type": "markdown",
   "metadata": {
    "hidden": true
   },
   "source": [
    "<div style=\"border:solid,1px;padding:1%;\">\n",
    "<b>Un nom de variable doit commencer par une lettre et ne comporter aucun caractère spécial (sauf tiret bas &#95;)</b>.<br>\n",
    "a4, ab, a4b, a_b, aB sont des noms de variable valides mais 4a n'est pas valide.<br>\n",
    "\n",
    "<table style=\"width:100%\">\n",
    "  <tr>\n",
    "      <th style=\"text-align:center\"><i>Python</i></th>\n",
    "      <th style=\"text-align:center\"><i>Signification</i></th>\n",
    "      <th style=\"text-align:center\"><i>Exemples et remarques</i></th>\n",
    "  </tr>\n",
    "  <tr>\n",
    "    <td style=\"text-align:left\"><b><span style=\"color:red;\">=</span></b></td>\n",
    "    <td style=\"text-align:left\">Affectation simple<br>Affectations multiples<br></td>\n",
    "    <td style=\"text-align:left\">x = 5<br>x, y = 5, -2</td>\n",
    "  </tr>\n",
    "  <tr>\n",
    "    <td style=\"text-align:left\"><b><span style=\"color:red;\">+=&nbsp;&nbsp;-=&nbsp;&nbsp;*=&nbsp;&nbsp;/=</span></b></td>\n",
    "    <td style=\"text-align:left\">Incrémentation = modification et stockage<br>La variable doit être <b>prélablement initialisée</b> par une instruction de la forme x = <i>valeur</i>.</td>\n",
    "    <td style=\"text-align:left\">x += 5&nbsp;&nbsp; &hArr; &nbsp;&nbsp;x = x + 5<br>x *= 3&nbsp;&nbsp; &hArr; &nbsp;&nbsp;x = 3*x</td>\n",
    "  </tr>\n",
    "</table><br>\n",
    "\n",
    "<b>Complément</b> : <a href=\"#T4\">Technique de unpacking</a> dans le paragraphe sur les types composés.<br></div>"
   ]
  },
  {
   "cell_type": "markdown",
   "metadata": {
    "hidden": true
   },
   "source": [
    "&#128432; <b>Horreur : message d'erreur</b><div id=\"E2\"></div>\n",
    "Exécuter les instructions suivantes, observer les messages d'erreur et identifier la source de l'erreur."
   ]
  },
  {
   "cell_type": "code",
   "execution_count": null,
   "metadata": {
    "hidden": true
   },
   "outputs": [],
   "source": [
    "maVariable += 5"
   ]
  },
  {
   "cell_type": "markdown",
   "metadata": {
    "heading_collapsed": true
   },
   "source": [
    "# <div id=\"T2\" style=\"color:blue;font-family:serif;border:solid,1px;padding:1%;\">Opérateurs</div>"
   ]
  },
  {
   "cell_type": "markdown",
   "metadata": {
    "hidden": true
   },
   "source": [
    "<div style=\"border:solid,1px;padding:1%;\">\n",
    "<table style=\"width:100%\">\n",
    "  <tr>\n",
    "      <th style=\"text-align:center\"><i>Python</i></th>\n",
    "      <th style=\"text-align:center\"><i>Signification</i></th>\n",
    "      <th style=\"text-align:center\"><i>Exemples et remarques</i></th>\n",
    "  </tr>\n",
    "  <tr>\n",
    "    <td style=\"text-align:left\">+  -  *  /</td>\n",
    "    <td style=\"text-align:left\">Opérations fondamentales</td>\n",
    "    <td style=\"text-align:left\"></td>\n",
    "  </tr>\n",
    "  <tr>\n",
    "      <td style=\"text-align:left\"><span style=\"color:red;\">**</span></td>\n",
    "    <td style=\"text-align:left\">Puissance</td>\n",
    "      <td style=\"text-align:left\">2**5 calcule 2<sup>5</sup></td>\n",
    "  </tr>\n",
    "  <tr>\n",
    "    <td style=\"text-align:left\">//<br>%</td>\n",
    "    <td style=\"text-align:left\">Division entière (Euclidienne)<br>Reste dans la division entière</td>\n",
    "    <td style=\"text-align:left\">7//3 calcule le quotient entier de 7&#247;3 soit 2<br>7//3 calcule le reste dans la division entière 7&#247;3 soit 1</td>\n",
    "  </tr>\n",
    "  <tr>\n",
    "      <td style=\"text-align:left\"><b><span style=\"color:red;\">==</span></b>  &nbsp;&nbsp;&lt;=  &nbsp;&nbsp;&gt;=  &nbsp;&nbsp;!= </td>\n",
    "    <td style=\"text-align:left\">Égalité, &le;, &ge;, &ne;</td>\n",
    "    <td style=\"text-align:left\"></td>\n",
    "  </tr>\n",
    "  <tr>\n",
    "    <td style=\"text-align:left\">and or not</td>\n",
    "    <td style=\"text-align:left\">Et, ou, négation</td>\n",
    "    <td style=\"text-align:left\">0 not in &#91;-5, 0, 1, 2&#93; renvoie False</td>\n",
    "  </tr>\n",
    "</table><br>\n",
    "\n",
    "<b>Ne pas confondre ces opérateurs avec les symboles réservés aux affectations</b>.<br></div>"
   ]
  },
  {
   "cell_type": "markdown",
   "metadata": {
    "hidden": true
   },
   "source": [
    "&#128432; <b>Horreur : message d'erreur</b><div id=\"E3\"></div>\n",
    "Exécuter les instructions suivantes, observer les messages d'erreur et identifier la source de l'erreur."
   ]
  },
  {
   "cell_type": "code",
   "execution_count": null,
   "metadata": {
    "hidden": true
   },
   "outputs": [],
   "source": [
    "4 = 3+1 and 5 > 2"
   ]
  },
  {
   "cell_type": "markdown",
   "metadata": {
    "heading_collapsed": true
   },
   "source": [
    "# <div id=\"T3\" style=\"color:blue;font-family:serif;border:solid,1px;padding:1%;\">Types simples</div>"
   ]
  },
  {
   "cell_type": "markdown",
   "metadata": {
    "hidden": true
   },
   "source": [
    "<div style=\"border:solid,1px;padding:1%;\">\n",
    "<table style=\"width:100%\">\n",
    "  <tr>\n",
    "      <th style=\"text-align:center\"><i>Python</i></th>\n",
    "      <th style=\"text-align:center\"><i>Signification</i></th>\n",
    "      <th style=\"text-align:center\"><i>Exemples</i></th>\n",
    "  </tr>\n",
    "  <tr>\n",
    "      <td style=\"text-align:left\"><span style=\"color:red;\">int</span></td>\n",
    "    <td style=\"text-align:left\">Entier (integer)</td>\n",
    "    <td style=\"text-align:left\">int(5.2) convertit le flottant 5.2 en entier</td>\n",
    "  </tr>\n",
    "  <tr>\n",
    "    <td style=\"text-align:left\"><span style=\"color:red;\">float</span></td>\n",
    "    <td style=\"text-align:left\">Flottant (nombre en notation scientifique)</td>\n",
    "    <td style=\"text-align:left\">float(2) convertit l'entier 2 en flottant 2.0 </td>\n",
    "  </tr>\n",
    "  <tr>\n",
    "    <td style=\"text-align:left\"><span style=\"color:red;\">boolean</span></td>\n",
    "    <td style=\"text-align:left\">Booléen</td>\n",
    "    <td style=\"text-align:left\">True ou False</td>\n",
    "  </tr>\n",
    "  <tr>\n",
    "    <td style=\"text-align:left\"><span style=\"color:red;\">str</span></td>\n",
    "    <td style=\"text-align:left\">Chaîne de caractères (string)</td>\n",
    "    <td style=\"text-align:left\">str(4) convertit l'entier 4 en chaîne '4'</td>\n",
    "  </tr>\n",
    "</table><br>\n",
    "\n",
    "La fonction <code>type()</code> permet de connaître le type d'un objet.<br>\n",
    "\n",
    "<b>Les fonctions int( ), float( ), bool( ), str( ) permettent de modifier le type d'un objet.<br>\n",
    "La fonction eval( ) permet de transformer une chaîne en entier, flottant ou boléen.</b><br></div>"
   ]
  },
  {
   "cell_type": "markdown",
   "metadata": {
    "hidden": true
   },
   "source": [
    "&#128432; <b>Tester les instructions suivantes</b>.<div id=\"E4\"></div>"
   ]
  },
  {
   "cell_type": "code",
   "execution_count": null,
   "metadata": {
    "hidden": true
   },
   "outputs": [],
   "source": [
    "1 == 2"
   ]
  },
  {
   "cell_type": "code",
   "execution_count": null,
   "metadata": {
    "hidden": true
   },
   "outputs": [],
   "source": [
    "True == 1"
   ]
  },
  {
   "cell_type": "markdown",
   "metadata": {
    "hidden": true
   },
   "source": [
    "Prévoir le résultat de l'instruction suivante :"
   ]
  },
  {
   "cell_type": "code",
   "execution_count": null,
   "metadata": {
    "hidden": true
   },
   "outputs": [],
   "source": [
    "True + 1"
   ]
  },
  {
   "cell_type": "markdown",
   "metadata": {
    "hidden": true
   },
   "source": [
    "Identification du type d'une variable :"
   ]
  },
  {
   "cell_type": "code",
   "execution_count": null,
   "metadata": {
    "hidden": true
   },
   "outputs": [],
   "source": [
    "a = str(2)\n",
    "type(a)"
   ]
  },
  {
   "cell_type": "code",
   "execution_count": null,
   "metadata": {
    "hidden": true
   },
   "outputs": [],
   "source": [
    "type(a) == str"
   ]
  },
  {
   "cell_type": "markdown",
   "metadata": {
    "hidden": true
   },
   "source": [
    "Transformer une chaîne en nombre :"
   ]
  },
  {
   "cell_type": "code",
   "execution_count": null,
   "metadata": {
    "hidden": true
   },
   "outputs": [],
   "source": [
    "eval('4')"
   ]
  },
  {
   "cell_type": "code",
   "execution_count": null,
   "metadata": {
    "hidden": true
   },
   "outputs": [],
   "source": [
    "eval('3.14')"
   ]
  },
  {
   "cell_type": "markdown",
   "metadata": {
    "hidden": true
   },
   "source": [
    "&#128432; <b>Une erreur est si vite arrivée</b><div id=\"E5\"></div>\n",
    "Exécuter les deux instructions suivantes et identifier la source de l'erreur."
   ]
  },
  {
   "cell_type": "code",
   "execution_count": null,
   "metadata": {
    "hidden": true
   },
   "outputs": [],
   "source": [
    "print('a =',a)"
   ]
  },
  {
   "cell_type": "code",
   "execution_count": null,
   "metadata": {
    "hidden": true
   },
   "outputs": [],
   "source": [
    "a == 2"
   ]
  },
  {
   "cell_type": "markdown",
   "metadata": {
    "hidden": true
   },
   "source": [
    "&#128432; <b>Une erreur est si vite arrivée</b><div id=\"E6\"></div>\n",
    "Exécuter l'instruction suivante et identifier la source de l'erreur."
   ]
  },
  {
   "cell_type": "code",
   "execution_count": null,
   "metadata": {
    "hidden": true
   },
   "outputs": [],
   "source": [
    "(1 == 2) == false"
   ]
  },
  {
   "cell_type": "markdown",
   "metadata": {
    "heading_collapsed": true
   },
   "source": [
    "# <div id=\"T3b\" style=\"color:blue;font-family:serif;border:solid,1px;padding:1%;\">Nombres et mathématiques</div>"
   ]
  },
  {
   "cell_type": "markdown",
   "metadata": {
    "hidden": true
   },
   "source": [
    "[Fonctions prédéfinies dans Python](https://docs.python.org/3.7/library/functions.html)"
   ]
  },
  {
   "cell_type": "markdown",
   "metadata": {
    "hidden": true
   },
   "source": [
    "<div style=\"border-left:solid,5px;padding-left:1%\"><b>Représentation des nombres en informatique</b></div>"
   ]
  },
  {
   "cell_type": "code",
   "execution_count": null,
   "metadata": {
    "hidden": true
   },
   "outputs": [],
   "source": [
    "10**50 + 2.1 -10**50  # De tête, le résultat est 2.1 : problème d'overflow (nombre trop grand)"
   ]
  },
  {
   "cell_type": "code",
   "execution_count": null,
   "metadata": {
    "hidden": true
   },
   "outputs": [],
   "source": [
    "1 + 2/3 - 5/3         # De tête, le résultat est 0 : nombre réel arrondi (nombre fini de chiffres) "
   ]
  },
  {
   "cell_type": "code",
   "execution_count": null,
   "metadata": {
    "hidden": true
   },
   "outputs": [],
   "source": [
    "1 + 10**-50 - 1       # De tête, le résultat est 10**-50 : problème d'underflow (nombre trop petit)"
   ]
  },
  {
   "cell_type": "markdown",
   "metadata": {
    "hidden": true
   },
   "source": [
    "Bilan : on obtient 0 quand on ne devrait pas et on n'obtient pas 0 quand on devrait !<br><br>\n",
    "<span style=\"color:red;\">Conclusion : il est impossible de tester l'égalité de deux nombres à virgule (résultat incertain !). Par contre, ce problème n'existe pas avec les nombres entiers.</span>"
   ]
  },
  {
   "cell_type": "markdown",
   "metadata": {
    "hidden": true
   },
   "source": [
    "<div style=\"border-left:solid,5px;padding-left:1%\"><b>Fonctions mathématiques</b></div>"
   ]
  },
  {
   "cell_type": "markdown",
   "metadata": {
    "hidden": true
   },
   "source": [
    "<div style=\"border:solid,1px;padding:1%;\">\n",
    "    Pour utiliser les fonctions mathématiques usuelles (sqrt pour &radic;, sin, cos, tan, exp, log, log10...) il faut charger en mémoire la <b>bibliothèque</b> (le <b>module</b>) \"math\" à l'aide de la commande <b>import</b>\n",
    "</div>"
   ]
  },
  {
   "cell_type": "code",
   "execution_count": null,
   "metadata": {
    "hidden": true
   },
   "outputs": [],
   "source": [
    "import math    # Il ne se passe (apparemment) rien lors de l'exécution de cette commande\n",
    "math.cos(math.pi)"
   ]
  },
  {
   "cell_type": "markdown",
   "metadata": {
    "hidden": true
   },
   "source": [
    "<div style=\"border:solid,1px;padding:1%;\">\n",
    "    Le nombre imaginaire pur est noté <b>1j</b> (collé), on peut aussi écrire -3j...<br>\n",
    "    Python reconnaît cette écriture et sait calculer le module d'un complexe (sans bibliothèque supplémentaire) mais pour obtenir son argument, sa partie réelle, etc..., il faut charger le module \"cmath\".\n",
    "</div>"
   ]
  },
  {
   "cell_type": "code",
   "execution_count": null,
   "metadata": {
    "hidden": true
   },
   "outputs": [],
   "source": [
    "z = 2 + 1j"
   ]
  },
  {
   "cell_type": "code",
   "execution_count": null,
   "metadata": {
    "hidden": true
   },
   "outputs": [],
   "source": [
    "abs(z)   # Calcul du module du complexe z"
   ]
  },
  {
   "cell_type": "code",
   "execution_count": null,
   "metadata": {
    "hidden": true
   },
   "outputs": [],
   "source": [
    "print(z.real, z.imag)"
   ]
  },
  {
   "cell_type": "code",
   "execution_count": null,
   "metadata": {
    "hidden": true
   },
   "outputs": [],
   "source": [
    "import cmath\n",
    "cmath.phase(z)   # Calcul de l'argument du complexe z"
   ]
  },
  {
   "cell_type": "markdown",
   "metadata": {
    "hidden": true
   },
   "source": [
    "<b>Documentation officielle Python</b> : <a href=\"https://docs.python.org/fr/3.5/library/math.html\">fonctions mathématiques</a> et <a href=\"https://docs.python.org/fr/3.5/library/cmath.html#module-cmath\">module cmath</a>.<br>\n",
    "Pour travailler avec des vecteurs quelques notions sont encore nécessaires...<br>\n",
    "\n",
    "Noter les syntaxes différentes : <br>\n",
    "- dans l'écriture <code>abs(z)</code>, <span style=\"color:red;\">abs( ) est une fonction</span> ;\n",
    "- dans l'écriture <code>z.real</code> <span style=\"color:red;\">real est une propriété</span> d'un objet.<br>\n",
    "\n",
    "La <b>syntaxe objet</b> se reconnaît à la présence du point : <code><i>objet</i><b>.</b><i>propriété</i></code> ou <code><i>objet</i><b>.</b><i>méthode( )</i></code>. <br>\n",
    "Par exemple, <span style=\"color:red;\">append() est une méthode</span> des objets \"listes\" car on écrit <code>L.append(4)</code> (voir ci-dessous). <br>\n",
    "Présentation rapide de la <a href=\"https://python-django.dev/page-apprendre-programmation-orientee-objet-poo-classes-python-cours-debutants\">programmation objet</a> (à titre de complément, inutile pour la suite).<br><br>"
   ]
  },
  {
   "cell_type": "markdown",
   "metadata": {
    "hidden": true
   },
   "source": [
    "<div style=\"border-left:solid,5px;padding-left:1%\"><b>Nombres aléatoires</b></div>"
   ]
  },
  {
   "cell_type": "code",
   "execution_count": null,
   "metadata": {
    "hidden": true
   },
   "outputs": [],
   "source": [
    "from random import *       # Bibliothèque"
   ]
  },
  {
   "cell_type": "code",
   "execution_count": null,
   "metadata": {
    "hidden": true
   },
   "outputs": [],
   "source": [
    "randrange(0,100)          # randrange(0,100) renvoie un entier dans [a,b["
   ]
  },
  {
   "cell_type": "code",
   "execution_count": null,
   "metadata": {
    "hidden": true
   },
   "outputs": [],
   "source": [
    "random()                  # renvoie un flottant"
   ]
  },
  {
   "cell_type": "markdown",
   "metadata": {
    "heading_collapsed": true
   },
   "source": [
    "# <div id=\"T4\" style=\"color:blue;font-family:serif;border:solid,1px;padding:1%;\">Types composés</div>"
   ]
  },
  {
   "cell_type": "markdown",
   "metadata": {
    "hidden": true
   },
   "source": [
    "<div style=\"border:solid,1px;padding:1%;\">\n",
    "Ce tableau est une synthèse des propriétés des <b>types séquentiels</b> list, tuple, range, string : tous ces objets sont de type <b>sequence</b>.<br>Se reporter aux paragraphes dédiés à chacun de ces types pour les opérations (concaténation, duplication, slicing...).<br>\n",
    "\n",
    "<table style=\"width:100%\">\n",
    "  <tr>\n",
    "      <th style=\"text-align:center\"><i></i></th>\n",
    "      <th style=\"text-align:center\"><i>Tuple (tuple)</i></th>\n",
    "      <th style=\"text-align:center\"><i>Liste (list)</i></th>\n",
    "      <th style=\"text-align:center\"><i>Chaîne (string)</i></th>\n",
    "  </tr>\n",
    "  <tr>\n",
    "    <td style=\"text-align:left\">Définition</td>\n",
    "    <td style=\"text-align:left\"><code>t = ('ab', 2, -4, True)</code></td>\n",
    "    <td style=\"text-align:left\"><code>L = ['ab', 2, -4, True]</code></td>\n",
    "    <td style=\"text-align:left\"><code>s = 'abcdefg'</code></td>\n",
    "  </tr>\n",
    "    <tr>\n",
    "    <td style=\"text-align:left\">Type</td>\n",
    "    <td style=\"text-align:left\">tuple</td>\n",
    "    <td style=\"text-align:left\">list</td>\n",
    "    <td style=\"text-align:left\">str</td>\n",
    "  </tr>\n",
    "  <tr>\n",
    "    <td style=\"text-align:left\">Accès à l'élément d'index <i>i</i><br><span style=\"color:red;\">La numérotation débute à 0</span></td>\n",
    "    <td style=\"text-align:left\"><code>t[i]</code></td>\n",
    "    <td style=\"text-align:left\"><code>L[i]</code></td>\n",
    "    <td style=\"text-align:left\"><code>s[i]</code></td>\n",
    "  </tr>\n",
    "  <tr>\n",
    "    <td style=\"text-align:left\">Remplacer un élément</td>\n",
    "      <td style=\"text-align:left\"><span style=\"color:red;\">Impossible : non mutable</span></td>\n",
    "    <td style=\"text-align:left\"><code>L[2] = 10 </code><span style=\"color:red;\">Mutable</span></td>\n",
    "    <td style=\"text-align:left\"><span style=\"color:red;\">Impossible : non mutable</span></td>\n",
    "  </tr>\n",
    "  <tr>\n",
    "    <td style=\"text-align:left\">Slicing</td>\n",
    "    <td  colspan=\"3\" style=\"text-align:center\"><code>Oui</code></td>\n",
    "  </tr>\n",
    "  <tr>\n",
    "    <td style=\"text-align:left\">Concaténation</td>\n",
    "    <td  colspan=\"3\" style=\"text-align:center\"><code>+</code></td>\n",
    "  </tr>\n",
    "  <tr>\n",
    "    <td style=\"text-align:left\">Duplication</td>\n",
    "    <td  colspan=\"3\" style=\"text-align:center\"><code>*</code></td>\n",
    "  </tr>\n",
    "  <tr>\n",
    "    <td style=\"text-align:left\">Longueur</td>\n",
    "    <td  colspan=\"3\" style=\"text-align:center\"><code>len()</code></td>\n",
    "  </tr>\n",
    "  <tr>\n",
    "    <td style=\"text-align:left\">Appartenance</td>\n",
    "    <td  colspan=\"3\" style=\"text-align:center\"><code>in</code></td>\n",
    "  </tr>\n",
    "</table><br>\n",
    "\n",
    "<span style=\"color:red;\"><b>Unpacking</b></span><br>\n",
    "Si le tuple t est défini par <code>t = ('ab', 2, -4, True)</code> alors il est possible de récupérer chaque valeur dans une variable par : <br>\n",
    "<code>a, b, c, d = t</code><br>\n",
    "Cette technique est également licite pour les listes et les chaînes (il faut autant de variables que de valeurs).\n",
    "\n",
    "<span style=\"color:red;\"><b>Slicing</b></span> : extraction de \"tranches\" (sous-listes, sous-chaînes)<br>\n",
    "Soit obj un objet de type sequence (tuple, list, chaîne...).<br>\n",
    "<code>obj[start : stop : step]</code><br>\n",
    "start est la valeur de départ (incluse), si elle est omise, sa valeur par défaut est 0  ;<br>\n",
    "stop est la valeur de fin (<b>exclue</b>), si elle est omise sa valeur par défaut est len(obj) ;<br>\n",
    "step est le pas (facultatif).<br></div>"
   ]
  },
  {
   "cell_type": "markdown",
   "metadata": {
    "hidden": true
   },
   "source": [
    "&#128432; <b>Exemples</b><div id=\"E7\"></div>\n",
    "Tester les instructions analogues avec des listes"
   ]
  },
  {
   "cell_type": "code",
   "execution_count": null,
   "metadata": {
    "hidden": true
   },
   "outputs": [],
   "source": [
    "s = 'abcdefg'\n",
    "'ab' in s"
   ]
  },
  {
   "cell_type": "code",
   "execution_count": null,
   "metadata": {
    "hidden": true
   },
   "outputs": [],
   "source": [
    "s+s"
   ]
  },
  {
   "cell_type": "code",
   "execution_count": null,
   "metadata": {
    "hidden": true
   },
   "outputs": [],
   "source": [
    "4*s"
   ]
  },
  {
   "cell_type": "code",
   "execution_count": null,
   "metadata": {
    "hidden": true
   },
   "outputs": [],
   "source": [
    "s[1]"
   ]
  },
  {
   "cell_type": "code",
   "execution_count": null,
   "metadata": {
    "hidden": true
   },
   "outputs": [],
   "source": [
    "s[1:4]"
   ]
  },
  {
   "cell_type": "code",
   "execution_count": null,
   "metadata": {
    "hidden": true
   },
   "outputs": [],
   "source": [
    "s[1:5:2]"
   ]
  },
  {
   "cell_type": "markdown",
   "metadata": {
    "hidden": true
   },
   "source": [
    "&#128432; <b>Horreur : message d'erreur</b><div id=\"E8\"></div>\n",
    "Exécuter les instructions suivantes, observer les messages d'erreur et trouver la syntaxe correcte."
   ]
  },
  {
   "cell_type": "code",
   "execution_count": null,
   "metadata": {
    "hidden": true
   },
   "outputs": [],
   "source": [
    "L = ['ab', 2, -4, True]\n",
    "print('La liste contient ',len(L),' éléments')\n",
    "# On souhaite accéder au dernier élément\n",
    "L[4]"
   ]
  },
  {
   "cell_type": "code",
   "execution_count": null,
   "metadata": {
    "hidden": true
   },
   "outputs": [],
   "source": [
    "# On souhaite extraire une sous-chaîne\n",
    "L[1,3]"
   ]
  },
  {
   "cell_type": "code",
   "execution_count": null,
   "metadata": {
    "hidden": true
   },
   "outputs": [],
   "source": [
    "a,b,c = L"
   ]
  },
  {
   "cell_type": "markdown",
   "metadata": {
    "heading_collapsed": true
   },
   "source": [
    "# <div id=\"T6\" style=\"color:blue;font-family:serif;border:solid,1px;padding:1%;\">Intervalle – Fonction range()</div>"
   ]
  },
  {
   "cell_type": "markdown",
   "metadata": {
    "hidden": true
   },
   "source": [
    "<div style=\"border:solid,1px;padding:1%;\">\n",
    "En Python, l’instruction <span style=\"color:red;\">range()</span> (intervalle en français) permet de créer une <b>séquence</b> de nombres.<br>\n",
    "\n",
    "Exemples : \t\n",
    "- range(10)&nbsp;&nbsp;&nbsp;&nbsp;&nbsp;&nbsp;&nbsp;&nbsp;crée la séquence 0, 1, 2, 3, 4, 5, 6, 7, 8, 9\n",
    "- range(1,10)&nbsp;&nbsp;&nbsp;&nbsp;&nbsp;crée la séquence&nbsp;&nbsp;&nbsp;&nbsp; 1, 2, 3, 4, 5, 6, 7, 8, 9\n",
    "- range(1,10,2)&nbsp;&nbsp;crée la séquence&nbsp;&nbsp;&nbsp;&nbsp; 1,&nbsp;&nbsp;&nbsp;&nbsp; 3,&nbsp;&nbsp;&nbsp;&nbsp; 5,&nbsp;&nbsp;&nbsp;&nbsp; 7,&nbsp;&nbsp;&nbsp;&nbsp; 9\n",
    "\n",
    "Syntaxe complète : \t<code><span style=\"color:red;\"><b>range(start, stop [, step])</b></span></code><br>\n",
    "* start est la <b>valeur de départ (incluse)</b>, si elle est omise, sa valeur par défaut est 0 comme dans le 1er exemple ;<br>\n",
    "* stop est la <b>valeur de fin (<span style=\"color:red;\">exclue</span>)</b>, elle ne peut pas être omise (1er exemple : une seule valeur correspond à la valeur de fin) ;<br>\n",
    "* step est le pas (<b>facultatif</b>), si il est précisé (3ème exemple), il ne faut pas mettre de crochets.<br>\n",
    "\n",
    "&#10062; Il faut taper <b>list(range( ))</b> si on veut <b>visualiser</b> les valeurs produites par range( ).\n",
    "</div>"
   ]
  },
  {
   "cell_type": "markdown",
   "metadata": {
    "hidden": true
   },
   "source": [
    "&#128432; <b>Utilisation de range( )</b><div id=\"range1\"></div>\n",
    "Créer la séquence : -8,-4,0,4,8"
   ]
  },
  {
   "cell_type": "code",
   "execution_count": null,
   "metadata": {
    "hidden": true
   },
   "outputs": [],
   "source": []
  },
  {
   "cell_type": "markdown",
   "metadata": {
    "heading_collapsed": true
   },
   "source": [
    "# <div id=\"T5\" style=\"color:blue;font-family:serif;border:solid,1px;padding:1%;\">Entrées / sorties</div>"
   ]
  },
  {
   "cell_type": "markdown",
   "metadata": {
    "hidden": true
   },
   "source": [
    "<div style=\"border-bottom:solid,1px;\"><b>Sorties (output)</b></div>\n",
    "Exemple : L = &#91;5&#93; et s = 'abc'."
   ]
  },
  {
   "cell_type": "code",
   "execution_count": null,
   "metadata": {
    "hidden": true
   },
   "outputs": [],
   "source": [
    "L = [5]\n",
    "s = 'abc'"
   ]
  },
  {
   "cell_type": "markdown",
   "metadata": {
    "hidden": true
   },
   "source": [
    "<table style=\"width:100%\">\n",
    "  <tr>\n",
    "    <th style=\"text-align:center\"><i>Commande</i></th>\n",
    "    <th style=\"text-align:center\"><i>Résultats</i></th>\n",
    "    <th style=\"text-align:center\"><i>Commentaires</i></th>\n",
    "  </tr>\n",
    "  <tr>\n",
    "    <td style=\"text-align:left\"><code>print(L)<br>print(s)<br>print(L,s)</code></td>\n",
    "    <td style=\"text-align:left\">&#91;5&#93;<br>abc<br>&#91;5&#93; abc</td>\n",
    "    <td style=\"text-align:left\">Affichage de une ou plusieurs variables</td>\n",
    "  </tr>\n",
    "  <tr>\n",
    "    <td style=\"text-align:left\"><code>print('La liste L est : ' ,L)<br>print('La liste L est : ' + str(L))</code></td>\n",
    "    <td style=\"text-align:left\">La liste L est : [5]<br>La liste L est : [5]</td>\n",
    "    <td style=\"text-align:left\">Affichage d'un mélange de chaînes et de variables</td>\n",
    "  </tr>\n",
    "  <tr>\n",
    "    <td style=\"text-align:left\"><code>print('La liste est {} et la chaîne est {}'.format(L,s))</code></td>\n",
    "    <td style=\"text-align:left\">La liste est [5] et la chaîne est abc</td>\n",
    "    <td style=\"text-align:left\">Les accolades {} désignent des <b>paramètres remplaçables</b> dont les valeurs figurent dans la commande <b>format()</b> : la première accolade est remplacée par le contenu de la variable L et la seconde par le contenu de la variable s.</td>\n",
    "  </tr>\n",
    "</table> "
   ]
  },
  {
   "cell_type": "markdown",
   "metadata": {
    "hidden": true
   },
   "source": [
    "<div style=\"border-bottom:solid,1px;\"><b>Entrées interactives (input)</b></div>\n",
    "La fonction input() permet d'interrompre un prgramme pour demander une valeur dans une boîte de dialoque. La valeur entrée au clavier est stockée dans une variable. Attention, cette valeur sera automatiquement de type chaîne quelle que soit la valeur entrée : si nécessaire, il faut convertir ensuite le type chaîne en un autre type grâce à <a href=\"#T3\">int(), float(), bool ou eval()</a>.<br>\n",
    "\n",
    "&#128432;<b>Exemple</b> (penser à valider après avoir entré la valeur dans la boîte de dialogue) :<div id=\"ES1\"></div> "
   ]
  },
  {
   "cell_type": "code",
   "execution_count": null,
   "metadata": {
    "hidden": true
   },
   "outputs": [],
   "source": [
    "x = input('Entrer un nombre (puis valider) : ')  # La boîte de dialogue apparaît juste sous cette cellule"
   ]
  },
  {
   "cell_type": "code",
   "execution_count": null,
   "metadata": {
    "hidden": true
   },
   "outputs": [],
   "source": [
    "print(x)"
   ]
  },
  {
   "cell_type": "code",
   "execution_count": null,
   "metadata": {
    "hidden": true
   },
   "outputs": [],
   "source": [
    "x+1"
   ]
  },
  {
   "cell_type": "markdown",
   "metadata": {
    "heading_collapsed": true
   },
   "source": [
    "# <div id=\"T8\" style=\"color:blue;font-family:serif;border:solid,1px;padding:1%;\">Chaînes de caractères</div>"
   ]
  },
  {
   "cell_type": "markdown",
   "metadata": {
    "hidden": true
   },
   "source": [
    "<div style=\"border-left:solid,5px;padding-left:1%\"><b>Création</b></div>"
   ]
  },
  {
   "cell_type": "markdown",
   "metadata": {
    "hidden": true
   },
   "source": [
    "<div style=\"border:solid,1px;padding:1%;\">\n",
    "    En Python les <b>chaînes de caractères</b> (string) s’écrivent entre <b>guillemets</b> simples ou doubles.<br>\n",
    "    \n",
    "Exemples : 'a', \"a\", \"2*a-b/c\", \"J <span style=\"color:red;\"><b>’</b> </span>aime la physique\", 'il y a une <span style=\"color:red;\"><b>\"</b></span>astuce<span style=\"color:red;\"><b>\"</b></span> ici'<br>\n",
    "<i>Noter l’utilisation des guillemets : il est nécessaire de disposer de 2 types de guillemets pour définir les chaînes.</i><br>\n",
    "\n",
    "De la même façon qu’un nombre ou un booléen, on peut stocker une chaîne dans une variable : s ='azerty'.<br>\n",
    "Les instructions <code>s = ''</code> ou <code>s = \"\"</code> créent toutes deux une <b>chaîne vide</b> (ne contenant aucun caractère).<br>\n",
    "\n",
    "<code>a</code> et <code>'a'</code>  ne désignent absolument pas le même objet en Python !<br>\n",
    "- <code>a</code>  sans guillemets (simples ou doubles) est un <b>nom de variable</b> (contenant n’importe quel objet).<br>\n",
    "- <code>'a'</code> ou  <code>\"a\"</code>  représente du « texte » (ici a minuscule) appelé <b>chaîne de caractères</b> (string).\n",
    "</div>"
   ]
  },
  {
   "cell_type": "markdown",
   "metadata": {
    "hidden": true
   },
   "source": [
    "&#128432; <b>Horreur : message d'erreur</b><div id=\"E9\"></div>\n",
    "Exécuter les instructions suivantes, observer celles qui produisent un message d'erreur et déterminer la cause de l'erreur."
   ]
  },
  {
   "cell_type": "code",
   "execution_count": null,
   "metadata": {
    "hidden": true
   },
   "outputs": [],
   "source": [
    "a = 1"
   ]
  },
  {
   "cell_type": "code",
   "execution_count": null,
   "metadata": {
    "hidden": true
   },
   "outputs": [],
   "source": [
    "'a' = 2"
   ]
  },
  {
   "cell_type": "code",
   "execution_count": null,
   "metadata": {
    "hidden": true
   },
   "outputs": [],
   "source": [
    "'a'+2"
   ]
  },
  {
   "cell_type": "code",
   "execution_count": null,
   "metadata": {
    "hidden": true
   },
   "outputs": [],
   "source": [
    "'a'+str(a)"
   ]
  },
  {
   "cell_type": "markdown",
   "metadata": {
    "hidden": true
   },
   "source": [
    "<div style=\"border-left:solid,5px;padding-left:1%\"><b>Longueur d'une chaîne</b></div>"
   ]
  },
  {
   "cell_type": "markdown",
   "metadata": {
    "hidden": true
   },
   "source": [
    "<div style=\"border:solid,1px;padding:1%;\">Pour connaître la longueur d’une chaîne s (le nombre de caractères qui la composent), on utilise la fonction <b>len(s)</b>.</div>"
   ]
  },
  {
   "cell_type": "code",
   "execution_count": null,
   "metadata": {
    "hidden": true
   },
   "outputs": [],
   "source": [
    "s = \"J'aime l'informatique\"\n",
    "len(s)"
   ]
  },
  {
   "cell_type": "code",
   "execution_count": null,
   "metadata": {
    "hidden": true
   },
   "outputs": [],
   "source": [
    "len('')"
   ]
  },
  {
   "cell_type": "markdown",
   "metadata": {
    "hidden": true
   },
   "source": [
    "<div style=\"border-left:solid,5px;padding-left:1%\"><b>Indexation - Accès à un élément</b></div>"
   ]
  },
  {
   "cell_type": "markdown",
   "metadata": {
    "hidden": true
   },
   "source": [
    "<div style=\"border:solid,1px;padding:1%;\">\n",
    "<b>Indexation</b><br>\n",
    "Les caractères d’une chaîne s sont numérotés grâce à un <b>index</b> (entier donnant la position d’un caractère dans la chaîne).<br>\n",
    "ATTENTION ! <span style=\"color:red;\">La numérotation des caractères débute à 0</span>.<br>\n",
    "<span style=\"color:red;\">Les caractères d'une chaîne de n caractères sont donc numérotés de 0 à n-1</span>.<br>\n",
    "\t\n",
    "Exemple : la variable message est définie par l’instruction message = \"HELLO WORLd\" <br>\n",
    "Caractère <code>H E L L O &nbsp; W O R L D</code><br>\n",
    "Index &nbsp;&nbsp;&nbsp;&nbsp;&nbsp;&nbsp;&nbsp; <code>0 1 2 3 4 5 6 7 8 9 10</code><br>\n",
    "Les caractères de cette chaîne sont numérotés de 0 à 10 (10 = len(message)-1) et comporte donc len(message)=11 caractères.<br>\n",
    "\n",
    "<b>Accès à un élément</b><br>\n",
    "Pour connaître le caractère d’index i dans une chaîne s, on utilise l’instruction <code>s[i]</code><br>\n",
    "<code>message[0]</code> affiche 'H'<br>\n",
    "<code>message[4]</code> affiche 'O'<br>\n",
    "<code>message[len(message)-1]</code>  affiche 'D' &nbsp;&nbsp;&nbsp;# Affichage du dernier caractère<br>\n",
    "<code>message[len(message)]</code> affiche <span style=\"color:red;\">IndexError: string index out of range</span><br>\n",
    "ce qui signifie « index de chaîne en dehors de l’intervalle » car len(message) correspond à 11 et il n’y a pas de caractère d’index 11 dans la chaîne message.<br>\n",
    "\n",
    "Noter la présence de crochets et non de parenthèses dans la syntaxe : <code>nom_de_la_chaîne[index]</code><br>\n",
    "\n",
    "<b>Affectations - Une chaîne est <span style=\"color:red;\">non mutable</span></b><br>\n",
    "Il est possible de stocker un caractère (une chaîne) dans une variable : <code>c = message[k]</code> est correct.<br>\n",
    "L’inverse est impossible (cela reviendrait à vouloir modifier un caractère) : <br>\n",
    "<code>message[k] = 'a'</code>   provoque l’erreur <span style=\"color:red;\">SyntaxError: can't assign to literal</span>\n",
    "</div>"
   ]
  },
  {
   "cell_type": "markdown",
   "metadata": {
    "hidden": true
   },
   "source": [
    "&#128432; <b>Horreur : message d'erreur</b><div id=\"E10\"></div>"
   ]
  },
  {
   "cell_type": "code",
   "execution_count": null,
   "metadata": {
    "hidden": true
   },
   "outputs": [],
   "source": [
    "print(s,len(s))\n",
    "s[len(s)]"
   ]
  },
  {
   "cell_type": "markdown",
   "metadata": {
    "hidden": true
   },
   "source": [
    "<div style=\"border-left:solid,5px;padding-left:1%\"><b>Parcours d'une chaîne</b></div>"
   ]
  },
  {
   "cell_type": "markdown",
   "metadata": {
    "hidden": true
   },
   "source": [
    "<div style=\"border:solid,1px;padding:1%;\">\n",
    "<span style=\"color:red;\">Il existe deux façons de parcourir une chaîne s</span> (d'accéder aux éléments du premier au dernier) :\n",
    "<ul>\n",
    "    <li>le parcours par index ;</li>\n",
    "    <li>le parcours par valeur.</li>\n",
    "</ul>\n",
    "</div>"
   ]
  },
  {
   "cell_type": "markdown",
   "metadata": {
    "hidden": true
   },
   "source": [
    "&#128432; Exécuter les instructions suivantes"
   ]
  },
  {
   "cell_type": "code",
   "execution_count": null,
   "metadata": {
    "hidden": true
   },
   "outputs": [],
   "source": [
    "s = \"Chaîne\""
   ]
  },
  {
   "cell_type": "code",
   "execution_count": null,
   "metadata": {
    "hidden": true
   },
   "outputs": [],
   "source": [
    "for c in s:\n",
    "    print(c)"
   ]
  },
  {
   "cell_type": "code",
   "execution_count": null,
   "metadata": {
    "hidden": true
   },
   "outputs": [],
   "source": [
    "for k in range(len(s)):\n",
    "    print(s[k])"
   ]
  },
  {
   "cell_type": "markdown",
   "metadata": {
    "hidden": true
   },
   "source": [
    "<div style=\"border-left:solid,5px;padding-left:1%\"><b>Opérations sur les chaînes</b></div>"
   ]
  },
  {
   "cell_type": "markdown",
   "metadata": {
    "hidden": true
   },
   "source": [
    "<div style=\"border:solid,1px;padding:1%;\">\n",
    "    <b>Concaténation</b><br>\n",
    "L’opération de concaténation (mettre des chaînes « bout à bout ») est réalisée grâce à l’opérateur <span style=\"color:red;\"><b>+</b></span>.<br>\n",
    "    Exemple : <code>'a' + ',bc d'</code> donne 'a,bc d' (espace entre c et d mais sans espace autour de la virgule dans cet exemple).<br>\n",
    "Logiquement, la multiplication par un nombre (opérateur <span style=\"color:red;\"><b>*</b></span>) duplique la chaîne.<br>\n",
    "\tExemple : <code>3*'a'</code> donne 'aaa' ( <code>3*'a'</code> &hArr; <code>'a'+'a'+'a'</code>)<br>\n",
    "\n",
    "<b>Conversion nombre &rarr; chaîne</b><br>\n",
    "Pour afficher un résultat par exemple, il peut être intéressant de convertir un nombre en chaîne, cette opération se fait grâce à la fonction <b>str()</b>.<br>\n",
    "\tExemple :  str(4) renvoie le caractère '4'.<br>\n",
    "</div>"
   ]
  },
  {
   "cell_type": "markdown",
   "metadata": {
    "hidden": true
   },
   "source": [
    "&#128432; <b>Tester les instructions suivantes</b><div id=\"E11\"></div>"
   ]
  },
  {
   "cell_type": "markdown",
   "metadata": {
    "hidden": true
   },
   "source": [
    "<div style=\"border-left:solid,5px;padding-left:1%\"><b>Extraction de sous-chaines - Slicing</b></div>"
   ]
  },
  {
   "cell_type": "markdown",
   "metadata": {
    "hidden": true
   },
   "source": [
    "<div style=\"border:solid,1px;padding:1%;\">\n",
    "Voir ci-dessous (techniques de slicing pour les listes).\n",
    "</div>"
   ]
  },
  {
   "cell_type": "markdown",
   "metadata": {
    "hidden": true
   },
   "source": [
    "<div style=\"border-left:solid,5px;padding-left:1%\"><b>Méthodes et fonctions spécifiques</b></div>"
   ]
  },
  {
   "cell_type": "markdown",
   "metadata": {
    "hidden": true
   },
   "source": [
    "<div style=\"border:solid,1px;padding:1%;\">\n",
    "<b>Objet chaîne</b><br> \n",
    "Une chaîne appartient à une classe d’objets (cf. ci-dessous) qui possède des <b>méthodes</b> permettant d’effectuer des actions sur les chaînes.<br>\n",
    "La syntaxe objet utilise un point et des parenthèses : <code><i>nom_objet</i>.<i>nom_methode</i>()</code> (exemples dans le tableau ci-dessous).<br>\n",
    "\n",
    "<b>Syntaxe objet</b><br> \n",
    "Cette syntaxe se reconnaît à la présence du point : <code><i>objet</i><b>.</b><i>propriété</i></code> ou <code><i>objet</i><b>.</b><i>méthode( )</i></code>. <br>\n",
    "\n",
    "Présentation rapide de la <a href=\"https://python-django.dev/page-apprendre-programmation-orientee-objet-poo-classes-python-cours-debutants\">programmation objet</a> (à titre de complément, inutile pour la suite).<br>\n",
    "\n",
    "<b>Méthodes</b> <a href=\"https://docs.python.org/fr/3.7/library/stdtypes.html?highlight=strip#string-methods\" target=\"_blank\">Documentation</a><br>\n",
    "    On considère une chaîne s.<br>\n",
    "<table style=\"width:70%\">\n",
    "  <tr>\n",
    "    <th style=\"text-align:center\"><i>Commande</i></th>\n",
    "    <th style=\"text-align:center\"><i>Action</i></th>\n",
    "  </tr>\n",
    "  <tr>\n",
    "    <td style=\"text-align:left\"><code>s.lower()</code></td>\n",
    "    <td style=\"text-align:left\">Met la chaîne en minuscules</td>\n",
    "  </tr>\n",
    "  <tr>\n",
    "    <td style=\"text-align:left\"><code>s.upper()</code></td>\n",
    "    <td style=\"text-align:left\">Met la chaîne en majuscules</td>\n",
    "  </tr>\n",
    "  <tr>\n",
    "    <td style=\"text-align:left\"><code>s.capitalize()</code></td>\n",
    "      <td style=\"text-align:left\">Met le 1<sup>er</sup> caractère de la chaîne en majuscule</td>\n",
    "  </tr>\n",
    "  <tr>\n",
    "    <td style=\"text-align:left\"><code>s.split(<i>caractères</i>)</code></td>\n",
    "    <td style=\"text-align:left\">Fractionne la chaîne en une liste de sous-chaînes</td>\n",
    "  </tr>\n",
    "  <tr>\n",
    "    <td style=\"text-align:left\"><code>s.strip(<i>caractères</i>)</code></td>\n",
    "    <td style=\"text-align:left\">Supprime la chaîne \"caractères\" en début ou à la fin de s</td>\n",
    "  </tr>\n",
    "</table>\n",
    "</div>"
   ]
  },
  {
   "cell_type": "markdown",
   "metadata": {
    "hidden": true
   },
   "source": [
    "&#128432; <b>Tester les instructions suivantes</b>"
   ]
  },
  {
   "cell_type": "code",
   "execution_count": null,
   "metadata": {
    "hidden": true
   },
   "outputs": [],
   "source": [
    "s = \"Chaîne\"\n",
    "print(s.lower(), s.upper())"
   ]
  },
  {
   "cell_type": "code",
   "execution_count": null,
   "metadata": {
    "hidden": true
   },
   "outputs": [],
   "source": [
    "s = 'bla-bla-bla'\n",
    "s.split('-')"
   ]
  },
  {
   "cell_type": "code",
   "execution_count": null,
   "metadata": {
    "hidden": true
   },
   "outputs": [],
   "source": [
    "s = 'bla-bla-bla'\n",
    "s.split('a-b')"
   ]
  },
  {
   "cell_type": "code",
   "execution_count": null,
   "metadata": {
    "hidden": true
   },
   "outputs": [],
   "source": [
    "s = 'Python.fr'\n",
    "s.strip('.fr')"
   ]
  },
  {
   "cell_type": "code",
   "execution_count": null,
   "metadata": {
    "hidden": true
   },
   "outputs": [],
   "source": [
    "s = 'Python.fr'\n",
    "s.strip('Py')"
   ]
  },
  {
   "cell_type": "markdown",
   "metadata": {
    "heading_collapsed": true
   },
   "source": [
    "# <div id=\"T9\" style=\"color:blue;font-family:serif;border:solid,1px;padding:1%;\">Listes</div>"
   ]
  },
  {
   "cell_type": "markdown",
   "metadata": {
    "hidden": true
   },
   "source": [
    "<div style=\"border-left:solid,5px;padding-left:1%\"><b>Création</b></div>"
   ]
  },
  {
   "cell_type": "markdown",
   "metadata": {
    "hidden": true
   },
   "source": [
    "<div style=\"border:solid,1px;padding:1%;\">\n",
    "Une liste est une <b>collection ordonnée d'objets</b>, c'est à dire que chaque élément de la liste est numéroté. <br>\n",
    "Exemple de liste : L = &#91;-2, 4.1, 0, 'abc', 7 &#93; (L est un nom de variable quelconque).<br>\n",
    "\n",
    "L’instruction <code>L = []</code>  crée une <b>liste vide</b> (ne contenant aucun élément).<br>\n",
    "\n",
    "<b>Vocabulaire</b><br>\n",
    "Une liste créée \"à la main\" est définie par <span style=\"color:red;\">extension</span>.<br>\n",
    "Une liste générée à l'aide d'une formule est définie par <span style=\"color:red;\">compréhension</span> : <code>[<i>expression fonction de k</i> for k in <i>sequence</i>]</code>.\n",
    "</div>"
   ]
  },
  {
   "cell_type": "markdown",
   "metadata": {
    "hidden": true
   },
   "source": [
    "&#128432; <b>Tester les instructions suivantes</b><div id=\"E12\"></div>"
   ]
  },
  {
   "cell_type": "code",
   "execution_count": null,
   "metadata": {
    "hidden": true
   },
   "outputs": [],
   "source": [
    "L = [-2, 4.1, 0, 'abc', 7 ]"
   ]
  },
  {
   "cell_type": "code",
   "execution_count": null,
   "metadata": {
    "hidden": true
   },
   "outputs": [],
   "source": [
    "[k**2-1 for k in range(10)]"
   ]
  },
  {
   "cell_type": "markdown",
   "metadata": {
    "hidden": true
   },
   "source": [
    "<div style=\"border-left:solid,5px;padding-left:1%\"><b>Longueur d'une liste</b></div>"
   ]
  },
  {
   "cell_type": "markdown",
   "metadata": {
    "hidden": true
   },
   "source": [
    "<div style=\"border:solid,1px;padding:1%;\">Pour connaître la longueur d’une liste L (le nombre d'éléments de la liste), on utilise la fonction <b>len(L)</b>.</div>"
   ]
  },
  {
   "cell_type": "code",
   "execution_count": null,
   "metadata": {
    "hidden": true
   },
   "outputs": [],
   "source": [
    "len(L)"
   ]
  },
  {
   "cell_type": "markdown",
   "metadata": {
    "hidden": true
   },
   "source": [
    "<div style=\"border-left:solid,5px;padding-left:1%\"><b>Indexation - Accès à un élément</b></div>"
   ]
  },
  {
   "cell_type": "markdown",
   "metadata": {
    "hidden": true
   },
   "source": [
    "<div style=\"border:solid,1px;padding:1%;\">\n",
    "<b>Indexation</b><br>\n",
    "Les éléments d'une liste L sont numérotés grâce à un <b>index</b> (entier donnant la position d’un caractère dans la chaîne).<br>\n",
    "ATTENTION ! <span style=\"color:red;\">La numérotation des caractères débute à 0</span>.<br>\n",
    "<span style=\"color:red;\">Les éléments d'une liste comportant n éléments sont donc numérotés de 0 à n-1</span>.<br>\n",
    "\n",
    "Exemple : la variable maListe est définie par l’instruction maListe = &#91;4.5, -2, 0, 3.0, 'a', False&#93; <br>\n",
    "Elément <code>4.5 -2 0 3.0 'a' False</code><br>\n",
    "Index &nbsp;&nbsp;&nbsp;&nbsp; <code>&nbsp;0&nbsp;&nbsp; 1 2&nbsp; 3&nbsp;&nbsp; 4&nbsp;&nbsp;&nbsp; 5</code><br>\n",
    "Les éléments de cette liste sont numérotés de 0 à 5 (5 = len(maListe)-1) et comporte donc len(maListe)=6 éléments.<br>\n",
    "\n",
    "<b>Accès à un élément</b><br>\n",
    "Pour accéder à un élément de la liste, on écrit <code>L[<i>index</i>]</code>.<br>\n",
    "<code>maListe[0]</code> affiche 4.5<br>\n",
    "<code>maListe[4]</code> affiche 'a'<br>\n",
    "<code>maListe[len(maListe)-1]</code>  affiche False &nbsp;&nbsp;&nbsp;# Affichage du dernier élément<br>\n",
    "<code>maListe[len(maListe)]</code> affiche <span style=\"color:red;\">IndexError: list index out of range</span><br>\n",
    "ce qui signifie « index de liste en dehors de l’intervalle » car len(maListe) correspond à 6 et il n’y a pas d'éléments d’index 6 dans la liste maListe.<br>\n",
    "\n",
    "Noter la présence de crochets et non de parenthèses dans la syntaxe : <code>nom_de_la_chaîne[index]</code><br>\n",
    "\n",
    "<b>Affectations - Une liste est <span style=\"color:red;\">mutable</span></b><br>\n",
    "Il est possible de stocker un élément de liste dans une variable : <code>e = maListe[k]</code> est correct.<br>\n",
    "L’inverse est possible : \n",
    "<code>maListe[k] = 'a'</code> ou <code>maListe[k] = 1/3</code> ou <code>maListe[k] = <i>nom_variable</i></code>\n",
    "</div>"
   ]
  },
  {
   "cell_type": "markdown",
   "metadata": {
    "hidden": true
   },
   "source": [
    "&#128432; <b>Horreur : message d'erreur</b><div id=\"E13\"></div>"
   ]
  },
  {
   "cell_type": "code",
   "execution_count": null,
   "metadata": {
    "hidden": true
   },
   "outputs": [],
   "source": [
    "L[len(L)]"
   ]
  },
  {
   "cell_type": "markdown",
   "metadata": {
    "hidden": true
   },
   "source": [
    "<div style=\"border-left:solid,5px;padding-left:1%\"><b>Parcours d'une liste</b></div>"
   ]
  },
  {
   "cell_type": "markdown",
   "metadata": {
    "hidden": true
   },
   "source": [
    "<div style=\"border:solid,1px;padding:1%;\">\n",
    "<span style=\"color:red;\">Il existe deux façons de parcourir une liste L</span> (d'accéder aux éléments du premier au dernier) :\n",
    "<ul>\n",
    "    <li>le parcours par index ;</li>\n",
    "    <li>le parcours par valeur.</li>\n",
    "</ul>\n",
    "\n",
    "En réalité, il existe une troisième façon (parcours simultané des index et des valeurs) grâce à <code>enumerate</code>.\n",
    "</div>"
   ]
  },
  {
   "cell_type": "markdown",
   "metadata": {
    "hidden": true
   },
   "source": [
    "&#128432; Exécuter les instructions suivantes"
   ]
  },
  {
   "cell_type": "code",
   "execution_count": null,
   "metadata": {
    "hidden": true
   },
   "outputs": [],
   "source": [
    "L = ['a', 4 , True]"
   ]
  },
  {
   "cell_type": "code",
   "execution_count": null,
   "metadata": {
    "hidden": true
   },
   "outputs": [],
   "source": [
    "for e in L:\n",
    "    print(e)"
   ]
  },
  {
   "cell_type": "code",
   "execution_count": null,
   "metadata": {
    "hidden": true
   },
   "outputs": [],
   "source": [
    "for k in range(len(L)):\n",
    "    print(L[k])"
   ]
  },
  {
   "cell_type": "code",
   "execution_count": null,
   "metadata": {
    "hidden": true
   },
   "outputs": [],
   "source": [
    "for index, valeur in enumerate(L):\n",
    "    print(index, valeur)"
   ]
  },
  {
   "cell_type": "markdown",
   "metadata": {
    "hidden": true
   },
   "source": [
    "<div style=\"border-left:solid,5px;padding-left:1%\"><b>Opérations sur les listes</b></div>"
   ]
  },
  {
   "cell_type": "markdown",
   "metadata": {
    "hidden": true
   },
   "source": [
    "<div style=\"border:solid,1px;padding:1%;\">\n",
    "    <b>Concaténation</b><br>\n",
    "L’opération de concaténation (mettre des listes « bout à bout ») est réalisée grâce à l’opérateur <span style=\"color:red;\"><b>+</b></span>.<br>\n",
    "    Exemple : <code>[0] + [-2,3.14]</code> donne [0,-2,3.14].<br>\n",
    "Logiquement, la multiplication par un nombre (opérateur <span style=\"color:red;\"><b>*</b></span>) duplique la liste.<br>\n",
    "\tExemple : <code>3*[0]</code> donne [0,0,0] ( <code>3*[0]</code> &hArr; <code>[0]+[0]+[0]</code>)<br>\n",
    "\n",
    "<b>Objet liste</b><br>\n",
    "Une liste appartient à une classe d’objets (cf. ci-dessous) qui possède des <b>méthodes</b> permettant d’effectuer des actions sur les listes.<br>\n",
    "La syntaxe objet utilise un point et des parenthèses : <code><i>nom_objet</i>.<i>nom_methode</i>()</code><br>\n",
    "Exemple :  considérons la liste définie par <code>L =[-2,3.14]</code><br>\n",
    "<code>L.append(7)</code>  ajoute la valeur 7 à la fin de la liste L (L contient alors &#91;-2,3.14,7&#93;)<br>\n",
    "\n",
    "<b>Syntaxe objet</b><br> \n",
    "Cette syntaxe se reconnaît à la présence du point : <code><i>objet</i><b>.</b><i>propriété</i></code> ou <code><i>objet</i><b>.</b><i>méthode( )</i></code>. <br>\n",
    "\n",
    "Présentation rapide de la <a href=\"https://python-django.dev/page-apprendre-programmation-orientee-objet-poo-classes-python-cours-debutants\">programmation objet</a> (à titre de complément, inutile pour la suite).<br>\n",
    "</div>"
   ]
  },
  {
   "cell_type": "markdown",
   "metadata": {
    "hidden": true
   },
   "source": [
    "&#128432; <b>Tester ces instructions</b><div id=\"E14\"></div>"
   ]
  },
  {
   "cell_type": "code",
   "execution_count": null,
   "metadata": {
    "hidden": true
   },
   "outputs": [],
   "source": [
    "L = ['a', 4 , True]\n",
    "print([1]+L, L+[1])"
   ]
  },
  {
   "cell_type": "code",
   "execution_count": null,
   "metadata": {
    "hidden": true
   },
   "outputs": [],
   "source": []
  },
  {
   "cell_type": "code",
   "execution_count": null,
   "metadata": {
    "hidden": true
   },
   "outputs": [],
   "source": []
  },
  {
   "cell_type": "markdown",
   "metadata": {
    "hidden": true
   },
   "source": [
    "<div style=\"border-left:solid,5px;padding-left:1%\"><b>Copie d'une liste</b></div>"
   ]
  },
  {
   "cell_type": "markdown",
   "metadata": {
    "hidden": true
   },
   "source": [
    "<div style=\"border:solid,1px;padding:1%;\">\n",
    "    Pour copier la liste L dans une nouvelle liste L1, l’instruction L1 = L ne produit pas le résultat escompté : cette instruction ne fait que créer un <b>alias</b> (au autre nom) pour la même liste.<br>\n",
    "    Autrement dit, les deux noms L et L1 sont associés au <b>même objet</b> en mémoire : toute modification de L est visible si on observe L1.<br>\n",
    "    Ce comportement est voulu mais sa justification est prématurée à ce stade.<br>\n",
    "    \n",
    "Pour copier la liste L dans une nouvelle variable L1, peut utiliser indifféremment <code>L1 = L[:]</code> ou  <code>L1 = L.copy()</code>\n",
    "</div>"
   ]
  },
  {
   "cell_type": "markdown",
   "metadata": {
    "hidden": true
   },
   "source": [
    "&#128432; <b>Tester ces instructions</b><div id=\"E15\"></div>"
   ]
  },
  {
   "cell_type": "code",
   "execution_count": null,
   "metadata": {
    "hidden": true
   },
   "outputs": [],
   "source": [
    "L1 = ['e1', 'e2','e3','e4']\n",
    "L2 = L1\n",
    "L2"
   ]
  },
  {
   "cell_type": "code",
   "execution_count": null,
   "metadata": {
    "hidden": true
   },
   "outputs": [],
   "source": [
    "L1[1] = 0        # On modifie la liste L1\n",
    "L2               # On affiche la liste L2 : elle a été modifiée"
   ]
  },
  {
   "cell_type": "code",
   "execution_count": null,
   "metadata": {
    "hidden": true
   },
   "outputs": [],
   "source": [
    "L1 = ['e1', 'e2','e3','e4']\n",
    "L2 = L1.copy()\n",
    "L1[1] = 0\n",
    "print('L1',L1)\n",
    "print('L2',L2)"
   ]
  },
  {
   "cell_type": "markdown",
   "metadata": {
    "hidden": true
   },
   "source": [
    "<div style=\"border-left:solid,5px;padding-left:1%\"><b>Extraction de sous-listes - Slicing</b></div>"
   ]
  },
  {
   "cell_type": "markdown",
   "metadata": {
    "hidden": true
   },
   "source": [
    "<div style=\"border:solid,1px;padding:1%;\">\n",
    "    On nomme <b>slicing</b> (littéralement, découpage en tranches) les techniques d’extraction de <b>sous-listes</b> à partir d’une liste initiale.<br>\n",
    "\n",
    "Exemples : \tsoit la liste <code>L = [10,11,12,13,14,15,16,17,18,19]</code><br>\n",
    "<code>L[1:8]</code>&nbsp;&nbsp;&nbsp;&nbsp; renvoie &#91;11,12,13,14,15,16,17&#93;<br>\n",
    "<code>L[:8]</code>&nbsp;&nbsp;&nbsp;&nbsp;&nbsp;&nbsp; renvoie &#91;10,11,12,13,14,15,16,17&#93;<br>\n",
    "<code>L[1:]</code>&nbsp;&nbsp;&nbsp;&nbsp;&nbsp;&nbsp; renvoie &#91;11,12,13,14,15,16,17,18,19&#93;<br>\n",
    "<code>L[1:8:3]</code> renvoie &#91;11,14,17&#93;<br>\n",
    "<code>L[::2]</code>&nbsp;&nbsp;&nbsp;&nbsp; renvoie &#91;10,12,14,16,18&#93;<br>\n",
    "\n",
    "Syntaxe complète : <code>L[start : stop : step]</code> (bien noter la différence avec <code>range(start, stop, step)</code>)<br>\n",
    "start est la valeur de départ (incluse), si elle est omise, sa valeur par défaut est 0 (2ème et 5ème exemples) ;<br>\n",
    "stop est la valeur de fin (exclue), si elle est omise sa valeur par défaut est len(L) (3ème et 5ème exemples)  ;<br>\n",
    "step est le pas (facultatif, comme dans les exemples 1 à 3).<br>\n",
    "\n",
    "Ainsi la sous-liste <code>L[:]</code> est la liste L elle-même (éléments du premier au dernier avec un pas de 1 donc tous les éléments) et <code>L[::-1]</code> est la liste L inversée : &#91;19,18,17,16,15,14,13,12,11,10&#93;.<br>\n",
    "\n",
    "Cette syntaxe s’applique également aux <b>chaînes de caractères</b>.\n",
    "</div>"
   ]
  },
  {
   "cell_type": "markdown",
   "metadata": {
    "hidden": true
   },
   "source": [
    "&#128432; <b>Tester ces instructions avec des listes et des chaînes</b>"
   ]
  },
  {
   "cell_type": "markdown",
   "metadata": {
    "hidden": true
   },
   "source": []
  },
  {
   "cell_type": "markdown",
   "metadata": {
    "hidden": true
   },
   "source": [
    "<div style=\"border-left:solid,5px;padding-left:1%\"><b>Méthodes et fonctions spécifiques</b></div>"
   ]
  },
  {
   "cell_type": "markdown",
   "metadata": {
    "hidden": true
   },
   "source": [
    "<div style=\"border:solid,1px;padding:1%;\">\n",
    "    <a href=\"https://docs.python.org/fr/3.7/library/stdtypes.html?highlight=strip#sequence-types-list-tuple-range\" target=\"_blank\">Documentation</a><br>\n",
    "    On considère une liste L.<br>\n",
    "<table style=\"width:70%\">\n",
    "  <tr>\n",
    "      <th style=\"text-align:center\"><i>Commande</i></th>\n",
    "      <th style=\"text-align:center\"><i>Action</i></th>\n",
    "  </tr>\n",
    "  <tr>\n",
    "    <td style=\"text-align:left\"><code>L.append(<i>e</i>)</code></td>\n",
    "    <td style=\"text-align:left\">Ajoute l'élément e en fin de liste</td>\n",
    "  </tr>\n",
    "  <tr>\n",
    "    <td style=\"text-align:left\"><code>L.insert(i,<i>e</i>)</code></td>\n",
    "    <td style=\"text-align:left\">Insère l'élément e à la position d'index i</td>\n",
    "  </tr>\n",
    "  <tr>\n",
    "    <td style=\"text-align:left\"><code>L.pop()</code></td>\n",
    "    <td style=\"text-align:left\">Renvoie le dernier élément et le supprime de la liste L</td>\n",
    "  </tr>\n",
    "  <tr>\n",
    "    <td style=\"text-align:left\"><code>L.pop(i)</code></td>\n",
    "    <td style=\"text-align:left\">Renvoie l'élément d'index i et le supprime de la liste L</td>\n",
    "  </tr>\n",
    "  <tr>\n",
    "    <td style=\"text-align:left\"><code>L.remove(e)</code></td>\n",
    "    <td style=\"text-align:left\">Supprime de la liste L le premier élément égal à e</td>\n",
    "  </tr>\n",
    "  <tr>\n",
    "    <td style=\"text-align:left\"><code>del L[i]</code></td>\n",
    "    <td style=\"text-align:left\">Supprime de la liste L l'élément d'index i</td>\n",
    "  </tr>\n",
    "  <tr>\n",
    "    <td style=\"text-align:left\"><code>del L[i:j]</code></td>\n",
    "    <td style=\"text-align:left\">Supprime de la liste L les éléments d'index dans [i:j[</td>\n",
    "  </tr>\n",
    "  <tr>\n",
    "    <td style=\"text-align:left\"><code>L.sort()</code> ou <code>sorted(L)</code></td>\n",
    "    <td style=\"text-align:left\">Trie la liste en place (i.e. la liste L est modifiée)</td>\n",
    "  </tr>\n",
    "  <tr>\n",
    "    <td style=\"text-align:left\"><code>random.shuffle(L)</code></td>\n",
    "    <td style=\"text-align:left\">Permute aléatoirement les éléments de la liste (modifie L)</td>\n",
    "  </tr>\n",
    "  <tr>\n",
    "      <td style=\"text-align:left\"><code>random.sample(L,<i>n</i>)</code></td>\n",
    "    <td style=\"text-align:left\">Renvoie une liste de n élément de L tirés aléatoirement</td>\n",
    "  </tr>\n",
    "</table>\n",
    "</div>"
   ]
  },
  {
   "cell_type": "markdown",
   "metadata": {
    "hidden": true
   },
   "source": [
    "&#128432; <b>Tester les instructions précédentes</b>"
   ]
  },
  {
   "cell_type": "code",
   "execution_count": null,
   "metadata": {
    "hidden": true
   },
   "outputs": [],
   "source": [
    "L = ['e'+str(k) for k in range(11)]\n",
    "L"
   ]
  },
  {
   "cell_type": "code",
   "execution_count": null,
   "metadata": {
    "hidden": true
   },
   "outputs": [],
   "source": [
    "L.pop(1)"
   ]
  },
  {
   "cell_type": "code",
   "execution_count": null,
   "metadata": {
    "hidden": true
   },
   "outputs": [],
   "source": [
    "L"
   ]
  },
  {
   "cell_type": "code",
   "execution_count": null,
   "metadata": {
    "hidden": true
   },
   "outputs": [],
   "source": [
    "import random\n",
    "random.shuffle(L)\n",
    "L"
   ]
  },
  {
   "cell_type": "code",
   "execution_count": null,
   "metadata": {
    "hidden": true
   },
   "outputs": [],
   "source": [
    "L.sort()\n",
    "L"
   ]
  },
  {
   "cell_type": "code",
   "execution_count": null,
   "metadata": {
    "hidden": true
   },
   "outputs": [],
   "source": [
    "random.sample(L,4)"
   ]
  },
  {
   "cell_type": "code",
   "execution_count": null,
   "metadata": {
    "hidden": true
   },
   "outputs": [],
   "source": []
  },
  {
   "cell_type": "markdown",
   "metadata": {
    "heading_collapsed": true
   },
   "source": [
    "# <div id=\"T7\" style=\"color:blue;font-family:serif;border:solid,1px;padding:1%;\">Structures de contrôle (tests et boucles)</div>"
   ]
  },
  {
   "cell_type": "markdown",
   "metadata": {
    "hidden": true
   },
   "source": [
    "<div style=\"border-bottom:solid,1px;\"><b>Tests</b></div>"
   ]
  },
  {
   "cell_type": "markdown",
   "metadata": {
    "hidden": true
   },
   "source": [
    "<div style=\"border:solid,1px;padding:1%;\">\n",
    "Structure d'un test : <br>\n",
    "    \n",
    "<code>if <i>expression 1</i>:\n",
    "    <i>faire quelque chose</i>\n",
    "elif <i>expression 2</i>:\n",
    "    <i>faire autre chose</i>\n",
    "else:\n",
    "    <i>faire encore autre chose</i></code><br>\n",
    "    \n",
    "Où <b>elif</b> est la contraction de else if  (ou si), cette instruction peut être <b>omise ou répétée</b> autant de fois que nécessaire ; l’instruction <b>else</b> est <b>facultative</b>.\n",
    "</div>"
   ]
  },
  {
   "cell_type": "code",
   "execution_count": null,
   "metadata": {
    "hidden": true
   },
   "outputs": [],
   "source": [
    "def signe(x):\n",
    "    if x >0:\n",
    "        return x\n",
    "    elif x == 0:\n",
    "        return 'x est nul'\n",
    "    else:\n",
    "        return -x\n",
    "\n",
    "signe(-2)"
   ]
  },
  {
   "cell_type": "markdown",
   "metadata": {
    "hidden": true
   },
   "source": [
    "<div style=\"border-bottom:solid,1px;\"><b>Boucle for</b> (boucle inconditionnelle)</div>"
   ]
  },
  {
   "cell_type": "markdown",
   "metadata": {
    "hidden": true
   },
   "source": [
    "<div style=\"border:solid,1px;padding:1%;\">\n",
    "La boucle for permet de répéter n fois une suite d'opérations où n est un nombre connu.<br>\n",
    "<code>for <i>compteur</i> in <i>sequence</i>:\n",
    "    <i>faire quelque chose</i></code>\n",
    "</div>"
   ]
  },
  {
   "cell_type": "code",
   "execution_count": null,
   "metadata": {
    "hidden": true
   },
   "outputs": [],
   "source": [
    "for k in range(6):   # Pour k variant de 0 à 5 (la boucle va donc se répéter 6 fois)\n",
    "    print(k)         # imprimer (afficher) la valeur de k"
   ]
  },
  {
   "cell_type": "code",
   "execution_count": null,
   "metadata": {
    "hidden": true
   },
   "outputs": [],
   "source": [
    "L = [-2, 4.1, 'abc', 7 ]\n",
    "\n",
    "for e in L:\n",
    "    print(e)"
   ]
  },
  {
   "cell_type": "markdown",
   "metadata": {
    "hidden": true
   },
   "source": [
    "<div style=\"border-bottom:solid,1px;\"><b>Boucle while</b> (boucle conditionnelle)</div>"
   ]
  },
  {
   "cell_type": "markdown",
   "metadata": {
    "hidden": true
   },
   "source": [
    "<div style=\"border:solid,1px;padding:1%;\">\n",
    "La boucle while permet d'effectuer une suite d'opérations tant qu'un certain critère est vérifié (utile lorsqu'on ne connaît pas à l'avance le nombre de boucles à effectuer).<br>\n",
    "\n",
    "<code><i>compteur</i> = <i>valeur</i>\n",
    "while <i>expression</i>:\n",
    "    <i>faire quelque chose</i>\n",
    "    <i>modifier la valeur du compteur</i>\n",
    "</code><br>\n",
    "\n",
    "Pour comprendre les différences entre les deux boucles, voici la boucle while qui réalise le même travail que la première boucle for donnée en exemple ci-dessus (affichage des entiers de 0 à 5). \n",
    "</div>"
   ]
  },
  {
   "cell_type": "code",
   "execution_count": null,
   "metadata": {
    "hidden": true
   },
   "outputs": [],
   "source": [
    "k = 0\n",
    "while k<6:\n",
    "    print(k)\n",
    "    k = k + 1"
   ]
  },
  {
   "cell_type": "markdown",
   "metadata": {
    "hidden": true
   },
   "source": [
    "<b>Le critère d'arrêt</b> de la boucle while peut être constitué de plusieurs conditions en utilisant les opérateurs <span style=\"color:red;\">and</span>, <span style=\"color:red;\">or</span>, <span style=\"color:red;\">not</span>.<br><br>\n",
    "Exemple : "
   ]
  },
  {
   "cell_type": "code",
   "execution_count": null,
   "metadata": {
    "hidden": true
   },
   "outputs": [],
   "source": [
    "s = 0\n",
    "n = 1\n",
    "while s < 100 and n**2 < 100:\n",
    "    s = s + n\n",
    "    n = n + 1\n",
    "n, n**2, s"
   ]
  },
  {
   "cell_type": "code",
   "execution_count": null,
   "metadata": {
    "hidden": true
   },
   "outputs": [],
   "source": []
  },
  {
   "cell_type": "code",
   "execution_count": null,
   "metadata": {
    "hidden": true
   },
   "outputs": [],
   "source": []
  },
  {
   "cell_type": "markdown",
   "metadata": {
    "heading_collapsed": true
   },
   "source": [
    "# <div id=\"T10\" style=\"color:blue;font-family:serif;border:solid,1px;padding:1%;\">Tableaux numpy</div>"
   ]
  },
  {
   "cell_type": "markdown",
   "metadata": {
    "hidden": true
   },
   "source": [
    "[Numpy et matplotlib](numpy_matplotlib.ipynb)"
   ]
  },
  {
   "cell_type": "markdown",
   "metadata": {
    "heading_collapsed": true
   },
   "source": [
    "# <div id=\"T11\" style=\"color:blue;font-family:serif;border:solid,1px;padding:1%;\">Dictionnaire</div>"
   ]
  },
  {
   "cell_type": "markdown",
   "metadata": {
    "hidden": true
   },
   "source": [
    "<div style=\"border:solid,1px;padding:1%;\">Un <b>dictionnaire</b> est une structure de données qui utilise des <span style=\"color:red;\">clés</span> au lieu d’index pour indexer des valeurs.<br>\n",
    "    \n",
    "Exemple de dictionnaire :<br>\n",
    "<code>{'langage': 'Python',  'version': 3.6,  'Inventeur': 'Guido van Rossum',  'version1': 1991}</code><br>\n",
    "\n",
    "Dans cet exemple : <br>\n",
    "- les clés sont  'langage', 'version', 'Inventeur', 'version1' ;\n",
    "- les valeurs sont 'Python', 3.6, 'Guido van Rossum', 1991.\n",
    "</div>"
   ]
  },
  {
   "cell_type": "markdown",
   "metadata": {
    "hidden": true
   },
   "source": [
    "<div style=\"border-left:solid,5px;padding-left:1%\"><b>Créer un dictionnaire</b></div>"
   ]
  },
  {
   "cell_type": "markdown",
   "metadata": {
    "hidden": true
   },
   "source": [
    "Dictionnaire vide"
   ]
  },
  {
   "cell_type": "code",
   "execution_count": null,
   "metadata": {
    "hidden": true
   },
   "outputs": [],
   "source": [
    "infosPython = {}"
   ]
  },
  {
   "cell_type": "markdown",
   "metadata": {
    "hidden": true
   },
   "source": [
    "Dictionnaire avec des éléments"
   ]
  },
  {
   "cell_type": "code",
   "execution_count": null,
   "metadata": {
    "hidden": true
   },
   "outputs": [],
   "source": [
    "infosPython = dict([(\"langage\",\"Python\"), (\"version\",3.6), (\"Inventeur\",\"Guido van Rossum\"), (\"version1\",1991)])\n",
    "infosPython"
   ]
  },
  {
   "cell_type": "markdown",
   "metadata": {
    "hidden": true
   },
   "source": [
    "Ou bien"
   ]
  },
  {
   "cell_type": "code",
   "execution_count": null,
   "metadata": {
    "hidden": true
   },
   "outputs": [],
   "source": [
    "infosPython = {\"langage\":\"Python\", \"version\":3.6, \"Inventeur\":\"Guido van Rossum\", \"version1\":1991}"
   ]
  },
  {
   "cell_type": "markdown",
   "metadata": {
    "hidden": true
   },
   "source": [
    "<div style=\"border-left:solid,5px;padding-left:1%\"><b>Lister / parcourir les clés</b></div>"
   ]
  },
  {
   "cell_type": "code",
   "execution_count": null,
   "metadata": {
    "hidden": true
   },
   "outputs": [],
   "source": [
    "list(infosPython.keys())"
   ]
  },
  {
   "cell_type": "markdown",
   "metadata": {
    "hidden": true
   },
   "source": [
    "<div style=\"border-left:solid,5px;padding-left:1%\"><b>Lister / parcourir les valeurs</b></div>"
   ]
  },
  {
   "cell_type": "code",
   "execution_count": null,
   "metadata": {
    "hidden": true
   },
   "outputs": [],
   "source": [
    "list(infosPython.values())"
   ]
  },
  {
   "cell_type": "markdown",
   "metadata": {
    "hidden": true
   },
   "source": [
    "<div style=\"border-left:solid,5px;padding-left:1%\"><b>Parcourir les clés et les valeurs </b></div>"
   ]
  },
  {
   "cell_type": "code",
   "execution_count": null,
   "metadata": {
    "hidden": true
   },
   "outputs": [],
   "source": [
    "for k, v in infosPython.items():\n",
    "    print(k,v)"
   ]
  },
  {
   "cell_type": "markdown",
   "metadata": {
    "hidden": true
   },
   "source": [
    "<div style=\"border-left:solid,5px;padding-left:1%\"><b>Accéder à un élément du dictionnaire, tester la présence d’une clé</b></div>"
   ]
  },
  {
   "cell_type": "code",
   "execution_count": null,
   "metadata": {
    "hidden": true
   },
   "outputs": [],
   "source": [
    "infosPython[\"langage\"]"
   ]
  },
  {
   "cell_type": "code",
   "execution_count": null,
   "metadata": {
    "hidden": true
   },
   "outputs": [],
   "source": [
    "\"version\" in infosPython"
   ]
  },
  {
   "cell_type": "markdown",
   "metadata": {
    "hidden": true
   },
   "source": [
    "<div style=\"border-left:solid,5px;padding-left:1%\"><b>Ajouter, supprimer un élément du dictionnaire</b></div>"
   ]
  },
  {
   "cell_type": "code",
   "execution_count": null,
   "metadata": {
    "hidden": true
   },
   "outputs": [],
   "source": [
    "infosPython[\"J'aime\"] = True\n",
    "infosPython"
   ]
  },
  {
   "cell_type": "code",
   "execution_count": null,
   "metadata": {
    "hidden": true
   },
   "outputs": [],
   "source": [
    "del infosPython[\"J'aime\"]\n",
    "infosPython "
   ]
  },
  {
   "cell_type": "markdown",
   "metadata": {
    "heading_collapsed": true
   },
   "source": [
    "# <div id=\"T12\" style=\"color:blue;font-family:serif;border:solid,1px;padding:1%;\">Fonctions</div>"
   ]
  },
  {
   "cell_type": "markdown",
   "metadata": {
    "hidden": true
   },
   "source": [
    "<div style=\"border-left:solid,5px;padding-left:1%\"><b>Définition et appel d’une fonction</b></div>"
   ]
  },
  {
   "cell_type": "markdown",
   "metadata": {
    "hidden": true
   },
   "source": [
    "<div style=\"border:solid,1px;padding:1%;\">\n",
    "    Comme en mathématiques, on définit la fonction puis on l'appelle (on l'utilise).<br><br>\n",
    "    <b>Etape 1 : définition</b><br>\n",
    "<code>def f(x):\n",
    "    return x**2</code><br><br>\n",
    "    Cette syntaxe se comprend intuitivement (mot clé \"<span style=\"color:red;\">def</span>\" pour définition et mot clé \"<span style=\"color:red;\">return</span>\" pour renvoyer la valeur calculée au programme appelant la fonction).<br>\n",
    "  \n",
    "Le \"décalage\" du code, appelé <span style=\"color:red;\">indentation</span>, délimite les instructions faisant partie de la fonction. Le code aligné sur le bord de page sera considéré comme ne faisant pas partie de la fonction.<br><br>\n",
    "    <b>Etape 2 : appel</b><br>\n",
    "    <code>f(4)</code><br>\n",
    "\n",
    "<b>Vocabulaire</b><br>\n",
    "Dans l'écriture f(x), x est un symbole quelconque (variable muette des mathématiques) appelé <span style=\"color:red;\">paramètre formel</span>.<br>\n",
    "Dans l'écriture f(4), 4 est une valeur appelée <span style=\"color:red;\">argument effectif</span>.<br>\n",
    "\n",
    "<b>Remarques :</b><br>\n",
    "- Une fonction peut posséder un nombre quelconque de paramètres (y compris aucun).\n",
    "- Une fonction peut retourner plusieurs valeurs (ou aucune c'est à dire None).\n",
    "- Une fonction peut posséder plusieurs instructions return (lorsque la fonction effectue un test).\n",
    "- Il est possible de définir des valeurs par défaut pour les paramètres.\n",
    "</div>"
   ]
  },
  {
   "cell_type": "code",
   "execution_count": null,
   "metadata": {
    "hidden": true
   },
   "outputs": [],
   "source": [
    "def f(x):\n",
    "    return x**2"
   ]
  },
  {
   "cell_type": "code",
   "execution_count": null,
   "metadata": {
    "hidden": true
   },
   "outputs": [],
   "source": [
    "f(4)"
   ]
  },
  {
   "cell_type": "markdown",
   "metadata": {
    "hidden": true
   },
   "source": [
    "&#128432; <b>Plusieurs valeurs retournées (ou aucune c'est à dire None)</b>"
   ]
  },
  {
   "cell_type": "code",
   "execution_count": null,
   "metadata": {
    "hidden": true
   },
   "outputs": [],
   "source": [
    "def g(x,y):\n",
    "    return x+y, x-y"
   ]
  },
  {
   "cell_type": "markdown",
   "metadata": {
    "hidden": true
   },
   "source": [
    "Pour récupérer les deux valeurs, on utilise deux variables en procédant ainsi :"
   ]
  },
  {
   "cell_type": "code",
   "execution_count": null,
   "metadata": {
    "hidden": true
   },
   "outputs": [],
   "source": [
    "a, b = g(4,1)\n",
    "a,b"
   ]
  },
  {
   "cell_type": "markdown",
   "metadata": {
    "hidden": true
   },
   "source": [
    "&#128432; <b>Plusieurs instructions return</b>"
   ]
  },
  {
   "cell_type": "code",
   "execution_count": null,
   "metadata": {
    "hidden": true
   },
   "outputs": [],
   "source": [
    "def f(x):\n",
    "    if x >= 0:\n",
    "        return x**(1/2)\n",
    "    else:\n",
    "        return None"
   ]
  },
  {
   "cell_type": "code",
   "execution_count": null,
   "metadata": {
    "hidden": true
   },
   "outputs": [],
   "source": [
    "f(4)"
   ]
  },
  {
   "cell_type": "code",
   "execution_count": null,
   "metadata": {
    "hidden": true
   },
   "outputs": [],
   "source": [
    "f(-1)"
   ]
  },
  {
   "cell_type": "markdown",
   "metadata": {
    "hidden": true
   },
   "source": [
    "Cette syntaxe est équivalente suivante :"
   ]
  },
  {
   "cell_type": "code",
   "execution_count": null,
   "metadata": {
    "hidden": true
   },
   "outputs": [],
   "source": [
    "def f(x):\n",
    "    if x >= 0:\n",
    "        return x**(1/2)\n",
    "    return None"
   ]
  },
  {
   "cell_type": "code",
   "execution_count": null,
   "metadata": {
    "hidden": true
   },
   "outputs": [],
   "source": [
    "f(4)"
   ]
  },
  {
   "cell_type": "markdown",
   "metadata": {
    "hidden": true
   },
   "source": [
    "&#128432; <b>Paramètres par défaut</b>"
   ]
  },
  {
   "cell_type": "code",
   "execution_count": null,
   "metadata": {
    "hidden": true
   },
   "outputs": [],
   "source": [
    "def h(x,y=100):\n",
    "    return x+y"
   ]
  },
  {
   "cell_type": "code",
   "execution_count": null,
   "metadata": {
    "hidden": true
   },
   "outputs": [],
   "source": [
    "h(4)"
   ]
  },
  {
   "cell_type": "code",
   "execution_count": null,
   "metadata": {
    "hidden": true
   },
   "outputs": [],
   "source": [
    "h(4,2)"
   ]
  },
  {
   "cell_type": "markdown",
   "metadata": {
    "hidden": true
   },
   "source": [
    "<div style=\"border-left:solid,5px;padding-left:1%\"><b>Variables globales et variables locales : portée des variables (scope)</b></div>"
   ]
  },
  {
   "cell_type": "markdown",
   "metadata": {
    "hidden": true
   },
   "source": [
    "<div style=\"border:solid,1px;padding:1%;\">\n",
    "    Une <b>variable globale</b> est disponible dans <b>tout le programme</b> y compris à l’intérieur des fonctions, c’est le cas de toutes les variables définies dans le corps du programme principal.<br>\n",
    "    \n",
    "Une <b>variable locale</b> est une variable définie dans une <b>fonction</b>, elle n’existe qu’à l’intérieur de la fonction (elle n’est pas définie à l’extérieur de la fonction). Cependant, il est possible d’utiliser ou de créer une variable globale dans une fonction.<br>\n",
    "\n",
    "Ce problème de la <b>portée des variables (scope en anglais)</b> est très important et source de nombreuses erreurs.\n",
    "</div>"
   ]
  },
  {
   "cell_type": "markdown",
   "metadata": {
    "hidden": true
   },
   "source": [
    "&#128432; <b>Exemple 1 : variable globale</b>"
   ]
  },
  {
   "cell_type": "code",
   "execution_count": null,
   "metadata": {
    "hidden": true
   },
   "outputs": [],
   "source": [
    "def test1(x):\n",
    "    return a*x     # a est implicitement globale\n",
    "\n",
    "a = 2              # Variable globale\n",
    "\n",
    "test1(5)"
   ]
  },
  {
   "cell_type": "markdown",
   "metadata": {
    "hidden": true
   },
   "source": [
    "Syntaxe explicite équivalente."
   ]
  },
  {
   "cell_type": "code",
   "execution_count": null,
   "metadata": {
    "hidden": true
   },
   "outputs": [],
   "source": [
    "def test1(x):\n",
    "    global a       # Déclaration explicite\n",
    "    return a*x\n",
    "\n",
    "a = 2              # Variable globale\n",
    "\n",
    "test1(5)"
   ]
  },
  {
   "cell_type": "markdown",
   "metadata": {
    "hidden": true
   },
   "source": [
    "&#128432; <b>Exemple 2 : variable locale</b>"
   ]
  },
  {
   "cell_type": "code",
   "execution_count": null,
   "metadata": {
    "hidden": true
   },
   "outputs": [],
   "source": [
    "def test2(x):\n",
    "    a = 7          # Variable locale\n",
    "    return a*x\n",
    "\n",
    "test2(5)"
   ]
  },
  {
   "cell_type": "markdown",
   "metadata": {
    "hidden": true
   },
   "source": [
    "&#128432; <b>Exemple 3 : variables locale et globale</b>"
   ]
  },
  {
   "cell_type": "code",
   "execution_count": null,
   "metadata": {
    "hidden": true
   },
   "outputs": [],
   "source": [
    "def test3(x):\n",
    "    a = 7          # a est locale car redéfinie dans la fonction\n",
    "    return a*x\n",
    "\n",
    "a = 2              # a et globale dans le programme\n",
    "\n",
    "test3(5)"
   ]
  },
  {
   "cell_type": "markdown",
   "metadata": {
    "hidden": true
   },
   "source": [
    "&#128432; <b>Exemple 4 : mauvaise pratique</b>"
   ]
  },
  {
   "cell_type": "code",
   "execution_count": null,
   "metadata": {
    "hidden": true
   },
   "outputs": [],
   "source": [
    "def test4(x):\n",
    "    global a\n",
    "    a = 7          # a est locale car redéfinie dans la fonction\n",
    "    return a*x\n",
    "\n",
    "a = 2              # a et globale dans le programme\n",
    "\n",
    "test4(5)           # La fonction modifie la variable globale\n",
    "a"
   ]
  },
  {
   "cell_type": "markdown",
   "metadata": {
    "hidden": true
   },
   "source": [
    "&#128432; <b>Exemple 5 : les variables locales sont inconnues hors de la fonction</b>"
   ]
  },
  {
   "cell_type": "code",
   "execution_count": null,
   "metadata": {
    "hidden": true
   },
   "outputs": [],
   "source": [
    "def test5(x):\n",
    "    y = 2*x\n",
    "    return y\n",
    "\n",
    "test5(5)            # L'intruction return y ne renvoie qu'une valeur et non un nom de variable\n",
    "y"
   ]
  },
  {
   "cell_type": "markdown",
   "metadata": {
    "hidden": true
   },
   "source": [
    "<div style=\"border-left:solid,5px;padding-left:1%\"><b>Paramètres positionnels / paramètres nommés</b></div>"
   ]
  },
  {
   "cell_type": "markdown",
   "metadata": {
    "hidden": true
   },
   "source": [
    "<div style=\"border:solid,1px;padding:1%;\">\n",
    "    Ci-dessous x et y sont des <b>paramètres positionnels</b> (ces arguments doivent être fournis <b>dans l’ordre</b> attendu par la fonction : liste des abscisses, liste des ordonnées ici). <br>\n",
    "    Tandis que color et marker sont des <b>paramètres nommés</b>, ils peuvent donc être fournis dans un <b>ordre quelconque</b> mais seulement <b>après</b> les arguments positionnels.<br>\n",
    "\n",
    "<span style=\"color:lime;\">&check;</span> <code>plt.plot(x, y, color='red',  marker='+')</code>\t(tracé de y(x) en rouge avec des points en forme de ‘+’)<br>\n",
    "<span style=\"color:lime;\">&check;</span> <code>plt.plot(x, y, marker='+', color='red')</code>\t(ordre des arguments color et marker indifférent)<br>\n",
    "<span style=\"color:red;\">&cross;</span> <code><span style=\"color:red;\">plt.plot(x, marker='+', y, color='red')</span></code>\t<span style=\"color:red;\">(ordre des arguments incorrect)</span><br>\n",
    "<span style=\"color:lime;\">&check;</span> <code>plt.plot(x, y, color='blue',  marker='o')</code>\t(valeurs différentes pour color et marker possibles)<br>\n",
    "<span style=\"color:lime;\">&check;</span> <code>plt.plot(y, x, color='red',  marker='+')</code>\t(tracé de x(y) en rouge avec des points en forme de ‘+’)<br>\n",
    "</div>"
   ]
  },
  {
   "cell_type": "markdown",
   "metadata": {
    "hidden": true
   },
   "source": [
    "<div style=\"border-left:solid,5px;padding-left:1%\"><b>Annotations</b></div>"
   ]
  },
  {
   "cell_type": "markdown",
   "metadata": {
    "hidden": true
   },
   "source": [
    "<div style=\"border:solid,1px;padding:1%;\">\n",
    "En Python 3, il est possible d’écrire l’entête d’une fonction en utilisant des annotations (en rouge ci-dessous) de la façon suivante :<br>\n",
    "\n",
    "<code>def f(a:float, b:float, c:float, d:str) -> str:</code><br>\n",
    "\n",
    "En l’état (sans module permettant de l’exploiter), cette syntaxe n’a aucun effet sur l’exécution du code, son intérêt est uniquement documentaire, c’est le meilleur moyen pour documenter le type des paramètres et de la valeur retournée. Ceci permet de clarifier le code et de le rendre plus facile à lire par un autre programmeur.<br>\n",
    "\n",
    "On peut combiner annotations et valeurs par défaut :<br>\n",
    "<code>def f(a:float, b:float, c:float=1, d:str='Bravo') -> str:\n",
    "    return (a+b+c)*d</code>\n",
    "</div>"
   ]
  },
  {
   "cell_type": "markdown",
   "metadata": {
    "hidden": true
   },
   "source": [
    "<div style=\"border-left:solid,5px;padding-left:1%\"><b>Nombre de paramètres variable - Opérateurs splat et double splat</b> (facultatif)</div>"
   ]
  },
  {
   "cell_type": "markdown",
   "metadata": {
    "hidden": true
   },
   "source": [
    "<div style=\"border:solid,1px;padding:1%;\">\n",
    "    Il est parfois nécessaire de définir une fonction avec un nombre variable de paramètres (inconnu au moment de la définition de la fonction), on utilise alors l’opérateur splat noté *\n",
    "</div>"
   ]
  },
  {
   "cell_type": "code",
   "execution_count": null,
   "metadata": {
    "hidden": true
   },
   "outputs": [],
   "source": [
    "def f(*args):              # Noter la syntaxe *args dans l’entête\n",
    "    return sum(args)       # Noter la syntaxe args (args est un tuple qui contient tous les arguments)"
   ]
  },
  {
   "cell_type": "code",
   "execution_count": null,
   "metadata": {
    "hidden": true
   },
   "outputs": [],
   "source": [
    "print(f(1,2))\n",
    "print(f(1,2,3,4,5,6,7))"
   ]
  },
  {
   "cell_type": "markdown",
   "metadata": {
    "hidden": true
   },
   "source": [
    "Il est possible de combiner paramètres sans valeur par défaut, avec valeurs par défaut et opérateur splat."
   ]
  },
  {
   "cell_type": "code",
   "execution_count": null,
   "metadata": {
    "hidden": true
   },
   "outputs": [],
   "source": [
    "def f(a, b=1, *args):         # Noter la syntaxe *args dans l’entête\n",
    "    return a+b+sum(args)"
   ]
  },
  {
   "cell_type": "code",
   "execution_count": null,
   "metadata": {
    "hidden": true
   },
   "outputs": [],
   "source": [
    "print(f(1))\n",
    "print(f(1,2))\n",
    "print(f(1,2,3,4,5,6,7))"
   ]
  },
  {
   "cell_type": "markdown",
   "metadata": {
    "hidden": true
   },
   "source": [
    "args étant un tuple, on peut utiliser une boucle pour parcourir le tuple :<br>\n",
    "<code>for a in args:\n",
    "    <i>Faire quelque chose avec a</i></code>"
   ]
  },
  {
   "cell_type": "markdown",
   "metadata": {
    "hidden": true
   },
   "source": [
    "<div style=\"border:solid,1px;padding:1%;\">\n",
    "    Il est également possible de définir une fonction avec un nombre variable de paramètres nommés (inconnu au moment de la définition de la fonction), on utilise alors l’opérateur double-splat noté ** \n",
    "</div>"
   ]
  },
  {
   "cell_type": "code",
   "execution_count": null,
   "metadata": {
    "hidden": true
   },
   "outputs": [],
   "source": [
    "def f(**kwargs):             # Noter la syntaxe **kwargs dans l’entête\n",
    "    print(kwargs)            # Noter la syntaxe kwargs (kwargs est un dictionnaire)"
   ]
  },
  {
   "cell_type": "code",
   "execution_count": null,
   "metadata": {
    "hidden": true
   },
   "outputs": [],
   "source": [
    "f(a=1, b=2, c=3)"
   ]
  },
  {
   "cell_type": "markdown",
   "metadata": {
    "hidden": true
   },
   "source": [
    "Il est possible de combiner paramètres sans valeur par défaut, avec valeurs par défaut, opérateur splat et opérateur double-splat."
   ]
  },
  {
   "cell_type": "code",
   "execution_count": null,
   "metadata": {
    "hidden": true
   },
   "outputs": [],
   "source": [
    "def f(a, b=1, **kwargs):\n",
    "    c = 0\n",
    "    if 'c' in kwargs:\n",
    "        c = kwargs['c']\n",
    "    return a+b+c"
   ]
  },
  {
   "cell_type": "code",
   "execution_count": null,
   "metadata": {
    "hidden": true
   },
   "outputs": [],
   "source": [
    "print(f(1))            # a=1, b=1, kwargs={}\n",
    "print(f(1,2))          # a=1, b=2, kwargs={}\n",
    "print(f(1,2,c=3))      # a=1, b=2, kwargs={'c': 3}\n",
    "print(f(1,2,d=3))      # a=1, b=2, kwargs={'d': 3}\n",
    "print(f(1,2,3))        # => TypeError: f() takes from 1 to 2 positional arguments but 3 were given"
   ]
  },
  {
   "cell_type": "markdown",
   "metadata": {
    "hidden": true
   },
   "source": [
    "kwargs étant un dictionnaire, on peut utiliser une boucle pour parcourir le dictionnaire : <br>\n",
    "<code>for k,v in kwargs.items():\n",
    "    <i>Faire quelque chose avec k (clé) et v (valeur)</i></code>"
   ]
  },
  {
   "cell_type": "code",
   "execution_count": null,
   "metadata": {
    "hidden": true
   },
   "outputs": [],
   "source": []
  },
  {
   "cell_type": "markdown",
   "metadata": {
    "heading_collapsed": true
   },
   "source": [
    "# <div id=\"T13\" style=\"color:blue;font-family:serif;border:solid,1px;padding:1%;\">Graphiques</div>"
   ]
  },
  {
   "cell_type": "markdown",
   "metadata": {
    "hidden": true
   },
   "source": []
  },
  {
   "cell_type": "markdown",
   "metadata": {
    "hidden": true
   },
   "source": [
    "[Numpy et matplotlib](numpy_matplotlib.ipynb)"
   ]
  },
  {
   "cell_type": "markdown",
   "metadata": {
    "heading_collapsed": true
   },
   "source": [
    "# <div id=\"T14\" style=\"color:blue;font-family:serif;border:solid,1px;padding:1%;\">Gestion des erreurs</div>"
   ]
  },
  {
   "cell_type": "markdown",
   "metadata": {
    "hidden": true
   },
   "source": [
    "En programmation, il existe de nombreuses erreurs possibles : erreurs syntaxiques, erreurs algorithmiques, erreurs liées au domaine de validité d’un algorithme et exceptions (division par 0, variable non définie, erreurs de type dans une opération…).<br>\n",
    "Les erreurs syntaxiques et les erreurs algorithmiques sont corrigées dès l’écriture du code, la prise en compte des autres erreurs fait l’objet d’instructions particulières insérées dans le code.<br>\n",
    "\n",
    "<b>Vérification du domaine de validité d’un algorithme : assert<b>\n",
    "\n",
    "Lorsque la proposition testée par assert est incorrecte on dit que assert déclenche (trigger) ou lève (raise) une erreur."
   ]
  },
  {
   "cell_type": "code",
   "execution_count": null,
   "metadata": {
    "hidden": true
   },
   "outputs": [],
   "source": [
    "def K2C(temperature):\n",
    "    assert (temperature >= 0),\"Température inférieure au zéro absolu !\"\n",
    "    return temperature-273"
   ]
  },
  {
   "cell_type": "markdown",
   "metadata": {
    "hidden": true
   },
   "source": [
    "L’instruction <code>assert (temperature >= 0),\"Température inférieure au zéro absolu !\" </code> se lit donc de la façon suivante :  si l’assertion (affirmation) temperature >= 0 est vraie alors passer à la ligne suivante sinon déclencher une erreur accompagnée du commentaire \"Température inférieure au zéro absolu !\".<br>\n",
    "En l’absence d’instruction assert, cette fonction retournerait une valeur quelle que soit la température fournie (positive ou négative), un tel résultat serait faux du point de vue de la physique mais correct du point de vue informatique (la fonction fait correctement son travail). <br>L’instruction assert est donc utile pour vérifier que les données appartiennent bien au domaine de définition de la fonction."
   ]
  },
  {
   "cell_type": "code",
   "execution_count": null,
   "metadata": {
    "hidden": true
   },
   "outputs": [],
   "source": [
    "print(K2C(298))\n",
    "print(K2C(-5))"
   ]
  },
  {
   "cell_type": "markdown",
   "metadata": {
    "heading_collapsed": true
   },
   "source": [
    "# <div id=\"T15\" style=\"color:blue;font-family:serif;border:solid,1px;padding:1%;\">Gestion des exceptions</div>"
   ]
  },
  {
   "cell_type": "markdown",
   "metadata": {
    "hidden": true
   },
   "source": [
    "[Documentation](https://docs.python.org/fr/3/tutorial/errors.html?highlight=try%20except)<br>\n",
    "Même si une instruction ou une expression est syntaxiquement correcte, elle peut générer une erreur lors de son exécution.<br>\n",
    "Les erreurs détectées durant l’exécution sont appelées des exceptions. La plupart des exceptions toutefois ne sont pas prises en charge par les programmes, ce qui génère des messages d’erreurs (cf.ci-dessous).<br>\n",
    "\n",
    "La dernière ligne du message d’erreur indique la source de l'erreur.<br>\n",
    "Les exceptions peuvent être de différents types et ce type est indiqué dans le message : les types indiqués dans les exemples ci-dessous sont ZeroDivisionError et NameError.<br>\n",
    "L’instruction assert (paragraphe précédent) déclenche une exception de type AssertionError.<br>\n",
    "\n",
    "<b>Vocabulaire</b><br>\n",
    "On dit qu’une instruction <b>lève une exception</b> (traduction de « <b>raise an exception</b> » en anglais).\n",
    "Ci-dessous, on donne des exemples de <b>gestionnaires d’exceptions</b> (« <b>exception handlers</b> ») ou encore de gestion des exceptions (« <b>handling an exception</b> »)."
   ]
  },
  {
   "cell_type": "code",
   "execution_count": null,
   "metadata": {
    "hidden": true
   },
   "outputs": [],
   "source": [
    "1/0"
   ]
  },
  {
   "cell_type": "code",
   "execution_count": null,
   "metadata": {
    "hidden": true
   },
   "outputs": [],
   "source": [
    "truc"
   ]
  },
  {
   "cell_type": "markdown",
   "metadata": {
    "hidden": true
   },
   "source": [
    "&#128432; <b>Exemple 1 : que d'erreurs...</b>"
   ]
  },
  {
   "cell_type": "code",
   "execution_count": null,
   "metadata": {
    "hidden": true
   },
   "outputs": [],
   "source": [
    "def demo1(a,b):\n",
    "    return a/b\n",
    "\n",
    "demo1(1,0)"
   ]
  },
  {
   "cell_type": "code",
   "execution_count": null,
   "metadata": {
    "hidden": true
   },
   "outputs": [],
   "source": [
    "demo1('1',0)"
   ]
  },
  {
   "cell_type": "markdown",
   "metadata": {
    "hidden": true
   },
   "source": [
    "&#128432; <b>Exemple 2 : try / except / else </b>"
   ]
  },
  {
   "cell_type": "code",
   "execution_count": null,
   "metadata": {
    "hidden": true
   },
   "outputs": [],
   "source": [
    "def demo2(a,b):\n",
    "    try:\n",
    "        a/b\n",
    "    except ZeroDivisionError: \n",
    "        print('Dénominateur nul !')\n",
    "    else:\n",
    "        return a/b\n",
    "\n",
    "demo2(2,0)"
   ]
  },
  {
   "cell_type": "markdown",
   "metadata": {
    "hidden": true
   },
   "source": [
    "Prise en compte des deux erreurs précédentes :"
   ]
  },
  {
   "cell_type": "code",
   "execution_count": null,
   "metadata": {
    "hidden": true
   },
   "outputs": [],
   "source": [
    "def demo3(a,b):\n",
    "    try:\n",
    "        a/b\n",
    "    except ZeroDivisionError: \n",
    "        print('Dénominateur nul !')\n",
    "    except TypeError: \n",
    "        print(\"L'une des données n'est pas un nombre !\")\n",
    "    else:\n",
    "        return a/b\n",
    "\n",
    "demo3('1',0)"
   ]
  },
  {
   "cell_type": "markdown",
   "metadata": {
    "hidden": true
   },
   "source": [
    "&#128432; <b>Exemple 4 : gestion moins fine mais universelle </b>"
   ]
  },
  {
   "cell_type": "code",
   "execution_count": null,
   "metadata": {
    "hidden": true
   },
   "outputs": [],
   "source": [
    "def demo4(a,b):\n",
    "    try:\n",
    "        a/b\n",
    "    except: \n",
    "        print('Erreur')\n",
    "    else:\n",
    "        return a/b\n",
    "\n",
    "print(demo4('1',0))\n",
    "print(demo4(2,0))"
   ]
  },
  {
   "cell_type": "code",
   "execution_count": null,
   "metadata": {
    "hidden": true
   },
   "outputs": [],
   "source": []
  }
 ],
 "metadata": {
  "kernelspec": {
   "display_name": "Python 3",
   "language": "python",
   "name": "python3"
  },
  "language_info": {
   "codemirror_mode": {
    "name": "ipython",
    "version": 3
   },
   "file_extension": ".py",
   "mimetype": "text/x-python",
   "name": "python",
   "nbconvert_exporter": "python",
   "pygments_lexer": "ipython3",
   "version": "3.7.1"
  }
 },
 "nbformat": 4,
 "nbformat_minor": 2
}
