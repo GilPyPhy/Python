{
 "cells": [
  {
   "cell_type": "markdown",
   "metadata": {},
   "source": [
    "<h1><div style=\"color:Sienna;font-family:serif;font-size:larger;text-align:center;border:solid,2px;padding:2%;\">Python, numpy, matplotlib - Bases</div></h1>\n",
    "\n",
    "<div style=\"color:blue;font-family:serif;padding-left:100px\">\n",
    "    <a href=\"#T0\">Structuration du code</a><br>\n",
    "    <a href=\"#T1\">Modules / librairies / bibliothèques</a><br>\n",
    "    <a href=\"#T1b\">Variables, affectations</a><br>\n",
    "    <a href=\"#T2\">Opérateurs</a><br>\n",
    "    <a href=\"#T3\">Types simples</a><br>\n",
    "    <a href=\"#T4\">Types composés</a><br>\n",
    "    <a href=\"#T5\">Entrées / sorties</a><br>\n",
    "    <a href=\"#T6\">Intervalle – Fonction range()</a><br>\n",
    "    <a href=\"#T7\">Structures de contrôle (tests et boucles)</a><br>\n",
    "    <a href=\"#T8\">Chaînes de caractères</a><br>\n",
    "    <a href=\"#T9\">Listes</a><br>\n",
    "    <a href=\"#T10\">Tableaux numpy</a><br>\n",
    "    <a href=\"#T11\">Dictionnaire</a><br>\n",
    "    <a href=\"#T12\">Définition et appel d’une fonction</a><br>\n",
    "    <a href=\"#T13\">Graphiques</a><br>\n",
    "    <a href=\"#T14\">Gestion des erreurs</a><br>\n",
    "    <a href=\"#T15\">Gestion des exceptions</a><br>\n",
    "</div>\n",
    "<div style=\"font-family:serif;text-align:center;\"><b>Suite : <a href=\"numpy_matplotlib.ipynb\">numpy et matplotlib</a></b></div><br>"
   ]
  },
  {
   "cell_type": "markdown",
   "metadata": {},
   "source": [
    "<h3><div style=\"color:red;font-family:serif;border:solid,1px;padding:1%;text-align:center;\">En construction... A suivre donc !</div></h3>"
   ]
  },
  {
   "cell_type": "markdown",
   "metadata": {},
   "source": [
    "# <div id=\"T0\" style=\"color:blue;font-family:serif;border:solid,1px;padding:1%;\">Structuration du code</div>"
   ]
  },
  {
   "cell_type": "code",
   "execution_count": null,
   "metadata": {},
   "outputs": [],
   "source": [
    "\"\"\" Structure d’un programme \"\"\"\n",
    "\n",
    "# Modules           \n",
    "import random as rd  \n",
    "import math\n",
    "\n",
    "# Fonctions        \n",
    "def f(a,b):\n",
    "    return a**2+b \n",
    "\n",
    "# Initialisation des variables (globales)\n",
    "x, y = 1, 2\n",
    "\n",
    "# Programme principal\n",
    "z = f(x,y) \n",
    "\n",
    "# Affichage\n",
    "print('z = ',  z)"
   ]
  },
  {
   "cell_type": "markdown",
   "metadata": {},
   "source": [
    "# <div id=\"T1\" style=\"color:blue;font-family:serif;border:solid,1px;padding:1%;\">Modules / librairies / bibliothèques</div>"
   ]
  },
  {
   "cell_type": "markdown",
   "metadata": {},
   "source": [
    "<div style=\"border:solid,1px;padding:1%;\">\n",
    "<table>\n",
    "  <tr>\n",
    "      <th style=\"text-align:center\"><i>Python</i></th>\n",
    "      <th style=\"text-align:center\"><i>Signification</i></th>\n",
    "      <th style=\"text-align:center\"><i>Syntaxe</i></th>\n",
    "  </tr>\n",
    "  <tr>\n",
    "      <td style=\"text-align:left\"><span style=\"color:red;\">import</span> math</td>\n",
    "    <td style=\"text-align:left\">Charge en mémoire toutes les fonctions et les constantes du module math.</td>\n",
    "    <td style=\"text-align:left\">math.tan(0)<br>math.pi</td>\n",
    "  </tr>\n",
    "  <tr>\n",
    "      <td style=\"text-align:left\"><span style=\"color:red;\">from</span>&nbsp;math&nbsp;<span style=\"color:red;\">import</span>&nbsp;sqrt,&nbsp;cos</td>\n",
    "    <td style=\"text-align:left\">Charge en mémoire uniquement les fonctions et les constantes listées.</td>\n",
    "    <td style=\"text-align:left\">cos(0)</td>\n",
    "  </tr>\n",
    "  <tr>\n",
    "      <td style=\"text-align:left\"><span style=\"color:red;\">from</span> math <span style=\"color:red;\">import *</span></td>\n",
    "    <td style=\"text-align:left\">Même effet que import math mais dangereux (risque de conflit de noms de fonctions entre plusieurs modules). \n",
    "Possible si un seul module est utilisé (avantage : syntaxe raccourcie). À éviter sinon.</td>\n",
    "    <td style=\"text-align:left\">tan(0)<br>pi</td>\n",
    "  </tr>\n",
    "  <tr>\n",
    "      <td style=\"text-align:left\"><span style=\"color:red;\">import</span> random <span style=\"color:red;\">as</span> rd</td>\n",
    "    <td style=\"text-align:left\">Charge le module random et utilise l’alias ‘rd’ au lieu du nom complet ‘random’ (corrige le défaut précédent).</td>\n",
    "    <td style=\"text-align:left\">rd.randint(0,9)</td>\n",
    "  </tr>\n",
    "</table>\n",
    "</div><br><br>"
   ]
  },
  {
   "cell_type": "markdown",
   "metadata": {},
   "source": [
    "&#128432; <b>Horreur : message d'erreur</b><div id=\"E1\"></div>\n",
    "Exécuter les instructions suivantes, observer les messages d'erreur et trouver la syntaxe correcte."
   ]
  },
  {
   "cell_type": "code",
   "execution_count": null,
   "metadata": {},
   "outputs": [],
   "source": [
    "import math\n",
    "2*pi"
   ]
  },
  {
   "cell_type": "markdown",
   "metadata": {},
   "source": [
    "# <div id=\"T1b\" style=\"color:blue;font-family:serif;border:solid,1px;padding:1%;\">Variables, affectations</div>"
   ]
  },
  {
   "cell_type": "markdown",
   "metadata": {},
   "source": [
    "<div style=\"border:solid,1px;padding:1%;\">\n",
    "<b>Un nom de variable doit commencer par une lettre et ne comporter aucun caractère spécial (sauf tiret bas &#95;)</b>.<br>\n",
    "a4, ab, a4b, a_b, aB sont des noms de variable valides mais 4a n'est pas valide.<br>\n",
    "\n",
    "<table style=\"width:100%\">\n",
    "  <tr>\n",
    "      <th style=\"text-align:center\"><i>Python</i></th>\n",
    "      <th style=\"text-align:center\"><i>Signification</i></th>\n",
    "      <th style=\"text-align:center\"><i>Exemples et remarques</i></th>\n",
    "  </tr>\n",
    "  <tr>\n",
    "    <td style=\"text-align:left\"><b><span style=\"color:red;\">=</span></b></td>\n",
    "    <td style=\"text-align:left\">Affectation simple<br>Affectations multiples<br></td>\n",
    "    <td style=\"text-align:left\">x = 5<br>x, y = 5, -2</td>\n",
    "  </tr>\n",
    "  <tr>\n",
    "    <td style=\"text-align:left\"><b><span style=\"color:red;\">+=&nbsp;&nbsp;-=&nbsp;&nbsp;*=&nbsp;&nbsp;/=</span></b></td>\n",
    "    <td style=\"text-align:left\">Incrémentation = modification et stockage<br>La variable doit être <b>prélablement initialisée</b> par une instruction de la forme x = <i>valeur</i>.</td>\n",
    "    <td style=\"text-align:left\">x += 5&nbsp;&nbsp; &hArr; &nbsp;&nbsp;x = x + 5<br>x *= 3&nbsp;&nbsp; &hArr; &nbsp;&nbsp;x = 3*x</td>\n",
    "  </tr>\n",
    "</table><br>\n",
    "\n",
    "<b>Complément</b> : <a href=\"#T4\">Technique de unpacking</a> dans le paragraphe sur les types composés.</div><br><br>"
   ]
  },
  {
   "cell_type": "markdown",
   "metadata": {},
   "source": [
    "&#128432; <b>Horreur : message d'erreur</b><div id=\"E2\"></div>\n",
    "Exécuter les instructions suivantes, observer les messages d'erreur et identifier la source de l'erreur."
   ]
  },
  {
   "cell_type": "code",
   "execution_count": null,
   "metadata": {},
   "outputs": [],
   "source": [
    "maVariable += 5"
   ]
  },
  {
   "cell_type": "markdown",
   "metadata": {},
   "source": [
    "# <div id=\"T2\" style=\"color:blue;font-family:serif;border:solid,1px;padding:1%;\">Opérateurs</div>"
   ]
  },
  {
   "cell_type": "markdown",
   "metadata": {},
   "source": [
    "<div style=\"border:solid,1px;padding:1%;\">\n",
    "<table style=\"width:100%\">\n",
    "  <tr>\n",
    "      <th style=\"text-align:center\"><i>Python</i></th>\n",
    "      <th style=\"text-align:center\"><i>Signification</i></th>\n",
    "      <th style=\"text-align:center\"><i>Exemples et remarques</i></th>\n",
    "  </tr>\n",
    "  <tr>\n",
    "    <td style=\"text-align:left\">+  -  *  /</td>\n",
    "    <td style=\"text-align:left\">Opérations fondamentales</td>\n",
    "    <td style=\"text-align:left\"></td>\n",
    "  </tr>\n",
    "  <tr>\n",
    "      <td style=\"text-align:left\"><span style=\"color:red;\">**</span></td>\n",
    "    <td style=\"text-align:left\">Puissance</td>\n",
    "      <td style=\"text-align:left\">2**5 calcule 2<sup>5</sup></td>\n",
    "  </tr>\n",
    "  <tr>\n",
    "    <td style=\"text-align:left\">//<br>%</td>\n",
    "    <td style=\"text-align:left\">Division entière (Euclidienne)<br>Reste dans la division entière</td>\n",
    "    <td style=\"text-align:left\">7//3 calcule le quotient entier de 7&#247;3 soit 2<br>7//3 calcule le reste dans la division entière 7&#247;3 soit 1</td>\n",
    "  </tr>\n",
    "  <tr>\n",
    "      <td style=\"text-align:left\"><b><span style=\"color:red;\">==</span></b>  &nbsp;&nbsp;&lt;=  &nbsp;&nbsp;&gt;=  &nbsp;&nbsp;!= </td>\n",
    "    <td style=\"text-align:left\">Égalité, &le;, &ge;, &ne;</td>\n",
    "    <td style=\"text-align:left\"></td>\n",
    "  </tr>\n",
    "  <tr>\n",
    "    <td style=\"text-align:left\">and or not</td>\n",
    "    <td style=\"text-align:left\">Et, ou, négation</td>\n",
    "    <td style=\"text-align:left\">0 not in &#91;-5, 0, 1, 2&#93; renvoie False</td>\n",
    "  </tr>\n",
    "</table><br>\n",
    "\n",
    "<b>Ne pas confondre ces opérateurs avec les symboles réservés aux affectations</b>.<br></div><br><br>"
   ]
  },
  {
   "cell_type": "markdown",
   "metadata": {},
   "source": [
    "&#128432; <b>Horreur : message d'erreur</b><div id=\"E3\"></div>\n",
    "Exécuter les instructions suivantes, observer les messages d'erreur et identifier la source de l'erreur."
   ]
  },
  {
   "cell_type": "code",
   "execution_count": null,
   "metadata": {},
   "outputs": [],
   "source": [
    "4 = 3+1 and 5 > 2"
   ]
  },
  {
   "cell_type": "markdown",
   "metadata": {},
   "source": [
    "# <div id=\"T3\" style=\"color:blue;font-family:serif;border:solid,1px;padding:1%;\">Types simples</div>"
   ]
  },
  {
   "cell_type": "markdown",
   "metadata": {},
   "source": [
    "<div style=\"border:solid,1px;padding:1%;\">\n",
    "<table style=\"width:100%\">\n",
    "  <tr>\n",
    "      <th style=\"text-align:center\"><i>Python</i></th>\n",
    "      <th style=\"text-align:center\"><i>Signification</i></th>\n",
    "      <th style=\"text-align:center\"><i>Exemples</i></th>\n",
    "  </tr>\n",
    "  <tr>\n",
    "      <td style=\"text-align:left\"><span style=\"color:red;\">int</span></td>\n",
    "    <td style=\"text-align:left\">Entier (integer)</td>\n",
    "    <td style=\"text-align:left\">int(5.2) convertit le flottant 5.2 en entier</td>\n",
    "  </tr>\n",
    "  <tr>\n",
    "    <td style=\"text-align:left\"><span style=\"color:red;\">float</span></td>\n",
    "    <td style=\"text-align:left\">Flottant (nombre en notation scientifique)</td>\n",
    "    <td style=\"text-align:left\">float(2) convertit l'entier 2 en flottant 2.0 </td>\n",
    "  </tr>\n",
    "  <tr>\n",
    "    <td style=\"text-align:left\"><span style=\"color:red;\">boolean</span></td>\n",
    "    <td style=\"text-align:left\">Booléen</td>\n",
    "    <td style=\"text-align:left\">True ou False</td>\n",
    "  </tr>\n",
    "  <tr>\n",
    "    <td style=\"text-align:left\"><span style=\"color:red;\">str</span></td>\n",
    "    <td style=\"text-align:left\">Chaîne de caractères (string)</td>\n",
    "    <td style=\"text-align:left\">str(4) convertit l'entier 4 en chaîne '4'</td>\n",
    "  </tr>\n",
    "</table><br>\n",
    "\n",
    "La fonction <code>type()</code> permet de connaître le type d'un objet.<br>\n",
    "\n",
    "<b>Les fonctions int( ), float( ), bool( ), str( ) permettent de modifier le type d'un objet.<br>\n",
    "La fonction eval( ) permet de transformer une chaîne en entier, flottant ou boléen.</b></div><br><br>"
   ]
  },
  {
   "cell_type": "markdown",
   "metadata": {},
   "source": [
    "&#128432; <b>Tester les instructions suivantes</b>.<div id=\"E4\"></div>"
   ]
  },
  {
   "cell_type": "code",
   "execution_count": null,
   "metadata": {},
   "outputs": [],
   "source": [
    "1 == 2"
   ]
  },
  {
   "cell_type": "code",
   "execution_count": null,
   "metadata": {},
   "outputs": [],
   "source": [
    "True == 1"
   ]
  },
  {
   "cell_type": "markdown",
   "metadata": {},
   "source": [
    "Prévoir le résultat de l'instruction suivante :"
   ]
  },
  {
   "cell_type": "code",
   "execution_count": null,
   "metadata": {},
   "outputs": [],
   "source": [
    "True + 1"
   ]
  },
  {
   "cell_type": "markdown",
   "metadata": {},
   "source": [
    "Identification du type d'une variable :"
   ]
  },
  {
   "cell_type": "code",
   "execution_count": null,
   "metadata": {},
   "outputs": [],
   "source": [
    "a = str(2)\n",
    "type(a)"
   ]
  },
  {
   "cell_type": "code",
   "execution_count": null,
   "metadata": {},
   "outputs": [],
   "source": [
    "type(a) == str"
   ]
  },
  {
   "cell_type": "markdown",
   "metadata": {},
   "source": [
    "Transformer une chaîne en nombre :"
   ]
  },
  {
   "cell_type": "code",
   "execution_count": null,
   "metadata": {},
   "outputs": [],
   "source": [
    "eval('4')"
   ]
  },
  {
   "cell_type": "code",
   "execution_count": null,
   "metadata": {},
   "outputs": [],
   "source": [
    "eval('3.14')"
   ]
  },
  {
   "cell_type": "markdown",
   "metadata": {},
   "source": [
    "&#128432; <b>Une erreur est si vite arrivée</b><div id=\"E5\"></div>\n",
    "Exécuter les deux instructions suivantes et identifier la source de l'erreur."
   ]
  },
  {
   "cell_type": "code",
   "execution_count": null,
   "metadata": {},
   "outputs": [],
   "source": [
    "print('a =',a)"
   ]
  },
  {
   "cell_type": "code",
   "execution_count": null,
   "metadata": {},
   "outputs": [],
   "source": [
    "a == 2"
   ]
  },
  {
   "cell_type": "markdown",
   "metadata": {},
   "source": [
    "&#128432; <b>Une erreur est si vite arrivée</b><div id=\"E5\"></div>\n",
    "Exécuter l'instruction suivante et identifier la source de l'erreur."
   ]
  },
  {
   "cell_type": "code",
   "execution_count": null,
   "metadata": {},
   "outputs": [],
   "source": [
    "(1 == 2) == false"
   ]
  },
  {
   "cell_type": "markdown",
   "metadata": {},
   "source": [
    "# <div id=\"T4\" style=\"color:blue;font-family:serif;border:solid,1px;padding:1%;\">Types composés</div>"
   ]
  },
  {
   "cell_type": "markdown",
   "metadata": {},
   "source": [
    "<div style=\"border:solid,1px;padding:1%;\">\n",
    "Ce tableau est une synthèse des propriétés des <b>types séquentiels</b> list, tuple, range, string : tous ces objets sont de type <b>sequence</b>.<br>Se reporter aux paragraphes dédiés à chacun de ces types pour les opérations (concaténation, duplication, slicing...).<br>\n",
    "\n",
    "<table style=\"width:100%\">\n",
    "  <tr>\n",
    "      <th style=\"text-align:center\"><i></i></th>\n",
    "      <th style=\"text-align:center\"><i>Tuple</i></th>\n",
    "      <th style=\"text-align:center\"><i>Liste</i></th>\n",
    "      <th style=\"text-align:center\"><i>Chaîne</i></th>\n",
    "  </tr>\n",
    "  <tr>\n",
    "    <td style=\"text-align:left\">Définition</td>\n",
    "    <td style=\"text-align:left\"><code>t = ('ab', 2, -4, True)</code></td>\n",
    "    <td style=\"text-align:left\"><code>L = ['ab', 2, -4, True]</code></td>\n",
    "    <td style=\"text-align:left\"><code>s = 'abcdefg'</code></td>\n",
    "  </tr>\n",
    "    <tr>\n",
    "    <td style=\"text-align:left\">Type</td>\n",
    "    <td style=\"text-align:left\">tuple</td>\n",
    "    <td style=\"text-align:left\">list</td>\n",
    "    <td style=\"text-align:left\">str</td>\n",
    "  </tr>\n",
    "  <tr>\n",
    "    <td style=\"text-align:left\">Accès à l'élément d'index <i>i</i><br><span style=\"color:red;\">La numérotation débute à 0</span></td>\n",
    "    <td style=\"text-align:left\"><code>t[i]</code></td>\n",
    "    <td style=\"text-align:left\"><code>L[i]</code></td>\n",
    "    <td style=\"text-align:left\"><code>s[i]</code></td>\n",
    "  </tr>\n",
    "  <tr>\n",
    "    <td style=\"text-align:left\">Remplacer un élément</td>\n",
    "      <td style=\"text-align:left\"><span style=\"color:red;\">Impossible : non mutable</span></td>\n",
    "    <td style=\"text-align:left\"><code>L[2] = 10 </code><span style=\"color:red;\">Mutable</span></td>\n",
    "    <td style=\"text-align:left\"><span style=\"color:red;\">Impossible : non mutable</span></td>\n",
    "  </tr>\n",
    "  <tr>\n",
    "    <td style=\"text-align:left\">Slicing</td>\n",
    "    <td  colspan=\"3\" style=\"text-align:center\"><code>Oui</code></td>\n",
    "  </tr>\n",
    "  <tr>\n",
    "    <td style=\"text-align:left\">Concaténation</td>\n",
    "    <td  colspan=\"3\" style=\"text-align:center\"><code>+</code></td>\n",
    "  </tr>\n",
    "  <tr>\n",
    "    <td style=\"text-align:left\">Duplication</td>\n",
    "    <td  colspan=\"3\" style=\"text-align:center\"><code>*</code></td>\n",
    "  </tr>\n",
    "  <tr>\n",
    "    <td style=\"text-align:left\">Longueur</td>\n",
    "    <td  colspan=\"3\" style=\"text-align:center\"><code>len()</code></td>\n",
    "  </tr>\n",
    "  <tr>\n",
    "    <td style=\"text-align:left\">Appartenance</td>\n",
    "    <td  colspan=\"3\" style=\"text-align:center\"><code>in</code></td>\n",
    "  </tr>\n",
    "</table><br>\n",
    "\n",
    "<span style=\"color:red;\"><b>Unpacking</b></span><br>\n",
    "Si le tuple t est défini par <code>t = ('ab', 2, -4, True)</code> alors il est possible de récupérer chaque valeur dans une variable par : <br>\n",
    "<code>a, b, c, d = t</code><br>\n",
    "Cette technique est également licite pour les listes et les chaînes (il faut autant de variables que de valeurs).\n",
    "\n",
    "<span style=\"color:red;\"><b>Slicing</b></span> : extraction de \"tranches\" (sous-listes, sous-chaînes)<br>\n",
    "Soit obj un objet de type sequence (tuple, list, chaîne...).<br>\n",
    "<code>obj[start : stop : step]</code><br>\n",
    "start est la valeur de départ (incluse), si elle est omise, sa valeur par défaut est 0  ;<br>\n",
    "stop est la valeur de fin (<b>exclue</b>), si elle est omise sa valeur par défaut est len(obj) ;<br>\n",
    "step est le pas (facultatif).</div><br><br>"
   ]
  },
  {
   "cell_type": "markdown",
   "metadata": {},
   "source": [
    "&#128432; <b>Exemples</b><div id=\"E6\"></div>\n",
    "Tester les instructions analogues avec des listes"
   ]
  },
  {
   "cell_type": "code",
   "execution_count": null,
   "metadata": {},
   "outputs": [],
   "source": [
    "s = 'abcdefg'\n",
    "'ab' in s"
   ]
  },
  {
   "cell_type": "code",
   "execution_count": null,
   "metadata": {},
   "outputs": [],
   "source": [
    "s+s"
   ]
  },
  {
   "cell_type": "code",
   "execution_count": null,
   "metadata": {},
   "outputs": [],
   "source": [
    "4*s"
   ]
  },
  {
   "cell_type": "code",
   "execution_count": null,
   "metadata": {},
   "outputs": [],
   "source": [
    "s[1]"
   ]
  },
  {
   "cell_type": "code",
   "execution_count": null,
   "metadata": {},
   "outputs": [],
   "source": [
    "s[1:4]"
   ]
  },
  {
   "cell_type": "code",
   "execution_count": null,
   "metadata": {},
   "outputs": [],
   "source": [
    "s[1:5:2]"
   ]
  },
  {
   "cell_type": "markdown",
   "metadata": {},
   "source": [
    "&#128432; <b>Horreur : message d'erreur</b><div id=\"E7\"></div>\n",
    "Exécuter les instructions suivantes, observer les messages d'erreur et trouver la syntaxe correcte."
   ]
  },
  {
   "cell_type": "code",
   "execution_count": null,
   "metadata": {},
   "outputs": [],
   "source": [
    "L = ['ab', 2, -4, True]\n",
    "print('La liste contient ',len(L),' éléments')\n",
    "# On souhaite accéder au dernier élément\n",
    "L[4]"
   ]
  },
  {
   "cell_type": "code",
   "execution_count": null,
   "metadata": {},
   "outputs": [],
   "source": [
    "# On souhaite extraire une sous-chaîne\n",
    "L[1,3]"
   ]
  },
  {
   "cell_type": "code",
   "execution_count": null,
   "metadata": {},
   "outputs": [],
   "source": [
    "a,b,c = L"
   ]
  },
  {
   "cell_type": "markdown",
   "metadata": {},
   "source": [
    "# <div id=\"T5\" style=\"color:blue;font-family:serif;border:solid,1px;padding:1%;\">Entrées / sorties</div>"
   ]
  },
  {
   "cell_type": "markdown",
   "metadata": {},
   "source": [
    "<div style=\"border-bottom:solid,1px;\"><b>Sorties (output)</b></div>\n",
    "Exemple : L = &#91;5&#93; et s = 'abc'."
   ]
  },
  {
   "cell_type": "code",
   "execution_count": null,
   "metadata": {},
   "outputs": [],
   "source": [
    "L = [5]\n",
    "s = 'abc'"
   ]
  },
  {
   "cell_type": "markdown",
   "metadata": {},
   "source": [
    "<table style=\"width:100%\">\n",
    "  <tr>\n",
    "    <th style=\"text-align:center\"><i>Commande</i></th>\n",
    "    <th style=\"text-align:center\"><i>Résultats</i></th>\n",
    "    <th style=\"text-align:center\"><i>Commentaires</i></th>\n",
    "  </tr>\n",
    "  <tr>\n",
    "    <td style=\"text-align:left\"><code>print(L)<br>print(s)<br>print(L,s)</code></td>\n",
    "    <td style=\"text-align:left\">&#91;5&#93;<br>abc<br>&#91;5&#93; abc</td>\n",
    "    <td style=\"text-align:left\">Affichage de une ou plusieurs variables</td>\n",
    "  </tr>\n",
    "  <tr>\n",
    "    <td style=\"text-align:left\"><code>print('La liste L est : ' ,L)<br>print('La liste L est : ' + str(L))</code></td>\n",
    "    <td style=\"text-align:left\">La liste L est : [5]<br>La liste L est : [5]</td>\n",
    "    <td style=\"text-align:left\">Affichage d'un mélange de chaînes et de variables</td>\n",
    "  </tr>\n",
    "  <tr>\n",
    "    <td style=\"text-align:left\"><code>print('La liste est {} et la chaîne est {}'.format(L,s))</code></td>\n",
    "    <td style=\"text-align:left\">La liste est [5] et la chaîne est abc</td>\n",
    "    <td style=\"text-align:left\">Les accolades {} désignent des <b>paramètres remplaçables</b> dont les valeurs figurent dans la commande <b>format()</b> : la première accolade est remplacée par le contenu de la variable L et la seconde par le contenu de la variable s.</td>\n",
    "  </tr>\n",
    "</table> "
   ]
  },
  {
   "cell_type": "markdown",
   "metadata": {},
   "source": [
    "<div style=\"border-bottom:solid,1px;\"><b>Entrées interactives (input)</b></div>\n",
    "La fonction input() permet d'interrompre un prgramme pour demander une valeur dans une boîte de dialoque. La valeur entrée au clavier est stockée dans une variable. Attention, cette valeur sera automatiquement de type chaîne quelle que soit la valeur entrée : si nécessaire, il faut convertir ensuite le type chaîne en un autre type grâce à <a href=\"#T3\">int(), float(), bool ou eval()</a>.<br>\n",
    "\n",
    "&#128432;<b>Exemple</b> (penser à valider après avoir entré la valeur dans la boîte de dialogue) :<div id=\"ES1\"></div> "
   ]
  },
  {
   "cell_type": "code",
   "execution_count": 7,
   "metadata": {},
   "outputs": [
    {
     "name": "stdout",
     "output_type": "stream",
     "text": [
      "Entrer un nombre (puis valider) : 1\n"
     ]
    }
   ],
   "source": [
    "x = input('Entrer un nombre (puis valider) : ')  # La boîte de dialogue apparaît juste sous cette cellule"
   ]
  },
  {
   "cell_type": "code",
   "execution_count": null,
   "metadata": {},
   "outputs": [],
   "source": [
    "print(x)"
   ]
  },
  {
   "cell_type": "code",
   "execution_count": null,
   "metadata": {},
   "outputs": [],
   "source": [
    "x+1"
   ]
  },
  {
   "cell_type": "markdown",
   "metadata": {},
   "source": [
    "# <div id=\"T6\" style=\"color:blue;font-family:serif;border:solid,1px;padding:1%;\">Intervalle – Fonction range()</div>"
   ]
  },
  {
   "cell_type": "markdown",
   "metadata": {},
   "source": [
    "<div style=\"border:solid,1px;padding:1%;\">\n",
    "En Python, l’instruction <span style=\"color:red;\">range()</span> (intervalle en français) permet de créer une <b>séquence</b> de nombres.<br>\n",
    "\n",
    "Exemples : \t\n",
    "- range(10)&nbsp;&nbsp;&nbsp;&nbsp;&nbsp;&nbsp;&nbsp;&nbsp;crée la séquence 0, 1, 2, 3, 4, 5, 6, 7, 8, 9\n",
    "- range(1,10)&nbsp;&nbsp;&nbsp;&nbsp;&nbsp;crée la séquence&nbsp;&nbsp;&nbsp;&nbsp; 1, 2, 3, 4, 5, 6, 7, 8, 9\n",
    "- range(1,10,2)&nbsp;&nbsp;crée la séquence&nbsp;&nbsp;&nbsp;&nbsp; 1,&nbsp;&nbsp;&nbsp;&nbsp; 3,&nbsp;&nbsp;&nbsp;&nbsp; 5,&nbsp;&nbsp;&nbsp;&nbsp; 7,&nbsp;&nbsp;&nbsp;&nbsp; 9\n",
    "\n",
    "Syntaxe complète : \t<code><span style=\"color:red;\"><b>range(start, stop [, step])</b></span></code><br>\n",
    "* start est la <b>valeur de départ (incluse)</b>, si elle est omise, sa valeur par défaut est 0 comme dans le 1er exemple ;<br>\n",
    "* stop est la <b>valeur de fin (<span style=\"color:red;\">exclue</span>)</b>, elle ne peut pas être omise (1er exemple : une seule valeur correspond à la valeur de fin) ;<br>\n",
    "* step est le pas (<b>facultatif</b>), si il est précisé (3ème exemple), il ne faut pas mettre de crochets.<br>\n",
    "\n",
    "&#10062; Il faut taper <b>list(range( ))</b> si on veut <b>visualiser</b> les valeurs produites par range( ).\n",
    "</div>"
   ]
  },
  {
   "cell_type": "markdown",
   "metadata": {},
   "source": [
    "&#128432; <b>Utilisation de range( )</b><div id=\"range1\"></div>\n",
    "Créer la séquence : -8,-4,0,4,8"
   ]
  },
  {
   "cell_type": "code",
   "execution_count": null,
   "metadata": {},
   "outputs": [],
   "source": []
  },
  {
   "cell_type": "markdown",
   "metadata": {},
   "source": [
    "# <div id=\"T7\" style=\"color:blue;font-family:serif;border:solid,1px;padding:1%;\">Structures de contrôle (tests et boucles)</div>"
   ]
  },
  {
   "cell_type": "markdown",
   "metadata": {},
   "source": [
    "<div style=\"border-bottom:solid,1px;\"><b>Boucle for</b> (boucle inconditionnelle)</div>"
   ]
  },
  {
   "cell_type": "code",
   "execution_count": null,
   "metadata": {},
   "outputs": [],
   "source": [
    "for truc in [sequence]:\n",
    "    "
   ]
  },
  {
   "cell_type": "code",
   "execution_count": null,
   "metadata": {},
   "outputs": [],
   "source": []
  },
  {
   "cell_type": "markdown",
   "metadata": {},
   "source": [
    "<div style=\"border-bottom:solid,1px;\"><b>Boucle while</b> (boucle conditionnelle)</div>"
   ]
  },
  {
   "cell_type": "code",
   "execution_count": null,
   "metadata": {},
   "outputs": [],
   "source": []
  },
  {
   "cell_type": "code",
   "execution_count": null,
   "metadata": {},
   "outputs": [],
   "source": []
  },
  {
   "cell_type": "markdown",
   "metadata": {},
   "source": [
    "<div style=\"border-bottom:solid,1px;\"><b>Tests</b></div>"
   ]
  },
  {
   "cell_type": "code",
   "execution_count": null,
   "metadata": {},
   "outputs": [],
   "source": []
  },
  {
   "cell_type": "markdown",
   "metadata": {},
   "source": [
    "# <div id=\"T8\" style=\"color:blue;font-family:serif;border:solid,1px;padding:1%;\">Chaînes de caractères</div>"
   ]
  },
  {
   "cell_type": "code",
   "execution_count": null,
   "metadata": {},
   "outputs": [],
   "source": []
  },
  {
   "cell_type": "markdown",
   "metadata": {},
   "source": [
    "# <div id=\"T9\" style=\"color:blue;font-family:serif;border:solid,1px;padding:1%;\">Listes</div>"
   ]
  },
  {
   "cell_type": "code",
   "execution_count": null,
   "metadata": {},
   "outputs": [],
   "source": []
  },
  {
   "cell_type": "markdown",
   "metadata": {},
   "source": [
    "# <div id=\"T10\" style=\"color:blue;font-family:serif;border:solid,1px;padding:1%;\">Tableaux numpy</div>"
   ]
  },
  {
   "cell_type": "code",
   "execution_count": 17,
   "metadata": {},
   "outputs": [],
   "source": [
    "import numpy as np"
   ]
  },
  {
   "cell_type": "code",
   "execution_count": 18,
   "metadata": {},
   "outputs": [
    {
     "name": "stdout",
     "output_type": "stream",
     "text": [
      "1.0\n",
      "1.0\n",
      "1.0\n",
      "1.0\n"
     ]
    }
   ],
   "source": [
    "T = np.ones(4)\n",
    "for i in T:\n",
    "    print(i)"
   ]
  },
  {
   "cell_type": "code",
   "execution_count": null,
   "metadata": {},
   "outputs": [],
   "source": []
  },
  {
   "cell_type": "code",
   "execution_count": null,
   "metadata": {},
   "outputs": [],
   "source": []
  },
  {
   "cell_type": "markdown",
   "metadata": {},
   "source": [
    "# <div id=\"T11\" style=\"color:blue;font-family:serif;border:solid,1px;padding:1%;\">Dictionnaire</div>"
   ]
  },
  {
   "cell_type": "code",
   "execution_count": null,
   "metadata": {},
   "outputs": [],
   "source": []
  },
  {
   "cell_type": "markdown",
   "metadata": {},
   "source": [
    "# <div id=\"T12\" style=\"color:blue;font-family:serif;border:solid,1px;padding:1%;\">Définition et appel d’une fonction</div>"
   ]
  },
  {
   "cell_type": "code",
   "execution_count": null,
   "metadata": {},
   "outputs": [],
   "source": []
  },
  {
   "cell_type": "markdown",
   "metadata": {},
   "source": [
    "# <div id=\"T13\" style=\"color:blue;font-family:serif;border:solid,1px;padding:1%;\">Graphiques</div>"
   ]
  },
  {
   "cell_type": "markdown",
   "metadata": {},
   "source": [
    "La ligne <b>%matplotlib inline</b> n'est utile que pour un notebook (inutile dans un IDE comme Pyzo ou Spyder par exemple)."
   ]
  },
  {
   "cell_type": "code",
   "execution_count": null,
   "metadata": {},
   "outputs": [],
   "source": []
  },
  {
   "cell_type": "markdown",
   "metadata": {},
   "source": [
    "# <div id=\"T14\" style=\"color:blue;font-family:serif;border:solid,1px;padding:1%;\">Gestion des erreurs</div>"
   ]
  },
  {
   "cell_type": "code",
   "execution_count": null,
   "metadata": {},
   "outputs": [],
   "source": []
  },
  {
   "cell_type": "markdown",
   "metadata": {},
   "source": [
    "# <div id=\"T15\" style=\"color:blue;font-family:serif;border:solid,1px;padding:1%;\">Gestion des exceptions</div>"
   ]
  },
  {
   "cell_type": "code",
   "execution_count": null,
   "metadata": {},
   "outputs": [],
   "source": []
  },
  {
   "cell_type": "code",
   "execution_count": null,
   "metadata": {},
   "outputs": [],
   "source": []
  }
 ],
 "metadata": {
  "kernelspec": {
   "display_name": "Python 3",
   "language": "python",
   "name": "python3"
  },
  "language_info": {
   "codemirror_mode": {
    "name": "ipython",
    "version": 3
   },
   "file_extension": ".py",
   "mimetype": "text/x-python",
   "name": "python",
   "nbconvert_exporter": "python",
   "pygments_lexer": "ipython3",
   "version": "3.7.1"
  }
 },
 "nbformat": 4,
 "nbformat_minor": 2
}
