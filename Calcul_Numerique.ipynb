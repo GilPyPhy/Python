{
 "cells": [
  {
   "cell_type": "markdown",
   "metadata": {},
   "source": [
    "<h1><div style=\"color:Sienna;font-family:serif;font-size:larger;text-align:center;border:solid,2px;padding:2%;\">Calcul numérique<br>Scipy - Numpy</div></h1>"
   ]
  },
  {
   "cell_type": "markdown",
   "metadata": {},
   "source": [
    "<h2><div style=\"color:blue;font-family:serif;border:solid,1px;padding:1%;\">Résolution d'équations algébriques</div></h2>"
   ]
  },
  {
   "cell_type": "markdown",
   "metadata": {},
   "source": [
    "<div style=\"border:solid,1px;padding:1%;\"><b>Une équation à une inconnue <i>x</i> peut se mettre sous la forme <i>f</i>(<i>x</i>) = 0</b> où <i>f</i> est une fonction connue. Bibliothèque : <b>scipy.optimize</b><br>\n",
    "\n",
    "Voir la documentation pour les détails mais attention à la <b>version de scipy</b> utilisée, la syntaxe dépend de la version, il faut consulter la documentation adpatée à la version utilisée Module : <a href=\"https://docs.scipy.org/doc/\" target=\"_blank\">documentation(s) scipy</a>.<br>\n",
    "\n",
    "<b>En conséquence, <span style=\"color:red;\">seule l'une des deux versions ci-dessous fonctionnera</span> : tester les deux</b>.</div>"
   ]
  },
  {
   "cell_type": "markdown",
   "metadata": {},
   "source": [
    "<div style=\"border-bottom:solid,1px;\"><b>Scipy version 1.2.1</b></div>\n",
    "Syntaxe : <a href=\"https://docs.scipy.org/doc/scipy-1.2.1/reference/generated/scipy.optimize.root_scalar.html\" target=\"_blank\">root_scalar</a> (conseil : consulter les exemples en bas de page après les informations concernant la syntaxe)."
   ]
  },
  {
   "cell_type": "code",
   "execution_count": null,
   "metadata": {},
   "outputs": [],
   "source": [
    "from scipy import optimize"
   ]
  },
  {
   "cell_type": "code",
   "execution_count": null,
   "metadata": {},
   "outputs": [],
   "source": [
    "def f(x):\n",
    "    return (x-1)*(x+5)"
   ]
  },
  {
   "cell_type": "markdown",
   "metadata": {},
   "source": [
    "<b>Méthode 1</b> : on connaît un intervalle &#91;x1, x2&#93; tel que f(x1)f(x2) &lt; 0 (i.e. la fonction s'annule sur cet intervalle)."
   ]
  },
  {
   "cell_type": "code",
   "execution_count": null,
   "metadata": {},
   "outputs": [],
   "source": [
    "optimize.root_scalar(f,bracket=[-10,0])"
   ]
  },
  {
   "cell_type": "markdown",
   "metadata": {},
   "source": [
    "&#128432; <b>Chercher l'autre zéro de la fonction</b>"
   ]
  },
  {
   "cell_type": "code",
   "execution_count": null,
   "metadata": {},
   "outputs": [],
   "source": []
  },
  {
   "cell_type": "markdown",
   "metadata": {},
   "source": [
    "<b>Méthode 2</b> : on connaît la dérivée de la fonction f et on se donne un point de départ (méthode de Newton)."
   ]
  },
  {
   "cell_type": "code",
   "execution_count": null,
   "metadata": {},
   "outputs": [],
   "source": [
    "def fp(x):\n",
    "    return 2*x+4"
   ]
  },
  {
   "cell_type": "code",
   "execution_count": null,
   "metadata": {},
   "outputs": [],
   "source": [
    "optimize.root_scalar(f,fprime=fp,x0=10)"
   ]
  },
  {
   "cell_type": "markdown",
   "metadata": {},
   "source": [
    "&#128432; <b>Chercher l'autre zéro de la fonction</b>"
   ]
  },
  {
   "cell_type": "code",
   "execution_count": null,
   "metadata": {},
   "outputs": [],
   "source": []
  },
  {
   "cell_type": "markdown",
   "metadata": {},
   "source": [
    "<div style=\"border-bottom:solid,1px;\"><b>Scipy version 1.1</b></div>\n",
    "Méthode 1 : <a href=\"https://docs.scipy.org/doc/scipy-1.1.0/reference/generated/scipy.optimize.newton.html#scipy.optimize.newton\" target=\"_blank\">newton</a> (conseil : consulter les exemples en bas de page après les informations concernant la syntaxe)."
   ]
  },
  {
   "cell_type": "code",
   "execution_count": null,
   "metadata": {},
   "outputs": [],
   "source": [
    "from scipy import optimize"
   ]
  },
  {
   "cell_type": "code",
   "execution_count": null,
   "metadata": {},
   "outputs": [],
   "source": [
    "def f(x):\n",
    "    return (x-1)*(x+5)"
   ]
  },
  {
   "cell_type": "code",
   "execution_count": null,
   "metadata": {},
   "outputs": [],
   "source": [
    "optimize.newton(f,10)"
   ]
  },
  {
   "cell_type": "markdown",
   "metadata": {},
   "source": [
    "&#128432; <b>Chercher l'autre zéro de la fonction</b>"
   ]
  },
  {
   "cell_type": "code",
   "execution_count": null,
   "metadata": {},
   "outputs": [],
   "source": []
  },
  {
   "cell_type": "markdown",
   "metadata": {},
   "source": [
    "Méthode 2 : <a href=\"https://docs.scipy.org/doc/scipy-1.1.0/reference/generated/scipy.optimize.fsolve.html#scipy.optimize.fsolve\" target=\"_blank\">fsolve</a>"
   ]
  },
  {
   "cell_type": "code",
   "execution_count": null,
   "metadata": {},
   "outputs": [],
   "source": [
    "optimize.fsolve(f,-6)"
   ]
  },
  {
   "cell_type": "markdown",
   "metadata": {},
   "source": [
    "Il est bien entendu possible de résoudre des <b>systèmes d'équations</b> (cf. scipy optimize root)."
   ]
  },
  {
   "cell_type": "markdown",
   "metadata": {},
   "source": [
    "<h2><div style=\"color:blue;font-family:serif;border:solid,1px;padding:1%;\">Intégration</div></h2>"
   ]
  },
  {
   "cell_type": "markdown",
   "metadata": {},
   "source": [
    "<div style=\"border:solid,1px;padding:1%;\">Il s'agit ici de calculer $\\int_a^bf(x)dx$ où <i>f</i> est une fonction connue. Bibliothèque : <b>scipy.integrate</b>. Voir : <a href=\"https://docs.scipy.org/doc/scipy/reference/tutorial/integrate.html\" target=\"_blank\">quad</a><br>\n",
    "    \n",
    "<b>Syntaxe</b> : <code>quad(f,a,b)</code></div>"
   ]
  },
  {
   "cell_type": "code",
   "execution_count": null,
   "metadata": {},
   "outputs": [],
   "source": [
    "from scipy.integrate import quad"
   ]
  },
  {
   "cell_type": "code",
   "execution_count": null,
   "metadata": {},
   "outputs": [],
   "source": [
    "def f(x):\n",
    "    return x**2"
   ]
  },
  {
   "cell_type": "code",
   "execution_count": null,
   "metadata": {},
   "outputs": [],
   "source": [
    "quad(f,0,1) # La fonction retourne la valeur de l'intégrale et une estimation de l'erreur commise"
   ]
  },
  {
   "cell_type": "markdown",
   "metadata": {},
   "source": [
    "Il est possible de calculer $\\int_{-\\infty}^{\\infty}f(x)dx$ en utilisant -np.inf et np.inf (après avoir chargé le module numpy)."
   ]
  },
  {
   "cell_type": "markdown",
   "metadata": {},
   "source": [
    "&#128432; Calculer $\\int_{0}^{\\infty}e^{(-x)}dx$ (importer numpy par import numpy as np)"
   ]
  },
  {
   "cell_type": "code",
   "execution_count": null,
   "metadata": {},
   "outputs": [],
   "source": []
  },
  {
   "cell_type": "code",
   "execution_count": null,
   "metadata": {},
   "outputs": [],
   "source": []
  },
  {
   "cell_type": "markdown",
   "metadata": {},
   "source": [
    "<h2><div style=\"color:blue;font-family:serif;border:solid,1px;padding:1%;\">Résolution d'équations différentielles (ODE = Ordinary Differential Equation)</div></h2>"
   ]
  },
  {
   "cell_type": "markdown",
   "metadata": {},
   "source": [
    "<div style=\"border:solid,1px;padding:1%;\">Bibliothèque : <b>scipy.integrate</b>. Voir : <a href=\"https://docs.scipy.org/doc/scipy/reference/generated/scipy.integrate.solve_ivp.html\" target=\"_blank\">solve_ivp</a> (ivp = Initial Value Problem) ou <a href=\"https://docs.scipy.org/doc/scipy/reference/generated/scipy.integrate.odeint.html\" target=\"_blank\">odeint</a>.</div>"
   ]
  },
  {
   "cell_type": "code",
   "execution_count": null,
   "metadata": {},
   "outputs": [],
   "source": [
    "from scipy.integrate import solve_ivp"
   ]
  },
  {
   "cell_type": "markdown",
   "metadata": {},
   "source": [
    "<div style=\"border-bottom:solid,1px;\"><b>Equation différentielle d'ordre 1</b></div><br>\n",
    "On recherche la fonction <i>y</i>(<i>t</i>) telle que \n",
    "$\\left\\lbrace\n",
    "\\begin{array}{}\n",
    "\\dot y(t) = f\\left(t,y(t)\\right)\\\\\n",
    "y(t_0) = y_0\\\\\n",
    "\\end{array}\n",
    "\\right.$ &nbsp; &nbsp; $\\forall t \\in [t_0,T]$<br>\n",
    "La 1<sup>ère</sup> équation, $\\dot y(t) = f\\left(t,y(t)\\right)$, exprime que la dérivée est une fonction connue de <i>t</i> et <i>y</i>.<br>\n",
    "La 2<sup>nde</sup> équation est une condition initiale.<br>\n",
    "\n",
    "<b>Syntaxe</b> : <code>solution = solve_ivp(f,[t0,T],&#91;y0&#93;,max_step= )</code> où max_step est le pas de discrétisation en temps (donner une valeur).<br> On accède aux instants calculés par <code>solution.t</code> et aux valeurs de la fonction par <code>solution.y[0]</code>"
   ]
  },
  {
   "cell_type": "markdown",
   "metadata": {},
   "source": [
    "&#128432; <b>Exemple : décharge d'un condensateur</b><div id=\"Ex\"></div><br>\n",
    "On souhaite résoudre l’équation différentielle $\\displaystyle\\frac{du}{dt} + \\frac{1}{\\tau }u = 0$  de la décharge d’un condensateur de capacité C à travers un résistor de résistance R sachant que la tension aux bornes du condensateur à t = t0 = 0 est u0 = 10 V et que $\\tau$ = 1 ms.<br>\n",
    "La durée totale de la simulation est notée T = 5 $\\tau$."
   ]
  },
  {
   "cell_type": "code",
   "execution_count": null,
   "metadata": {},
   "outputs": [],
   "source": [
    "def f(t,u):\n",
    "    global tau\n",
    "    return -u/tau\n",
    "\n",
    "t0 = 0\n",
    "u0 = 10\n",
    "tau = 1e-3\n",
    "T = 10*tau\n",
    "\n",
    "solution = solve_ivp(f,[t0,T],[u0],max_step=T/100)"
   ]
  },
  {
   "cell_type": "code",
   "execution_count": null,
   "metadata": {},
   "outputs": [],
   "source": [
    "import matplotlib.pyplot as plt\n",
    "\n",
    "plt.plot(solution.t,solution.y[0])\n",
    "plt.show()"
   ]
  },
  {
   "cell_type": "markdown",
   "metadata": {},
   "source": [
    "&#128432; Exercices : cf. exercices du notebook \"Euler1\""
   ]
  },
  {
   "cell_type": "code",
   "execution_count": null,
   "metadata": {},
   "outputs": [],
   "source": []
  },
  {
   "cell_type": "markdown",
   "metadata": {},
   "source": [
    "<div style=\"border-bottom:solid,1px;\"><b>Equation différentielle d'ordre 2</b></div><br>\n",
    "Une équation différentielle d'ordre 2 peut s'écrire sous la forme d'un système de deux équations d'ordre 1 : \n",
    "$\\left\\lbrace\n",
    "\\begin{array}{}\n",
    "v(t) =\\dot x(t)\\\\\n",
    "\\dot v(t) = f\\left(t, x(t),v(t)\\right)\\\\\n",
    "\\end{array}\n",
    "\\right.$.<br>\n",
    "Ce système d'équations peut s'écrire à l'aide d'une fonction F travaillant avec des vecteurs (tableaux numpy) : <br>\n",
    "$$F : \\left[\n",
    "\\begin{array}{}\n",
    "x\\\\\n",
    "v\\\\\n",
    "\\end{array}\n",
    "\\right] \\rightarrow\n",
    "\\left[\n",
    "\\begin{array}{}\n",
    "v = \\dot x\\\\\n",
    "\\dot v = f\\left(x(t),v(t)\\right)\\\\\n",
    "\\end{array}\n",
    "\\right]$$.<br>\n",
    "La fonction F est une fonction du temps et de la <b>variable &#91;x, v&#93;</b>.<br>\n",
    "Elle renvoie le vecteur &#91;v(t), $\\dot v(t)$&#93; c'est à dire le vecteur &#91;$\\dot x(t)$, $f\\left(t, x(t),v(t)\\right)$&#93; .<br>\n",
    "Cette fonction F se code de la façon suivante : \n",
    "<code>\n",
    "    def F(t, tableau): # tableau est de la forme [x, v] et donc tableau[0] représente x et tableau[1] représente v\n",
    "        return np.array([tableau[1], <i>f(tableau[0],tableau[1])</i>])\n",
    "</code><br><br>\n",
    "<b>Syntaxe</b> : <code>solution = solve_ivp(F,(t0,T),&#91;x0,v0&#93;,max_step= )</code> ).<br>\n",
    "On accède aux instants calculés par <code>solution.t</code> et aux valeurs de la fonction par <code>solution.y[0]</code>.<br>\n",
    "Rq = la vitesse est accessible par <code>solution.y[1]</code>."
   ]
  },
  {
   "cell_type": "code",
   "execution_count": null,
   "metadata": {},
   "outputs": [],
   "source": [
    "def F(t,tab) :\n",
    "    return np.array([tab[1], -w0**2*np.sin(tab[0])])\n",
    "\n",
    "x0, v0, w0, T = 0.1, 0, 1, 4*np.pi/w0\n",
    "\n",
    "solution = solve_ivp(F,[t0,T],[x0,v0],max_step=T/1000)"
   ]
  },
  {
   "cell_type": "code",
   "execution_count": null,
   "metadata": {},
   "outputs": [],
   "source": [
    "plt.plot(solution.t,solution.y[0],label='x(t)')\n",
    "plt.plot(solution.t,solution.y[1],label='v(t)')\n",
    "plt.legend()\n",
    "plt.show()"
   ]
  },
  {
   "cell_type": "code",
   "execution_count": null,
   "metadata": {},
   "outputs": [],
   "source": [
    "from scipy.integrate import odeint\n",
    "\n",
    "# Valeurs schéma numérique\n",
    "N, tau = 2000, 20\n",
    "t = np.linspace(0,tau,N+1)\n",
    "# Valeurs modèle physique\n",
    "theta0, thetaPoint0, w0 = 0.1, 0, 1\n",
    "CI = [theta0, thetaPoint0]\n",
    "\n",
    "# Résolution odeint\n",
    "def F(theta,t) :\n",
    "    return np.array([theta[1], -w0**2*np.sin(theta[0])])\n",
    "y = odeint(F,CI,t)\n",
    "\n",
    "plt.plot(t, y[:,0], label=\"odeint\")\n",
    "plt.legend()\n",
    "plt.show()"
   ]
  },
  {
   "cell_type": "markdown",
   "metadata": {},
   "source": [
    "<div style=\"border-bottom:solid,1px;\"><b>Systèmes différentiels</b></div><br>\n",
    "Sur le même principe, on peut résoudre des systèmes d'équations différentielles couplées. A venir..."
   ]
  },
  {
   "cell_type": "markdown",
   "metadata": {},
   "source": [
    "<hr>\n",
    "<div style=\"color:Sienna;font-family:serif;border:solid,2px;padding:2%;\">\n",
    "    <div style=\"font-size:larger;text-align:center;\">Réponses</div><br>\n",
    "    <div style=\"color:Sienna;font-family:serif;\">Les exercices sont conçus pour être traités dans l'ordre. En conséquence, la réponse à l'exercice n+1 ne reprend pas les commandes identiques à celles de l'exercice n (seules les modifications sont fournies). Ne pas hésiter à rajouter ces commandes en cas de dysfonctionnement (probablement dû à des modifications dans les instructions précédentes).</div>\n",
    "</div>\n",
    "<hr>"
   ]
  },
  {
   "cell_type": "code",
   "execution_count": null,
   "metadata": {},
   "outputs": [],
   "source": []
  }
 ],
 "metadata": {
  "kernelspec": {
   "display_name": "Python 3",
   "language": "python",
   "name": "python3"
  },
  "language_info": {
   "codemirror_mode": {
    "name": "ipython",
    "version": 3
   },
   "file_extension": ".py",
   "mimetype": "text/x-python",
   "name": "python",
   "nbconvert_exporter": "python",
   "pygments_lexer": "ipython3",
   "version": "3.7.1"
  }
 },
 "nbformat": 4,
 "nbformat_minor": 2
}
