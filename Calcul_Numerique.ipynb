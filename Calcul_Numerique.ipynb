{
 "cells": [
  {
   "cell_type": "markdown",
   "metadata": {},
   "source": [
    "<h1><div style=\"color:Sienna;font-family:serif;font-size:larger;text-align:center;border:solid,2px;padding:2%;\">Calcul numérique<br>Scipy - Numpy</div></h1>\n",
    "<div style=\"color:blue;font-family:serif;padding-left:100px\">\n",
    "    <a href=\"#EqAlg\">Equations algébriques</a><br>\n",
    "    <a href=\"#Intg\">Intégration</a><br>\n",
    "    <a href=\"#EqDiff\">Equations différentielles</a><br>\n",
    "    <a href=\"#fft\">Analyse de Fourier</a><br>\n",
    "</div>"
   ]
  },
  {
   "cell_type": "markdown",
   "metadata": {},
   "source": [
    "<h2><div id=\"EqAlg\" style=\"color:blue;font-family:serif;border:solid,1px;padding:1%;\">Résolution d'équations algébriques</div></h2>"
   ]
  },
  {
   "cell_type": "markdown",
   "metadata": {},
   "source": [
    "<div style=\"border:solid,1px;padding:1%;\"><b>Une équation à une inconnue <i>x</i> peut se mettre sous la forme <i>f</i>(<i>x</i>) = 0</b> où <i>f</i> est une fonction connue. Bibliothèque : <b>scipy.optimize</b><br>\n",
    "\n",
    "Voir la documentation pour les détails mais attention à la <b>version de scipy</b> utilisée, la syntaxe dépend de la version, il faut consulter la documentation adpatée à la version utilisée Module : <a href=\"https://docs.scipy.org/doc/\" target=\"_blank\">documentation(s) scipy</a>.<br>\n",
    "\n",
    "<b>En conséquence, <span style=\"color:red;\">l'une des deux versions ci-dessous devrait fonctionner</span> : tester les deux</b>.</div>"
   ]
  },
  {
   "cell_type": "markdown",
   "metadata": {},
   "source": [
    "<div style=\"border-bottom:solid,1px;\"><b>Scipy version 1.2.1</b></div>\n",
    "Syntaxe : <a href=\"https://docs.scipy.org/doc/scipy-1.2.1/reference/generated/scipy.optimize.root_scalar.html\" target=\"_blank\">root_scalar</a> (conseil : consulter les exemples en bas de page après les informations concernant la syntaxe)."
   ]
  },
  {
   "cell_type": "code",
   "execution_count": null,
   "metadata": {},
   "outputs": [],
   "source": [
    "from scipy import optimize"
   ]
  },
  {
   "cell_type": "code",
   "execution_count": null,
   "metadata": {},
   "outputs": [],
   "source": [
    "def f(x):\n",
    "    return (x-1)*(x+5)"
   ]
  },
  {
   "cell_type": "markdown",
   "metadata": {},
   "source": [
    "<b>Méthode 1</b> : on connaît un intervalle &#91;x1, x2&#93; tel que f(x1)f(x2) &lt; 0 (i.e. la fonction s'annule sur cet intervalle)."
   ]
  },
  {
   "cell_type": "code",
   "execution_count": null,
   "metadata": {},
   "outputs": [],
   "source": [
    "optimize.root_scalar(f,bracket=[-10,0])"
   ]
  },
  {
   "cell_type": "markdown",
   "metadata": {},
   "source": [
    "&#128432; <b>Chercher l'autre zéro de la fonction</b>"
   ]
  },
  {
   "cell_type": "code",
   "execution_count": null,
   "metadata": {},
   "outputs": [],
   "source": []
  },
  {
   "cell_type": "markdown",
   "metadata": {},
   "source": [
    "<b>Méthode 2</b> : on connaît la dérivée de la fonction f et on se donne un point de départ (méthode de Newton)."
   ]
  },
  {
   "cell_type": "code",
   "execution_count": null,
   "metadata": {},
   "outputs": [],
   "source": [
    "def fp(x):\n",
    "    return 2*x+4"
   ]
  },
  {
   "cell_type": "code",
   "execution_count": null,
   "metadata": {},
   "outputs": [],
   "source": [
    "optimize.root_scalar(f,fprime=fp,x0=10)"
   ]
  },
  {
   "cell_type": "markdown",
   "metadata": {},
   "source": [
    "&#128432; <b>Chercher l'autre zéro de la fonction</b>"
   ]
  },
  {
   "cell_type": "code",
   "execution_count": null,
   "metadata": {},
   "outputs": [],
   "source": []
  },
  {
   "cell_type": "markdown",
   "metadata": {},
   "source": [
    "<div style=\"border-bottom:solid,1px;\"><b>Scipy version 1.1</b></div>\n",
    "Méthode 1 : <a href=\"https://docs.scipy.org/doc/scipy-1.1.0/reference/generated/scipy.optimize.newton.html#scipy.optimize.newton\" target=\"_blank\">newton</a> (conseil : consulter les exemples en bas de page après les informations concernant la syntaxe)."
   ]
  },
  {
   "cell_type": "code",
   "execution_count": null,
   "metadata": {},
   "outputs": [],
   "source": [
    "from scipy import optimize"
   ]
  },
  {
   "cell_type": "code",
   "execution_count": null,
   "metadata": {},
   "outputs": [],
   "source": [
    "def f(x):\n",
    "    return (x-1)*(x+5)"
   ]
  },
  {
   "cell_type": "code",
   "execution_count": null,
   "metadata": {},
   "outputs": [],
   "source": [
    "optimize.newton(f,10)"
   ]
  },
  {
   "cell_type": "markdown",
   "metadata": {},
   "source": [
    "&#128432; <b>Chercher l'autre zéro de la fonction</b>"
   ]
  },
  {
   "cell_type": "code",
   "execution_count": null,
   "metadata": {},
   "outputs": [],
   "source": []
  },
  {
   "cell_type": "markdown",
   "metadata": {},
   "source": [
    "Méthode 2 : <a href=\"https://docs.scipy.org/doc/scipy-1.1.0/reference/generated/scipy.optimize.fsolve.html#scipy.optimize.fsolve\" target=\"_blank\">fsolve</a>"
   ]
  },
  {
   "cell_type": "code",
   "execution_count": null,
   "metadata": {},
   "outputs": [],
   "source": [
    "optimize.fsolve(f,-6)"
   ]
  },
  {
   "cell_type": "markdown",
   "metadata": {},
   "source": [
    "Il est bien entendu possible de résoudre des <b>systèmes d'équations</b> (cf. scipy optimize root)."
   ]
  },
  {
   "cell_type": "markdown",
   "metadata": {},
   "source": [
    "<h2><div id=\"Intg\" style=\"color:blue;font-family:serif;border:solid,1px;padding:1%;\">Intégration</div></h2>"
   ]
  },
  {
   "cell_type": "markdown",
   "metadata": {},
   "source": [
    "<div style=\"border:solid,1px;padding:1%;\">Il s'agit ici de calculer $\\int_a^bf(x)dx$ où <i>f</i> est une fonction connue. Bibliothèque : <b>scipy.integrate</b>. Voir : <a href=\"https://docs.scipy.org/doc/scipy/reference/tutorial/integrate.html\" target=\"_blank\">quad</a><br>\n",
    "    \n",
    "<b>Syntaxe</b> : <code>quad(f,a,b)</code></div>"
   ]
  },
  {
   "cell_type": "code",
   "execution_count": null,
   "metadata": {},
   "outputs": [],
   "source": [
    "from scipy.integrate import quad"
   ]
  },
  {
   "cell_type": "code",
   "execution_count": null,
   "metadata": {},
   "outputs": [],
   "source": [
    "def f(x):\n",
    "    return x**2"
   ]
  },
  {
   "cell_type": "code",
   "execution_count": null,
   "metadata": {},
   "outputs": [],
   "source": [
    "quad(f,0,1) # La fonction retourne la valeur de l'intégrale et une estimation de l'erreur commise"
   ]
  },
  {
   "cell_type": "markdown",
   "metadata": {},
   "source": [
    "Il est possible de calculer $\\int_{-\\infty}^{\\infty}f(x)dx$ en utilisant -np.inf et np.inf (après avoir chargé le module numpy)."
   ]
  },
  {
   "cell_type": "markdown",
   "metadata": {},
   "source": [
    "&#128432; Calculer $\\int_{0}^{\\infty}e^{(-x)}dx$ (importer numpy par import numpy as np)"
   ]
  },
  {
   "cell_type": "code",
   "execution_count": null,
   "metadata": {},
   "outputs": [],
   "source": []
  },
  {
   "cell_type": "code",
   "execution_count": null,
   "metadata": {},
   "outputs": [],
   "source": []
  },
  {
   "cell_type": "markdown",
   "metadata": {},
   "source": [
    "<h2><div id=\"EqDiff\" style=\"color:blue;font-family:serif;border:solid,1px;padding:1%;\">Résolution d'équations différentielles (ODE = Ordinary Differential Equation)</div></h2>"
   ]
  },
  {
   "cell_type": "markdown",
   "metadata": {},
   "source": [
    "<div style=\"border:solid,1px;padding:1%;\">Bibliothèque : <b>scipy.integrate</b>. Voir : <a href=\"https://docs.scipy.org/doc/scipy/reference/generated/scipy.integrate.solve_ivp.html\" target=\"_blank\">solve_ivp</a> (ivp = Initial Value Problem) ou <a href=\"https://docs.scipy.org/doc/scipy/reference/generated/scipy.integrate.odeint.html\" target=\"_blank\">odeint</a>.</div>"
   ]
  },
  {
   "cell_type": "code",
   "execution_count": null,
   "metadata": {},
   "outputs": [],
   "source": [
    "from scipy.integrate import solve_ivp"
   ]
  },
  {
   "cell_type": "markdown",
   "metadata": {},
   "source": [
    "<div style=\"border-bottom:solid,1px;\"><b>Equation différentielle d'ordre 1</b></div><br>\n",
    "On recherche la fonction <i>y</i>(<i>t</i>) telle que \n",
    "$\\left\\lbrace\n",
    "\\begin{array}{}\n",
    "\\dot y(t) = f\\left(t,y(t)\\right)\\\\\n",
    "y(t_0) = y_0\\\\\n",
    "\\end{array}\n",
    "\\right.$ &nbsp; &nbsp; $\\forall t \\in [t_0,T]$<br>\n",
    "La 1<sup>ère</sup> équation, $\\dot y(t) = f\\left(t,y(t)\\right)$, exprime que la dérivée est une fonction connue de <i>t</i> et <i>y</i>.<br>\n",
    "La 2<sup>nde</sup> équation est une condition initiale.<br>\n",
    "\n",
    "<b>Syntaxe</b> : <code>solution = solve_ivp(f,[t0,T],&#91;y0&#93;,max_step= )</code> où max_step est le pas de discrétisation en temps (donner une valeur).<br> On accède aux instants calculés par <code>solution.t</code> et aux valeurs de la fonction par <code>solution.y[0]</code>"
   ]
  },
  {
   "cell_type": "markdown",
   "metadata": {},
   "source": [
    "&#128432; <b>Exemple : décharge d'un condensateur</b><div id=\"Ex\"></div><br>\n",
    "On souhaite résoudre l’équation différentielle $\\displaystyle\\frac{du}{dt} + \\frac{1}{\\tau }u = 0$  de la décharge d’un condensateur de capacité C à travers un résistor de résistance R sachant que la tension aux bornes du condensateur à t = t0 = 0 est u0 = 10 V et que $\\tau$ = 1 ms.<br>\n",
    "La durée totale de la simulation est notée T = 5 $\\tau$."
   ]
  },
  {
   "cell_type": "code",
   "execution_count": null,
   "metadata": {},
   "outputs": [],
   "source": [
    "def f(t,u):\n",
    "    global tau\n",
    "    return -u/tau\n",
    "\n",
    "t0 = 0\n",
    "u0 = 10\n",
    "tau = 1e-3\n",
    "T = 10*tau\n",
    "\n",
    "solution = solve_ivp(f,[t0,T],[u0],max_step=T/100)"
   ]
  },
  {
   "cell_type": "code",
   "execution_count": null,
   "metadata": {},
   "outputs": [],
   "source": [
    "import matplotlib.pyplot as plt\n",
    "\n",
    "plt.plot(solution.t,solution.y[0])\n",
    "plt.show()"
   ]
  },
  {
   "cell_type": "markdown",
   "metadata": {},
   "source": [
    "&#128432; Exercices : cf. exercices du notebook \"Euler1\""
   ]
  },
  {
   "cell_type": "code",
   "execution_count": null,
   "metadata": {},
   "outputs": [],
   "source": []
  },
  {
   "cell_type": "markdown",
   "metadata": {},
   "source": [
    "<div style=\"border-bottom:solid,1px;\"><b>Equation différentielle d'ordre 2</b></div><br>\n",
    "Une équation différentielle d'ordre 2 peut s'écrire sous la forme d'un système de deux équations d'ordre 1 : \n",
    "$\\left\\lbrace\n",
    "\\begin{array}{}\n",
    "v(t) =\\dot x(t)\\\\\n",
    "\\dot v(t) = f\\left(t, x(t),v(t)\\right)\\\\\n",
    "\\end{array}\n",
    "\\right.$.<br>\n",
    "Ce système d'équations peut s'écrire à l'aide d'une fonction F travaillant avec des vecteurs (tableaux numpy) : <br>\n",
    "$$F : \\left[\n",
    "\\begin{array}{}\n",
    "x\\\\\n",
    "v\\\\\n",
    "\\end{array}\n",
    "\\right] \\rightarrow\n",
    "\\left[\n",
    "\\begin{array}{}\n",
    "v = \\dot x\\\\\n",
    "\\dot v = f\\left(x(t),v(t)\\right)\\\\\n",
    "\\end{array}\n",
    "\\right]$$.<br>\n",
    "La fonction F est une fonction du temps et de la <b>variable &#91;x, v&#93;</b>.<br>\n",
    "Elle renvoie le vecteur &#91;v(t), $\\dot v(t)$&#93; c'est à dire le vecteur &#91;$\\dot x(t)$, $f\\left(t, x(t),v(t)\\right)$&#93; .<br>\n",
    "Cette fonction F se code de la façon suivante :\n",
    "<code>\n",
    "    def F(t, tableau): # tableau est de la forme [x, v] et donc tableau[0] représente x et tableau[1] représente v\n",
    "        return np.array([tableau[1], <i>f(tableau[0],tableau[1])</i>])\n",
    "</code><br><br>\n",
    "<b>Syntaxe</b> : <code>solution = solve_ivp(F,(t0,T),&#91;x0,v0&#93;,max_step= )</code> ).<br>\n",
    "On accède aux instants calculés par <code>solution.t</code> et aux valeurs de la fonction par <code>solution.y[0]</code>.<br>\n",
    "Rq = la vitesse est accessible par <code>solution.y[1]</code>."
   ]
  },
  {
   "cell_type": "code",
   "execution_count": null,
   "metadata": {},
   "outputs": [],
   "source": [
    "import numpy as np\n",
    "\n",
    "def F(t,tab) :\n",
    "    return np.array([tab[1], -w0**2*np.sin(tab[0])])\n",
    "\n",
    "x0, v0, w0 = 0.1, 0, 1\n",
    "T = 4*np.pi/w0\n",
    "\n",
    "solution = solve_ivp(F,[t0,T],[x0,v0],max_step=T/1000)"
   ]
  },
  {
   "cell_type": "code",
   "execution_count": null,
   "metadata": {},
   "outputs": [],
   "source": [
    "plt.plot(solution.t,solution.y[0],label='x(t)')\n",
    "plt.plot(solution.t,solution.y[1],label='v(t)')\n",
    "plt.legend()\n",
    "plt.show()"
   ]
  },
  {
   "cell_type": "markdown",
   "metadata": {},
   "source": [
    "&#128432; Écrire un programme permettant de résoudre les équations de la forme $\\ddot x + \\displaystyle\\frac{{{\\omega _0}}}{Q}\\dot x + \\omega _0^2x = 0$"
   ]
  },
  {
   "cell_type": "code",
   "execution_count": null,
   "metadata": {},
   "outputs": [],
   "source": []
  },
  {
   "cell_type": "markdown",
   "metadata": {},
   "source": [
    "<div style=\"border-bottom:solid,1px;\"><b>Systèmes différentiels</b></div><br>\n",
    "Lotka et Volterra ont proposé dans les années 1920 un modèle simple pour décrire les relations entre proies et prédateurs.<br>\n",
    "On note x(t) le nombre de proies et y(t) le nombre de prédateurs. <br>\n",
    "Lorsque les deux populations sont présentes sur le même territoire, le modèle suivant (a, b, c, d  réels positifs) est  proposé pour décrire leur évolution conjointe :<br>\n",
    "$$\\left\\lbrace\n",
    "\\begin{array}{}\n",
    "\\dot x(t) =  a x(t)-b x(t) y(t)\\\\\n",
    "\\dot y(t) = -c y(t)+d x(t) y(t)\\\\\n",
    "\\end{array}\n",
    "\\right.$$<br>\n",
    "Avec les conditions initiales $x(t_0)=x_0$ et $y(t_0)=y_0$.<br><br>\n",
    "Comme pour les équations d'ordre 2, ce système d'équations peut s'écrire à l'aide d'une fonction F travaillant avec des vecteurs (tableaux numpy) : <br>\n",
    "$$F : \\left[\n",
    "\\begin{array}{}\n",
    "x\\\\\n",
    "y\\\\\n",
    "\\end{array}\n",
    "\\right] \\rightarrow\n",
    "\\left[\n",
    "\\begin{array}{}\n",
    "\\dot x\\\\\n",
    "\\dot y\\\\\n",
    "\\end{array}\n",
    "\\right]$$.<br>"
   ]
  },
  {
   "cell_type": "markdown",
   "metadata": {},
   "source": [
    "&#128432; Résoudre le système avec les valeurs suivantes et tracer les graphes des poupulations de proies et de prédateurs sur une période de durée <span style=\"font-family:serif;\">&tau;</span>.<br>\n",
    "a = 0,6 ; b = 0,8 ; c = 0,6 ; d = 0,3 ; x0 = 5 et y0 = 1 à t0 = 0 pour une étude sur <span style=\"font-family:serif;\">&tau;</span> = 50 ans et N = 5000 points."
   ]
  },
  {
   "cell_type": "code",
   "execution_count": null,
   "metadata": {},
   "outputs": [],
   "source": [
    "# Définition de la fonction F\n",
    "def F(t,tab):   # tab est de la forme [x,y] donc tab[0] correspond à x et tab[1] correspond à y\n",
    "    return np.array([tab[0]*(a-b*tab[1]), tab[1]*(-c+d*tab[0])])\n",
    "\n",
    "a, b, c, d = 0.6, 0.8, 0.6, 0.3\n",
    "x0, y0 = 5, 1\n",
    "t0, tau = 0, 50\n",
    "N = 5000\n",
    "\n",
    "solution = solve_ivp(F,[t0,tau],[x0,y0],max_step=tau/N)"
   ]
  },
  {
   "cell_type": "code",
   "execution_count": null,
   "metadata": {},
   "outputs": [],
   "source": [
    "plt.plot(solution.t,solution.y[0],label='Proies')\n",
    "plt.plot(solution.t,solution.y[1],label='Prédateurs')\n",
    "plt.legend()\n",
    "plt.show()"
   ]
  },
  {
   "cell_type": "markdown",
   "metadata": {},
   "source": [
    "<h2><div id=\"fft\" style=\"color:blue;font-family:serif;border:solid,1px;padding:1%;\">Analyse de Fourier (fft = Fast Fourier Transform)</div></h2>"
   ]
  },
  {
   "cell_type": "markdown",
   "metadata": {},
   "source": [
    "Aspects théoriques : <a href=\"http://www.f-legrand.fr/scidoc/docimg/numerique/tfd/periodique2/periodique2.html\" target=\"_blank\">Site de F. Legrand</a><br>\n",
    "\n",
    "On simule un signal périodique par une somme de sinusoïdes de fréquences multiples de fo."
   ]
  },
  {
   "cell_type": "code",
   "execution_count": null,
   "metadata": {},
   "outputs": [],
   "source": [
    "import numpy as np\n",
    "import matplotlib.pyplot as plt\n",
    "\n",
    "# signal périodique u(t) de fréquence fondamentale f0 = 1 kHz de valeur moyenne non nulle\n",
    "f0 = 1.0e3\n",
    "T0 = 1/f0\n",
    "def u(t):\n",
    "    return 2+1*np.sin(2*np.pi*f0*t)+1/3*np.sin(2*np.pi*3*f0*t)+1/5*np.sin(2*np.pi*5*f0*t)\n",
    "\n",
    "# Echantillonnage\n",
    "fe = 50*f0               # Critère de Shannon fe > 2*fmax (ici fmax = 5*f0)\n",
    "Te = 1/fe\n",
    "\n",
    "# Discrétisation du temps\n",
    "t = np.arange(0,T0,Te)   # Tableau numpy\n",
    "\n",
    "# Discrétisation du signal (uech = u échantillonné)\n",
    "uech = u(t)\n",
    "\n",
    "# Tracé du signal échantillonné en fonction du temps\n",
    "plt.plot(t,uech,'r.')    # r. = red et .\n",
    "plt.xlabel('t')\n",
    "plt.ylabel('u(t)')\n",
    "plt.show()"
   ]
  },
  {
   "cell_type": "markdown",
   "metadata": {},
   "source": [
    "On cherche les fréquences présentes et les amplitudes correspondantes (à l'aide du module fft de numpy).<br>\n",
    "Enfin, on trace le spectre."
   ]
  },
  {
   "cell_type": "code",
   "execution_count": null,
   "metadata": {},
   "outputs": [],
   "source": [
    "from numpy.fft import fft\n",
    "\n",
    "# Nombre d'échantillons\n",
    "N = t.size                          # Taille du tableau t\n",
    "\n",
    "# Fréquences ou harmoniques pour N points échantillonnés sur une période T : fk = k/T  avec  0<= k < N\n",
    "f = np.zeros(N)\n",
    "for k in range(N): \n",
    "    f[k] = k/T\n",
    "\n",
    "# FFT \n",
    "coeff = fft(uech)/N                 # Renvoie une approximation des coefficients de Fourier\n",
    "\n",
    "# Tracé du spectre\n",
    "spectre = np.abs(coeff)             # Calcul du module des coefficients\n",
    "plt.plot(f,spectre,'b+')            # Croix bleues = amplitude de l'harmonique sur le graphe\n",
    "plt.vlines(f,[0],spectre,'r')       # Lignes verticales du point de coordonnées [f,0] au point [f,|coef|]\n",
    "plt.xlabel('fréquences')\n",
    "plt.ylabel('Amplitudes')\n",
    "plt.grid()                          # Grille\n",
    "plt.show()"
   ]
  },
  {
   "cell_type": "markdown",
   "metadata": {},
   "source": [
    "<hr>\n",
    "<div style=\"color:Sienna;font-family:serif;border:solid,2px;padding:2%;\">\n",
    "    <div style=\"font-size:larger;text-align:center;\">Réponses</div><br>\n",
    "    <div style=\"color:Sienna;font-family:serif;\">Les exercices sont conçus pour être traités dans l'ordre. En conséquence, la réponse à l'exercice n+1 ne reprend pas les commandes identiques à celles de l'exercice n (seules les modifications sont fournies). Ne pas hésiter à rajouter ces commandes en cas de dysfonctionnement (probablement dû à des modifications dans les instructions précédentes).</div>\n",
    "</div>\n",
    "<hr>"
   ]
  },
  {
   "cell_type": "code",
   "execution_count": null,
   "metadata": {},
   "outputs": [],
   "source": []
  }
 ],
 "metadata": {
  "kernelspec": {
   "display_name": "Python 3",
   "language": "python",
   "name": "python3"
  },
  "language_info": {
   "codemirror_mode": {
    "name": "ipython",
    "version": 3
   },
   "file_extension": ".py",
   "mimetype": "text/x-python",
   "name": "python",
   "nbconvert_exporter": "python",
   "pygments_lexer": "ipython3",
   "version": "3.7.1"
  }
 },
 "nbformat": 4,
 "nbformat_minor": 2
}
