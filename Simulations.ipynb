{
 "cells": [
  {
   "cell_type": "markdown",
   "metadata": {},
   "source": [
    "<h1><div style=\"color:Sienna;font-family:serif;font-size:larger;text-align:center;border:solid,2px;padding:2%;\">Simulations - Applets</div></h1>\n",
    "<div style=\"color:Sienna;font-family:serif;text-align:center;\"><b>Prérequis : <a href=\"Decouvrir_code.ipynb\">Python Hack</a> ou <a href=\"numpy_matplotlib.ipynb\">numpy et matplotlib</a></b></div>\n",
    "<div style=\"color:blue;font-family:serif;padding-left:100px\">\n",
    "    <a href=\"#T1\">Applet interactive</a><br>\n",
    "    <a href=\"#T2\">Animation 2D</a><br>\n",
    "    <a href=\"#T3\">Graphe 3D et animation 3D avec iyvolume</a><br>\n",
    "    <a href=\"#T4\">Graphe 3D avec mplot3d</a><br>\n",
    "</div>"
   ]
  },
  {
   "cell_type": "markdown",
   "metadata": {},
   "source": [
    "# <div id=\"T1\" style=\"color:blue;font-family:serif;border:solid,1px;padding:1%;\">Applet interactive (notebook)</div>"
   ]
  },
  {
   "cell_type": "markdown",
   "metadata": {},
   "source": [
    "<div style=\"border:solid,1px;padding:1%;\">\n",
    "    Documentation <a href=\"https://ipywidgets.readthedocs.io/en/latest/examples/Widget%20Basics.html\" target=\"_blank\">Jupyter Widgets</a><br>\n",
    "\n",
    "Il s'agit ici de tracer un graphe dépendant de paramètres qu'on souhaite pouvoir faire varier à l'aide de curseurs.<br>\n",
    "</div><br>\n",
    "<div>\n",
    "<b>Exemple</b> : illustration de l'influence des différents paramètres <i>A</i>, <i>f</i>, $\\varphi$ et <i>m</i> de la fonction sinusoïdale $A\\cos(2\\pi f t + \\varphi) + m$</div>"
   ]
  },
  {
   "cell_type": "markdown",
   "metadata": {},
   "source": [
    "<div style=\"border-bottom:solid,1px;\"><b>Etape 1</b> - Définition du graphe à animer<br></div><br>\n",
    "La ligne <b>%matplotlib inline</b> n'est utile que pour un notebook (inutile dans un IDE comme Pyzo ou Spyder par exemple)."
   ]
  },
  {
   "cell_type": "code",
   "execution_count": null,
   "metadata": {},
   "outputs": [],
   "source": [
    "%matplotlib inline\n",
    "import matplotlib.pyplot as plt\n",
    "import numpy as np\n",
    "\n",
    "def sinusoide(A,f,phi,m):           # Cette fonction crée un graphe\n",
    "    t = np.linspace(-1, 1, 1000)                  # Abscisses\n",
    "    plt.plot(t, A*np.cos(2*np.pi*f*t+phi)+m,'r')  # Sinusoïde à animer (cf. étape 2)\n",
    "    plt.plot(t, np.cos(2*np.pi*1.55*t),'b')       # Sinusoïde de référence\n",
    "    plt.ylim(-5, 5)                               # Bornes des ordonnées (empêche la mise à l'échelle en cours de tracé)\n",
    "    plt.grid()                                    # Quadrillage de fond\n",
    "    plt.show()"
   ]
  },
  {
   "cell_type": "code",
   "execution_count": null,
   "metadata": {},
   "outputs": [],
   "source": [
    "# Pour vérification :\n",
    "sinusoide(2,5,0.8,1)"
   ]
  },
  {
   "cell_type": "markdown",
   "metadata": {},
   "source": [
    "<div style=\"border-bottom:solid,1px;\"><b>Etape 2</b> - Animation du graphe<br></div>\n",
    "\n",
    "Syntaxe : <br>\n",
    "1/ importer la fonction \"interactive\" du module ipywidgets ;<br>\n",
    "2/ appeler cette fonction dont les paramètres sont la fonction à tracer et chacun des paramètres à animer (en indiquant les bornes et le pas de variation) comme ci-dessous."
   ]
  },
  {
   "cell_type": "code",
   "execution_count": null,
   "metadata": {},
   "outputs": [],
   "source": [
    "from ipywidgets import interactive\n",
    "\n",
    "interactive(sinusoide, A=(-2.0, 2.0), f=(0.1, 3), phi=(-np.pi,np.pi), m=(-2,2)) # param=(debut,fin,pas)"
   ]
  },
  {
   "cell_type": "code",
   "execution_count": null,
   "metadata": {},
   "outputs": [],
   "source": []
  },
  {
   "cell_type": "markdown",
   "metadata": {},
   "source": [
    "# <div id=\"T2\" style=\"color:blue;font-family:serif;border:solid,1px;padding:1%;\">Animations 2D</div>"
   ]
  },
  {
   "cell_type": "markdown",
   "metadata": {},
   "source": [
    "<div style=\"border:solid,1px;padding:1%;\">\n",
    "    Documentation <a href=\"https://matplotlib.org/api/animation_api.html\" target=\"_blank\">Animation</a><br>\n",
    "</div><br>\n",
    "<div><b>Exemple</b> : propagation d'un paquet d'onde Gaussien dans un milieu peu dispersif</div>"
   ]
  },
  {
   "cell_type": "markdown",
   "metadata": {},
   "source": [
    "<div style=\"border-bottom:solid,1px;\"><b>Etape 1</b> - Définition du graphe à animer</div><br>\n",
    "La ligne <b>%matplotlib inline</b> n'est utile que pour un notebook (inutile dans un IDE comme Pyzo ou Spyder par exemple)."
   ]
  },
  {
   "cell_type": "code",
   "execution_count": null,
   "metadata": {},
   "outputs": [],
   "source": [
    "%matplotlib inline\n",
    "import matplotlib.pyplot as plt\n",
    "import numpy as np\n",
    "\n",
    "def amplitude(x,t):\n",
    "    return 100*np.exp(-np.power(sigma*(vg*t-x),2))\n",
    "\n",
    "def paquet(x,t):\n",
    "    return amplitude(x,t)*np.cos(k0*(x-vp*t));\n",
    "\n",
    "vg = 20                               # Vitesse de groupe (de l'enveloppe)\n",
    "vp = 0.2*vg                           # Vitesse de phase (de la sinusoïde moyenne)\n",
    "tmin, tmax, dt = 5, 15, 0.1           # Bornes et pas temporels\n",
    "xmin, xmax, dx = -50, 300, 0.01       # Bornes et pas spatiaux\n",
    "k0, sigma = 0.2, 0.02                 # Vecteur d'onde moyen et largeur du paquet\n",
    "\n",
    "x = np.arange(xmin,xmax,dx)           # Absisses \n",
    "\n",
    "# Code facultatif (vérification du tracé)\n",
    "plt.plot(x,paquet(x,tmin))\n",
    "plt.show()"
   ]
  },
  {
   "cell_type": "markdown",
   "metadata": {},
   "source": [
    "<div style=\"border-bottom:solid,1px;\"><b>Etape 2</b> - Animation<br></div><br>\n",
    "Augmenter prudemment le paramètre <b>frame</b> (environ 10 s de calcul sur un PC rapide avec frame=100)...<br>"
   ]
  },
  {
   "cell_type": "code",
   "execution_count": null,
   "metadata": {},
   "outputs": [],
   "source": [
    "import matplotlib.animation as animation\n",
    "\n",
    "fig = plt.figure()         # Initialise le graphe\n",
    "line, = plt.plot([],[])    # Initialise une courbe vide\n",
    "plt.xlim(xmin, xmax)       # Limites des abscisses du graphe\n",
    "plt.ylim(-110,110)         # Limites des ordonnées du graphe\n",
    "\n",
    "# La fonction suivante renvoie une courbe (variable line)\n",
    "# Paramètre i = n° de frame (tracé n°i) \n",
    "# i variera automatiquement (\"animation.FuncAnimation\" plus bas)\n",
    "def animate(i):            \n",
    "    t = i * dt             # Calcul de l'instant du tracé\n",
    "    y = paquet(x,t)        # Calcul des ordonnées de la fonction à tracer\n",
    "    line.set_data(x, y)    # Stockage dans la courbe (variable line)\n",
    "    return line,           # La virgule est indispensable\n",
    "\n",
    "# Appel de la fonction \"animation.FuncAnimation\"\n",
    "ani = animation.FuncAnimation(fig, animate, frames=20, interval=20, repeat=False) #100\n",
    "\n",
    "# Les deux lignes suivantes sont inutiles avec un IDE comme Pyzo ou Spyder\n",
    "from IPython.display import HTML\n",
    "HTML(ani.to_jshtml())"
   ]
  },
  {
   "cell_type": "markdown",
   "metadata": {},
   "source": [
    "# <div id=\"T3\" style=\"color:blue;font-family:serif;border:solid,1px;padding:1%;\">Graphe 3D et animation 3D avec ipyvolume</div>"
   ]
  },
  {
   "cell_type": "markdown",
   "metadata": {},
   "source": [
    "<div style=\"border:solid,1px;padding:1%;\">\n",
    "    Documentation : <br> \n",
    "<a href=\"https://matplotlib.org/mpl_toolkits/mplot3d/tutorial.html\" target=\"_blank\">mplot3d tutorials</a> (fonctionne avec un IDE comme Pyzo ou Spyder mais ne fonctionne pas dans un notebook)<br>\n",
    "<a href=\"https://ipyvolume.readthedocs.io/en/latest/index.html\" target=\"_blank\">ipyvolume</a> (fonctionne dans un notebook).<br>\n",
    "\n",
    "Le code ci-dessous est issu du site ipyvolume (graphe animé et orientable grâce à la souris).\n",
    "</div>"
   ]
  },
  {
   "cell_type": "markdown",
   "metadata": {},
   "source": [
    "<div style=\"border-bottom:solid,1px;\"><b>Préambule</b><br></div><br>\n",
    "Une représentation en 3D consiste à tracer $z = f(x,y)$ pour toute valeur de $x$ et de $y$.<br>\n",
    "Ceci impose de construire un maillage du plan $(xOy)$.<br>\n",
    "\n",
    "Le code ci-dessous permet d'illustrer le principe de ce maillage."
   ]
  },
  {
   "cell_type": "code",
   "execution_count": null,
   "metadata": {},
   "outputs": [],
   "source": [
    "# Liste u (de 5 valeurs) utilisée pour construire les abscisses\n",
    "u = np.linspace(-2, 2, 5)\n",
    "# Liste v (de 8 valeurs) utilisée pour construire les ordonnées\n",
    "v = np.linspace(-4, 4, 8)\n",
    "# Crée un maillage 2D (meshgrid) à partir de u et v\n",
    "x, y = np.meshgrid(u, v)\n",
    "print(x)\n",
    "print()\n",
    "print(y)"
   ]
  },
  {
   "cell_type": "markdown",
   "metadata": {},
   "source": [
    "x et y sont donc des tableaux à deux dimensions (5 colonnes, 8 lignes).<br>\n",
    "Chaque élément (ligne) de x est une liste u.<br>\n",
    "Chaque colonne de y est une liste v.<br>\n",
    "Le maillage obtenu est le suivant :<br>\n",
    "<img src=\"media/maillage_xy.png\" alt=\"Image Numpy\" />"
   ]
  },
  {
   "cell_type": "markdown",
   "metadata": {},
   "source": [
    "<div style=\"border-bottom:solid,1px;\"><b>Etape 1</b> - Graphe 3D<br></div><br>\n",
    "But : représenter en coordonnées cylindriques $(r,\\theta,z)$ la fonction $z(r)=\\cos(r)\\exp(-r/5)$ (indépendante de $\\theta$)."
   ]
  },
  {
   "cell_type": "code",
   "execution_count": null,
   "metadata": {},
   "outputs": [],
   "source": [
    "import ipyvolume as ipv\n",
    "import numpy as np\n",
    "\n",
    "# Création d'un maillage carré du plan (xOy)\n",
    "u = np.linspace(-10, 10, 25)\n",
    "x, y = np.meshgrid(u, u)\n",
    "\n",
    "# Calcul de r en coordonnées polaires dans le plan\n",
    "r = np.sqrt(x**2+y**2)\n",
    "\n",
    "# Transformation de x, y et r en tableaux à 1 dimmension\n",
    "x = x.flatten()\n",
    "y = y.flatten()\n",
    "r = r.flatten()\n",
    "\n",
    "# Fonction f(x,y)\n",
    "z = np.cos(r)*np.exp(-r/5)\n",
    "\n",
    "# Graphe\n",
    "ipv.figure()\n",
    "s = ipv.scatter(x, z, y, marker=\"sphere\")\n",
    "ipv.ylim(-3,3)\n",
    "ipv.show()"
   ]
  },
  {
   "cell_type": "markdown",
   "metadata": {},
   "source": [
    "<div style=\"border-bottom:solid,1px;\"><b>Etape 2</b> - Graphe 3D animé<br></div><br>"
   ]
  },
  {
   "cell_type": "code",
   "execution_count": null,
   "metadata": {},
   "outputs": [],
   "source": [
    "import ipyvolume as ipv\n",
    "import numpy as np\n",
    "\n",
    "u = np.linspace(-10, 10, 25)\n",
    "x, y = np.meshgrid(u, u)\n",
    "r = np.sqrt(x**2+y**2)\n",
    "\n",
    "x = x.flatten()\n",
    "y = y.flatten()\n",
    "r = r.flatten()\n",
    "\n",
    "# create a sequence of 15 time elements\n",
    "time = np.linspace(0, np.pi*2, 15)\n",
    "z = np.array([(np.cos(r + t) * np.exp(-r/5)) for t in time])\n",
    "\n",
    "# draw the scatter plot, and add controls with animate_glyphs\n",
    "ipv.figure()\n",
    "s = ipv.scatter(x, z, y, marker=\"sphere\")\n",
    "ipv.animation_control(s, interval=200)\n",
    "ipv.ylim(-3,3)\n",
    "ipv.show()"
   ]
  },
  {
   "cell_type": "markdown",
   "metadata": {},
   "source": [
    "# <div id=\"T4\" style=\"color:blue;font-family:serif;border:solid,1px;padding:1%;\">Graphe 3D avec mplot3d</div>"
   ]
  },
  {
   "cell_type": "markdown",
   "metadata": {},
   "source": [
    "Les exemples suivants sont issus de la documentation [mplot3d tutorial](https://matplotlib.org/mpl_toolkits/mplot3d/tutorial.html)"
   ]
  },
  {
   "cell_type": "markdown",
   "metadata": {},
   "source": [
    "<div style=\"border-bottom:solid,1px;\"><b>Courbe paramétrique en 3D</b></div>"
   ]
  },
  {
   "cell_type": "code",
   "execution_count": null,
   "metadata": {},
   "outputs": [],
   "source": [
    "%matplotlib notebook\n",
    "from mpl_toolkits.mplot3d import Axes3D\n",
    "import numpy as np\n",
    "import matplotlib.pyplot as plt\n",
    "\n",
    "fig = plt.figure()\n",
    "ax = fig.gca(projection='3d')\n",
    "\n",
    "theta = np.linspace(-4 * np.pi, 4 * np.pi, 100)\n",
    "z = np.linspace(-2, 2, 100)\n",
    "r = z**2 + 1\n",
    "x = r * np.sin(theta)\n",
    "y = r * np.cos(theta)\n",
    "ax.plot(x, y, z)\n",
    "\n",
    "plt.show()"
   ]
  },
  {
   "cell_type": "markdown",
   "metadata": {},
   "source": [
    "<div style=\"border-bottom:solid,1px;\"><b>Surface en 3D (Wireframe ou tracé en fils de fer)</b></div>"
   ]
  },
  {
   "cell_type": "code",
   "execution_count": null,
   "metadata": {},
   "outputs": [],
   "source": [
    "from mpl_toolkits.mplot3d import axes3d\n",
    "import matplotlib.pyplot as plt\n",
    "\n",
    "\n",
    "fig = plt.figure()\n",
    "ax = fig.gca(projection='3d')\n",
    "\n",
    "# Grab some test data.\n",
    "X, Y, Z = axes3d.get_test_data(0.02)\n",
    "\n",
    "# Plot a basic wireframe.\n",
    "ax.plot_wireframe(X, Y, Z, rstride=10, cstride=10)\n",
    "\n",
    "plt.show()"
   ]
  },
  {
   "cell_type": "markdown",
   "metadata": {},
   "source": [
    "<div style=\"border-bottom:solid,1px;\"><b>Surface en 3D avec projections et corbes de niveaux</b></div>"
   ]
  },
  {
   "cell_type": "code",
   "execution_count": null,
   "metadata": {},
   "outputs": [],
   "source": [
    "from mpl_toolkits.mplot3d import axes3d\n",
    "import matplotlib.pyplot as plt\n",
    "from matplotlib import cm\n",
    "\n",
    "fig = plt.figure()\n",
    "ax = fig.gca(projection='3d')\n",
    "X, Y, Z = axes3d.get_test_data(0.02)\n",
    "ax.plot_surface(X, Y, Z, rstride=8, cstride=8, alpha=0.5)\n",
    "cset = ax.contour(X, Y, Z, zdir='z', offset=-100, cmap=cm.coolwarm)\n",
    "cset = ax.contour(X, Y, Z, zdir='x', offset=-40, cmap=cm.coolwarm)\n",
    "cset = ax.contour(X, Y, Z, zdir='y', offset=40, cmap=cm.coolwarm)\n",
    "\n",
    "ax.set_xlabel('X')\n",
    "ax.set_xlim(-40, 40)\n",
    "ax.set_ylabel('Y')\n",
    "ax.set_ylim(-40, 40)\n",
    "ax.set_zlabel('Z')\n",
    "ax.set_zlim(-100, 100)\n",
    "\n",
    "plt.show()"
   ]
  },
  {
   "cell_type": "code",
   "execution_count": null,
   "metadata": {},
   "outputs": [],
   "source": []
  }
 ],
 "metadata": {
  "kernelspec": {
   "display_name": "Python 3",
   "language": "python",
   "name": "python3"
  },
  "language_info": {
   "codemirror_mode": {
    "name": "ipython",
    "version": 3
   },
   "file_extension": ".py",
   "mimetype": "text/x-python",
   "name": "python",
   "nbconvert_exporter": "python",
   "pygments_lexer": "ipython3",
   "version": "3.7.1"
  }
 },
 "nbformat": 4,
 "nbformat_minor": 2
}
