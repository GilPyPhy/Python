{
 "cells": [
  {
   "cell_type": "markdown",
   "metadata": {},
   "source": [
    "<h1><div style=\"color:Sienna;font-family:serif;font-size:larger;text-align:center;border:solid,2px;padding:2%;\">Simulations - Applets</div></h1>\n",
    "\n",
    "<div style=\"color:blue;font-family:serif;padding-left:100px\">\n",
    "    <a href=\"#T1\">Applet interactive</a><br>\n",
    "    <a href=\"#T3\">Animations</a><br>\n",
    "    <a href=\"#T2\">Graphe 3D</a><br>\n",
    "</div>"
   ]
  },
  {
   "cell_type": "markdown",
   "metadata": {},
   "source": [
    "<h2><div id=\"T1\" style=\"color:blue;font-family:serif;border:solid,1px;padding:1%;\">Applet interactive</div></h2>"
   ]
  },
  {
   "cell_type": "markdown",
   "metadata": {},
   "source": [
    "Documentation <a href=\"https://ipywidgets.readthedocs.io/en/latest/examples/Widget%20Basics.html\" target=\"_blank\">Jupyter Widgets</a><br>\n",
    "\n",
    "Il s'agit ici de tracer un graphe dépendant de paramètres qu'on souhaite pouvoir faire varier à l'aide de curseurs.<br>\n",
    "\n",
    "<b>Exemple</b> : illustration de l'influence des différents paramètres <i>A</i>, <i>f</i>, $\\varphi$ et <i>m</i> de la fonction sinusoïdale $A\\cos(2\\pi f t + \\varphi) + m$"
   ]
  },
  {
   "cell_type": "markdown",
   "metadata": {},
   "source": [
    "<b>Etape 1</b> - Définition du graphe à animer"
   ]
  },
  {
   "cell_type": "code",
   "execution_count": null,
   "metadata": {},
   "outputs": [],
   "source": [
    "%matplotlib inline\n",
    "import matplotlib.pyplot as plt\n",
    "import numpy as np\n",
    "\n",
    "def sinusoide(A,f,phi,m):\n",
    "    t = np.linspace(-1, 1, 1000)                  # Abscisses\n",
    "    plt.plot(t, A*np.cos(2*np.pi*f*t+phi)+m,'r')  # Sinusoïde\n",
    "    plt.plot(t, np.cos(2*np.pi*1.55*t),'b')       # Sinusoïde de référence\n",
    "    plt.ylim(-5, 5)                               # Bornes des ordonnées (empêche la mise à l'échelle en cours de tracé)\n",
    "    plt.grid()\n",
    "    plt.show()"
   ]
  },
  {
   "cell_type": "code",
   "execution_count": null,
   "metadata": {},
   "outputs": [],
   "source": [
    "# Pour vérification :\n",
    "sinusoide(2,5,0.8,1)"
   ]
  },
  {
   "cell_type": "markdown",
   "metadata": {},
   "source": [
    "<b>Etape 2</b> - Animation du graphe<br>\n",
    "\n",
    "Syntaxe : <br>\n",
    "1/ importer la fonction \"interactive\" du module ipywidgets ;<br>\n",
    "2/ appeler cette fonction dont les paramètres sont la fonction à tracer, chacun des paramètres à animer (en indiquant les bornes et le pas de variation) comme ci-dessous."
   ]
  },
  {
   "cell_type": "code",
   "execution_count": null,
   "metadata": {},
   "outputs": [],
   "source": [
    "from ipywidgets import interactive\n",
    "\n",
    "interactive(sinusoide, A=(-2.0, 2.0), f=(0.1, 3), phi=(-np.pi,np.pi), m=(-2,2)) # param=(debut,fin,pas)"
   ]
  },
  {
   "cell_type": "markdown",
   "metadata": {},
   "source": []
  },
  {
   "cell_type": "markdown",
   "metadata": {},
   "source": [
    "<h2><div id=\"T3\" style=\"color:blue;font-family:serif;border:solid,1px;padding:1%;\">Animations</div></h2>"
   ]
  },
  {
   "cell_type": "markdown",
   "metadata": {},
   "source": [
    "Documentation <a href=\"https://matplotlib.org/api/animation_api.html\" target=\"_blank\">Animation</a><br>\n",
    "\n",
    "<b>Exemple</b> : propagation d'un paquet d'onde Gaussien dans un milieu peu dispersif"
   ]
  },
  {
   "cell_type": "markdown",
   "metadata": {},
   "source": [
    "<b>Etape 1</b> - Définition du graphe à animer"
   ]
  },
  {
   "cell_type": "code",
   "execution_count": null,
   "metadata": {},
   "outputs": [],
   "source": [
    "import matplotlib.pyplot as plt\n",
    "import numpy as np\n",
    "\n",
    "def amplitude(x,t):\n",
    "    return 100*np.exp(-np.power(sigma*(vg*t-x),2))\n",
    "\n",
    "def paquet(x,t):\n",
    "    return amplitude(x,t)*np.cos(k0*(x-vp*t));\n",
    "\n",
    "vg = 20                               # Vitesse de groupe (de l'enveloppe)\n",
    "vp = 0.2*vg                           # Vitesse de phase (de la sinusoïde moyenne)\n",
    "tmin, tmax, dt = 5, 15, 0.1\n",
    "xmin, xmax, dx = -50, 300, 0.01\n",
    "k0, sigma = 0.2, 0.02\n",
    "\n",
    "t = np.arange(tmin,tmax,dt)           # Instants du tracé\n",
    "x = np.arange(xmin,xmax,dx)           # Absisses \n",
    "plt.plot(x,paquet(x,tmin))\n",
    "plt.show()"
   ]
  },
  {
   "cell_type": "markdown",
   "metadata": {},
   "source": [
    "<b>Etape 2</b> - Animation<br>\n",
    "Augmenter prudemment le paramètre frame (environ 10 s de calcul sur un PC rapide avec frame=100)...<br>"
   ]
  },
  {
   "cell_type": "code",
   "execution_count": null,
   "metadata": {},
   "outputs": [],
   "source": [
    "import matplotlib.animation as animation\n",
    "\n",
    "fig = plt.figure() # initialise la figure\n",
    "line, = plt.plot([],[]) \n",
    "plt.xlim(xmin, xmax)\n",
    "plt.ylim(-110,110)\n",
    "\n",
    "# fonction à définir quand blit=True\n",
    "# crée l'arrière de l'animation qui sera présent sur chaque image\n",
    "def init():\n",
    "    line.set_data([],[])\n",
    "    return line,\n",
    "\n",
    "def animate(i): \n",
    "    t = i * dt\n",
    "    y = paquet(x,t)\n",
    "    line.set_data(x, y)\n",
    "    return line,\n",
    " \n",
    "ani = animation.FuncAnimation(fig, animate, init_func=init, frames=20, blit=True, interval=20, repeat=False) #100\n",
    "\n",
    "# Les deux lignes suivantes sont inutiles avec Pyzo\n",
    "from IPython.display import HTML\n",
    "HTML(ani.to_jshtml())"
   ]
  },
  {
   "cell_type": "markdown",
   "metadata": {},
   "source": [
    "<h2><div id=\"T2\" style=\"color:blue;font-family:serif;border:solid,1px;padding:1%;\">Graphe 3D</div></h2>"
   ]
  },
  {
   "cell_type": "markdown",
   "metadata": {},
   "source": [
    "Documentation : <br> \n",
    "<a href=\"https://matplotlib.org/mpl_toolkits/mplot3d/tutorial.html\" target=\"_blank\">mplot3d tutorials</a> (fonctionne avec Pyzo mais ne fonctionne pas dans un notebook)<br>\n",
    "<a href=\"https://ipyvolume.readthedocs.io/en/latest/index.html\" target=\"_blank\">ipyvolume</a> (fonctionne dans un notebook)<br>\n",
    "\n",
    "Le code ci-dessous est issu du site ipyvolume."
   ]
  },
  {
   "cell_type": "code",
   "execution_count": null,
   "metadata": {},
   "outputs": [],
   "source": [
    "import ipyvolume as ipv\n",
    "import numpy as np\n",
    "\n",
    "# create 2d grids: x, y, and r\n",
    "u = np.linspace(-10, 10, 25)\n",
    "x, y = np.meshgrid(u, u)\n",
    "r = np.sqrt(x**2+y**2)\n",
    "print(\"x,y and z are of shape\", x.shape)\n",
    "# and turn them into 1d\n",
    "x = x.flatten()\n",
    "y = y.flatten()\n",
    "r = r.flatten()\n",
    "print(\"and flattened of shape\", x.shape)\n",
    "\n",
    "# create a sequence of 15 time elements\n",
    "time = np.linspace(0, np.pi*2, 15)\n",
    "z = np.array([(np.cos(r + t) * np.exp(-r/5)) for t in time])\n",
    "print(\"z is of shape\", z.shape)\n",
    "\n",
    "# draw the scatter plot, and add controls with animate_glyphs\n",
    "ipv.figure()\n",
    "s = ipv.scatter(x, z, y, marker=\"sphere\")\n",
    "ipv.animation_control(s, interval=200)\n",
    "ipv.ylim(-3,3)\n",
    "ipv.show()"
   ]
  },
  {
   "cell_type": "code",
   "execution_count": null,
   "metadata": {},
   "outputs": [],
   "source": []
  }
 ],
 "metadata": {
  "kernelspec": {
   "display_name": "Python 3",
   "language": "python",
   "name": "python3"
  },
  "language_info": {
   "codemirror_mode": {
    "name": "ipython",
    "version": 3
   },
   "file_extension": ".py",
   "mimetype": "text/x-python",
   "name": "python",
   "nbconvert_exporter": "python",
   "pygments_lexer": "ipython3",
   "version": "3.7.1"
  }
 },
 "nbformat": 4,
 "nbformat_minor": 2
}
