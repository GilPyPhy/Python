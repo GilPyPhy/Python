{
 "cells": [
  {
   "cell_type": "markdown",
   "metadata": {},
   "source": [
    "<h1><div style=\"color:Sienna;font-family:serif;font-size:larger;text-align:center;border:solid,2px;padding:2%;\">Apprivoiser un Python en moins d'une heure ?</div></h1>\n",
    "<h2><div style=\"color:Sienna;font-family:serif;text-align:center;\"><b>Etape 1 - Python comme une calculatrice</b></div></h2><br>"
   ]
  },
  {
   "cell_type": "markdown",
   "metadata": {},
   "source": [
    "# <div style=\"color:blue;font-family:serif;border:solid,1px;padding:1%;\">Les calculs</div>"
   ]
  },
  {
   "cell_type": "markdown",
   "metadata": {},
   "source": [
    "<b>Opérations élémentaires</b> : + , - , * , / , &#42;&#42; (puissance, par exemple 2&#42;&#42;3. Pour les puissances de 10 : 10**-2 ou 1E-2)<br> \n",
    "Le séparateur décimal est le point : on doit écrire 3.1415 et non pas 3,1415 <br><br>\n",
    "&#128432;  Entrer un calcul ci-dessous et l'exécuter (par exemple 5x2<sup>8</sup>-1)."
   ]
  },
  {
   "cell_type": "code",
   "execution_count": null,
   "metadata": {},
   "outputs": [],
   "source": []
  },
  {
   "cell_type": "markdown",
   "metadata": {},
   "source": [
    "<b>Représentation des nombres en informatique</b> (vive le calcul mental)<br>\n",
    "Python est très fort en maths mais..."
   ]
  },
  {
   "cell_type": "code",
   "execution_count": null,
   "metadata": {},
   "outputs": [],
   "source": [
    "10**50 + 2.1 -10**50  # De tête, le résultat est 2.1 : problème d'overflow (nombre trop grand)"
   ]
  },
  {
   "cell_type": "code",
   "execution_count": null,
   "metadata": {},
   "outputs": [],
   "source": [
    "1 + 2/3 - 5/3         # De tête, le résultat est 0 : nombre réel arrondi (nombre fini de chiffres) "
   ]
  },
  {
   "cell_type": "code",
   "execution_count": null,
   "metadata": {},
   "outputs": [],
   "source": [
    "1 + 10**-50 - 1      # De tête, le résultat est 10**-50 : problème d'underflow (nombre trop petit)"
   ]
  },
  {
   "cell_type": "markdown",
   "metadata": {},
   "source": [
    "Bilan : on obtient 0 quand on ne devrait pas et on n'obtient pas 0 quand on devrait !<br><br>\n",
    "<span style=\"color:red;\">Conclusion : il est impossible de tester l'égalité de deux nombres à virgule (résultat incertain !). Par contre, ce problème n'existe pas avec les nombres entiers.</span>"
   ]
  },
  {
   "cell_type": "markdown",
   "metadata": {},
   "source": [
    "# <div style=\"color:blue;font-family:serif;border:solid,1px;padding:1%;\">Les variables</div>"
   ]
  },
  {
   "cell_type": "markdown",
   "metadata": {},
   "source": [
    "Calculer avec des <b>variables</b> comme avec une calculatrice.<br>\n",
    "Pour stocker la valeur 2 dans une variable nommée a ou encore <b>affecter</b> la valeur 2 à la variable a (en pseudo-code cette opération est notée : a &larr; 2 ), on utilise le signe \"=\" :"
   ]
  },
  {
   "cell_type": "code",
   "execution_count": null,
   "metadata": {},
   "outputs": [],
   "source": [
    "a = 2  # Cette instruction doit se lire de droite à gauche : on place la valeur 2 dans une variable nommée a"
   ]
  },
  {
   "cell_type": "markdown",
   "metadata": {},
   "source": [
    "    Cette commande n'affiche rien. Pour tester le contenu de la variable, on \"rappelle\" la variable :"
   ]
  },
  {
   "cell_type": "code",
   "execution_count": null,
   "metadata": {},
   "outputs": [],
   "source": [
    "a"
   ]
  },
  {
   "cell_type": "markdown",
   "metadata": {},
   "source": [
    "On peut redéfinir la variable a à tout moment :"
   ]
  },
  {
   "cell_type": "code",
   "execution_count": null,
   "metadata": {},
   "outputs": [],
   "source": [
    "a = -1\n",
    "a # Cette ligne permet d'afficher a"
   ]
  },
  {
   "cell_type": "markdown",
   "metadata": {},
   "source": [
    "    Rq : cette instruction écrase (remplace) la valeur précédente qui est définitivement perdue."
   ]
  },
  {
   "cell_type": "markdown",
   "metadata": {},
   "source": [
    "Une <b>erreur courante</b> :"
   ]
  },
  {
   "cell_type": "code",
   "execution_count": null,
   "metadata": {},
   "outputs": [],
   "source": [
    "b"
   ]
  },
  {
   "cell_type": "markdown",
   "metadata": {},
   "source": [
    "    La réponse de Python est claire : la variable b n'est pas définie."
   ]
  },
  {
   "cell_type": "markdown",
   "metadata": {},
   "source": [
    "<b><span style=\"color:red;\">Opération fondamentale en informatique</span></b> : recalcul d'une variable à partir de sa propre valeur"
   ]
  },
  {
   "cell_type": "code",
   "execution_count": null,
   "metadata": {},
   "outputs": [],
   "source": [
    "a = 2*a-1\n",
    "a"
   ]
  },
  {
   "cell_type": "markdown",
   "metadata": {},
   "source": [
    "Cette instruction doit encore se lire de <b>droite à gauche</b> : Python calcule 2*a-1 (en utilisant la valeur contenue dans a à cet instant) puis stocke la nouvelle valeur dans a."
   ]
  },
  {
   "cell_type": "markdown",
   "metadata": {},
   "source": [
    "&#128432; <span id=\"E1\">Exemple de calcul avec des variables</span>, calcul de la pression pour un gaz parfait : <br>\n",
    "Définir R = 8,314 usi ; T = 273 K ; n = 1 mol ; V = 22,4 10<sup>-3</sup> m<sup>3</sup> puis calculer la pression P = nRT/V."
   ]
  },
  {
   "cell_type": "code",
   "execution_count": null,
   "metadata": {},
   "outputs": [],
   "source": []
  },
  {
   "cell_type": "markdown",
   "metadata": {},
   "source": [
    "<a href=\"#S1\">Solution</a>"
   ]
  },
  {
   "cell_type": "markdown",
   "metadata": {},
   "source": [
    "# <div style=\"color:blue;font-family:serif;border:solid,1px;padding:1%;\">Un peu de Mathématiques</div>"
   ]
  },
  {
   "cell_type": "markdown",
   "metadata": {},
   "source": [
    "Pour utiliser les fonctions mathématiques usuelles (sqrt pour &radic;, sin, cos, tan, exp, log, log10...) il faut charger en mémoire la <b>bibliothèque</b> (le <b>module</b>) \"math\" à l'aide de la commande <b>import</b> :"
   ]
  },
  {
   "cell_type": "code",
   "execution_count": null,
   "metadata": {},
   "outputs": [],
   "source": [
    "import math    # Il ne se passe (apparemment) rien lors de l'exécution de cette commande"
   ]
  },
  {
   "cell_type": "code",
   "execution_count": null,
   "metadata": {},
   "outputs": [],
   "source": [
    "math.cos(math.pi)"
   ]
  },
  {
   "cell_type": "markdown",
   "metadata": {},
   "source": [
    "&#128432; Calculer la racine carrée d'un nombre simple, le logarithme de 10 en base 10..."
   ]
  },
  {
   "cell_type": "code",
   "execution_count": null,
   "metadata": {},
   "outputs": [],
   "source": []
  },
  {
   "cell_type": "markdown",
   "metadata": {},
   "source": [
    "Le nombre imaginaire pur est noté <b>1j</b> (collé), on peut aussi écrire -3j...<br>\n",
    "Python reconnaît cette écriture et sait calculer le module d'un complexe (sans bibliothèque supplémentaire) mais pour obtenir son argument, sa partie réelle, etc..., il faut charger le module \"cmath\"."
   ]
  },
  {
   "cell_type": "code",
   "execution_count": null,
   "metadata": {},
   "outputs": [],
   "source": [
    "z = 2 + 1j"
   ]
  },
  {
   "cell_type": "code",
   "execution_count": null,
   "metadata": {},
   "outputs": [],
   "source": [
    "abs(z)   # Calcul du module du complexe z"
   ]
  },
  {
   "cell_type": "code",
   "execution_count": null,
   "metadata": {},
   "outputs": [],
   "source": [
    "import cmath\n",
    "cmath.phase(z)"
   ]
  },
  {
   "cell_type": "markdown",
   "metadata": {},
   "source": [
    "<b>Documentation officielle Python</b> : <a href=\"https://docs.python.org/fr/3.5/library/math.html\">fonctions mathématiques</a>.<br>\n",
    "Pour travailler avec des vecteurs quelques notions sont encore nécessaires..."
   ]
  },
  {
   "cell_type": "markdown",
   "metadata": {},
   "source": [
    "# <div style=\"color:blue;font-family:serif;border:solid,1px;padding:1%;\">Quelques types d'objets en Python</div>"
   ]
  },
  {
   "cell_type": "markdown",
   "metadata": {},
   "source": [
    "Les <b>chaînes de caractères</b> (string) :"
   ]
  },
  {
   "cell_type": "code",
   "execution_count": null,
   "metadata": {},
   "outputs": [],
   "source": [
    "a = 'Hello world'\n",
    "a"
   ]
  },
  {
   "cell_type": "markdown",
   "metadata": {},
   "source": [
    "Une chaîne est \"du texte\" entouré de <b>guillemets simples ou doubles</b>. Il est nécessaire de disposer de 2 types de guillemets pour définir les chaînes : \"J'aime l'informatique\" ou 'un \"petit\" problème'. <br>\n",
    "\"Salut\" est une chaîne mais Salut désigne a priori une variable, donc attention aux guillemets..."
   ]
  },
  {
   "cell_type": "code",
   "execution_count": null,
   "metadata": {},
   "outputs": [],
   "source": [
    "a = \"J'aime \"\n",
    "b = \"l'informatique\""
   ]
  },
  {
   "cell_type": "markdown",
   "metadata": {},
   "source": [
    "&#128432; Tester l'instruction a+b"
   ]
  },
  {
   "cell_type": "code",
   "execution_count": null,
   "metadata": {},
   "outputs": [],
   "source": []
  },
  {
   "cell_type": "markdown",
   "metadata": {},
   "source": [
    "Les <b>booléens</b> (boolean), True et False :"
   ]
  },
  {
   "cell_type": "code",
   "execution_count": null,
   "metadata": {},
   "outputs": [],
   "source": [
    "2 >= 8"
   ]
  },
  {
   "cell_type": "code",
   "execution_count": null,
   "metadata": {},
   "outputs": [],
   "source": [
    "10 == 2*5   # Noter le double signe égal pour tester l'égalité "
   ]
  },
  {
   "cell_type": "code",
   "execution_count": null,
   "metadata": {},
   "outputs": [],
   "source": [
    "3 != 4      # 3 différent de 4 ?"
   ]
  },
  {
   "cell_type": "markdown",
   "metadata": {},
   "source": [
    "&#128432; Tester l'égalité des deux chaînes 'abc' et \"abc\""
   ]
  },
  {
   "cell_type": "code",
   "execution_count": null,
   "metadata": {},
   "outputs": [],
   "source": []
  },
  {
   "cell_type": "markdown",
   "metadata": {},
   "source": [
    "&#128432; Tester l'égalité entre 1+2/3 et 5/3"
   ]
  },
  {
   "cell_type": "code",
   "execution_count": null,
   "metadata": {},
   "outputs": [],
   "source": []
  },
  {
   "cell_type": "markdown",
   "metadata": {},
   "source": [
    "Surprenant ? Voir en haut de cette page..."
   ]
  },
  {
   "cell_type": "markdown",
   "metadata": {},
   "source": [
    "<span style=\"color:red;\">Le double signe égal est utilisé pour tester l'égalité (le signe = est réservé aux affectations)</span>"
   ]
  },
  {
   "cell_type": "markdown",
   "metadata": {},
   "source": [
    "Python sait manipuler :<br>\n",
    "<ul>\n",
    "    <li>les entiers (integer) ;</li>\n",
    "    <li>les nombres à virgule (float, flottant en français = nombre à virgule flottante); </li>\n",
    "    <li>les chaînes de caractères (string) ;</li>\n",
    "    <li>les booléens (booleans) ;</li>\n",
    "    <li>...et beaucoup d'autres structures de données.</li>\n",
    "</ul>\n",
    "Une structure de données essentielle est la <b>liste</b>."
   ]
  },
  {
   "cell_type": "markdown",
   "metadata": {},
   "source": [
    "# <div style=\"color:blue;font-family:serif;border:solid,1px;padding:1%;\">Les listes</div>"
   ]
  },
  {
   "cell_type": "markdown",
   "metadata": {},
   "source": [
    "<b>Définition</b><br>\n",
    "Exemple de liste : L = &#91;-2, 4.1, 0, 'abc', 7 &#93; (L est un nom de variable quelconque).<br>\n",
    "Une liste est une <b>collection ordonnée d'objets</b>, c'est à dire que chaque élément de la liste est numéroté. <br>"
   ]
  },
  {
   "cell_type": "code",
   "execution_count": null,
   "metadata": {},
   "outputs": [],
   "source": [
    "L = [-2, 4.1, 0, 'abc', 7 ]"
   ]
  },
  {
   "cell_type": "markdown",
   "metadata": {},
   "source": [
    "<b>Indexation</b><br>\n",
    "<span style=\"color:red;\"><b>Le numéro associé à un élément est son index. La numérotation commence à 0</b></span>.<br>\n",
    "<span style=\"color:red;\">Les éléments d'une liste comportant n éléments sont donc numérotés de 0 à n-1</span>.<br>\n",
    "Pour accéder à un élément de la liste, on écrit L &#91; index &#93; :<br>\n",
    "L&#91;0&#93; renvoie le premier élément donc -2. <br>"
   ]
  },
  {
   "cell_type": "markdown",
   "metadata": {},
   "source": [
    "&#128432; Que renvoie l'instruction L&#91;3&#93; ? "
   ]
  },
  {
   "cell_type": "code",
   "execution_count": null,
   "metadata": {},
   "outputs": [],
   "source": []
  },
  {
   "cell_type": "markdown",
   "metadata": {},
   "source": [
    "<b>Taille / longueur</b><br>\n",
    "Pour connaître la longueur d'une liste, on utilise l'instruction <span style=\"color:red;\"><b>len(L)</b></span><br><br>\n",
    "&#128432; Déterminer la longueur de la liste L."
   ]
  },
  {
   "cell_type": "code",
   "execution_count": null,
   "metadata": {},
   "outputs": [],
   "source": []
  },
  {
   "cell_type": "markdown",
   "metadata": {},
   "source": [
    "&#128432; Tester l'instruction L[-1] :"
   ]
  },
  {
   "cell_type": "code",
   "execution_count": null,
   "metadata": {},
   "outputs": [],
   "source": []
  },
  {
   "cell_type": "markdown",
   "metadata": {},
   "source": [
    "&#128432; Que renvoie L[len(L)] et pourquoi ?"
   ]
  },
  {
   "cell_type": "code",
   "execution_count": null,
   "metadata": {},
   "outputs": [],
   "source": []
  },
  {
   "cell_type": "markdown",
   "metadata": {},
   "source": [
    "&#128432; Tester l'instruction L+L :"
   ]
  },
  {
   "cell_type": "code",
   "execution_count": null,
   "metadata": {},
   "outputs": [],
   "source": []
  },
  {
   "cell_type": "markdown",
   "metadata": {},
   "source": [
    "La \"somme\" de deux listes réalise en réalité la concaténation (mise \"bout à bout\") de deux listes."
   ]
  },
  {
   "cell_type": "markdown",
   "metadata": {},
   "source": [
    "<b>Création - Ajout d'éléments</b><br>\n",
    "L'instruction L1 = L&#91; &#93; permet de créer une <span style=\"color:red;\"><b>liste vide</b></span>. <br>\n",
    "Pour <span style=\"color:red;\"><b>ajouter un élément en fin de liste</b></span>, on dispose de deux méthodes :\n",
    "<ul>\n",
    "<li> L1 = L1 + &#91; &#93;</li>\n",
    "<li> L1.append(L1)</li>\n",
    "</ul>"
   ]
  },
  {
   "cell_type": "code",
   "execution_count": null,
   "metadata": {},
   "outputs": [],
   "source": []
  },
  {
   "cell_type": "markdown",
   "metadata": {},
   "source": [
    "&#128432; Tester l'instruction  4*L&#91;0&#93;"
   ]
  },
  {
   "cell_type": "code",
   "execution_count": null,
   "metadata": {},
   "outputs": [],
   "source": []
  },
  {
   "cell_type": "markdown",
   "metadata": {},
   "source": [
    "Cette instruction est en réalité équivalente à L&#91;0&#93;+L&#91;0&#93;+L&#91;0&#93;+L&#91;0&#93;<br><br>\n",
    "<span style=\"color:red;\"><b>Une liste n'a donc pas les propriétés d'un vecteur</b></span> (encore un peu de patience...)."
   ]
  },
  {
   "cell_type": "markdown",
   "metadata": {},
   "source": [
    "# <div style=\"color:blue;font-family:serif;border:solid,1px;padding:1%;\">Premier graphique</div>"
   ]
  },
  {
   "cell_type": "markdown",
   "metadata": {},
   "source": [
    "<b><i>Si le graphe ci-dessous n'apparaît pas</i></b> :<br>\n",
    "&nbsp;&nbsp;&nbsp;1/ valider deux fois la cellule contenant l'instruction <code>plt.plot()</code> ;<br>\n",
    "&nbsp;&nbsp;&nbsp;2/ si le problème persiste, ajouter <code>%matplotlib inline</code> avant <code>import matplotlib.pyplot as plt</code>\n",
    "<br><br>\n",
    "Pour tracer des courbes, il faut charger en mémoire un nouveau module (et comme son nom est très long, on utilise un <b>alias</b>, un surnom en quelque sorte) : "
   ]
  },
  {
   "cell_type": "code",
   "execution_count": null,
   "metadata": {},
   "outputs": [],
   "source": [
    "import matplotlib.pyplot as plt   # plt est un alias"
   ]
  },
  {
   "cell_type": "markdown",
   "metadata": {},
   "source": [
    "Pour tracer une courbe, il faut une <b>liste x d'absisses</b> et une <b>liste y d'ordonnées</b> (de même longueur).<br> \n",
    "L'instruction <b>plt.plot(x,y)</b> permet de tracer le graphique.<br> L'instruction <b>plt.show()</b> permet d'afficher la courbe.<br><br>\n",
    "&#128432; Tracer y(x) ci-dessous (exécuter deux fois la cellule ci-dessous si le graphe n'apparaît pas) :"
   ]
  },
  {
   "cell_type": "code",
   "execution_count": null,
   "metadata": {},
   "outputs": [],
   "source": [
    "x = [0, 1, 2, 3, 4, 5]\n",
    "y = [0, 1, 4, 9, 16, 25]\n"
   ]
  },
  {
   "cell_type": "markdown",
   "metadata": {},
   "source": [
    "<b>Inconvénients</b><br>\n",
    "Le résultat n'est pas satisfaisant car le nombre de points est insuffisant.<br>\n",
    "Il serait agréable de disposer de listes comportant un grand nombre de valeurs sans devoir les taper à la main ! <br>\n",
    "Le module numpy va permettre de remédier à ces problèmes :\n",
    "<ul>\n",
    "<li>il sera possible de créer automatiquement une liste de valeurs ;</li>\n",
    "<li>l'instruction y = f(x) créera automatiquement la liste des ordonnées.\n",
    "</ul><br>\n",
    "Auparavant, il faut apprendre à créer des fonctions."
   ]
  },
  {
   "cell_type": "markdown",
   "metadata": {},
   "source": [
    "# <div style=\"color:blue;font-family:serif;border:solid,1px;padding:1%;\">Les fonctions</div></h2>"
   ]
  },
  {
   "cell_type": "markdown",
   "metadata": {},
   "source": [
    "Comme en mathématiques, on définit la fonction puis on l'appelle (on l'utilise).<br><br>\n",
    "<b>Etape 1 : définition</b> "
   ]
  },
  {
   "cell_type": "code",
   "execution_count": null,
   "metadata": {},
   "outputs": [],
   "source": [
    "def f(x):\n",
    "    return x**2"
   ]
  },
  {
   "cell_type": "markdown",
   "metadata": {},
   "source": [
    "Cette syntaxe se comprend intuitivement (mot clé \"def\" pour définition et mot clé \"return\" pour renvoyer la valeur calculée au programme appelant la fonction).<br>\n",
    "Veiller à terminer la première ligne par \":\".<br>\n",
    "Le \"décalage\" du code, appelé <span style=\"color:red;\">indentation</span>, délimite les instructions faisant partie de la fonction. Le code aligné sur le bord de page sera considéré comme ne faisant pas partie de la fonction. "
   ]
  },
  {
   "cell_type": "markdown",
   "metadata": {},
   "source": [
    "<b>Etape 2 : appel</b> "
   ]
  },
  {
   "cell_type": "code",
   "execution_count": null,
   "metadata": {},
   "outputs": [],
   "source": [
    "f(4)"
   ]
  },
  {
   "cell_type": "markdown",
   "metadata": {},
   "source": [
    "<b>Un peu de vocabulaire</b><br>\n",
    "Dans l'écriture f(x), x est un symbole quelconque (variable muette des mathématiques) appelé <span style=\"color:red;\">paramètre formel</span>.<br>\n",
    "Dans l'écriture f(4), 4 est une valeur appelée <span style=\"color:red;\">argument effectif</span>."
   ]
  },
  {
   "cell_type": "markdown",
   "metadata": {},
   "source": [
    "Une fonction peut posséder un nombre quelconque de paramètres (y compris aucun).<br>\n",
    "Une fonction peut retourner plusieurs valeurs.<br>\n",
    "Exemple :"
   ]
  },
  {
   "cell_type": "code",
   "execution_count": null,
   "metadata": {},
   "outputs": [],
   "source": [
    "def g(x,y):\n",
    "    return x+y, x-y"
   ]
  },
  {
   "cell_type": "markdown",
   "metadata": {},
   "source": [
    "Pour récupérer les deux valeurs, on utilise deux variables en procédant ainsi :"
   ]
  },
  {
   "cell_type": "code",
   "execution_count": null,
   "metadata": {},
   "outputs": [],
   "source": [
    "a, b = g(4,1)\n",
    "a,b"
   ]
  },
  {
   "cell_type": "markdown",
   "metadata": {},
   "source": [
    "&#128432; <span id=\"E2\">Ecrire une fonction sinus(A, f, t, phi, M)</span> retournant la valeur Acos(2&pi; f t + &phi;) + M"
   ]
  },
  {
   "cell_type": "code",
   "execution_count": null,
   "metadata": {},
   "outputs": [],
   "source": []
  },
  {
   "cell_type": "markdown",
   "metadata": {},
   "source": [
    "&#128432; Vérifier que sinus(4,1,3,0,2) donne bien 6."
   ]
  },
  {
   "cell_type": "code",
   "execution_count": null,
   "metadata": {},
   "outputs": [],
   "source": []
  },
  {
   "cell_type": "markdown",
   "metadata": {},
   "source": [
    "<a href=\"#S2\">Solution</a>"
   ]
  },
  {
   "cell_type": "markdown",
   "metadata": {},
   "source": [
    "# <div style=\"color:blue;font-family:serif;border:solid,1px;padding:1%;\">Les tableaux - Les vecteurs</div>"
   ]
  },
  {
   "cell_type": "markdown",
   "metadata": {},
   "source": [
    "Les modules <b>numpy</b> et <b>scipy</b> sont destinés au calcul scientifique.<br>\n",
    "On charge le module numpy en utilisant l'alias np :"
   ]
  },
  {
   "cell_type": "code",
   "execution_count": null,
   "metadata": {},
   "outputs": [],
   "source": [
    "import numpy as np"
   ]
  },
  {
   "cell_type": "markdown",
   "metadata": {},
   "source": [
    "La structure de données utilisée par numpy est le <span style=\"color:red;\">tableau</span>.<br>\n",
    "Un tableau numpy est une collection d'objets de même type (entiers, flottants...) <b>indexé</b> de la même façon que les listes. <br>La fonction <b>len()</b> s'applique également aux tableaux.<br>"
   ]
  },
  {
   "cell_type": "markdown",
   "metadata": {},
   "source": [
    "<b>Exemple</b>"
   ]
  },
  {
   "cell_type": "code",
   "execution_count": null,
   "metadata": {},
   "outputs": [],
   "source": [
    "T1 = np.array([0,1,2,3])\n",
    "T1"
   ]
  },
  {
   "cell_type": "code",
   "execution_count": null,
   "metadata": {},
   "outputs": [],
   "source": []
  },
  {
   "cell_type": "markdown",
   "metadata": {},
   "source": [
    "&#128432; Récupérer la deuxième valeur du tableau T1 et la stocker dans une variable."
   ]
  },
  {
   "cell_type": "code",
   "execution_count": null,
   "metadata": {},
   "outputs": [],
   "source": []
  },
  {
   "cell_type": "markdown",
   "metadata": {},
   "source": [
    "<b>Opérations sur les tableaux</b>"
   ]
  },
  {
   "cell_type": "markdown",
   "metadata": {},
   "source": [
    "&#128432; Tester T1+T1"
   ]
  },
  {
   "cell_type": "code",
   "execution_count": null,
   "metadata": {},
   "outputs": [],
   "source": []
  },
  {
   "cell_type": "markdown",
   "metadata": {},
   "source": [
    "&#128432; Tester 3*T1"
   ]
  },
  {
   "cell_type": "code",
   "execution_count": null,
   "metadata": {},
   "outputs": [],
   "source": []
  },
  {
   "cell_type": "markdown",
   "metadata": {},
   "source": [
    "<span style=\"color:red;\">A la différence des listes, les tableaux à une dimension se comportent comme des <b>vecteurs</b></span>."
   ]
  },
  {
   "cell_type": "markdown",
   "metadata": {},
   "source": [
    "<b>Création de tableaux 1/2</b>"
   ]
  },
  {
   "cell_type": "markdown",
   "metadata": {},
   "source": [
    "Il est possible de créer des tableaux remplis de <b>valeur identiques</b> (on pourra toujours modifier ces valeurs ensuite).<br><br>\n",
    "&#128432; Tester : np.ones(5)"
   ]
  },
  {
   "cell_type": "code",
   "execution_count": null,
   "metadata": {},
   "outputs": [],
   "source": []
  },
  {
   "cell_type": "markdown",
   "metadata": {},
   "source": [
    "&#128432; Tester np.zeros(3)"
   ]
  },
  {
   "cell_type": "code",
   "execution_count": null,
   "metadata": {},
   "outputs": [],
   "source": []
  },
  {
   "cell_type": "markdown",
   "metadata": {},
   "source": [
    "&#128432; Tester : np.zeros((4,2))"
   ]
  },
  {
   "cell_type": "code",
   "execution_count": null,
   "metadata": {},
   "outputs": [],
   "source": []
  },
  {
   "cell_type": "markdown",
   "metadata": {},
   "source": [
    "On obtient ici un tableau à deux lignes et 4 colonnes (indexé grâce à deux index)."
   ]
  },
  {
   "cell_type": "markdown",
   "metadata": {},
   "source": [
    "&#128432; Tester 4*np.ones(5)-1"
   ]
  },
  {
   "cell_type": "code",
   "execution_count": null,
   "metadata": {},
   "outputs": [],
   "source": [
    "4*np.ones(5)-1"
   ]
  },
  {
   "cell_type": "markdown",
   "metadata": {},
   "source": [
    "Noter que dans ce calcul, le nombre 1 est traité comme un vecteur de même dimension que le tableau."
   ]
  },
  {
   "cell_type": "markdown",
   "metadata": {},
   "source": [
    "<b>Création de tableaux 2/2</b>"
   ]
  },
  {
   "cell_type": "markdown",
   "metadata": {},
   "source": [
    "Il est possible de créer des tableaux de <b>valeurs régulièrement espacées</b> de deux façons :\n",
    "<ul>\n",
    "    <li>linspace(debut, fin incluse, nombre de valeurs)</li>\n",
    "    <li>arange(debut, fin exclue, pas)</li>\n",
    "</ul>"
   ]
  },
  {
   "cell_type": "code",
   "execution_count": null,
   "metadata": {},
   "outputs": [],
   "source": [
    "x1 = np.linspace(0,2,11)   # 11 valeurs au total (car 2 est incluse) donc 10 intervalles et intervalle = (2-0)/10 = 0.2\n",
    "x1"
   ]
  },
  {
   "cell_type": "code",
   "execution_count": null,
   "metadata": {},
   "outputs": [],
   "source": [
    "x2 = np.arange(0,2.2,0.2)   # Pas = 0.2 donc 11 valeurs de 0 à 2 (car 2.2 est exclue)\n",
    "x2"
   ]
  },
  {
   "cell_type": "markdown",
   "metadata": {},
   "source": [
    "Ces deux fonctions permettent de créer des tableaux utilisés comme listes de valeurs en abscisse pour réaliser un tracé."
   ]
  },
  {
   "cell_type": "markdown",
   "metadata": {},
   "source": [
    "<b>Les ufunc ou fonctions universelles ou fonctions vectorielles</b>"
   ]
  },
  {
   "cell_type": "markdown",
   "metadata": {},
   "source": [
    "&#128432; Tester f(x1)  (f est la fonction définie ci-dessus qui renvoie le carré d'un nombre)."
   ]
  },
  {
   "cell_type": "code",
   "execution_count": null,
   "metadata": {},
   "outputs": [],
   "source": []
  },
  {
   "cell_type": "markdown",
   "metadata": {},
   "source": [
    "<span style=\"color:red;\">La fonction est automatiquement appliquée à chaque élément du tableau</span> (ce qui n'a rien d'évident a priori, cf. ci-dessous)."
   ]
  },
  {
   "cell_type": "markdown",
   "metadata": {},
   "source": [
    "&#128432; Essayer d'appliquer la fonction math.sin à ce tableau x1 :"
   ]
  },
  {
   "cell_type": "code",
   "execution_count": null,
   "metadata": {},
   "outputs": [],
   "source": []
  },
  {
   "cell_type": "markdown",
   "metadata": {},
   "source": [
    "C'est pour cette raison que numpy possède ses propres fonctions mathématiques :"
   ]
  },
  {
   "cell_type": "code",
   "execution_count": null,
   "metadata": {},
   "outputs": [],
   "source": [
    "np.sin(x1)"
   ]
  },
  {
   "cell_type": "markdown",
   "metadata": {},
   "source": [
    "# <div style=\"color:blue;font-family:serif;border:solid,1px;padding:1%;\">Les courbes</div>"
   ]
  },
  {
   "cell_type": "markdown",
   "metadata": {},
   "source": [
    "La syntaxe pour les tracés est la même pour les listes et les tableaux."
   ]
  },
  {
   "cell_type": "code",
   "execution_count": null,
   "metadata": {},
   "outputs": [],
   "source": [
    "import matplotlib.pyplot as plt"
   ]
  },
  {
   "cell_type": "markdown",
   "metadata": {},
   "source": [
    "&#128432; <br>\n",
    "<span id=\"E3\">Créer un tableau</span> x de 101 valeurs sur l'intervalle &#91;0, 2&#93; <br>\n",
    "Tracer la courbe représentative de f(x) définie ci-dessus."
   ]
  },
  {
   "cell_type": "code",
   "execution_count": null,
   "metadata": {},
   "outputs": [],
   "source": []
  },
  {
   "cell_type": "code",
   "execution_count": null,
   "metadata": {},
   "outputs": [],
   "source": []
  },
  {
   "cell_type": "markdown",
   "metadata": {},
   "source": [
    "<a href=\"#S3\">Solution</a>"
   ]
  },
  {
   "cell_type": "markdown",
   "metadata": {},
   "source": [
    "Et pour superposer plusieurs courbes ?<br>\n",
    "Il suffit d'écrire autant d'instructions plot() que de courbes : plot(x,f(x)), plot(x,g(x))..."
   ]
  },
  {
   "cell_type": "markdown",
   "metadata": {},
   "source": [
    "&#128432; Superposer les fonctions sinus et cosinus sur &#91;0, 2&pi;&#93;."
   ]
  },
  {
   "cell_type": "code",
   "execution_count": null,
   "metadata": {},
   "outputs": [],
   "source": []
  },
  {
   "cell_type": "markdown",
   "metadata": {},
   "source": [
    "<br><br>Python est capable de tracer de magnifiques graphes : <a href=\"https://matplotlib.org/gallery/index.html\" target=\"_blank\">Exemples</a>.<br>\n",
    "Un excellent tutoriel pour les graphes : <a href=\"http://www.labri.fr/perso/nrougier/teaching/matplotlib/\" target=\"_blank\">Tutoriel</a>."
   ]
  },
  {
   "cell_type": "markdown",
   "metadata": {},
   "source": [
    "<div style=\"color:Sienna;border:solid,2px;padding:2%;\"><h2><div style=\"color:Sienna;font-family:serif;text-align:center;\"><b>Ce rapide survol est terminé, il reste énormément de choses à découvrir !</b></div></h2>\n",
    "<div style=\"color:Sienna;font-family:serif;text-align:center;\"><b>A suivre : Python - Les bases de la programmation en moins d'une heure ?</b></div><br>\n",
    "<div style=\"color:Sienna;font-family:serif;text-align:center;\"><b>Pour découvrir la programmation de façon ludique : <a href=\"http://s15847115.domainepardefaut.fr/python/\" target=\"_blank\">Le Python et la Tortue</a></b></div><div>"
   ]
  },
  {
   "cell_type": "markdown",
   "metadata": {},
   "source": [
    "<hr>\n",
    "<div style=\"color:Sienna;font-family:serif;border:solid,2px;padding:2%;\">\n",
    "    <div style=\"font-size:larger;text-align:center;\">Réponses</div><br>\n",
    "    <div style=\"color:Sienna;font-family:serif;\">Les exercices sont conçus pour être traités dans l'ordre. En conséquence, la réponse à l'exercice n+1 ne reprend pas les commandes identiques à celles de l'exercice n (seules les modifications sont fournies). Ne pas hésiter à rajouter ces commandes en cas de dysfonctionnement (probablement dû à des modifications dans les instructions précédentes).</div>\n",
    "</div>\n",
    "<hr>"
   ]
  },
  {
   "cell_type": "markdown",
   "metadata": {},
   "source": [
    "<div id=\"S1\"><b>Solution 1</b>&nbsp;&nbsp;<a href=\"#E1\" style=\"font-size:smaller;\">Retour</a></div>"
   ]
  },
  {
   "cell_type": "code",
   "execution_count": null,
   "metadata": {},
   "outputs": [],
   "source": [
    "R, T, n, V = 8.314, 273, 1, 22.4e-3    # On peut également présenter plusieurs affectations ainsi\n",
    "P = n*R*T/V                            # Ne pas oublier les symboles * pour la multiplication\n",
    "P                                      # Affichage de P"
   ]
  },
  {
   "cell_type": "markdown",
   "metadata": {},
   "source": [
    "<div id=\"S2\"><b>Solution 2</b>&nbsp;&nbsp;<a href=\"#E2\" style=\"font-size:smaller;\">Retour</a></div>"
   ]
  },
  {
   "cell_type": "code",
   "execution_count": null,
   "metadata": {},
   "outputs": [],
   "source": [
    "def sinus(A, f, t, phi, M):\n",
    "    return A*math.cos(2*math.pi*f*t+phi) + M"
   ]
  },
  {
   "cell_type": "code",
   "execution_count": null,
   "metadata": {},
   "outputs": [],
   "source": [
    " sinus(4,1,3,0,2)"
   ]
  },
  {
   "cell_type": "markdown",
   "metadata": {},
   "source": [
    "<div id=\"S3\"><b>Solution 3</b>&nbsp;&nbsp;<a href=\"#E3\" style=\"font-size:smaller;\">Retour</a></div>"
   ]
  },
  {
   "cell_type": "code",
   "execution_count": null,
   "metadata": {},
   "outputs": [],
   "source": [
    "x = np.linspace(0,2,101)\n",
    "plt.plot(x,f(x))\n",
    "plt.show()"
   ]
  },
  {
   "cell_type": "code",
   "execution_count": null,
   "metadata": {},
   "outputs": [],
   "source": []
  }
 ],
 "metadata": {
  "kernelspec": {
   "display_name": "Python 3",
   "language": "python",
   "name": "python3"
  },
  "language_info": {
   "codemirror_mode": {
    "name": "ipython",
    "version": 3
   },
   "file_extension": ".py",
   "mimetype": "text/x-python",
   "name": "python",
   "nbconvert_exporter": "python",
   "pygments_lexer": "ipython3",
   "version": "3.7.1"
  }
 },
 "nbformat": 4,
 "nbformat_minor": 1
}
