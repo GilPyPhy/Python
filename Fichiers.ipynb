{
 "cells": [
  {
   "cell_type": "markdown",
   "metadata": {},
   "source": [
    "<h1><div style=\"color:Sienna;font-family:serif;font-size:larger;text-align:center;border:solid,2px;padding:2%;\">Fichiers - Traitement de données</div></h1>\n",
    "<div style=\"color:Sienna;font-family:serif;text-align:center;\"><b>Prérequis : <a href=\"numpy_matplotlib.ipynb\">numpy et matplotlib</a></b></div>\n",
    "<div style=\"color:blue;font-family:serif;padding-left:100px\">\n",
    "    <a href=\"#Connexion\">Connexion à un fichier</a><br>\n",
    "    <a href=\"#Traitement\">Traitement de données (fichiers texte)</a><br>\n",
    "</div>\n",
    "<div style=\"color:black;font-family:serif;padding-left:100px\">\n",
    "    <b>Approche rapide (analyse de code) : </b><a href=\"#Analyse\">Traitement des données - Etapes 1 et 2</a><br>\n",
    "</div><br>"
   ]
  },
  {
   "cell_type": "markdown",
   "metadata": {},
   "source": [
    "# <div id=\"Connexion\" style=\"color:blue;font-family:serif;border:solid,1px;padding:1%;\">Connexion à un fichier</div>"
   ]
  },
  {
   "cell_type": "markdown",
   "metadata": {},
   "source": [
    "<div style=\"border:solid,1px;padding:1%;\">\n",
    "    L’ouverture d’un fichier se fait grâce à une instruction réalisant :<br>\n",
    "&nbsp;&nbsp;&nbsp;&nbsp;1/ l’ouverture du fichier ;<br>\n",
    "&nbsp;&nbsp;&nbsp;&nbsp;2/ la création d’une <span style=\"color:red;\">variable contenant les informations relatives à la connexion</span> avec le fichier.<br>\n",
    "\n",
    "La fermeture du fichier permet de mettre fin à la connexion avec le fichier. Celui-ci doit impérativement être fermé une fois le travail effectué car les autres programmes ne peuvent pas ouvrir un fichier déjà ouvert (dans le cas contraire, cela poserait un problème de synchronisation des modifications engendrées par les différents programmes).\n",
    "</div>"
   ]
  },
  {
   "cell_type": "markdown",
   "metadata": {},
   "source": [
    "<div style=\"border:solid,1px;padding:1%;\"><b>Méthode 1</b><br>\n",
    "<code>f = open(chemin_complet,'r')  # Ouverture du fichier (f comme file en anglais…)\n",
    "     &#91;instructions&#93;\t           # Cf. ci-dessous\n",
    "f.close()\t\t\t\t\t  # Fermeture du fichier\n",
    "</code><br>\n",
    "La fonction open possède 2 arguments :<br>\n",
    "&nbsp;&nbsp;&nbsp;&nbsp;1/ le <b>chemin</b> vers le fichier ;<br>\n",
    "&nbsp;&nbsp;&nbsp;&nbsp;2/ le mode d’ouverture :<b><span style=\"color:red;\">'r'</span></b> pour <span style=\"color:red;\">read</span></span></span> (lecture), <b><span style=\"color:red;\">'w'</span></b> pour <span style=\"color:red;\">write</span></span> (écriture), <b><span style=\"color:red;\">'a'</span></b> pour <span style=\"color:red;\">append</span> (ajout).<br></div>"
   ]
  },
  {
   "cell_type": "markdown",
   "metadata": {},
   "source": [
    "<div style=\"border:solid,1px;padding:1%;\"><b>Méthode 2</b><br>\n",
    "<code>with open(chemin_complet) as f: \t# Ouverture du fichier, fermeture AUTOMATIQUE\n",
    "     &#91;instructions&#93;\t                 # Cf. ci-dessous\n",
    "</code><br></div>"
   ]
  },
  {
   "cell_type": "markdown",
   "metadata": {},
   "source": [
    "Dans les deux cas, f est la variable (nom quelconque) contenant la connexion."
   ]
  },
  {
   "cell_type": "markdown",
   "metadata": {},
   "source": [
    "<div style=\"border-bottom:solid,1px;\"><b>Exemple 1</b> : ouverture et lecture de toutes les lignes du fichier demo1.txt situé dans le dossier courant.</div>\n",
    "Si des caractères étranges parsèment le fichier, il s'agit d'un problème d'<b>encodage</b> du fichier.<br>\n",
    "Essayer les fichiers suivants : <b>demo1.txt</b> (encodé en <b>UTF8</b>) et <b>demo0.txt</b> (encodé en <b>ANSI</b>)."
   ]
  },
  {
   "cell_type": "code",
   "execution_count": null,
   "metadata": {},
   "outputs": [],
   "source": [
    "fic = open('demos/demo0.txt','r')\n",
    "liste = fic.readlines()     # Lecture de toutes les lignes et stockage dans une liste\n",
    "fic.close()\n",
    "\n",
    "liste                       # Affichage de la liste : le résultat est perfectible…"
   ]
  },
  {
   "cell_type": "markdown",
   "metadata": {},
   "source": [
    "<div style=\"border:solid,1px;padding:1%;\">La méthode <b>strip( )</b> (cf. ci-dessous) permet d'éliminer les <b>retours à la ligne</b> (séquence <b>\\n</b> dans la sortie ci-dessus).</div><br>"
   ]
  },
  {
   "cell_type": "markdown",
   "metadata": {},
   "source": [
    "<div style=\"border-bottom:solid,1px;\"><b>Exemple 2</b> : création du fichier demo2.txt dans le dossier courant.</div>"
   ]
  },
  {
   "cell_type": "code",
   "execution_count": null,
   "metadata": {},
   "outputs": [],
   "source": [
    "fic = open('demos/demo2.txt','w')\n",
    "fic.write('Penser à\\najouter des sauts\\nde ligne')     # Fichier comportant 3 lignes\n",
    "fic.close()"
   ]
  },
  {
   "cell_type": "markdown",
   "metadata": {},
   "source": [
    "Vérifier la création du fichier en parcourant l'arborescence et en ouvrant le fichier (ou en tapant le code nécessaire pour le lire).<br><br>"
   ]
  },
  {
   "cell_type": "markdown",
   "metadata": {},
   "source": [
    "<div style=\"border-bottom:solid,1px;\"><b>Exemple 3</b> : ouverture et lecture du fichier mobileApp.csv dans le dossier courant</div> Ce fichier contient les données relatives à l'accélération d'un mobile lors d'une chute libre, enregistrées via une application."
   ]
  },
  {
   "cell_type": "code",
   "execution_count": null,
   "metadata": {},
   "outputs": [],
   "source": [
    "fic = open('demos/mobileApp.csv','r')\n",
    "liste = fic.readlines()     # Lecture de toutes les lignes et stockage dans une liste\n",
    "fic.close()\n",
    "\n",
    "liste[0:4]                  # Affichage des 4 premières lignes de la liste"
   ]
  },
  {
   "cell_type": "markdown",
   "metadata": {},
   "source": [
    "<div style=\"border-left:solid,1px;padding:1%;\">On constate que : <br>\n",
    "&nbsp;&nbsp;&nbsp;&nbsp;1/ les sauts de ligne sont présents ;<br>\n",
    "&nbsp;&nbsp;&nbsp;&nbsp;2/ la première ligne devra être ignorée lors d'un tracé de courbe ;<br>\n",
    "&nbsp;&nbsp;&nbsp;&nbsp;3/ le séparateur de colonnes est le point-virgule ;<br>\n",
    "&nbsp;&nbsp;&nbsp;&nbsp;4/ chaque ligne est en réalité une unique chaîne ;<br>\n",
    "&nbsp;&nbsp;&nbsp;&nbsp;5/ le séparateur décimal est la virgule alors que pour Python c'est le point.<br>\n",
    "\n",
    "Chacune de ces remarques fait l'objet d'un <b>traitement</b> dans le paragraphe suivant.</div>"
   ]
  },
  {
   "cell_type": "markdown",
   "metadata": {},
   "source": [
    "# <div id=\"Traitement\" style=\"color:blue;font-family:serif;border:solid,1px;padding:1%;\">Traitement de données (fichiers texte)</div>"
   ]
  },
  {
   "cell_type": "markdown",
   "metadata": {},
   "source": [
    "<div style=\"border:solid,1px;padding:1%;\">Les <b>fichiers textes</b> (extension .txt ou .csv) permettent d’échanger des données entre de nombreux programmes .<br>\n",
    "En réalité, un fichier texte contient des <b>caractères spéciaux non affichables</b> appelés caractères de contrôle (invisibles dans l’éditeur de texte) : retour à la ligne (ou LF = Line Feed), tabulation… qu'il faudra supprimer.<br>\n",
    "En Python, le caractère indiquant un <b><span style=\"color:red;\">retour à la ligne</span></b> est <b><span style=\"color:red;\">\\n</span></b>, le caractère indiquant une <b><span style=\"color:red;\">tabulation</span></b> est <b><span style=\"color:red;\">\\t</span></b> (<a href=\"https://docs.python.org/3.1/reference/lexical_analysis.html\" target=\"_blank\">Documentation Python</a>).<br>\n",
    "\n",
    "En sciences, les données prennent souvent la forme de couples, de triplets ou n-uplets de <b>chaînes de caractères</b> représentant des nombres qui serviront à tracer des courbes (cf. exemples ci-dessous).<br>\n",
    "Dans les fichiers texte constitués de lignes de tels n-uplets, ceux-ci sont séparés par un caractère appelé <b><span style=\"color:red;\">« séparateur de colonnes »</span></b>.<br>\n",
    "D’autre part, ces fichiers peuvent comporter des informations annexes (au début ou/et à la fin) sous forme de <b>lignes supplémentaires</b>, en-têtes de colonnes par exemple ou bien date, nom du programme… qu’il convient de supprimer ou de prendre en compte lors du traitement.<br>\n",
    "\n",
    "Le <b><span style=\"color:red;\">séparateur décimal</span></b> peut être le <b>point</b> ou la <b>virgule</b>.  \n",
    "Le <b><span style=\"color:red;\">séparateur de colonnes</span></b> peut-être la <b>virgule</b>, le <b>point-virgule</b> ou une <b>tabulation</b> \\t (ou un autre caractère).\n",
    "\n",
    "La structure du fichier peut être déterminée très simplement en ouvrant le fichier avec le bloc-notes ou Notepad++.</div><br>\n"
   ]
  },
  {
   "cell_type": "markdown",
   "metadata": {},
   "source": [
    "#### <div style=\"border-bottom:solid,1px;\"><b>Fonctions indispensables pour le traitement des données</b></div>"
   ]
  },
  {
   "cell_type": "markdown",
   "metadata": {},
   "source": [
    "Modification du séparateur décimal (si nécessaire) : méthode <b><span style=\"color:red;\">replace( )</span></b>"
   ]
  },
  {
   "cell_type": "code",
   "execution_count": null,
   "metadata": {},
   "outputs": [],
   "source": [
    "ligne = '0.25 ; 0.5 ; 1.0 \\n' # Exemple de ligne avec séparateur de colonne = ; et séparateur décimal = ,\n",
    "ligne.replace(',','.')"
   ]
  },
  {
   "cell_type": "markdown",
   "metadata": {},
   "source": [
    "Suppression des caractères de retour à la ligne : méthode <b><span style=\"color:red;\">strip( )</span></b> "
   ]
  },
  {
   "cell_type": "code",
   "execution_count": null,
   "metadata": {},
   "outputs": [],
   "source": [
    "ligne = '0.25 ; 0.5 ; 1.0 \\n'\n",
    "L1 = ligne.strip()\n",
    "L1"
   ]
  },
  {
   "cell_type": "markdown",
   "metadata": {},
   "source": [
    "Récupération des 3 chaînes de caractères représentant des nombres : méthode <b><span style=\"color:red;\">split( )</span></b>"
   ]
  },
  {
   "cell_type": "code",
   "execution_count": null,
   "metadata": {},
   "outputs": [],
   "source": [
    "L2 = L1.split(\";\")              # Si le séparateur de colonne est le point-virgule\n",
    "L2"
   ]
  },
  {
   "cell_type": "code",
   "execution_count": null,
   "metadata": {},
   "outputs": [],
   "source": [
    "ligne = '0.25 \\t 0.5 \\t 1.0\\n'   # Exemple de ligne avec séparateur = tabulation\n",
    "L2bis = ligne.split()            # Dans ce cas la fonction split() supprime tous les caractères spéciaux\n",
    "L2bis"
   ]
  },
  {
   "cell_type": "markdown",
   "metadata": {},
   "source": [
    "Transformation des chaînes en nombres : <b>float( )</b>"
   ]
  },
  {
   "cell_type": "code",
   "execution_count": null,
   "metadata": {},
   "outputs": [],
   "source": [
    "L3 = [float(k) for k in L2]\n",
    "L3"
   ]
  },
  {
   "cell_type": "markdown",
   "metadata": {},
   "source": [
    "Transformation des chaînes en nombres, variante avec numpy : <b><span style=\"color:red;\">np.array(</span><i>liste</i> <span style=\"color:red;\">,dtype=float)</span></b>"
   ]
  },
  {
   "cell_type": "code",
   "execution_count": null,
   "metadata": {},
   "outputs": [],
   "source": [
    "import numpy as np\n",
    "dataN = np.array(L2, dtype=float)\n",
    "dataN"
   ]
  },
  {
   "cell_type": "markdown",
   "metadata": {},
   "source": [
    "Tecniques de <b><span style=\"color:red;\">slicing</span></b> avec les tableaux numpy"
   ]
  },
  {
   "cell_type": "code",
   "execution_count": null,
   "metadata": {},
   "outputs": [],
   "source": [
    "T = np.array([[11,12,13,14],[21,22,23,24]])  # Création d'un tableau de 2 lignes et 4 colonnes\n",
    "T"
   ]
  },
  {
   "cell_type": "code",
   "execution_count": null,
   "metadata": {},
   "outputs": [],
   "source": [
    "T[:,0]    # Récupération de la 1ère colonne (toutes les lignes de la colonne d'index 0)"
   ]
  },
  {
   "cell_type": "markdown",
   "metadata": {},
   "source": [
    "<br>"
   ]
  },
  {
   "cell_type": "markdown",
   "metadata": {},
   "source": [
    "#### <div id=\"Analyse\" style=\"border-bottom:solid,1px;\"><b>Etape 1 - Récupération des données</b></div><br>\n",
    "Exemple avec le fichier mobileApp.csv (séparateur de colonne = ; et séparateur décimal = ,).<br><div style=\"border:solid,1px;padding:1%;\">\n",
    "Dans le script ci-dessous, les lignes sont lues une par une (pour être traitées) grâce à <b><span style=\"color:red;\">readline()</span></b> contrairement au script précédent où toutes les lignes étaient lues simultanément grâce à <span style=\"color:red;\">readline<b>s</b></span>().</div>"
   ]
  },
  {
   "cell_type": "code",
   "execution_count": null,
   "metadata": {},
   "outputs": [],
   "source": [
    "data = []                      # data = variable de stockage (liste) des lignes du fichier\n",
    "fic = open('demos/mobileApp.csv','r')      # Ouverture du fichier en lecture\n",
    "while 1:                       # Boucle « infinie » : lecture des lignes une par une\n",
    "    ligne = fic.readline()           # Lecture d’une ligne et stockage dans la variable « ligne »\n",
    "    if ligne == \"\":                  # Si ligne vide…\n",
    "        break                                 # … sortir de la boucle\n",
    "    else:                            # Sinon…\n",
    "        lg = ligne.split(\";\")                 # Traitement par split => lg = liste de chaînes\n",
    "        lg = [s.replace(',','.') for s in lg] # Modification du séparateur décimal , -> .\n",
    "        data.append(lg)                       # Ajout d'une nouvelle ligne à data => data = liste de listes\n",
    "fic.close()                    # Fermeture du fichier\n",
    "\n",
    "data[0:4]                      # Affichage des 4 premières lignes"
   ]
  },
  {
   "cell_type": "markdown",
   "metadata": {},
   "source": [
    "A ce stade, la variable data est une liste de listes (lignes du fichier).<br>\n",
    "Chaque liste (issue d’une ligne) est composée de chaînes et non de flottants.<br><br>"
   ]
  },
  {
   "cell_type": "markdown",
   "metadata": {},
   "source": [
    "#### <div style=\"border-bottom:solid,1px;\"><b>Etape 2 - Traitement des données</b></div>\n",
    "<br>Le temps est dans la colonne d'index 0 et l'accélération verticale (suivant z) est dans la colonne d'index 3.<br>\n",
    "La ligne <code>%matplotlib inline</code> n'est utile que pour un notebook (inutile dans un IDE comme Pyzo ou Spyder par exemple)."
   ]
  },
  {
   "cell_type": "code",
   "execution_count": null,
   "metadata": {},
   "outputs": [],
   "source": [
    "%matplotlib inline\n",
    "import numpy as np\n",
    "import matplotlib.pyplot as plt\n",
    "\n",
    "data = data[1:]                     # Supprimer la ligne d'en-tête (nécessaire dans cet exemple)\n",
    "dataN = np.array(data,dtype=float)  # Transformation de la liste de listes data en tableau numpy de flottants   \n",
    "\n",
    "plt.plot(dataN[:,0],dataN[:,3])     # abscisse = 1ère colonne du tableau et ordonnées = 4ème colonne du tableau = az   \n",
    "plt.show()"
   ]
  },
  {
   "cell_type": "markdown",
   "metadata": {},
   "source": [
    "On distingue bien une phase au cours de laquelle l'accélération mesurée est nulle (en réalité, le capteur mesure a<inf>z</inf> - g)."
   ]
  },
  {
   "cell_type": "markdown",
   "metadata": {},
   "source": [
    "<b>Remarque</b> : il existe un module csv qui permet de traiter les fichiers csv.<br><br>"
   ]
  },
  {
   "cell_type": "markdown",
   "metadata": {},
   "source": [
    "<div style=\"border-bottom:solid,1px;\">&#128432; <b>Exercice : fichier regressi</b><div id=\"Ex\"></div></div><br>\n",
    "Observer le contenu du fichier demos/regressi.txt puis tracer les courbes correspondant aux données."
   ]
  },
  {
   "cell_type": "code",
   "execution_count": null,
   "metadata": {},
   "outputs": [],
   "source": []
  },
  {
   "cell_type": "markdown",
   "metadata": {},
   "source": [
    "<a href=\"#E1\">Solution exercice</a><br><br>"
   ]
  },
  {
   "cell_type": "markdown",
   "metadata": {},
   "source": [
    "<div style=\"border-bottom:solid,1px;\">&#128432; <b>Exercice : fichier latispro</b></div><br>\n",
    "Observer le contenu du fichier demos/doppler.txt puis tracer les courbes correspondant aux données."
   ]
  },
  {
   "cell_type": "code",
   "execution_count": null,
   "metadata": {},
   "outputs": [],
   "source": []
  },
  {
   "cell_type": "markdown",
   "metadata": {},
   "source": [
    "<a href=\"#E2\">Solution exercice</a>"
   ]
  },
  {
   "cell_type": "markdown",
   "metadata": {},
   "source": [
    "<hr>\n",
    "<div style=\"color:Sienna;font-family:serif;border:solid,2px;padding:2%;\">\n",
    "    <div style=\"font-size:larger;text-align:center;\">Réponses</div></div>\n",
    "<hr>"
   ]
  },
  {
   "cell_type": "markdown",
   "metadata": {},
   "source": [
    "<div id=\"E1\"><b>Solution Regressi</b>&nbsp;&nbsp;<a href=\"#Ex\" style=\"font-size:smaller;\">Retour exercices</a></div>"
   ]
  },
  {
   "cell_type": "code",
   "execution_count": null,
   "metadata": {},
   "outputs": [],
   "source": [
    "\"\"\" Le fichier regressi.txt comporte 4 colonnes, la première ligne est à supprimer.\n",
    "Le séparateur de colonne est la tabulation.\"\"\"\n",
    "\n",
    "import numpy as np\n",
    "import matplotlib.pyplot as plt\n",
    "\n",
    "data = []\n",
    "\n",
    "fic = open('demos/regressi.txt','r')\n",
    "while 1 :\n",
    "    ligne = fic.readline()\n",
    "    if ligne == \"\" :\n",
    "        break  \n",
    "    else:\n",
    "        lg = ligne.split()\n",
    "        data.append(lg)\n",
    "fic.close()\n",
    "\n",
    "data = data[1:]\n",
    "dataN = np.array(data,dtype=float)  \n",
    "\n",
    "plt.plot(dataN[:,0],dataN[:,1]) \n",
    "plt.plot(dataN[:,0],dataN[:,2])\n",
    "plt.plot(dataN[:,0],dataN[:,3])\n",
    "plt.show()"
   ]
  },
  {
   "cell_type": "markdown",
   "metadata": {},
   "source": [
    "<div id=\"E2\"><b>Solution Latispro</b>&nbsp;&nbsp;<a href=\"#Ex\" style=\"font-size:smaller;\">Retour exercices</a></div>"
   ]
  },
  {
   "cell_type": "code",
   "execution_count": null,
   "metadata": {},
   "outputs": [],
   "source": [
    "\"\"\" Le fichier doppler.txt comporte 2 colonnes :\n",
    "la 1ère correspond au temps t et la seconde est le signal capté.\n",
    "La 1ère ligne doit être ignorée (noms) et le séparateur de colonne est le point-virgule. \"\"\"\n",
    "\n",
    "data = []\n",
    "\n",
    "fic = open('demos/doppler.txt','r')\n",
    "while 1 :\n",
    "    ligne = fic.readline()\n",
    "    if ligne == \"\" :\n",
    "        break  \n",
    "    else:\n",
    "        data.append(ligne.split(';'))\n",
    "fic.close()\n",
    "\n",
    "dataN = np.array(data[1:],dtype=float)  \n",
    "\n",
    "plt.plot(dataN[:,0],dataN[:,1])\n",
    "plt.show()"
   ]
  },
  {
   "cell_type": "code",
   "execution_count": null,
   "metadata": {},
   "outputs": [],
   "source": []
  }
 ],
 "metadata": {
  "kernelspec": {
   "display_name": "Python 3",
   "language": "python",
   "name": "python3"
  },
  "language_info": {
   "codemirror_mode": {
    "name": "ipython",
    "version": 3
   },
   "file_extension": ".py",
   "mimetype": "text/x-python",
   "name": "python",
   "nbconvert_exporter": "python",
   "pygments_lexer": "ipython3",
   "version": "3.7.1"
  }
 },
 "nbformat": 4,
 "nbformat_minor": 2
}
