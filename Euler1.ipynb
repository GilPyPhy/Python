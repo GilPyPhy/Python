{
 "cells": [
  {
   "attachments": {},
   "cell_type": "markdown",
   "metadata": {},
   "source": [
    "<h1><div style=\"color:Sienna;font-family:serif;font-size:larger;text-align:center;border:solid,2px;padding:2%;\">Méthode d'Euler - Equations différentielles d'ordre 1</div></h1>\n",
    "\n",
    "<div style=\"color:chocolate;font-family:serif;border:solid,1px;padding:1%;\"><b> Ce noteBook est interactif</b> : <br>\n",
    "<ul>\n",
    "    <li> Pour <b>exécuter le code</b>, cliquer dans le code (ne pas hésiter à le modifier) puis cliquer sur l'icône <img src=\"http://s15847115.domainepardefaut.fr/python/jupyterRun.png\" alt=\"Bouton Run\" style=\"display: inline;\"> du bandeau ci-dessus.</li>\n",
    "    <li> Pour <b>ajouter une ligne de code</b> sous une ligne, cliquer sur cette ligne puis cliquer sur l'icône <img src=\"http://s15847115.domainepardefaut.fr/python/jupyterPlus.png\" alt=\"Bouton Plus\" style=\"display: inline;\">.</li>\n",
    "    <li>Pour <b>ajouter une ligne de commentaires</b>, créer une ligne de code comme ci-dessus puis cliquer sur l'icône <img src=\"http://s15847115.domainepardefaut.fr/python/jupyterCode.png\" alt=\"Bouton Code\" style=\"display: inline;\"> et choisir <img src=\"http://s15847115.domainepardefaut.fr/python/jupyterMarkdown.png\" alt=\"Bouton Markdown\" style=\"display: inline;\">.</li>\n",
    "</ul><br>Exécuter systématiquement le code fourni pour visualiser le résultat.<br>Les exercices sont signalés par l'icône &#128432;<br>Si le disque de l'icône <img src=\"http://s15847115.domainepardefaut.fr/python/jupyterKernel.png\" alt=\"Bouton Markdown\" style=\"display: inline;\"> reste sombre, c'est que le programme tourne en boucle. Redémarrer alors le noyau Python (kernel)  en cliquant sur <img src=\"http://s15847115.domainepardefaut.fr/python/jupyterRestart.png\" alt=\"Bouton Markdown\" style=\"display: inline;\">. La mémoire est remise à zéro, il faut donc exécuter à nouveau les commandes. Pour redémarrer et exécuter la feuille, choisir l'icône <img src=\"http://s15847115.domainepardefaut.fr/python/jupyterRExec.png\" alt=\"Bouton Markdown\" style=\"display: inline;\"></div>"
   ]
  },
  {
   "cell_type": "markdown",
   "metadata": {},
   "source": [
    "<h2><div style=\"color:blue;font-family:serif;border:solid,1px;padding:1%;\">Méthode</div></h2>"
   ]
  },
  {
   "cell_type": "markdown",
   "metadata": {},
   "source": [
    "<b>Notations</b><br>\n",
    "Une équation différentielle linéaire du premier ordre peut se mettre sous la forme : $$\\displaystyle\\frac{dy}{dt}=f(t,y(t))$$ où la fonction $f(t,y(t))$ donnant l'expression de la dérivée est <b>connue</b>.<br><br>\n",
    "<b>Exemple</b><br>\n",
    "La tension <i>u</i> aux bornes du condensateur d'un circuit RC alimenté par un générateur délivrant une tension variable <i>e</i>(<i>t</i>) vérifie l'équation différentielle : $$\\displaystyle\\frac{du}{dt}+\\frac{u}{\\tau}=\\frac{e(t)}{\\tau}$$<br>\n",
    "Dans cet exemple, l'équation différentelle s'écrit bien : $$\\displaystyle\\frac{du}{dt}=f(t,u(t))$$ avec  $f(t,u(t))=-\\displaystyle\\frac{u}{\\tau}+\\frac{e(t)}{\\tau}$ où toutes les quantités sont connues car fixées dans le cadre de la modélisation.<br><br>\n",
    "\n",
    "<b>Schéma numérique</b><br>\n",
    "La méthode d’Euler consiste à :<br> \n",
    "1)\t<span style=\"color:red;\">discrétiser le temps <i>t</i></span> (remplacer la grandeur physique continue <i>t</i> par une suite d’instants tn) ;<br>\n",
    "2)\t<span style=\"color:red;\">discrétiser la grandeur <i>y</i>(<i>t</i>)</span>  (remplacer la grandeur physique continue <i>y</i>(<i>t</i>) par une suite de valeurs yn correspondants aux différents instants tn) ;<br>\n",
    "3)\t<span style=\"color:red;\">approximer la dérivée</span> $\\dot{y}(t)$  par un <b>taux de variation</b> entre un instant et le suivant : $\\dot y({t_n}) \\approx \\displaystyle\\frac{y({t_{n+1}) - y({t_n})}}{t_{n+1} - t_n}$  (1);<br>\n",
    "4)\t<span style=\"color:red;\">Exprimer $y(t_{n+1})$ en fonction de $y(t_n)$</span> (cf. relation de récurrence ci-dessous).<br><br>\n",
    "\n",
    "<b>Implémentation</b> (i.e. représentation informatique) :<br>\n",
    "- les instants tn seront stockés dans une liste t ou un tableau numpy ;<br>\n",
    "- les valeurs yn seront stockées dans une liste y ou un tableau numpy ;<br>\n",
    "<span style=\"color:red;\">A la notation mathématique tn correspondra donc la notation informatique t&#91;n&#93; et à y(tn) correspondra la notation y&#91;n&#93;</span>.\n",
    "\n",
    "<b>1/ Discrétisation du temps <i>t</i></b><br>\n",
    "On se donne la durée entre deux instants consécutifs, notée <i>h</i> et appelée <b>pas de discrétisation</b>, choisie suffisamment « petite » (compromis entre temps de calcul et précision souhaitée).<br>\n",
    "On définit alors des instants successifs par :  t0 ,  t1 = t0 + h, t2 = t1 + h,… séparés par une même durée h. On a donc $t\\left[n+1\\right] = t\\left[n\\right] + h.$<br>\n",
    "Ou encore  $t\\left[n\\right] = t0 + n*h$.<br>\n",
    "On dispose donc de deux façons de calculer les instants tn.<br>\n",
    "\n",
    "<b>2/ 3/ et 4/ Discrétisation de <i>y</i>(<i>t</i>)</b><br>\n",
    "En remplaçant $t_{n+1} - t_n$ par <i>h</i> dans (1), on obtient : $y(t_{n + 1}) = y(t_n) + h\\,f({t_n},y(t_n))$<br>\n",
    "La récurrence informatique s’écrit alors : $y\\left[n+1\\right] = y\\left[n\\right] + h*f(t\\left[n\\right],y\\left[n\\right])$<br>\n",
    "<span style=\"color:red;\">Cette relation constitue la récurrence permettant de calculer le point suivant à partir du point précédent (la condition initiale fournit le point de départ)</span>.<br><br>\n",
    "Dans l'exemple du circuit RC, la récurrence s'écrit : $u\\left[n+1\\right] = u\\left[n\\right] +h*\\left(-u\\left[n\\right]/tau + e\\left[n\\right]/tau \\right)$.\n"
   ]
  },
  {
   "cell_type": "markdown",
   "metadata": {},
   "source": [
    "<h2><div style=\"color:blue;font-family:serif;border:solid,1px;padding:1%;\">Méthode d'Euler avec des listes</div></h2>"
   ]
  },
  {
   "cell_type": "markdown",
   "metadata": {},
   "source": [
    "On souhaite résoudre l’équation différentielle $\\displaystyle\\frac{du}{dt} + \\frac{1}{\\tau }u = 0$  de la décharge d’un condensateur de capacité C à travers un résistor de résistance R sachant que la tension aux bornes du condensateur à t = t0 = 0 est u0 = 10 V et que $\\tau$ = 1 ms.<br>\n",
    "La durée totale de la simulation est notée T et le nombre de points calculés est noté N.<br><br>\n",
    "Deux métodes sont suggérées ci-dessous car <span style=\"color:red;\">la façon d’initialiser les listes conditionne l’écriture de la récurrence</span>.<br><br>\n",
    "Les scripts proposés ci-dessous peuvent être améliorés, ils sont adaptés à la découverte de l'algorithme d'Euler..."
   ]
  },
  {
   "cell_type": "markdown",
   "metadata": {},
   "source": [
    "&#128432; <b>1ère méthode - Listes initialisées grâce aux valeurs initiales &rArr; nouvelles valeurs ajoutées à la liste au fur et à mesure</b><br>\n",
    "Écrire une fonction Euler1(t0, u0, T, N) de paramètres t0, u0, T, N définis ci-dessus et retournant deux listes nommées t et u contenant les instants et les valeurs correspondantes de la tension aux bornes du condensateur ($\\tau$ pourra être considérée comme une variable globale) :<br>\n",
    "- initialiser les listes à l’aide des conditions initiales fournies ;<br>\n",
    "- utiliser une boucle pour remplir les listes t et u à l'aide de la méthode append().<br>\n"
   ]
  },
  {
   "cell_type": "code",
   "execution_count": 15,
   "metadata": {},
   "outputs": [],
   "source": [
    "def Euler1(t0,u0,T,N):\n",
    "    global tau               # tau sera défini en dehors de la fonction\n",
    "    t = [t0]                 # Initialisation de la liste des instants\n",
    "    u = [u0]                 # Initialisation de la liste des tensions\n",
    "    h = T/N                  # Pas temporel\n",
    "    for n in range(N):       # Boucle calculant N points (donc listes de N+1 valeurs au total)\n",
    "        t.append(t[n]+h)          # Calcul puis ajout de l'instant suivant à la liste t\n",
    "        u.append(u[n]-h*u[n]/tau) # Calcul puis ajout de la tension correspondante à la liste u\n",
    "    return t, u              # La fonction retourne les deux listes"
   ]
  },
  {
   "cell_type": "markdown",
   "metadata": {},
   "source": [
    "&#128432; <b>2ème méthode - Listes initialisées à leur taille finale puis modifiées</b><br>\n",
    "Écrire une fonction Euler2(to, uo, T, N) effectuant le même travail que Euler1 en procédant comme suit :\n",
    "- initialiser t par compréhension ;<br>\n",
    "- initialiser u par une liste remplie de 0 puis modifier u pour tenir compte des conditions initiales ;<br>\n",
    "- utiliser une boucle pour modifier la liste u en écrasant les valeurs préexistantes.<br>\n"
   ]
  },
  {
   "cell_type": "code",
   "execution_count": 16,
   "metadata": {},
   "outputs": [],
   "source": [
    "def Euler2(t0,u0,T,N):\n",
    "    global tau\n",
    "    h = T/N\n",
    "    t = [t0+n*h for n in range(N+1)]  # Initialisation par compréhension (N+1 valeurs)\n",
    "    u = (N+1)*[u0]                    # Initialisation de la liste des tensions (N+1 valeurs)\n",
    "    for n in range(N):                # Boucle modifiant les N derniers points de la liste u\n",
    "        u[n+1] = u[n]-h*u[n]/tau           # Récurrence\n",
    "    return t, u"
   ]
  },
  {
   "cell_type": "markdown",
   "metadata": {},
   "source": [
    "L’intérêt de cette <b>dernière méthode</b> réside dans le fait que <span style=\"color:red;\">la relation de récurrence peut être programmée sans aucune modification</span>.<br> Dans la fonction Euler1, u&#91;n+1&#93; = … est <b>impossible</b> car u&#91;n+1&#93; <b>ne préexiste pas</b>."
   ]
  },
  {
   "cell_type": "markdown",
   "metadata": {},
   "source": [
    "<b>Tracés</b>"
   ]
  },
  {
   "cell_type": "code",
   "execution_count": 19,
   "metadata": {},
   "outputs": [
    {
     "data": {
      "image/png": "[encoded data removed]",
      "text/plain": [
       "<Figure size 432x288 with 1 Axes>"
      ]
     },
     "metadata": {
      "needs_background": "light"
     },
     "output_type": "display_data"
    }
   ],
   "source": [
    "import matplotlib.pyplot as plt\n",
    "\n",
    "# Paramètres physiques\n",
    "t0, u0, T, tau = 0, 10, 6E-3, 1E-3\n",
    "\n",
    "# Paramètres schéma numérique\n",
    "N = 100\n",
    "\n",
    "# Calculs\n",
    "t1, u1 = Euler1(t0,u0,T,N)\n",
    "t2, u2 = Euler2(t0,u0,T,N)\n",
    "\n",
    "# Tracés\n",
    "plt.plot(t1,u1,color='red',  marker='o')\n",
    "plt.plot(t2,u2,color='blue', marker='+')\n",
    "plt.show()"
   ]
  },
  {
   "cell_type": "markdown",
   "metadata": {},
   "source": [
    "🖰 Superposer à ces simulations la solution exacte (calculée) en définissant une fonction solution(t) dont le graphe sera superposé à ceux des deux simulations précédentes."
   ]
  },
  {
   "cell_type": "markdown",
   "metadata": {},
   "source": [
    "<h2><div style=\"color:blue;font-family:serif;border:solid,1px;padding:1%;\">Méthode d'Euler avec des tableaux</div></h2>"
   ]
  },
  {
   "cell_type": "markdown",
   "metadata": {},
   "source": [
    "A suivre..."
   ]
  },
  {
   "cell_type": "code",
   "execution_count": null,
   "metadata": {},
   "outputs": [],
   "source": []
  },
  {
   "cell_type": "code",
   "execution_count": null,
   "metadata": {},
   "outputs": [],
   "source": []
  }
 ],
 "metadata": {
  "kernelspec": {
   "display_name": "Python 3",
   "language": "python",
   "name": "python3"
  },
  "language_info": {
   "codemirror_mode": {
    "name": "ipython",
    "version": 3
   },
   "file_extension": ".py",
   "mimetype": "text/x-python",
   "name": "python",
   "nbconvert_exporter": "python",
   "pygments_lexer": "ipython3",
   "version": "3.7.0"
  }
 },
 "nbformat": 4,
 "nbformat_minor": 2
}
