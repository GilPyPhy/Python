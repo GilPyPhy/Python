{
 "cells": [
  {
   "cell_type": "markdown",
   "metadata": {},
   "source": [
    "<h1><div style=\"color:Sienna;font-family:serif;font-size:larger;text-align:center;border:solid,2px;padding:2%;\">Méthode d'Euler - Equations différentielles d'ordre 1</div></h1>"
   ]
  },
  {
   "cell_type": "markdown",
   "metadata": {},
   "source": [
    "# <div style=\"color:blue;font-family:serif;border:solid,1px;padding:1%;\">Méthode d'Euler explicite</div>"
   ]
  },
  {
   "cell_type": "markdown",
   "metadata": {},
   "source": [
    "<b>Notations</b><br>\n",
    "Une équation différentielle linéaire du premier ordre peut se mettre sous la forme : $$\\displaystyle\\frac{dy}{dt}=f(t,y(t))$$ où la fonction $f(t,y(t))$ donnant l'expression de la dérivée est <b>connue</b>.<br><br>\n",
    "<b>Exemple</b><br>\n",
    "La tension <i>u</i> aux bornes du condensateur d'un circuit RC alimenté par un générateur délivrant une tension variable <i>e</i>(<i>t</i>) vérifie l'équation différentielle : $$\\displaystyle\\frac{du}{dt}+\\frac{u}{\\tau}=\\frac{e(t)}{\\tau}$$<br>\n",
    "Dans cet exemple, l'équation différentelle s'écrit bien : $$\\displaystyle\\frac{du}{dt}=f(t,u(t))$$ avec  $f(t,u(t))=-\\displaystyle\\frac{u}{\\tau}+\\frac{e(t)}{\\tau}$ où toutes les quantités sont connues car fixées dans le cadre de la modélisation.<br><br>\n",
    "\n",
    "<b>Schéma numérique</b><br>\n",
    "La méthode d’Euler consiste à :<br> \n",
    "1)\t<span style=\"color:red;\">discrétiser le temps <i>t</i></span> (remplacer la grandeur physique continue <i>t</i> par une suite d’instants tn) ;<br>\n",
    "2)\t<span style=\"color:red;\">discrétiser la grandeur <i>y</i>(<i>t</i>)</span>  (remplacer la grandeur physique continue <i>y</i>(<i>t</i>) par une suite de valeurs yn correspondants aux différents instants tn) ;<br>\n",
    "3)\t<span style=\"color:red;\">approximer la dérivée</span> $\\dot{y}(t)$  par un <b>taux de variation</b> entre un instant et le suivant : $\\dot y({t_n}) \\approx \\displaystyle\\frac{y({t_{n+1}) - y({t_n})}}{t_{n+1} - t_n}$  (1);<br>\n",
    "4)\t<span style=\"color:red;\">Exprimer $y(t_{n+1})$ en fonction de $y(t_n)$</span> (cf. relation de récurrence ci-dessous).<br><br>\n",
    "\n",
    "<b>Implémentation</b> (i.e. représentation informatique) :<br>\n",
    "- les instants tn seront stockés dans une liste t ou un tableau numpy ;<br>\n",
    "- les valeurs yn seront stockées dans une liste y ou un tableau numpy ;<br>\n",
    "<span style=\"color:red;\">A la notation mathématique tn correspondra donc la notation informatique t&#91;n&#93; et à y(tn) correspondra la notation y&#91;n&#93;</span>.\n",
    "\n",
    "<b>1/ Discrétisation du temps <i>t</i></b><br>\n",
    "On se donne la durée entre deux instants consécutifs, notée <i>h</i> et appelée <b>pas de discrétisation</b>, choisie suffisamment « petite » (compromis entre temps de calcul et précision souhaitée).<br>\n",
    "On définit alors des instants successifs par :  t0 ,  t1 = t0 + h, t2 = t1 + h,… séparés par une même durée h. On a donc $t\\left[n+1\\right] = t\\left[n\\right] + h.$<br>\n",
    "Ou encore  $t\\left[n\\right] = t0 + n*h$.<br>\n",
    "On dispose donc de deux façons de calculer les instants tn.<br>\n",
    "\n",
    "<b>2/ 3/ et 4/ Discrétisation de <i>y</i>(<i>t</i>)</b><br>\n",
    "En remplaçant $t_{n+1} - t_n$ par <i>h</i> dans (1), on obtient : $y(t_{n + 1}) = y(t_n) + h\\,f({t_n},y(t_n))$<br>\n",
    "La récurrence informatique s’écrit alors : $y\\left[n+1\\right] = y\\left[n\\right] + h*f(t\\left[n\\right],y\\left[n\\right])$<br>\n",
    "<span style=\"color:red;\">Cette relation constitue la récurrence permettant de calculer le point suivant à partir du point précédent (la condition initiale fournit le point de départ)</span>.<br><br>\n",
    "Dans l'exemple du circuit RC, la récurrence s'écrit : $u\\left[n+1\\right] = u\\left[n\\right] +h*\\left(-u\\left[n\\right]/tau + e\\left[n\\right]/tau \\right)$.\n"
   ]
  },
  {
   "cell_type": "markdown",
   "metadata": {},
   "source": [
    "<b>Remarque</b> : il existe une méthode d'Euler implicite qui utilise une évaluation différente du taux de variation."
   ]
  },
  {
   "cell_type": "markdown",
   "metadata": {},
   "source": [
    "# <div style=\"color:blue;font-family:serif;border:solid,1px;padding:1%;\">Méthode d'Euler avec des listes</div>"
   ]
  },
  {
   "cell_type": "markdown",
   "metadata": {},
   "source": [
    "On souhaite résoudre l’équation différentielle $\\displaystyle\\frac{du}{dt} + \\frac{1}{\\tau }u = 0$  de la décharge d’un condensateur de capacité C à travers un résistor de résistance R sachant que la tension aux bornes du condensateur à t = t0 = 0 est u0 = 10 V et que $\\tau$ = 1 ms.<br>\n",
    "La durée totale de la simulation est notée T et le nombre de points calculés est noté N.<br><br>\n",
    "Deux métodes sont suggérées ci-dessous car <span style=\"color:red;\">la façon d’initialiser les listes conditionne l’écriture de la récurrence</span>.<br><br>\n",
    "Les scripts proposés ci-dessous peuvent être améliorés, ils sont adaptés à la découverte de l'algorithme d'Euler..."
   ]
  },
  {
   "cell_type": "markdown",
   "metadata": {},
   "source": [
    "<div style=\"border:solid,1px;padding:1%;\">&#128432; <b>1ère méthode - Listes initialisées grâce aux valeurs initiales &rArr; nouvelles valeurs ajoutées à la liste au fur et à mesure</b><br>\n",
    "Écrire une fonction Euler1(t0, u0, T, N) de paramètres t0, u0, T, N définis ci-dessus et retournant deux listes nommées t et u contenant les instants et les valeurs correspondantes de la tension aux bornes du condensateur ($\\tau$ pourra être considérée comme une variable globale) :<br>\n",
    "- initialiser les listes à l’aide des conditions initiales fournies ;<br>\n",
    "- utiliser une boucle pour remplir les listes t et u à l'aide de la méthode append().<br>\n",
    "</div>"
   ]
  },
  {
   "cell_type": "code",
   "execution_count": null,
   "metadata": {},
   "outputs": [],
   "source": []
  },
  {
   "cell_type": "markdown",
   "metadata": {},
   "source": [
    "<a href=\"#M1\">Solution méthode 1</a>"
   ]
  },
  {
   "cell_type": "markdown",
   "metadata": {},
   "source": [
    "<div style=\"border:solid,1px;padding:1%;\">&#128432; <b>2ème méthode - Listes initialisées à leur taille finale puis modifiées</b><br>\n",
    "Écrire une fonction Euler2(to, uo, T, N) effectuant le même travail que Euler1 en procédant comme suit :\n",
    "- initialiser t par compréhension ;<br>\n",
    "- initialiser u par une liste remplie de 0 puis modifier u pour tenir compte des conditions initiales ;<br>\n",
    "- utiliser une boucle pour modifier la liste u en écrasant les valeurs préexistantes.<br>\n",
    "</div>"
   ]
  },
  {
   "cell_type": "code",
   "execution_count": null,
   "metadata": {},
   "outputs": [],
   "source": []
  },
  {
   "cell_type": "markdown",
   "metadata": {},
   "source": [
    "<a href=\"#M2\">Solution méthode 2</a>"
   ]
  },
  {
   "cell_type": "markdown",
   "metadata": {},
   "source": [
    "L’intérêt de cette <b>dernière méthode</b> réside dans le fait que <span style=\"color:red;\">la relation de récurrence peut être programmée sans aucune modification</span>.<br> Dans la fonction Euler1, u&#91;n+1&#93; = … est <b>impossible</b> car u&#91;n+1&#93; <b>ne préexiste pas</b>."
   ]
  },
  {
   "cell_type": "markdown",
   "metadata": {},
   "source": [
    "<b>Graphes</b><br><br>\n",
    "&#128432; Superposer sur un même graphe les solutions Euler1 et Euler2 en fonction du temps.<br>\n",
    "<i>Remarque : valider deux fois la cellule si le graphe n'apparaît pas</i>."
   ]
  },
  {
   "cell_type": "code",
   "execution_count": null,
   "metadata": {},
   "outputs": [],
   "source": []
  },
  {
   "cell_type": "markdown",
   "metadata": {},
   "source": [
    "<a href=\"#T1\">Solution graphes</a>"
   ]
  },
  {
   "cell_type": "markdown",
   "metadata": {},
   "source": [
    "&#128432; Superposer à ces simulations la solution exacte (calculée) en définissant une fonction solution(t) dont le graphe sera superposé à ceux des deux simulations précédentes."
   ]
  },
  {
   "cell_type": "code",
   "execution_count": null,
   "metadata": {},
   "outputs": [],
   "source": []
  },
  {
   "cell_type": "markdown",
   "metadata": {},
   "source": [
    "<a href=\"#SE\">Solution exacte</a>"
   ]
  },
  {
   "cell_type": "markdown",
   "metadata": {},
   "source": [
    "<div style=\"border-bottom:solid,1px;\">&#128432; <b>Exercice 1 : charge du condensateur</b><br><div id=\"Ex\"></div></div>\n",
    "<br>On souhaite résoudre l’équation différentielle $\\displaystyle\\frac{du}{dt} + \\frac{1}{\\tau }u = \\frac{E}{\\tau }$  de la charge d’un condensateur de capacité C à travers un résistor de résistance R sachant que la tension aux bornes du condensateur à t = t0 = 0 est u0 = 0 V, que $\\tau$ = 1 ms et que E = 10 V (tension continue délivrée par un générateur).<br>\n",
    "La durée totale de la simulation est notée T et le nombre de points calculés est noté N.<br>\n",
    "Représenter sur un même graphe la tension aux bornes du condensateur et la tension délivrée par le générateur."
   ]
  },
  {
   "cell_type": "code",
   "execution_count": null,
   "metadata": {},
   "outputs": [],
   "source": []
  },
  {
   "cell_type": "markdown",
   "metadata": {},
   "source": [
    "<a href=\"#E1\">Solution exercice 1</a>"
   ]
  },
  {
   "cell_type": "markdown",
   "metadata": {},
   "source": [
    "<div style=\"border-bottom:solid,1px;\">&#128432; <b>Exercice 2 : régime sinusoïdal forcé</b><br></div>\n",
    "<br>On alimente le circuit avec un GBFdélivrant une tension sinusoïdale $e(t)=e_m \\cos(\\displaystyle\\frac{2\\pi}{T_{GBF}}t)$.<br>L’équation différentielle du circuit devient : $\\displaystyle\\frac{du}{dt} + \\frac{1}{\\tau }u = \\frac{e(t)}{\\tau }$.  <br>Prendre T = 3xTGBF.<br>\n",
    "1/ Représenter sur un même graphe la tension aux bornes du condensateur et la tension délivrée par le générateur.<br>\n",
    "2/ Ajuster les paramètres physiques pour illustrer le caractère passe-bas de ce filtre (en traçant plusieurs graphes)."
   ]
  },
  {
   "cell_type": "code",
   "execution_count": null,
   "metadata": {},
   "outputs": [],
   "source": []
  },
  {
   "cell_type": "markdown",
   "metadata": {},
   "source": [
    "<a href=\"#E2\">Solution exercice 2</a>"
   ]
  },
  {
   "cell_type": "markdown",
   "metadata": {},
   "source": [
    "<div style=\"border-bottom:solid,1px;\">&#128432; <b>Exercice 3</b><br></div>\n",
    "<br>Que fait la fonction suivante mystere(t) ? <br>\n",
    "Tester la fonction, tracer un graphe (utiliser numpy pour construire un tableau t  d'instant de 0 à T et prendre Tgbf = T/3 par exemple)...<br>\n",
    "Que se passe-t-il si le GBF délivre cette tension ? Effectuer des simulations."
   ]
  },
  {
   "cell_type": "code",
   "execution_count": null,
   "metadata": {},
   "outputs": [],
   "source": [
    "def mystere(t,Tgbf):\n",
    "    if t/Tgbf-t//Tgbf <= 1/2:\n",
    "        return 1\n",
    "    else:\n",
    "        return -1"
   ]
  },
  {
   "cell_type": "code",
   "execution_count": null,
   "metadata": {},
   "outputs": [],
   "source": []
  },
  {
   "cell_type": "code",
   "execution_count": null,
   "metadata": {},
   "outputs": [],
   "source": []
  },
  {
   "cell_type": "markdown",
   "metadata": {},
   "source": [
    "<a href=\"#E3\">Solution exercice 3</a>"
   ]
  },
  {
   "cell_type": "markdown",
   "metadata": {},
   "source": [
    "<div style=\"border-bottom:solid,1px;\">&#128432; <b>Exercice 4 : fonction Euler plus générale</b></div>\n",
    "<br>Il n'est pas très pratique de devoir récrire la fonction Euler pour l'adapter à chaque problème. Il est possible de la rendre un peu plus \"universelle\" en ajoutant la fonction $f(t,u(t))$ (cf. paragraphe \"Méthode\" ci-dessus) aux paramètres de la fonction Euler.<br>\n",
    "Ecrire une fonction Euler(T,N,CI,f) où CI est une liste de la forme &#91;t0,u0&#93; (conditions initiales) et f une fonction de la forme $f(t,u(t))$ qui sera définie par ailleurs dans le programme (en dehors de la fonction Euler)."
   ]
  },
  {
   "cell_type": "code",
   "execution_count": null,
   "metadata": {},
   "outputs": [],
   "source": []
  },
  {
   "cell_type": "markdown",
   "metadata": {},
   "source": [
    "<a href=\"#E4\">Solution exercice 4</a>"
   ]
  },
  {
   "cell_type": "markdown",
   "metadata": {},
   "source": [
    "# <div style=\"color:blue;font-family:serif;border:solid,1px;padding:1%;\">Méthode d'Euler avec des tableaux</div>"
   ]
  },
  {
   "cell_type": "markdown",
   "metadata": {},
   "source": [
    "<div style=\"border:solid,1px;padding:1%\">&#128432; <b>Utilisation de tableaux numpy</b><div id=\"ExT\"></div><br>\n",
    "Si on a plusieurs équations à résoudre ou plusieurs courbes à tracer, il peut être avantageux (mais non indispensable) de créer le tableau t en dehors de la fonction Euler (le tableau est alors inclus dans la liste de ses paramètres).<br>\n",
    "On se place dans le cadre de l'exercice 2 (circuit RC en régime sinusoïdal forcé).<br>\n",
    "1/ Définir une fonction GBF2 utilisant la fonction sinus de numpy et non celle du module math (cette fonction pourra ainsi être appliquée à un tableau).<br>\n",
    "2/ Créer le tableau t des instants de 0 à T grâce à np.linspace.<br>\n",
    "3/ Écrire une fonction EulerT(t0, u0, t) retournant le tableau u correspondants aux instants t (T et N peuvent être déduits du tableau t ; initialiser le tableau u grâce à np.zeros puis utiliser une boucle pour modifier le tableau u en écrasant les valeurs préexistantes).<br>\n",
    "4/ Tracer le graphe u(t).</div>"
   ]
  },
  {
   "cell_type": "code",
   "execution_count": null,
   "metadata": {},
   "outputs": [],
   "source": []
  },
  {
   "cell_type": "markdown",
   "metadata": {},
   "source": [
    "<a href=\"#MT\">Solution numpy</a>"
   ]
  },
  {
   "cell_type": "markdown",
   "metadata": {},
   "source": [
    "On peut également rendre cette fonction plus adaptable sur le principe de l'exercice 4."
   ]
  },
  {
   "cell_type": "markdown",
   "metadata": {},
   "source": [
    "# <div style=\"color:blue;font-family:serif;border:solid,1px;padding:1%;\">A suivre : équations d'ordre 2, systèmes différentiels...</div>"
   ]
  },
  {
   "cell_type": "markdown",
   "metadata": {},
   "source": [
    "<hr>\n",
    "<div style=\"color:Sienna;font-family:serif;border:solid,2px;padding:2%;\">\n",
    "    <div style=\"font-size:larger;text-align:center;\">Réponses</div><br>\n",
    "    <div style=\"color:Sienna;font-family:serif;\">Les exercices sont conçus pour être traités dans l'ordre. En conséquence, la réponse à l'exercice n+1 ne reprend pas les commandes identiques à celles de l'exercice n (seules les modifications sont fournies). Ne pas hésiter à rajouter ces commandes en cas de dysfonctionnement (probablement dû à des modifications dans les instructions précédentes).</div>\n",
    "</div>\n",
    "<hr>"
   ]
  },
  {
   "cell_type": "markdown",
   "metadata": {},
   "source": [
    "<div id=\"M1\"><b>Solution méthode 1</b></div>"
   ]
  },
  {
   "cell_type": "code",
   "execution_count": null,
   "metadata": {},
   "outputs": [],
   "source": [
    "def Euler1(t0,u0,T,N):\n",
    "    global tau               # tau sera défini en dehors de la fonction\n",
    "    t = [t0]                 # Initialisation de la liste des instants\n",
    "    u = [u0]                 # Initialisation de la liste des tensions\n",
    "    h = T/N                  # Pas temporel\n",
    "    for n in range(N):       # Boucle calculant N points (donc listes de N+1 valeurs au total)\n",
    "        t.append(t[n]+h)          # Calcul puis ajout de l'instant suivant à la liste t\n",
    "        u.append(u[n]-h*u[n]/tau) # Calcul puis ajout de la tension correspondante à la liste u\n",
    "    return t, u              # La fonction retourne les deux listes"
   ]
  },
  {
   "cell_type": "markdown",
   "metadata": {},
   "source": [
    "<div id=\"M2\"><b>Solution méthode 2</b></div>"
   ]
  },
  {
   "cell_type": "code",
   "execution_count": null,
   "metadata": {},
   "outputs": [],
   "source": [
    "def Euler2(t0,u0,T,N):\n",
    "    global tau\n",
    "    h = T/N\n",
    "    t = [t0+n*h for n in range(N+1)]  # Initialisation par compréhension (N+1 valeurs)\n",
    "    u = (N+1)*[u0]                    # Initialisation de la liste des tensions (N+1 valeurs)\n",
    "    for n in range(N):                # Boucle modifiant les N derniers points de la liste u\n",
    "        u[n+1] = u[n]-h*u[n]/tau           # Récurrence\n",
    "    return t, u"
   ]
  },
  {
   "cell_type": "markdown",
   "metadata": {},
   "source": [
    "<div id=\"T1\"><b>Graphes Euler1 et Euler 2 en fonction du temps</b></div>"
   ]
  },
  {
   "cell_type": "code",
   "execution_count": null,
   "metadata": {},
   "outputs": [],
   "source": [
    "import matplotlib.pyplot as plt\n",
    "\n",
    "# Paramètres physiques\n",
    "tau = 1E-3\n",
    "\n",
    "# Conditions initiales\n",
    "t0, u0 = 0, 10\n",
    "\n",
    "# Paramètres schéma numérique\n",
    "N = 100\n",
    "T = 6E-3\n",
    "\n",
    "# Calculs\n",
    "t1, u1 = Euler1(t0,u0,T,N)\n",
    "t2, u2 = Euler2(t0,u0,T,N)\n",
    "\n",
    "# Tracés\n",
    "plt.plot(t1,u1,color='red',  marker='o')\n",
    "plt.plot(t2,u2,color='blue', marker='+')\n",
    "plt.show()"
   ]
  },
  {
   "cell_type": "markdown",
   "metadata": {},
   "source": [
    "<div id=\"SE\"><b>Solution exacte</b></div>"
   ]
  },
  {
   "cell_type": "code",
   "execution_count": null,
   "metadata": {},
   "outputs": [],
   "source": [
    "def solutionCalculee(t):\n",
    "    return u0*np.exp(-(t-t0)/tau)\n",
    "\n",
    "plt.plot(t1,u1,color='red',  marker='o')\n",
    "plt.plot(t2,u2,color='blue', marker='+')\n",
    "solCalc = [solutionCalculee(t) for t in t1]\n",
    "plt.plot(t1,solCalc, color='black')\n",
    "plt.show()"
   ]
  },
  {
   "cell_type": "markdown",
   "metadata": {},
   "source": [
    "<div id=\"E1\"><b>Solution exercice 1</b>&nbsp;&nbsp;<a href=\"#Ex\" style=\"font-size:smaller;\">Retour exercices</a></div>"
   ]
  },
  {
   "cell_type": "code",
   "execution_count": null,
   "metadata": {},
   "outputs": [],
   "source": [
    "def Euler(t0,u0,T,N):\n",
    "    global tau, E                          # Une variable globale supplémentaire\n",
    "    h = T/N\n",
    "    t = [t0+n*h for n in range(N+1)]\n",
    "    u = (N+1)*[u0]\n",
    "    for n in range(N):\n",
    "        u[n+1] = u[n]+h*(E-u[n])/tau       # Récurrence modifiée\n",
    "    return t, u\n",
    "\n",
    "# Paramètres physiques\n",
    "tau, E = 1E-3, 10                          # Valeur ajoutée\n",
    "\n",
    "# Conditions initiales\n",
    "t0, u0 = 0, 0                              # Valeurs mises à jour\n",
    "\n",
    "# Paramètres schéma numérique\n",
    "N = 100\n",
    "T = 6E-3\n",
    "\n",
    "# Calculs\n",
    "t, u = Euler(t0,u0,T,N)\n",
    "\n",
    "# Tracés\n",
    "plt.plot(t,u,color='red')\n",
    "plt.plot(t,(N+1)*[E],color='blue')         # Liste de N+1 valeurs égales à E\n",
    "plt.show()"
   ]
  },
  {
   "cell_type": "markdown",
   "metadata": {},
   "source": [
    "<div id=\"E2\"><b>Solution exercice 2</b>&nbsp;&nbsp;<a href=\"#Ex\" style=\"font-size:smaller;\">Retour exercices</a></div>"
   ]
  },
  {
   "cell_type": "code",
   "execution_count": null,
   "metadata": {},
   "outputs": [],
   "source": [
    "import math\n",
    "\n",
    "def GBF(t):\n",
    "    global em,Tgbf\n",
    "    return em*math.sin(2*math.pi/Tgbf*t)\n",
    "\n",
    "def Euler(t0,u0,T,N):\n",
    "    global tau                            # Modification\n",
    "    h = T/N\n",
    "    t = [t0+n*h for n in range(N+1)]\n",
    "    u = (N+1)*[u0]\n",
    "    for n in range(N):\n",
    "        u[n+1] = u[n]+h*(GBF(t[n])-u[n])/tau   # Attention : GBF(t[n]) et non GBF(t)\n",
    "    return t, u\n",
    "\n",
    "# Paramètres physiques\n",
    "tau, em, Tgbf = 1E-3, 10, 6E-3             # Modifications\n",
    "\n",
    "# Conditions initiales\n",
    "t0, u0 = 0, 0\n",
    "\n",
    "# Paramètres schéma numérique\n",
    "N = 100\n",
    "T = 3*Tgbf                                 # Modifications\n",
    "\n",
    "# Calculs\n",
    "t, u = Euler(t0,u0,T,N)\n",
    "\n",
    "# Tracés\n",
    "plt.plot(t,u,color='red')\n",
    "plt.plot(t,[GBF(i) for i in t],color='blue')         # Liste de N+1 valeurs égales à E\n",
    "plt.show()"
   ]
  },
  {
   "cell_type": "markdown",
   "metadata": {},
   "source": [
    "<b>Pour visualiser le filtrage, prendre Tgbf = 1E-4 puis Tgbf = 1E-2</b>."
   ]
  },
  {
   "cell_type": "markdown",
   "metadata": {},
   "source": [
    "<div id=\"E3\"><b>Solution exercice 3</b>&nbsp;&nbsp;<a href=\"#Ex\" style=\"font-size:smaller;\">Retour exercices</a></div>"
   ]
  },
  {
   "cell_type": "markdown",
   "metadata": {},
   "source": [
    "La fonction mystere(t,T) renvoie 1 ou -1 suivant que le reste dans la division Euclidienne de t par T est plus petit ou plus grand que Tgbf/2 : il s'agit d'un signal créneau."
   ]
  },
  {
   "cell_type": "code",
   "execution_count": null,
   "metadata": {},
   "outputs": [],
   "source": [
    "import numpy as np\n",
    "\n",
    "t = np.linspace(0,T,N)\n",
    "plt.plot(t,[mystere(i,T/3) for i in t])\n",
    "plt.show()"
   ]
  },
  {
   "cell_type": "code",
   "execution_count": null,
   "metadata": {},
   "outputs": [],
   "source": [
    "def Euler(t0,u0,T,N):\n",
    "    global tau, Tgbf\n",
    "    h = T/N\n",
    "    t = [t0+n*h for n in range(N+1)]\n",
    "    u = (N+1)*[u0]\n",
    "    for n in range(N):\n",
    "        u[n+1] = u[n]+h*(mystere(t[n],Tgbf)-u[n])/tau \n",
    "    return t, u\n",
    "\n",
    "Tgbf = T/2\n",
    "N = 500 # Il est nécessaire d'augmenter la précision (le vérfier en conservant N = 100)\n",
    "\n",
    "# Calculs\n",
    "t, u = Euler(t0,u0,T,N)\n",
    "\n",
    "# Tracés\n",
    "plt.plot(t,u,color='red')\n",
    "plt.plot(t,[mystere(i,Tgbf) for i in t],color='blue')\n",
    "plt.show()"
   ]
  },
  {
   "cell_type": "markdown",
   "metadata": {},
   "source": [
    "<div id=\"E4\"><b>Solution exercice 4</b>&nbsp;&nbsp;<a href=\"#Ex\" style=\"font-size:smaller;\">Retour exercices</a></div>"
   ]
  },
  {
   "cell_type": "code",
   "execution_count": null,
   "metadata": {},
   "outputs": [],
   "source": [
    "def Euler(T,N,CI,f):\n",
    "    h = T/N\n",
    "    t0, u0 = CI                        # Conditions initiales\n",
    "    t = [t0+n*h for n in range(N+1)]\n",
    "    u = (N+1)*[u0]\n",
    "    for n in range(N):\n",
    "        u[n+1] = u[n]+h*f(t[n],u[n])   # Récurrence\n",
    "    return t, u"
   ]
  },
  {
   "cell_type": "code",
   "execution_count": null,
   "metadata": {},
   "outputs": [],
   "source": [
    "## Exemple d'utilisation (avec la fonction GBF(t) de l'exercice 2)\n",
    "\n",
    "def f(t,u):\n",
    "    global tau\n",
    "    return (GBF(t)-u)/tau\n",
    "\n",
    "# Calculs\n",
    "t, u = Euler(T,N,[t0,u0],f)\n",
    "\n",
    "# Tracés\n",
    "plt.plot(t,u,color='red')\n",
    "plt.plot(t,[GBF(i) for i in t],color='blue')         # Liste de N+1 valeurs égales à E\n",
    "plt.show()"
   ]
  },
  {
   "cell_type": "markdown",
   "metadata": {},
   "source": [
    "<div id=\"MT\"><b>Solution numpy</b>&nbsp;&nbsp;<a href=\"#ExT\" style=\"font-size:smaller;\">Retour exercices</a></div>"
   ]
  },
  {
   "cell_type": "code",
   "execution_count": null,
   "metadata": {},
   "outputs": [],
   "source": [
    "def GBF2(t):\n",
    "    global em,Tgbf\n",
    "    return em*np.sin(2*math.pi/Tgbf*t)  # Modification -> ufunc (fonction vectorielle)\n",
    "\n",
    "def EulerT(t0,u0,t):                    # le tableau t permet de déduire T et N\n",
    "    global tau\n",
    "    T = t[-1]-t[0]                      # Durée de la simulation\n",
    "    N = len(t)                          # Nombre total de points\n",
    "    h = T/(N-1)                         # Pas\n",
    "    u = np.zeros(N)                     # Initialisation de u\n",
    "    u[0] = u0                           # Conditions initiales\n",
    "    for n in range(N-1):\n",
    "        u[n+1] = u[n] + h*(GBF2(t[n])-u[n])/tau\n",
    "    return u\n",
    "\n",
    "t = np.linspace(t0,T,N+1)\n",
    "\n",
    "plt.plot(t, EulerT(t0,u0,t),'r')\n",
    "plt.plot(t, GBF2(t),'b')\n",
    "plt.show()"
   ]
  },
  {
   "cell_type": "code",
   "execution_count": null,
   "metadata": {},
   "outputs": [],
   "source": []
  }
 ],
 "metadata": {
  "kernelspec": {
   "display_name": "Python 3",
   "language": "python",
   "name": "python3"
  },
  "language_info": {
   "codemirror_mode": {
    "name": "ipython",
    "version": 3
   },
   "file_extension": ".py",
   "mimetype": "text/x-python",
   "name": "python",
   "nbconvert_exporter": "python",
   "pygments_lexer": "ipython3",
   "version": "3.7.1"
  }
 },
 "nbformat": 4,
 "nbformat_minor": 2
}
