{
 "cells": [
  {
   "cell_type": "markdown",
   "metadata": {},
   "source": [
    "<h1><div style=\"color:Sienna;font-family:serif;font-size:larger;text-align:center;border:solid,2px;padding:2%;\">Python pour la physique, la chimie et l'informatique en CPGE</div></h1>"
   ]
  },
  {
   "cell_type": "markdown",
   "metadata": {},
   "source": [
    "<div style=\"text-align:center\"><b><i>Vous ne connaissez pas Jupyter : lire <a href=\"Notebooks_Mode_Emploi.pdf\">Notebook Mode d'emploi</a></i></b></div>\n",
    "\n",
    "\n",
    "<b>Découvrir Python pas à pas</b>\n",
    "- [Apprivoiser un Python en moins d'une heure ?](Etape1_Decouvrir_Python.ipynb) Etape 1 - Python comme une calculatrice (graphique)\n",
    "- [Les bases de la programmation en moins d'une heure ?](Etape2_Bases_programmation_Python.ipynb) Etape 2 - Tests, boucles...\n",
    "\n",
    "<b>Découvrir Python par le code</b>\n",
    "- [Python Hack](Decouvrir_code.ipynb) Analyser du code pour le modifier et l'adapter\n",
    "\n",
    "<b>Utiliser Python</b>\n",
    "- [Numpy et matplotlib](numpy_matplotlib.ipynb) : graphiques\n",
    "- [Fichiers](Fichiers.ipynb) : récupérer des données acquises ou créées dans Latispro, Régressi, Excel, ...\n",
    "- [Calcul Numerique](Calcul_Numerique.ipynb) : résolutions d'équations algébriques et différentielles, intégration, analyse de Fourier\n",
    "- [Images](Images.ipynb) : traiter des images\n",
    "- [Bases de donnees](Bases_de_donnees.ipynb) : communiquer avec des bases de données, créer et modifier des bases\n",
    "\n",
    "<b>Python en cours, TP, TIPE</b>\n",
    "- [Simulations](Simulations.ipynb) : réalisation d'applets interactives, animations, graphes 3D\n",
    "\n",
    "<b>Informatique en PCSI / PC</b>\n",
    "- En cas d'allergie prononcée à Python, je conseille une cure de jouvence : [Apprivoiser un Python en moins d'une heure ?](Etape1_Decouvrir_Python.ipynb) puis [Les bases de la programmation en moins d'une heure ?](Etape2_Bases_programmation_Python.ipynb)\n",
    "- [Résumé](Python_Bases.ipynb) : ce qu'il faut savoir en C.P.G.E (à parcourir en plusieurs fois)\n",
    "- [Euler 1](Euler1.ipynb) : méthode d'Euler pour les équations différentielles d'ordre 1\n",
    "- [Numpy et matplotlib](numpy_matplotlib.ipynb)\n",
    "- Utile pour les TP, projets, TIPE : [Fichiers](Fichiers.ipynb), [Calcul Numerique](Calcul_Numerique.ipynb), [Bases de donnees](Bases_de_donnees.ipynb), [Images](Images.ipynb) (programme de spé)  \n",
    "<br><br>\n",
    "<div style=\"text-align:center\"><b>Travail en cours...</b></div>"
   ]
  },
  {
   "cell_type": "code",
   "execution_count": null,
   "metadata": {},
   "outputs": [],
   "source": []
  }
 ],
 "metadata": {
  "kernelspec": {
   "display_name": "Python 3",
   "language": "python",
   "name": "python3"
  },
  "language_info": {
   "codemirror_mode": {
    "name": "ipython",
    "version": 3
   },
   "file_extension": ".py",
   "mimetype": "text/x-python",
   "name": "python",
   "nbconvert_exporter": "python",
   "pygments_lexer": "ipython3",
   "version": "3.7.1"
  }
 },
 "nbformat": 4,
 "nbformat_minor": 2
}
