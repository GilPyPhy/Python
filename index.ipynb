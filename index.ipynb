{
 "cells": [
  {
   "cell_type": "markdown",
   "metadata": {},
   "source": [
    "<h1><div style=\"color:Sienna;font-family:serif;font-size:larger;text-align:center;border:solid,2px;padding:2%;\">Liens  </div></h1>\n",
    "\n",
    "<div style=\"color:blue;font-family:serif;padding-left:100px\">\n",
    "    <a href=\"#T1\">Python pas à pas</a><br>\n",
    "</div>"
   ]
  },
  {
   "cell_type": "markdown",
   "metadata": {},
   "source": [
    "# <div id=\"T1\" style=\"color:blue;font-family:serif;border:solid,1px;padding:1%;\">Python pas à pas</div>"
   ]
  },
  {
   "cell_type": "markdown",
   "metadata": {},
   "source": [
    "[Apprivoiser un Python en moins d'une heure ?](Etape1_Decouvrir_Python.ipynb)"
   ]
  },
  {
   "cell_type": "code",
   "execution_count": null,
   "metadata": {},
   "outputs": [],
   "source": []
  }
 ],
 "metadata": {
  "kernelspec": {
   "display_name": "Python 3",
   "language": "python",
   "name": "python3"
  },
  "language_info": {
   "codemirror_mode": {
    "name": "ipython",
    "version": 3
   },
   "file_extension": ".py",
   "mimetype": "text/x-python",
   "name": "python",
   "nbconvert_exporter": "python",
   "pygments_lexer": "ipython3",
   "version": "3.7.1"
  }
 },
 "nbformat": 4,
 "nbformat_minor": 2
}
