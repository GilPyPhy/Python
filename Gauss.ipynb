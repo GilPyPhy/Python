{
 "cells": [
  {
   "cell_type": "markdown",
   "metadata": {},
   "source": [
    "<h1><div style=\"color:Sienna;font-family:serif;font-size:larger;text-align:center;border:solid,2px;padding:2%;\">Méthode de Gauss - Systèmes linéaires</div></h1>\n",
    "<div style=\"color:blue;font-family:serif;padding-left:100px\">\n",
    "    <a href=\"#MethGauss\">Résolution d'un système linéaire</a><br>\n",
    "    <a href=\"#exercices\">Exercices</a><br>\n",
    "    <a href=\"#GaussJordan\">Prolongements : inversion d'une matrice</a><br>\n",
    "</div>"
   ]
  },
  {
   "cell_type": "markdown",
   "metadata": {},
   "source": [
    "# <div id=\"MethGauss\" style=\"color:blue;font-family:serif;border:solid,1px;padding:1%;\">Méthode du pivot de Gauss</div>"
   ]
  },
  {
   "cell_type": "markdown",
   "metadata": {},
   "source": [
    "<div style=\"border-bottom:solid,1px;\"><b>Notations - Méthode</b></div>"
   ]
  },
  {
   "cell_type": "markdown",
   "metadata": {},
   "source": [
    "Un système d'équations algébriques linéaires peut s'écrire sous la forme : \n",
    "$\\left\\{\\begin{array}{l}{a_{11}}{x_1} + {a_{12}}{x_2} +  \\cdots  + {a_{1n}}{x_n} = {b_1}\\\\{a_{21}}{x_1} + {a_{22}}{x_2} +  \\cdots  + {a_{2n}}{x_n} = {b_2}\\\\ \\vdots \\qquad  \\vdots \\\\{a_{n1}}{x_1} + {a_{n2}}{x_2} +  \\cdots  + {a_{nn}}{x_n} = {b_n}\\end{array} \\right.$ <br><br>\n",
    "Ou encore, sous forme matricielle : $AX = B$ avec $A = \\left( {\\begin{array}{*{20}{c}}{{a_{11}}}&{{a_{12}}}& \\ldots &{{a_{1n}}}\\\\{{a_{21}}}&{{a_{22}}}& \\ldots &{{a_{2n}}}\\\\ \\vdots &{}&{}& \\vdots \\\\{{a_{n1}}}&{{a_{n2}}}& \\ldots &{{a_{nn}}}\\end{array}} \\right)$ la matrice des coefficients, $X = \\left( {\\begin{array}{*{20}{c}}{{x_1}}\\\\{{x_2}}\\\\ \\vdots \\\\{{x_n}}\\end{array}} \\right)$ le vecteur colonne des inconnues et $B = \\left( {\\begin{array}{*{20}{c}}{{b_1}}\\\\{{b_2}}\\\\ \\vdots \\\\{{b_n}}\\end{array}} \\right)$ le vecteur colonne représentant le second membre de chaque équation.<br>\n",
    "Les opérations successives affectent de la même façon les coefficients des matrices A et B (les opérations sur une même ligne sont les mêmes pour tous les coefficients). On peut donc regrouper les matrices A et B en une seule matrice n&nbsp;x&nbsp;(n+1) constituée de tous les coefficients du système, nommée <i>a</i>, à laquelle on appliquera les transformations. On note alors ${b_i} = {a_{i,n + 1}}$.<br><br>\n",
    "La matrice augmentée <i>a</i> s'écrit : $a = \\left( {\\begin{array}{*{20}{c}}{{a_{11}}}&{{a_{12}}}& \\ldots &{{a_{1n}}}\\\\{{a_{21}}}&{{a_{22}}}& \\ldots &{{a_{2n}}}\\\\ \\vdots &{}&{}& \\vdots \\\\{{a_{n1}}}&{{a_{n2}}}& \\ldots &{{a_{nn}}}\\end{array}\\,\\,\\,\\,\\begin{array}{*{20}{c}}{{b_1} = {a_{1,n + 1}}}\\\\{{b_2} = {a_{2,n + 1}}}\\\\{}\\\\{{b_n} = {a_{n,n + 1}}}\\end{array}} \\right)$.\n",
    "<br><br>\n",
    "A la $j^{éme}$ étape, on cherche à faire apparaître des zéros sous le pivot $a_{jj}$. On cherche donc à éliminer $a_{ij}$ pour $j + 1 \\le i \\le n$ grâce à la $j^{éme}$ ligne en effectuant la transvection ${L_i} \\leftarrow {L_i} - \\displaystyle\\frac{{{a_{i\\,j}}}}{{{a_{j\\,j}}}}{L_j}$ (où $L_i$ et $L_j$ désignent les lignes <i>i</i> et <i>j</i>).<br>\n",
    "$a = \\left( {\\begin{array}{*{20}{c}}{{a_{11}}}&{{a_{12}}}&{}& \\ldots &{}&{{a_{1j}}}&{{a_{1,j + 1}}}& \\ldots &{{a_{1n}}}&{{a_{1,n + 1}}}\\\\0&{{a_{22}}}&{}& \\ldots &{}&{{a_{2j}}}&{{a_{2,j + 1}}}& \\ldots &{{a_{2n}}}&{{a_{2,n + 1}}}\\\\ \\vdots & \\vdots &{}&{}&{}& \\vdots &{}&{}& \\vdots & \\vdots \\\\0&0&{}&{}&0&{{a_{jj}}}&{{a_{j,j + 1}}}& \\ldots &{{a_{j,n}}}&{{a_{j,n + 1}}}\\\\0&0&{}&{}&0&0&{{a_{j + 1,j + 1}}}&{}&{}&{}\\\\ \\vdots & \\vdots &{}&{}& \\vdots & \\vdots & \\vdots &{}& \\vdots & \\vdots \\\\0&0&0& \\ldots &0&0&{{a_{n,j + 1}}}& \\ldots &{{a_{n,n}}}&{{a_{n,n + 1}}}\\end{array}} \\right)$.\n"
   ]
  },
  {
   "cell_type": "markdown",
   "metadata": {},
   "source": [
    "<div style=\"border-bottom:solid,1px;\"><b>Schéma numérique</b></div>"
   ]
  },
  {
   "cell_type": "markdown",
   "metadata": {},
   "source": [
    "La méthode de Gauss consiste à :<br> \n",
    "1)\t<span style=\"color:red;\">triangulariser la matrice</span><br>\n",
    "&nbsp;&nbsp;&nbsp;&nbsp;&nbsp;&nbsp;a) rechercher le pivot dans la colonne courante<br>\n",
    "&nbsp;&nbsp;&nbsp;&nbsp;&nbsp;&nbsp;b) échanger la ligne courante et la ligne du pivot<br>\n",
    "&nbsp;&nbsp;&nbsp;&nbsp;&nbsp;&nbsp;c) effectuer les transvections<br>\n",
    "2)\t<span style=\"color:red;\">calculer les solutions en partant de $x_n$ (phase de remontée)</span>.<br>\n",
    "<b>Les trois étapes de la triangularisation sont confiées à des fonctions qui pourront être testées individuellement<b>.<br><br>"
   ]
  },
  {
   "cell_type": "markdown",
   "metadata": {},
   "source": [
    "<div style=\"border-bottom:solid,1px;\"><b>Choix du pivot -  Problèmes liés à la représentation des nombres</b></div>"
   ]
  },
  {
   "cell_type": "markdown",
   "metadata": {},
   "source": [
    "<b>L’algorithme suppose que le pivot est non nul</b>. Or on sait qu’en raison de la représentation des flottants sur un nombre limité de bits, la comparaison d’un réel à zéro n’a pas de sens. \n",
    "Les phénomènes suivants peuvent se produire :\n",
    "1.\tLa représentation sur un nombre limité de bits conduit à des arrondis et fait apparaître des termes très petits (censés être mathématiquement nuls). \n",
    "Exemple : 12*(1./3 – 1./4)-1 donne en Python -2.220446049250313e-16 alors que ce nombre est nul.\n",
    "Si un tel nombre est choisi comme pivot son inverse sera très grand et n’aura aucune signification.\n",
    "\n",
    "2.\tLe phénomène inverse est possible, un coefficient peut être arrondi à zéro s’il inférieur au plus petit flottant représentable en mémoire (qui diffère selon la machine, 32 ou 64 bits) alors qu’il est mathématiquement non nul.\n",
    "\n",
    "Afin d’éviter cette comparaison à zéro, on choisit comme pivot à l’étape <i>j</i> le coefficient le plus grand en valeur absolue $a_{kj}$ dans la colonne <i>j</i> pour $j \\le k \\le n$ puis on échange les lignes <i>k</i> et <i>j</i> (méthode du pivot partiel)."
   ]
  },
  {
   "cell_type": "markdown",
   "metadata": {},
   "source": [
    "<div style=\"border-bottom:solid,1px;\"><b>Algorithme - Hypothèses - Résumé</b></div>"
   ]
  },
  {
   "cell_type": "markdown",
   "metadata": {},
   "source": [
    "<b>On fait l’hypothèse qu’il existe une solution unique pour le système qu’on se donne (les autres cas seront traités en cours de mathématiques)</b>. L’algorithme ci-dessous échouera ou conduira à une solution erronée dans le cas contraire.<br>\n",
    "\n",
    "Pour $i$ de $0$ à $n-1$ :<br>\n",
    "&nbsp;&nbsp;&nbsp;&nbsp;&nbsp;&nbsp;Trouver la ligne $k$ telle que $\\left| {{a_{k\\,i}}} \\right| = \\max \\left( {\\left| {{a_{p\\,i}}} \\right|,i \\le p \\le n - 1} \\right)$ <br>&nbsp;&nbsp;&nbsp;&nbsp;&nbsp;&nbsp; Echanger $L_i$ et $L_k$ si $k>i$<br>\n",
    "&nbsp;&nbsp;&nbsp;&nbsp;&nbsp;&nbsp; Pour $k$ de $i+1$ à $n$ : ${L_k} \\leftarrow {L_k} - \\displaystyle\\frac{{{a_{k\\,i}}}}{{{a_{i\\,\\,i}}}}{L_i}$<br><br>\n",
    "Pour $i$ de $n-1$ à $0$ : ${x_i} = \\displaystyle\\frac{{{a_{i\\,n}} - \\sum\\limits_{k = n - 1}^{i + 1} {{a_{i\\,k}}{x_k}} }}{{{a_{i\\,i}}}}$"
   ]
  },
  {
   "cell_type": "markdown",
   "metadata": {},
   "source": [
    "<div style=\"border-bottom:solid,1px;\"><b>Implémentation - Rappels Numpy</b></div>"
   ]
  },
  {
   "cell_type": "code",
   "execution_count": null,
   "metadata": {},
   "outputs": [],
   "source": [
    "import numpy as np"
   ]
  },
  {
   "cell_type": "markdown",
   "metadata": {},
   "source": [
    "<i>Création d’un tableau de flottants entrés « à la main »</i>"
   ]
  },
  {
   "cell_type": "code",
   "execution_count": null,
   "metadata": {},
   "outputs": [],
   "source": [
    "B = np.array( [4,1,1], dtype=float ) # Tableau de dimension 1 = \"vecteur\"\n",
    "B"
   ]
  },
  {
   "cell_type": "code",
   "execution_count": null,
   "metadata": {},
   "outputs": [],
   "source": [
    "A = np.array( [[1,2,3], [4,5,6]] ) # Tableau de dimension 2 = \"matrice\"\n",
    "A"
   ]
  },
  {
   "cell_type": "markdown",
   "metadata": {},
   "source": [
    "<i>Création d’un tableau de taille donnée rempli automatiquement</i>"
   ]
  },
  {
   "cell_type": "code",
   "execution_count": null,
   "metadata": {},
   "outputs": [],
   "source": [
    "np.zeros((3)) # Tableau de dimension 1"
   ]
  },
  {
   "cell_type": "code",
   "execution_count": null,
   "metadata": {},
   "outputs": [],
   "source": [
    "np.zeros((2,4)) # Tableau de dimension 2"
   ]
  },
  {
   "cell_type": "markdown",
   "metadata": {},
   "source": [
    "<div style=\"border:solid,1px;padding:1%;\">&#128432; Commandes analogues<br>\n",
    "    Tester les instructions <code>np.ones</code> et <code>np.empty</code> sur le même modèle.</div>"
   ]
  },
  {
   "cell_type": "code",
   "execution_count": null,
   "metadata": {},
   "outputs": [],
   "source": []
  },
  {
   "cell_type": "code",
   "execution_count": null,
   "metadata": {},
   "outputs": [],
   "source": []
  },
  {
   "cell_type": "markdown",
   "metadata": {},
   "source": [
    "<i>Taille d'un tableau </i>: <code>np.shape</code> ou <code>len</code>"
   ]
  },
  {
   "cell_type": "markdown",
   "metadata": {},
   "source": [
    "<div style=\"border:solid,1px;padding:1%;\">&#128432; Tester les instructions suivantes.</div>"
   ]
  },
  {
   "cell_type": "code",
   "execution_count": null,
   "metadata": {},
   "outputs": [],
   "source": [
    "np.shape(B)"
   ]
  },
  {
   "cell_type": "code",
   "execution_count": null,
   "metadata": {},
   "outputs": [],
   "source": [
    "len(B)"
   ]
  },
  {
   "cell_type": "code",
   "execution_count": null,
   "metadata": {},
   "outputs": [],
   "source": [
    "np.shape(A)"
   ]
  },
  {
   "cell_type": "code",
   "execution_count": null,
   "metadata": {},
   "outputs": [],
   "source": [
    "len(A)"
   ]
  },
  {
   "cell_type": "code",
   "execution_count": null,
   "metadata": {},
   "outputs": [],
   "source": [
    "len(A[0])"
   ]
  },
  {
   "cell_type": "markdown",
   "metadata": {},
   "source": [
    "<i>Accès à un élément du tableau</i>"
   ]
  },
  {
   "cell_type": "code",
   "execution_count": null,
   "metadata": {},
   "outputs": [],
   "source": [
    "A[0,1]"
   ]
  },
  {
   "cell_type": "markdown",
   "metadata": {},
   "source": [
    "<i>Techniques de slicing (extraction de lignes et de colonnes)</i><br>\n",
    "    <code>T[:,j]</code> renvoie la colonne j du tableau T (le symbole « : » signifie « toutes les valeurs »).<br>\n",
    "    <code>T[i,:]</code> renvoie la ligne i du tableau T."
   ]
  },
  {
   "cell_type": "code",
   "execution_count": null,
   "metadata": {},
   "outputs": [],
   "source": [
    "A[:,0] # Renvoie la 1ère colonne"
   ]
  },
  {
   "cell_type": "code",
   "execution_count": null,
   "metadata": {},
   "outputs": [],
   "source": [
    "A[1,:] # Renvoie la 2ème ligne"
   ]
  },
  {
   "cell_type": "markdown",
   "metadata": {},
   "source": [
    "<i>Copie d'un tableau</i><br>\n",
    "Attention, T2 = T1 ne crée pas un nouveau tableau (seulement un alias, i.e. un nom différent)<br>\n",
    "Ce fonctionnement est commun aux listes et aux tableaux.<br>\n",
    "Il faut utiliser l'instruction <code>np.copy</code>."
   ]
  },
  {
   "cell_type": "code",
   "execution_count": null,
   "metadata": {},
   "outputs": [],
   "source": [
    "copieA = np.copy(A)\n",
    "copieA"
   ]
  },
  {
   "cell_type": "markdown",
   "metadata": {},
   "source": [
    "<div style=\"border-bottom:solid,1px;\"><b>Exemple de système</b><br></div>\n",
    "Dans toute la suite, on utilise le système suivant pour tester les fonctions et le programme :<br><br>\n",
    "$$\\left\\{ \\begin{array}{l} & 2x &  +  & 3y &  +  & 1z &  =  & 4\\\\ & 1x &  +  & 2y &  +  & 3z &  =  & 1\\\\ & 3x &  +  & 2y &  +  & 2z &  =  & 1\\end{array} \\right.$$<br>\n",
    "Les solutions sont : $x =  - \\frac{5}{{13}} =  - 0,385$, $y = \\frac{{24}}{{13}} = 1,846$ et $z =  - \\frac{{10}}{{13}} =  - 0,769$"
   ]
  },
  {
   "cell_type": "markdown",
   "metadata": {},
   "source": [
    "<div style=\"border:solid,1px;padding:1%;\">&#128432; Initialisation de la matrice A<br>\n",
    "Initialiser la matrice A en spécifiant que les coefficients sont réels (dtype=float).</div>"
   ]
  },
  {
   "cell_type": "code",
   "execution_count": null,
   "metadata": {},
   "outputs": [],
   "source": []
  },
  {
   "cell_type": "markdown",
   "metadata": {},
   "source": [
    "<a href=\"#SmatriceA\">Initialisation matrice A</a>"
   ]
  },
  {
   "cell_type": "markdown",
   "metadata": {},
   "source": [
    "<div style=\"border-bottom:solid,1px;\"><b>Fonctions</b></div>"
   ]
  },
  {
   "cell_type": "markdown",
   "metadata": {},
   "source": [
    "<div style=\"border:solid,1px;padding:1%;\">&#128432; Fonction de recherche du pivot<br>\n",
    "Ecrire une fonction pivot(colonne, i)<br>\n",
    "Grandeurs d’entrée : index i et ième colonne. <br>\n",
    "Grandeur de sortie : index du pivot.<br>\n",
    "Le vecteur colonne est transmis au moment de l’appel de la fonction mais sa taille sera déterminée par la fonction pivot. <br>\n",
    "Remarque : la recherche du pivot dans la colonne i ne s’effectue pas dans la totalité de la colonne cf. schéma ci-dessous).\n",
    "<img src=\"media/pivot.png\" alt=\"Recherche du pivot\" style=\"width:305px;height:186px\" />\n",
    "Comprendre : on cherche l'index du maximum dans la liste-tableau nommée \"colonne\" à partir de l'index i, cet algorithme est connu.\n",
    "</div>"
   ]
  },
  {
   "cell_type": "code",
   "execution_count": null,
   "metadata": {},
   "outputs": [],
   "source": []
  },
  {
   "cell_type": "markdown",
   "metadata": {},
   "source": [
    "Test : vérifier que <code>pivot(A[:,0],0)</code> renvoie bien 2 (renvoie l’index du pivot dans la colonne 0 et non le pivot lui-même)."
   ]
  },
  {
   "cell_type": "code",
   "execution_count": null,
   "metadata": {},
   "outputs": [],
   "source": []
  },
  {
   "cell_type": "markdown",
   "metadata": {},
   "source": [
    "<a href=\"#Spivot\">Solution pivot et test</a>"
   ]
  },
  {
   "cell_type": "markdown",
   "metadata": {},
   "source": [
    "<div style=\"border:solid,1px;padding:1%;\">&#128432; Fonction d'échange de lignes<br>\n",
    "Ecrire une fonction echangeLignes(a, i, k)<br>\n",
    "Grandeurs d’entrée : a (matrice augmentée), i et k (index des lignes à échanger). <br>\n",
    "Grandeur de sortie : matrice a modifiée.<br><br>\n",
    "Une boucle est nécessaire pour échanger tous les coefficients des lignes i et k de la matrice a.<br>\n",
    "<img src=\"media/echangeLigne.png\" alt=\"Echange de lignes\" style=\"width:305px;height:186px\" />\n",
    "Rq : échange de 2 variables possible en 1 seule ligne (ou bien variable supplémentaire nécessaire), problème déjà rencontré.<br>\n",
    "</div>"
   ]
  },
  {
   "cell_type": "code",
   "execution_count": null,
   "metadata": {},
   "outputs": [],
   "source": []
  },
  {
   "cell_type": "markdown",
   "metadata": {},
   "source": [
    "Test : vérifier que l’échange de 2 lignes fonctionne en utilisant la matrice A."
   ]
  },
  {
   "cell_type": "code",
   "execution_count": null,
   "metadata": {},
   "outputs": [],
   "source": []
  },
  {
   "cell_type": "markdown",
   "metadata": {},
   "source": [
    "<a href=\"#Sechange\">Solution echangeLigne et test</a>"
   ]
  },
  {
   "cell_type": "markdown",
   "metadata": {},
   "source": [
    "<div style=\"border:solid,1px;padding:1%;\">&#128432; Fonction pour les transvections<br>\n",
    "Ecrire une fonction transvectionLigne(a, k, i, f)<br>\n",
    "    Grandeurs d’entrée : a (matrice augmentée), i (index de la ligne du pivot), k (index de la ligne à modifier) et f coefficient (ce coefficient multiplicateur f sera défini au moment de l’appel de la fonction).<br>\n",
    "Grandeur de sortie : matrice augmentée a modifiée.<br>\n",
    "La fonction réalise le remplacement de la ligne k par « ligne k – f * ligne i » : Lk &larr; Lk - f*Li de façon abrégée.<br>\n",
    "Une boucle est donc nécessaire pour réaliser cette opération sur tous les coefficients de la ligne k de la matrice a.\n",
    "</div>"
   ]
  },
  {
   "cell_type": "code",
   "execution_count": null,
   "metadata": {},
   "outputs": [],
   "source": []
  },
  {
   "cell_type": "markdown",
   "metadata": {},
   "source": [
    "Test : \n",
    "- exécuter à nouveau la commande d'initialisation de la matrice A (car elle a été modifiée lors du test de l'échange de lignes);\n",
    "- vérifier que transvectionLigne(A,1,0,1/2) fournit bien les coefficients attendus (0, 0.5, 2.5)."
   ]
  },
  {
   "cell_type": "code",
   "execution_count": null,
   "metadata": {},
   "outputs": [],
   "source": []
  },
  {
   "cell_type": "markdown",
   "metadata": {},
   "source": [
    "<a href=\"#Stransvection\">Solution transvection et test</a>"
   ]
  },
  {
   "cell_type": "markdown",
   "metadata": {},
   "source": [
    "<div style=\"border-bottom:solid,1px;\"><b>Initialisations</b></div>"
   ]
  },
  {
   "cell_type": "markdown",
   "metadata": {},
   "source": [
    "<div style=\"border:solid,1px;padding:1%;\">&#128432; <br>\n",
    "a)\tInitialiser la matrice A (recopier l'instruction précédente) et le vecteur B en spécifiant que les coefficients sont réels ; initialiser la variable n (A est de dimension n x n).\n",
    "</div>"
   ]
  },
  {
   "cell_type": "code",
   "execution_count": null,
   "metadata": {},
   "outputs": [],
   "source": []
  },
  {
   "cell_type": "markdown",
   "metadata": {},
   "source": [
    "<div style=\"border:solid,1px;padding:1%;\">&#128432; <br>\n",
    "b)\tCréer la matrice augmentée a  de taille n x (n+1) destinée à recevoir les coefficients de A et de B. <br>\n",
    "c)\tÉcrire les boucles nécessaires au remplissage de la matrice a  à partir de A et B.\n",
    "</div>"
   ]
  },
  {
   "cell_type": "code",
   "execution_count": null,
   "metadata": {},
   "outputs": [],
   "source": []
  },
  {
   "cell_type": "markdown",
   "metadata": {},
   "source": [
    "<div style=\"border:solid,1px;padding:1%;\">&#128432; <br>\n",
    "d)\tCréer le vecteur X.\n",
    "</div>"
   ]
  },
  {
   "cell_type": "code",
   "execution_count": null,
   "metadata": {},
   "outputs": [],
   "source": []
  },
  {
   "cell_type": "markdown",
   "metadata": {},
   "source": [
    "<a href=\"#Sinit\">Solution initialisations</a>"
   ]
  },
  {
   "cell_type": "markdown",
   "metadata": {},
   "source": [
    "<div style=\"border-bottom:solid,1px;\"><b>Programme complet</b></div>"
   ]
  },
  {
   "cell_type": "markdown",
   "metadata": {},
   "source": [
    "<div style=\"border:solid,1px;padding:1%;\">&#128432; <br>\n",
    "a)\tÉcrire la boucle principale de la phase de triangularisation à l’aide des trois fonctions ci-dessus.\n",
    "</div>"
   ]
  },
  {
   "cell_type": "code",
   "execution_count": null,
   "metadata": {},
   "outputs": [],
   "source": []
  },
  {
   "cell_type": "markdown",
   "metadata": {},
   "source": [
    "<div style=\"border:solid,1px;padding:1%;\">&#128432; <br>\n",
    "b)\tÉcrire la phase de remontée<br>\n",
    "Attention à la syntaxe de range pour un parcours avec des index décroissants (tester) ; noter que <code>range(n, n) == [ ]</code>.<br>\n",
    "On pourra utiliser la fonction sum (somme par compréhension possible : <code>sum(a[k] for k in range(…))</code> est valide).\n",
    "</div>"
   ]
  },
  {
   "cell_type": "code",
   "execution_count": null,
   "metadata": {},
   "outputs": [],
   "source": []
  },
  {
   "cell_type": "code",
   "execution_count": null,
   "metadata": {},
   "outputs": [],
   "source": []
  },
  {
   "cell_type": "markdown",
   "metadata": {},
   "source": [
    "<a href=\"#Spgm\">Solution programme</a>"
   ]
  },
  {
   "cell_type": "markdown",
   "metadata": {},
   "source": [
    "<div style=\"border-bottom:solid,1px;\"><b>Résolution avec Numpy</b></div>"
   ]
  },
  {
   "cell_type": "markdown",
   "metadata": {},
   "source": [
    "<div style=\"border:solid,1px;padding:1%;\">&#128432; <br>\n",
    "La syntaxe est de la forme : <code>X = np.linalg.solve(A, B)</code> avec les mêmes notations que précédemment.\n",
    "</div>"
   ]
  },
  {
   "cell_type": "code",
   "execution_count": null,
   "metadata": {},
   "outputs": [],
   "source": []
  },
  {
   "cell_type": "markdown",
   "metadata": {},
   "source": [
    "# <div id=\"exercices\" style=\"color:blue;font-family:serif;border:solid,1px;padding:1%;\">Exercices</div>"
   ]
  },
  {
   "cell_type": "markdown",
   "metadata": {},
   "source": [
    "<div style=\"border-bottom:solid,1px;\"><b>Complexité</b></div>"
   ]
  },
  {
   "cell_type": "markdown",
   "metadata": {},
   "source": [
    "<div style=\"border:solid,1px;padding:1%;\">&#128432; <br>\n",
    "Démontrer que la complexité de l'algorithme de Gauss est cubique.\n",
    "</div>"
   ]
  },
  {
   "cell_type": "markdown",
   "metadata": {},
   "source": [
    "<a href=\"#Scomplexite\">Complexité</a>"
   ]
  },
  {
   "cell_type": "markdown",
   "metadata": {},
   "source": [
    "<div style=\"border-bottom:solid,1px;\"><b>Code compact</b></div>"
   ]
  },
  {
   "cell_type": "markdown",
   "metadata": {},
   "source": [
    "<div style=\"border:solid,1px;padding:1%;\">&#128432; <br>\n",
    "Ecrire une fonction Gauss(A,B) renvoyant le vecteur X solution de A X = B.<br>\n",
    "Cette fonction ne comportera aucun appel à l'une des fonctions précédentes : le code interne de ces fonctions sera copié et adapté pour former un script plus compact. Autrement dit, ces fonctions ont permis de mettre au point un code fonctionnel de façon progressive mais on cherche à présent à écrire un code plus court. \n",
    "</div>"
   ]
  },
  {
   "cell_type": "code",
   "execution_count": null,
   "metadata": {},
   "outputs": [],
   "source": []
  },
  {
   "cell_type": "markdown",
   "metadata": {},
   "source": [
    "<a href=\"#Scompact\">Code compact</a>"
   ]
  },
  {
   "cell_type": "markdown",
   "metadata": {},
   "source": [
    "# <div id=\"GaussJordan\" style=\"color:blue;font-family:serif;border:solid,1px;padding:1%;\">Prolongements : inversion d'une matrice</div>"
   ]
  },
  {
   "cell_type": "markdown",
   "metadata": {},
   "source": [
    "<div style=\"border-bottom:solid,1px;\"><b>Algorithme</b></div>"
   ]
  },
  {
   "cell_type": "markdown",
   "metadata": {},
   "source": [
    "<div style=\"border:solid,1px;padding:1%;\">&#128432; <br>\n",
    "L'algorithme de Gauss-Jordan, très proche de l'algorithme précédent, permet d'inverser une matrice carrée si elle est inversible en construisant la matrice augmentée <i>a</i> à partir de la matrice A et de la matrice unité de même dimension notée I : $a = [A|I]$.\n",
    "L'algorithme précédent doit être modifié de la façon suivante :<br>\n",
    "1) La ligne du pivot est divisée par la valeur du pivot de façon à ce que la diagonale principale soit constituée uniquement de termes égaux à 1.\n",
    "\n",
    "2) On effectue les transvections sur toutes les lignes (sauf la ligne du pivot) de façon à faire apparaître des zéros en dehors de la diagonale principale.\n",
    "\n",
    "A la fin de l'algorithme, $a = [I|B]$ où B est l'inverse de A.\n",
    "</div>"
   ]
  },
  {
   "cell_type": "code",
   "execution_count": null,
   "metadata": {},
   "outputs": [],
   "source": []
  },
  {
   "cell_type": "markdown",
   "metadata": {},
   "source": [
    "Test de la fonction"
   ]
  },
  {
   "cell_type": "code",
   "execution_count": null,
   "metadata": {},
   "outputs": [],
   "source": []
  },
  {
   "cell_type": "markdown",
   "metadata": {},
   "source": [
    "<a href=\"#SGaussJordan\">Gauss-Jordan</a>"
   ]
  },
  {
   "cell_type": "markdown",
   "metadata": {},
   "source": [
    "<div style=\"border-bottom:solid,1px;\"><b>Vérification : A B = I ?</b></div>"
   ]
  },
  {
   "cell_type": "code",
   "execution_count": null,
   "metadata": {},
   "outputs": [],
   "source": [
    "np.dot(A,B)"
   ]
  },
  {
   "cell_type": "markdown",
   "metadata": {},
   "source": [
    "<div style=\"border-bottom:solid,1px;\"><b>Calcul de la matrice inverse avec Numpy</b></div>"
   ]
  },
  {
   "cell_type": "code",
   "execution_count": null,
   "metadata": {},
   "outputs": [],
   "source": [
    "np.linalg.inv(A)"
   ]
  },
  {
   "cell_type": "markdown",
   "metadata": {},
   "source": [
    "<hr>\n",
    "<div style=\"color:Sienna;font-family:serif;border:solid,2px;padding:2%;\">\n",
    "    <div style=\"font-size:larger;text-align:center;\">Réponses<br></div>\n",
    "</div>\n",
    "<hr>"
   ]
  },
  {
   "cell_type": "markdown",
   "metadata": {},
   "source": [
    "<div id=\"SmatriceA\"><b>Initialisation matrice A</b></div>"
   ]
  },
  {
   "cell_type": "code",
   "execution_count": null,
   "metadata": {},
   "outputs": [],
   "source": [
    "A = np.array( [ [2,3,1], [1,2,3], [3,2,2] ],dtype=float ) \n",
    "A"
   ]
  },
  {
   "cell_type": "markdown",
   "metadata": {},
   "source": [
    "<div id=\"Spivot\"><b>Solution pivot</b></div>"
   ]
  },
  {
   "cell_type": "code",
   "execution_count": null,
   "metadata": {},
   "outputs": [],
   "source": [
    "def pivot(colonne,i):\n",
    "    \"\"\" Recherche l'index du maximum dans colonne à partir de i \"\"\"\n",
    "    k_pivot = i\n",
    "    pivot = abs(colonne[i])\n",
    "    for p in range(i+1,len(colonne)):\n",
    "        if abs(colonne[p]) > pivot:\n",
    "            pivot = abs(colonne[p])\n",
    "            k_pivot = p\n",
    "    return k_pivot"
   ]
  },
  {
   "cell_type": "markdown",
   "metadata": {},
   "source": [
    "Test de la fonction pivot"
   ]
  },
  {
   "cell_type": "code",
   "execution_count": null,
   "metadata": {},
   "outputs": [],
   "source": [
    "pivot(A[:,0],0)"
   ]
  },
  {
   "cell_type": "markdown",
   "metadata": {},
   "source": [
    "<div id=\"Sechange\"><b>Solution echangeLignes</b></div>"
   ]
  },
  {
   "cell_type": "code",
   "execution_count": null,
   "metadata": {},
   "outputs": [],
   "source": [
    "def echangeLignes(a,i,k):\n",
    "    \"\"\" Echange les lignes i et k \"\"\"\n",
    "    for j in range(len(a[0])):\n",
    "        a[k,j], a[i,j] = a[i,j], a[k,j]\n",
    "    return a"
   ]
  },
  {
   "cell_type": "markdown",
   "metadata": {},
   "source": [
    "Test de la fonction echangeLignes"
   ]
  },
  {
   "cell_type": "code",
   "execution_count": null,
   "metadata": {},
   "outputs": [],
   "source": [
    "echangeLignes(A,0,2)"
   ]
  },
  {
   "cell_type": "markdown",
   "metadata": {},
   "source": [
    "<div id=\"Stransvection\"><b>Solution transvectionLigne</b></div>"
   ]
  },
  {
   "cell_type": "code",
   "execution_count": null,
   "metadata": {},
   "outputs": [],
   "source": [
    "def transvectionLigne(a,k,i,f):\n",
    "    \"\"\" Lk <- Lk - f*Li \"\"\"\n",
    "    for j in range(len(a[0])):\n",
    "        a[k,j] -= f*a[i,j]\n",
    "    return a"
   ]
  },
  {
   "cell_type": "markdown",
   "metadata": {},
   "source": [
    "Test de la fonction transvectionLigne"
   ]
  },
  {
   "cell_type": "code",
   "execution_count": null,
   "metadata": {},
   "outputs": [],
   "source": [
    "A = np.array( [ [2,3,1], [1,2,3], [3,2,2] ],dtype=float )\n",
    "transvectionLigne(A,1,0,1/2)"
   ]
  },
  {
   "cell_type": "markdown",
   "metadata": {},
   "source": [
    "<div id=\"Sinit\"><b>Solution initialisations</b></div>"
   ]
  },
  {
   "cell_type": "code",
   "execution_count": null,
   "metadata": {},
   "outputs": [],
   "source": [
    "A = np.array([[2,3,1], [1,2,3], [3,2,2]], dtype=float)\n",
    "B = np.array([4,1,1], dtype=float)\n",
    "n = len(A)\n",
    "a = np.empty((n,n+1))\n",
    "for i in range(n):\n",
    "    for j in range(n):\n",
    "        a[i,j] = A[i,j]\n",
    "    a[i,n] = B[i]\n",
    "X = np.zeros(n)"
   ]
  },
  {
   "cell_type": "markdown",
   "metadata": {},
   "source": [
    "<div id=\"Spgm\"><b>Solution programme</b></div>"
   ]
  },
  {
   "cell_type": "code",
   "execution_count": null,
   "metadata": {},
   "outputs": [],
   "source": [
    "# Triangularisation\n",
    "for i in range(n):\n",
    "    k_pivot = pivot(a[:,i],i)\n",
    "    if k_pivot > i:\n",
    "        a = echangeLignes(a,i,k_pivot)\n",
    "    for k in range(i+1,n):\n",
    "        a = transvectionLigne(a,k,i,a[k,i]/a[i,i])"
   ]
  },
  {
   "cell_type": "code",
   "execution_count": null,
   "metadata": {},
   "outputs": [],
   "source": [
    "# Remontée\n",
    "for i in range(n-1,-1,-1):\n",
    "    X[i] = (a[i,n]-sum(a[i,k]*X[k] for k in range(i+1,n)))/a[i,i]"
   ]
  },
  {
   "cell_type": "code",
   "execution_count": null,
   "metadata": {},
   "outputs": [],
   "source": [
    "X # Noter que les solutions sont données dans l'ordre z, y, x"
   ]
  },
  {
   "cell_type": "markdown",
   "metadata": {},
   "source": [
    "<div id=\"Scomplexite\"><b>Complexité</b></div>"
   ]
  },
  {
   "cell_type": "markdown",
   "metadata": {},
   "source": [
    "La phase d'initialisation est de complexité quadratique en raison des deux boucles imbriquées (i et j variant de 0 à n-1).<br>\n",
    "Pour la phase de triangularisation, des boucles sont visiblement imbriquées mais des fonctions sont appelées dans ces boucles, il faut donc déterminer la complexité des fonctions pour conclure.<br>\n",
    "Au pire (i=0), la fonction pivot est de complexité linéaire O(n).<br>\n",
    "Les fonctions echangeLignes et transvectionLigne sont de complexité linéaire.<br>\n",
    "La complexité de la phase de triangularisation est donc cubique : les boucles imbriquées (sur i et k) appellent la fonction transvectionLigne qui est en O(n). Il y a donc en réalité trois boucles imbriquées (ce qui est bien visible dans la version compacte du code).\n",
    "La phase de remontée semble linéaire mais elle est quadratique en raison de la somme (qui se programme à l'aide d'une boucle).<br>\n",
    "L'étape la plus longue est donc la triangularisation. La complexité globale est donc cubique."
   ]
  },
  {
   "cell_type": "markdown",
   "metadata": {},
   "source": [
    "<div id=\"Scompact\"><b>Programme compact</b></div>"
   ]
  },
  {
   "cell_type": "code",
   "execution_count": null,
   "metadata": {},
   "outputs": [],
   "source": [
    "def Gauss(A,B):\n",
    "    \"\"\" Résolution d'un système linéaire \"\"\"\n",
    "    # Initialisation\n",
    "    n = len(A)\n",
    "    a = np.empty((n,n+1))   # Matrice augmentée (n,n+1)\n",
    "    for i in range(n):      # Remplissage de a à partir de A et B\n",
    "        for j in range(n):\n",
    "            a[i,j] = A[i,j]\n",
    "        a[i,n] = B[i]\n",
    "    X = np.zeros(n)         # Vecteur solution du système\n",
    "    # Phase de triangularisation\n",
    "    for i in range(n):\n",
    "        # Recherche de k_pivot,index du pivot\n",
    "        k_pivot = i\n",
    "        colonne = a[:,i]\n",
    "        pivot = abs(colonne[i])\n",
    "        for p in range(i+1,n):\n",
    "            if abs(colonne[p]) > pivot:\n",
    "                pivot = abs(colonne[p])\n",
    "                k_pivot = p\n",
    "        # Echange de lignes si i != k_pivot\n",
    "        if k_pivot > i:\n",
    "            for j in range(n+1):\n",
    "                a[k_pivot,j], a[i,j] = a[i,j], a[k_pivot,j]\n",
    "        # Transvections : boucle sur les lignes\n",
    "        for k in range(i+1,n):\n",
    "            f = a[k,i]/a[i,i]     # Ligne indispensable\n",
    "            for j in range(n+1):\n",
    "                a[k,j] -= f*a[i,j]\n",
    "    # Phase de remontée\n",
    "    for i in range(n-1,-1,-1): \n",
    "        X[i] = (a[i,n]-sum(a[i,k]*X[k] for k in range(i+1,n)))/a[i,i]\n",
    "    return X\n",
    "\n",
    "# Système d'équations à résoudre\n",
    "A = np.array([[2,3,1], [1,2,3], [3,2,2]], dtype=float)  \n",
    "B = np.array([4,1,1], dtype=float)"
   ]
  },
  {
   "cell_type": "markdown",
   "metadata": {},
   "source": [
    "<div id=\"SGaussJordan\"><b>Gauss-Jordan</b></div>"
   ]
  },
  {
   "cell_type": "code",
   "execution_count": null,
   "metadata": {},
   "outputs": [],
   "source": [
    "def GaussJordan(A):\n",
    "    \"\"\" Inversion de la matrice A \"\"\"\n",
    "    global a                # Non indispensable, permet de visualiser a (tests)\n",
    "    # Initialisation\n",
    "    n = len(A)\n",
    "    a = np.empty((n,2*n))   # Matrice augmentée (n,2n)\n",
    "    I = np.eye(n)           # Matrice unité (n,n)\n",
    "    for i in range(n):      # Remplissage de a à partir de A et I\n",
    "        for j in range(n):\n",
    "            a[i,j] = A[i,j]\n",
    "            a[i,j+n] = I[i,j]\n",
    "    B = np.zeros((n,n))     # Matrice inverse\n",
    "    # Phase de triangularisation\n",
    "    for i in range(n):\n",
    "        # Recherche de k_pivot,index du pivot\n",
    "        k_pivot = i\n",
    "        colonne = a[:,i]\n",
    "        pivot = abs(colonne[i])\n",
    "        for p in range(i+1,n):\n",
    "            if abs(colonne[p]) > pivot:\n",
    "                pivot = abs(colonne[p])\n",
    "                k_pivot = p\n",
    "        # Echange de lignes si i != k_pivot\n",
    "        if k_pivot > i:\n",
    "            for j in range(2*n):\n",
    "                a[k_pivot,j], a[i,j] = a[i,j], a[k_pivot,j]\n",
    "        # Normalisation du pivot\n",
    "        for j in range(2*n):\n",
    "            a[i,j] /= pivot\n",
    "        # Transvections : boucle sur les lignes\n",
    "        for k in range(n):\n",
    "            if k!=i:\n",
    "                f = a[k,i]/a[i,i]     # Ligne indispensable\n",
    "                for j in range(2*n):\n",
    "                    a[k,j] -= f*a[i,j]\n",
    "    # Matrice inverse\n",
    "    for i in range(n):\n",
    "        for j in range(n): \n",
    "            B[i,j] = a[i,j+n]\n",
    "    return B  "
   ]
  },
  {
   "cell_type": "markdown",
   "metadata": {},
   "source": [
    "Test"
   ]
  },
  {
   "cell_type": "code",
   "execution_count": null,
   "metadata": {},
   "outputs": [],
   "source": [
    "# Matrice à inverser\n",
    "A = np.array([[2,3,1], [1,2,3], [3,2,2]], dtype=float)\n",
    "B = GaussJordan(A)\n",
    "B"
   ]
  },
  {
   "cell_type": "code",
   "execution_count": null,
   "metadata": {},
   "outputs": [],
   "source": []
  },
  {
   "cell_type": "code",
   "execution_count": null,
   "metadata": {},
   "outputs": [],
   "source": []
  }
 ],
 "metadata": {
  "kernelspec": {
   "display_name": "Python 3",
   "language": "python",
   "name": "python3"
  },
  "language_info": {
   "codemirror_mode": {
    "name": "ipython",
    "version": 3
   },
   "file_extension": ".py",
   "mimetype": "text/x-python",
   "name": "python",
   "nbconvert_exporter": "python",
   "pygments_lexer": "ipython3",
   "version": "3.7.3"
  }
 },
 "nbformat": 4,
 "nbformat_minor": 2
}
