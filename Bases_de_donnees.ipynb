{
 "cells": [
  {
   "cell_type": "markdown",
   "metadata": {},
   "source": [
    "<h1><div style=\"color:Sienna;font-family:serif;font-size:larger;text-align:center;border:solid,2px;padding:2%;\">Bases de données</div></h1>\n",
    "\n",
    "<div style=\"color:blue;font-family:serif;padding-left:100px\">\n",
    "    <a href=\"#T1\">Requêtes sur une base existante</a><br>\n",
    "    <a href=\"#T2\">Création d'une base de données</a><br>\n",
    "</div><br><br>\n",
    "\n",
    "La base de données utilisée est issue de travaux réalisés par M. Laurent Chéno, Inspecteur Général d’Informatique, mis à disposition sous licence CC BY-SA 3.0 FR dans le cadre des programmes de CPGE."
   ]
  },
  {
   "cell_type": "markdown",
   "metadata": {},
   "source": [
    "<div style=\"border:solid,1px;padding:1%;\">\n",
    "La communication avec des bases de données nécessite d'importer le module sqlite3 : <code>import sqlite3 as sq</code><br>\n",
    "    \n",
    "La connexion à une base de données présente des analogies avec la manipulation de fichiers.<br> \n",
    "L'exécution de requêtes SQL nécessite les opérations suivantes :<br>\n",
    "&nbsp;&nbsp;&nbsp;&nbsp;1/ connexion à la base ;<br>\n",
    "    &nbsp;&nbsp;&nbsp;&nbsp;2/ création d’une <b><span style=\"color:red;\">variable-curseur</span></b> jouant le rôle de <b>mémoire tampon</b> (image de la base en mémoire) ;<br>\n",
    "&nbsp;&nbsp;&nbsp;&nbsp;3/ exécution de requêtes dans le curseur</span> (la base reste inchangée) ;<br>\n",
    "&nbsp;&nbsp;&nbsp;&nbsp;4/ récupération des résultats ou écriture dans la base ;<br>\n",
    "&nbsp;&nbsp;&nbsp;&nbsp;5/ fermeture de la variable curseur ;<br>\n",
    "&nbsp;&nbsp;&nbsp;&nbsp;6/ fermeture de la base.<br>\n",
    "\n",
    "</div>"
   ]
  },
  {
   "cell_type": "markdown",
   "metadata": {},
   "source": [
    "<h2><div id=\"T1\" style=\"color:blue;font-family:serif;border:solid,1px;padding:1%;\">Requêtes sur une base existante</div></h2>"
   ]
  },
  {
   "cell_type": "markdown",
   "metadata": {},
   "source": [
    "<div style=\"border-bottom:solid,1px;\"><b>Exécution d'une requête</b></div>"
   ]
  },
  {
   "cell_type": "code",
   "execution_count": null,
   "metadata": {},
   "outputs": [],
   "source": [
    "import sqlite3 as sq\n",
    "import pprint as pp                                       # Affichage plus lisible dans le shell\n",
    "\n",
    "requete = \"SELECT nom, prénom FROM Auteurs ORDER BY nom\"  # requête SQL = chaîne\n",
    "\n",
    "connexion = sq.connect('bibliotheque.sqlite')             # 1/ Connexion à la base\n",
    "curseur = connexion.cursor()                              # 2/ Variable curseur = mémoire tampon\n",
    "\n",
    "curseur.execute(requete)                                  # 3/ Exécution de la requête dans le curseur\n",
    "resultat = curseur.fetchall()                             # 4/ Variable resultat : liste de tuples \n",
    "pp.pprint(resultat)                                       # Affichage formaté avec pretty print\n",
    " \n",
    "curseur.close()                                           # 5/ Fermeture du curseur\n",
    "connexion.close()                                         # 6/ Fermeture de la connexion"
   ]
  },
  {
   "cell_type": "markdown",
   "metadata": {},
   "source": [
    "&#128432; <b>Tests de requêtes</b><div id=\"E1\"></div>"
   ]
  },
  {
   "cell_type": "markdown",
   "metadata": {},
   "source": [
    "Structure de la base de données (cliquer sur l'image).\n",
    "<a href=\"tables.png\" target=\"_blank\"><img src=\"tables.png\" alt=\"tables\" style=\"width:230px;height:199px\" /></a>"
   ]
  },
  {
   "cell_type": "code",
   "execution_count": null,
   "metadata": {},
   "outputs": [],
   "source": []
  },
  {
   "cell_type": "markdown",
   "metadata": {},
   "source": [
    "<h2><div id=\"T2\" style=\"color:blue;font-family:serif;border:solid,1px;padding:1%;\">Création d'une base de données</div></h2>"
   ]
  },
  {
   "cell_type": "code",
   "execution_count": null,
   "metadata": {},
   "outputs": [],
   "source": [
    "import sqlite3 as sq\n",
    "import pprint as pp"
   ]
  },
  {
   "cell_type": "markdown",
   "metadata": {},
   "source": [
    "<div style=\"border-bottom:solid,1px;\"><b>Création d'une base vide</b></div>"
   ]
  },
  {
   "cell_type": "code",
   "execution_count": null,
   "metadata": {},
   "outputs": [],
   "source": [
    "connexion = sq.connect('jeu.sqlite')      # Création de la base si elle n'existe pas\n",
    "curseur = connexion.cursor()\n",
    "connexion.commit()                        # Ecriture dans la base\n",
    "curseur.close()\n",
    "connexion.close()"
   ]
  },
  {
   "cell_type": "markdown",
   "metadata": {},
   "source": [
    "La table doit apparaître dans le dossier local."
   ]
  },
  {
   "cell_type": "markdown",
   "metadata": {},
   "source": [
    "<div style=\"border-bottom:solid,1px;\"><b>Création d'une table dans une base</b></div>"
   ]
  },
  {
   "cell_type": "code",
   "execution_count": null,
   "metadata": {},
   "outputs": [],
   "source": [
    "connexion = sq.connect('jeu.sqlite')\n",
    "curseur = connexion.cursor()\n",
    "\n",
    "# Table Joueurs avec 3 attributs : clé primaire (id), nom et âge\n",
    "requete = 'CREATE TABLE Joueurs (id INTEGER NOT NULL PRIMARY KEY AUTOINCREMENT, nom TEXT NOT NULL, age INTEGER)'\n",
    "curseur.execute(requete)                  # Création de la table Joueurs\n",
    "\n",
    "connexion.commit()                        # Ecriture dans la base\n",
    "curseur.close()\n",
    "connexion.close()"
   ]
  },
  {
   "cell_type": "markdown",
   "metadata": {},
   "source": [
    "Vérification : "
   ]
  },
  {
   "cell_type": "code",
   "execution_count": null,
   "metadata": {},
   "outputs": [],
   "source": [
    "connexion = sq.connect('jeu.sqlite')\n",
    "curseur = connexion.cursor()\n",
    "\n",
    "requete = \"SELECT * FROM Joueurs\"         # Vérification\n",
    "curseur.execute(requete)\n",
    "resultat = curseur.fetchall() \n",
    "pp.pprint(resultat)       \n",
    "\n",
    "curseur.close()\n",
    "connexion.close()"
   ]
  },
  {
   "cell_type": "markdown",
   "metadata": {},
   "source": [
    "Le script précédent renvoie : &#91; &#93; car la table ne contient aucun enregistrement.<br>\n",
    "<b> Ce script peut être dupliqué à chaque étape ci-dessous pour vérifier le résultat des différentes actions</b>.\n",
    "<br><br>\n",
    "\n"
   ]
  },
  {
   "cell_type": "markdown",
   "metadata": {},
   "source": [
    "<div style=\"border-bottom:solid,1px;\"><b>Ajout d'enregistrements dans une table</b></div>"
   ]
  },
  {
   "cell_type": "code",
   "execution_count": null,
   "metadata": {},
   "outputs": [],
   "source": [
    "connexion = sq.connect('jeu.sqlite')\n",
    "curseur = connexion.cursor()\n",
    "\n",
    "requete = \"INSERT INTO Joueurs (nom, age) VALUES ('Monod', 95)\"\n",
    "curseur.execute(requete)                  # Ajout d'un enregistrement\n",
    "\n",
    "requete = \"INSERT INTO Joueurs (nom, age) VALUES ('Gustave', 2)\"\n",
    "curseur.execute(requete)                  # Ajout d'un autre enregistrement\n",
    "\n",
    "connexion.commit()                        # Ecriture dans la base\n",
    "curseur.close()\n",
    "connexion.close()"
   ]
  },
  {
   "cell_type": "code",
   "execution_count": null,
   "metadata": {},
   "outputs": [],
   "source": []
  },
  {
   "cell_type": "markdown",
   "metadata": {},
   "source": [
    "<div style=\"border-bottom:solid,1px;\"><b>Modification d'une table</b></div>"
   ]
  },
  {
   "cell_type": "markdown",
   "metadata": {},
   "source": [
    "<b>Ajout de colonne</b> : <br>\n",
    "<code>ALTER TABLE <i>Nom_table</i> ADD <i>Nom_colonne</i> <i>type_données</i></code><br>"
   ]
  },
  {
   "cell_type": "code",
   "execution_count": null,
   "metadata": {},
   "outputs": [],
   "source": [
    "connexion = sq.connect('jeu.sqlite')\n",
    "curseur = connexion.cursor()\n",
    "\n",
    "# Ajout de l'attribut score de type entier (INT = integer)\n",
    "requete = \"ALTER TABLE Joueurs ADD score INT\"\n",
    "curseur.execute(requete)\n",
    "connexion.commit()       \n",
    "\n",
    "curseur.close()\n",
    "connexion.close()"
   ]
  },
  {
   "cell_type": "code",
   "execution_count": null,
   "metadata": {},
   "outputs": [],
   "source": []
  },
  {
   "cell_type": "markdown",
   "metadata": {},
   "source": [
    "<b>Modification d'un enregistrement</b> :<br>\n",
    "<code>UPDATE <i>Nom_table</i> SET <i>Nom_colonne</i>=<i>valeur</i>,  <i>Nom_colonne</i>=<i>valeur</i>... WHERE <i>condition</i></code><br>"
   ]
  },
  {
   "cell_type": "code",
   "execution_count": null,
   "metadata": {},
   "outputs": [],
   "source": [
    "connexion = sq.connect('jeu.sqlite')\n",
    "curseur = connexion.cursor()\n",
    "\n",
    "# Modification de la valeur d'un attribut dans un enregistrement\n",
    "requete = \"UPDATE Joueurs SET score=100 WHERE nom='Monod'\"\n",
    "curseur.execute(requete)\n",
    "connexion.commit()       \n",
    "\n",
    "curseur.close()\n",
    "connexion.close()"
   ]
  },
  {
   "cell_type": "code",
   "execution_count": null,
   "metadata": {},
   "outputs": [],
   "source": []
  },
  {
   "cell_type": "markdown",
   "metadata": {},
   "source": [
    "<b>Tutoriel SQL</b> : <a href=\"https://www.w3schools.com/sql/default.asp\" target=\"_blank\">w3schools</a>"
   ]
  },
  {
   "cell_type": "code",
   "execution_count": null,
   "metadata": {},
   "outputs": [],
   "source": []
  }
 ],
 "metadata": {
  "kernelspec": {
   "display_name": "Python 3",
   "language": "python",
   "name": "python3"
  },
  "language_info": {
   "codemirror_mode": {
    "name": "ipython",
    "version": 3
   },
   "file_extension": ".py",
   "mimetype": "text/x-python",
   "name": "python",
   "nbconvert_exporter": "python",
   "pygments_lexer": "ipython3",
   "version": "3.7.1"
  }
 },
 "nbformat": 4,
 "nbformat_minor": 2
}
