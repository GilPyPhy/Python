{
 "cells": [
  {
   "cell_type": "markdown",
   "metadata": {},
   "source": [
    "<h1><div style=\"color:Sienna;font-family:serif;font-size:larger;text-align:center;border:solid,2px;padding:2%;\">Python - Les bases de la programmation en moins d'une heure ?</div></h1>\n",
    "<div style=\"color:Sienna;font-family:serif;text-align:center;\"><h2><br><b>Etape 2 - Programmer en Python</b></h2>\n",
    "    <br>Prérequis : <a href=\"Etape1_Decouvrir_Python.ipynb\">Apprivoiser un Python en moins d'une heure ?</a></div><br>\n",
    "<div style=\"color:blue;font-family:serif;padding-left:100px\">\n",
    "    <a href=\"#Tests\">Les tests</a><br>\n",
    "    <a href=\"#Range\">Intervalle range( )</a><br>\n",
    "    <a href=\"#BcleFor\">La boucle for</a><br>\n",
    "    <a href=\"#Listes\">Listes (compléments)</a><br>\n",
    "    <a href=\"#BcleWhile\">La boucle while</a><br>\n",
    "</div>"
   ]
  },
  {
   "cell_type": "markdown",
   "metadata": {},
   "source": [
    "# <div id=\"Tests\" style=\"color:blue;font-family:serif;border:solid,1px;padding:1%;\">Les tests</div>"
   ]
  },
  {
   "cell_type": "markdown",
   "metadata": {},
   "source": [
    "Exemple de tests dans une fonction (cette fonction n'a aucune utilité en pratique...) :"
   ]
  },
  {
   "cell_type": "code",
   "execution_count": null,
   "metadata": {},
   "outputs": [],
   "source": [
    "def signe(x):\n",
    "    if x >0:\n",
    "        return x\n",
    "    elif x == 0:\n",
    "        return 'x est nul'\n",
    "    else:\n",
    "        return -x\n",
    "\n",
    "signe(-2)"
   ]
  },
  {
   "cell_type": "markdown",
   "metadata": {},
   "source": [
    "<b>Remarques</b>\n",
    "- Noter les \" : \" \n",
    "- Noter l'indentation délimitant les portions de code de chaque test."
   ]
  },
  {
   "cell_type": "markdown",
   "metadata": {},
   "source": [
    "# <div id=\"Range\" style=\"color:blue;font-family:serif;border:solid,1px;padding:1%;\">Intervalle range( )</div>"
   ]
  },
  {
   "cell_type": "markdown",
   "metadata": {},
   "source": [
    "<div style=\"border:solid,1px;padding:1%;\">L'instruction <b>range(debut,fin exclue,pas)</b> permet de créer une série de valeurs <span style=\"color:red;\">entières</span> (contrairement aux fonctions arange et linspace de numpy).<br>\n",
    "Pour transformer cette série (cet intervalle) en liste afin de l'afficher, on peut écrire : list(range(...))<br>\n",
    "<span style=\"color:red;\">L'instruction range(n) crée une série de n valeurs entières de 0 à n-1</span></div><br>\n",
    "&#128432; Tester les instructions suivantes : list(range(6)), list(range(2,6)), list(range(0,6,2))"
   ]
  },
  {
   "cell_type": "code",
   "execution_count": null,
   "metadata": {},
   "outputs": [],
   "source": []
  },
  {
   "cell_type": "code",
   "execution_count": null,
   "metadata": {},
   "outputs": [],
   "source": []
  },
  {
   "cell_type": "code",
   "execution_count": null,
   "metadata": {},
   "outputs": [],
   "source": []
  },
  {
   "cell_type": "markdown",
   "metadata": {},
   "source": [
    "&#128432; Syntaxe de l'instruction range<br>\n",
    "Créer la liste des nombres pairs de 10 à 20 inclus.<br>\n",
    "Créer la liste des nombres impairs entre 10 et 20.<br>\n",
    "Créer la liste des multiples de 3 entre 10 et 40.<br>"
   ]
  },
  {
   "cell_type": "code",
   "execution_count": null,
   "metadata": {},
   "outputs": [],
   "source": []
  },
  {
   "cell_type": "code",
   "execution_count": null,
   "metadata": {},
   "outputs": [],
   "source": []
  },
  {
   "cell_type": "code",
   "execution_count": null,
   "metadata": {},
   "outputs": [],
   "source": []
  },
  {
   "cell_type": "markdown",
   "metadata": {},
   "source": [
    "# <div id=\"BcleFor\" style=\"color:blue;font-family:serif;border:solid,1px;padding:1%;\">La boucle for</div>"
   ]
  },
  {
   "cell_type": "markdown",
   "metadata": {},
   "source": [
    "La boucle for permet de répéter n fois une suite d'opérations où n est un nombre connu."
   ]
  },
  {
   "cell_type": "markdown",
   "metadata": {},
   "source": [
    "Exemple : affichage des valeurs contenues dans une série de valeurs"
   ]
  },
  {
   "cell_type": "code",
   "execution_count": null,
   "metadata": {},
   "outputs": [],
   "source": [
    "for k in range(6):   # Pour k variant de 0 à 5 (la boucle va donc se répéter 6 fois)\n",
    "    print(k)         # imprimer (afficher) la valeur de k"
   ]
  },
  {
   "cell_type": "markdown",
   "metadata": {},
   "source": [
    "<b>Remarques</b>\n",
    "- Noter les \" : \" et l'indentation délimitant les instructions à répéter.\n",
    "- Le nom de variable k est quelconque.<br>\n",
    "- k varie \"tout seul\" : lors de la 1<sup>ère</sup> boucle k vaut 0, lors de la 2<sup>ème</sup> boucle k vaut 1, etc..."
   ]
  },
  {
   "cell_type": "markdown",
   "metadata": {},
   "source": [
    "<b>Application : calcul d'une somme</b> : soit à calculer la somme des entiers de 1 à 999<br>\n",
    "On va utiliser une variable s qui contiendra le résultat, on commence donc par initialiser s à 0.<br>\n",
    "Puis, on ajoute à s les entiers de 1 à 999 grâce à une boucle et on stocke à nouveau le résultat dans s (sinon le calcul est effectué mais le résultat n'est pas mémorisé)."
   ]
  },
  {
   "cell_type": "code",
   "execution_count": null,
   "metadata": {},
   "outputs": [],
   "source": [
    "s = 0                    # Initialisation de la variable s (s comme \"somme\")\n",
    "for i in range(1,1000):  # Pour i variant de 1 à 999...\n",
    "    s = s + i                   # ...ajouter i à s et enregistrer le résultat dans s\n",
    "s                        # Afficher s"
   ]
  },
  {
   "cell_type": "markdown",
   "metadata": {},
   "source": [
    "<span style=\"color:red;\">&#10157; Cette séquence initialisation / modifications itérées est à la base de la programmation. </span>"
   ]
  },
  {
   "cell_type": "markdown",
   "metadata": {},
   "source": [
    "&#128432; <span id=\"E1\">Ecrire une fonction somme(n)</span> renvoyant la somme des entiers de 0 à n inclus (n>0) et la tester sur un exemple simple."
   ]
  },
  {
   "cell_type": "code",
   "execution_count": null,
   "metadata": {},
   "outputs": [],
   "source": []
  },
  {
   "cell_type": "code",
   "execution_count": null,
   "metadata": {},
   "outputs": [],
   "source": []
  },
  {
   "cell_type": "markdown",
   "metadata": {},
   "source": [
    "<a href=\"#S1\">Solution</a>"
   ]
  },
  {
   "cell_type": "markdown",
   "metadata": {},
   "source": [
    "&#128432; <span id=\"E2\">Modifier</span> la fonction précédente pour qu'elle renvoie la valeur <b>None</b> (signifiant aucun résultat) lorsque n &le; 0 et le résultat précédent sinon (utiliser un test)."
   ]
  },
  {
   "cell_type": "code",
   "execution_count": null,
   "metadata": {},
   "outputs": [],
   "source": []
  },
  {
   "cell_type": "code",
   "execution_count": null,
   "metadata": {},
   "outputs": [],
   "source": []
  },
  {
   "cell_type": "markdown",
   "metadata": {},
   "source": [
    "<a href=\"#S2\">Solution</a>"
   ]
  },
  {
   "cell_type": "markdown",
   "metadata": {},
   "source": [
    "&#128432; <span id=\"E3\">Ecrire</span> une fonction prodImp(n) renvoyant le produit des nombres impairs compris entre 0 et un entier n>0 et la tester."
   ]
  },
  {
   "cell_type": "code",
   "execution_count": null,
   "metadata": {},
   "outputs": [],
   "source": []
  },
  {
   "cell_type": "code",
   "execution_count": null,
   "metadata": {},
   "outputs": [],
   "source": []
  },
  {
   "cell_type": "markdown",
   "metadata": {},
   "source": [
    "<a href=\"#S3\">Solution</a>"
   ]
  },
  {
   "cell_type": "markdown",
   "metadata": {},
   "source": [
    "# <div id=\"Listes\" style=\"color:blue;font-family:serif;border:solid,1px;padding:1%;\">Listes (compléments)</div>"
   ]
  },
  {
   "cell_type": "markdown",
   "metadata": {},
   "source": [
    "Il est possible de créer des listes à l'aide d'une formule utilisant une \"mini boucle for\" :"
   ]
  },
  {
   "cell_type": "code",
   "execution_count": null,
   "metadata": {},
   "outputs": [],
   "source": [
    "L = [3*k**2-1 for k in range(10)]\n",
    "L"
   ]
  },
  {
   "cell_type": "markdown",
   "metadata": {},
   "source": [
    "<div style=\"border:solid,1px;padding:1%;\">\n",
    "<b>Vocabulaire</b><br>\n",
    "Une liste créée \"à la main\" est définie par <span style=\"color:red;\">extension</span>.<br>\n",
    "Une liste générée à l'aide d'une formule est définie par <span style=\"color:red;\">compréhension</span>.<br><br>\n",
    "<b>Parcours d'une liste</b><br>\n",
    "<span style=\"color:red;\">Il existe deux façons de parcourir une liste L</span> (d'accéder aux éléments du premier au dernier) :\n",
    "<ul>\n",
    "    <li>le parcours par index ;</li>\n",
    "    <li>le parcours par valeur.</li>\n",
    "</ul>\n",
    "</div>"
   ]
  },
  {
   "cell_type": "markdown",
   "metadata": {},
   "source": [
    "<b>Parcours par index :</b>"
   ]
  },
  {
   "cell_type": "code",
   "execution_count": null,
   "metadata": {},
   "outputs": [],
   "source": [
    "L = [-7.1, True, 0, 'xyz']\n",
    "for k in range(len(L)):     # Pour k variant de 0 à len(L) exclu (donc de 0 à len(L)-1)...\n",
    "    print(L[k])                   # ...afficher l'élément d'index k"
   ]
  },
  {
   "cell_type": "markdown",
   "metadata": {},
   "source": [
    "<b>Parcours par valeur :</b>"
   ]
  },
  {
   "cell_type": "code",
   "execution_count": null,
   "metadata": {},
   "outputs": [],
   "source": [
    "L = [-7.1, True, 0, 'xyz']\n",
    "for e in L:                 # Pour chaque élément e de la liste...\n",
    "    print(e)                      # ...afficher e"
   ]
  },
  {
   "cell_type": "markdown",
   "metadata": {},
   "source": [
    "&#128432; <span id=\"E4\">Ecrire</span> une fonction somme(L) renvoyant la somme des termes d'une liste L et la tester sur un exemple simple."
   ]
  },
  {
   "cell_type": "code",
   "execution_count": null,
   "metadata": {},
   "outputs": [],
   "source": []
  },
  {
   "cell_type": "code",
   "execution_count": null,
   "metadata": {},
   "outputs": [],
   "source": []
  },
  {
   "cell_type": "markdown",
   "metadata": {},
   "source": [
    "<a href=\"#S4\">Solution</a>"
   ]
  },
  {
   "cell_type": "markdown",
   "metadata": {},
   "source": [
    "&#128432; <span id=\"E5\">Ecrire</span> une fonction moyenne(L) renvoyant la moyenne des termes d'une liste L et la tester."
   ]
  },
  {
   "cell_type": "code",
   "execution_count": null,
   "metadata": {},
   "outputs": [],
   "source": []
  },
  {
   "cell_type": "code",
   "execution_count": null,
   "metadata": {},
   "outputs": [],
   "source": []
  },
  {
   "cell_type": "markdown",
   "metadata": {},
   "source": [
    "<a href=\"#S5\">Solution</a>"
   ]
  },
  {
   "cell_type": "markdown",
   "metadata": {},
   "source": [
    "# <div id=\"BcleWhile\" style=\"color:blue;font-family:serif;border:solid,1px;padding:1%;\">La boucle while</div>"
   ]
  },
  {
   "cell_type": "markdown",
   "metadata": {},
   "source": [
    "La boucle while permet d'effectuer une suite d'opérations tant qu'un certain critère est vérifié (utile lorsqu'on ne connaît pas à l'avance le nombre de boucles à effectuer).<br><br>\n",
    "Pour comprendre les différences entre les deux boucles, voici la boucle while qui réalise le même travail que la première boucle for donnée en exemple ci-dessus (affichage des entiers de 0 à 5). "
   ]
  },
  {
   "cell_type": "code",
   "execution_count": null,
   "metadata": {},
   "outputs": [],
   "source": [
    "k = 0\n",
    "while k<6:\n",
    "    print(k)\n",
    "    k = k + 1"
   ]
  },
  {
   "cell_type": "markdown",
   "metadata": {},
   "source": [
    "<b>Remarques :</b>\n",
    "<ul>\n",
    "    <li>Noter les \" : \" et l'indentation.</li>\n",
    "    <li>Contrairement à la boucle for, le <b>compteur de boucle</b> k ne varie pas seul : il faut l'<b>initialiser</b> avant la boucle et l'<b>incrémenter</b> (le faire varier) dans la boucle.</li>\n",
    "</ul>\n",
    "La boucle while est donc peu adaptée à la tâche à accomplir dans ce cas (car plus compliquée que la boucle for). "
   ]
  },
  {
   "cell_type": "markdown",
   "metadata": {},
   "source": [
    "<b>Exemple</b> : à partir de quel entier n la somme 1+2+...+n dépasse-t-elle 100 ?"
   ]
  },
  {
   "cell_type": "code",
   "execution_count": null,
   "metadata": {},
   "outputs": [],
   "source": [
    "s = 0             # On initialisation de la somme à 0\n",
    "n = 1             # Initialisation de n (premier nombre entier à ajouter)\n",
    "while s < 100:    # Tant que la somme s est inféreure à 100..\n",
    "    s = s + n           # ...on ajoute n à s et on stocke le résultat dans s\n",
    "    n = n + 1           # on ajoute 1 à n pour obtenir l'entier suivant\n",
    "n-1               # On affiche la valeur qui a fait déborder la somme"
   ]
  },
  {
   "cell_type": "markdown",
   "metadata": {},
   "source": [
    "Effectuer le même travail avec une boucle for nécessite un test et une instruction spéciale pour interrompre la boucle : la boucle while est alors préférable."
   ]
  },
  {
   "cell_type": "markdown",
   "metadata": {},
   "source": [
    "<b>Le critère d'arrêt</b> de la boucle while peut être constitué de plusieurs conditions en utilisant les opérateurs <span style=\"color:red;\">and</span>, <span style=\"color:red;\">or</span>, <span style=\"color:red;\">not</span>.<br><br>\n",
    "Exemple : "
   ]
  },
  {
   "cell_type": "code",
   "execution_count": null,
   "metadata": {},
   "outputs": [],
   "source": [
    "s = 0\n",
    "n = 1\n",
    "while s < 100 and n**2 < 100:\n",
    "    s = s + n\n",
    "    n = n + 1\n",
    "n, n**2, s"
   ]
  },
  {
   "cell_type": "markdown",
   "metadata": {},
   "source": [
    "🖰 <span id=\"E6\">Pour quel entier</span> n le produit 1x2x...xn dépasse-t-il 1 million ?"
   ]
  },
  {
   "cell_type": "code",
   "execution_count": null,
   "metadata": {},
   "outputs": [],
   "source": []
  },
  {
   "cell_type": "markdown",
   "metadata": {},
   "source": [
    "<a href=\"#S6\">Solution</a><br><br>"
   ]
  },
  {
   "cell_type": "markdown",
   "metadata": {},
   "source": [
    "# <div style=\"color:blue;font-family:serif;border:solid,1px;padding:1%;\">Suggestions pour poursuivre</div>"
   ]
  },
  {
   "cell_type": "markdown",
   "metadata": {},
   "source": [
    "[Python Hack](Decouvrir_code.ipynb) Analyser du code pour le modifier et l'adapter.<br><br>"
   ]
  },
  {
   "cell_type": "code",
   "execution_count": null,
   "metadata": {},
   "outputs": [],
   "source": []
  },
  {
   "cell_type": "markdown",
   "metadata": {},
   "source": [
    "#### <div style=\"color:Sienna;border:solid,2px;padding:2%;\"><h2><div style=\"color:Sienna;font-family:serif;text-align:center;\"><b>Ce rapide survol est terminé, il reste encore énormément de choses à découvrir !</b></div></h2>"
   ]
  },
  {
   "cell_type": "markdown",
   "metadata": {},
   "source": [
    "<hr>\n",
    "<div style=\"color:Sienna;font-family:serif;border:solid,2px;padding:2%;\">\n",
    "    <div style=\"font-size:larger;text-align:center;\">Réponses</div><br>\n",
    "    <div style=\"color:Sienna;font-family:serif;\">Les exercices sont conçus pour être traités dans l'ordre. En conséquence, la réponse à l'exercice n+1 ne reprend pas les commandes identiques à celles de l'exercice n (seules les modifications sont fournies). Ne pas hésiter à rajouter ces commandes en cas de dysfonctionnement (probablement dû à des modifications dans les instructions précédentes).</div>\n",
    "</div>\n",
    "<hr>"
   ]
  },
  {
   "cell_type": "markdown",
   "metadata": {},
   "source": [
    "<div id=\"S1\"><b>Solution 1</b>&nbsp;&nbsp;<a href=\"#E1\" style=\"font-size:smaller;\">Retour</a></div>"
   ]
  },
  {
   "cell_type": "code",
   "execution_count": null,
   "metadata": {},
   "outputs": [],
   "source": [
    "def somme(n):\n",
    "    s = 0\n",
    "    for i in range(1,n+1):   # Attention, n+1 est exclu\n",
    "        s += i               # Cette syntaxe est équivalente à s = s + i\n",
    "    return s                 # Retourner s (sinon la fonction ne transmet rien au programme appelant f)"
   ]
  },
  {
   "cell_type": "code",
   "execution_count": null,
   "metadata": {},
   "outputs": [],
   "source": [
    "somme(3)"
   ]
  },
  {
   "cell_type": "markdown",
   "metadata": {},
   "source": [
    "<div id=\"S2\"><b>Solution 2</b>&nbsp;&nbsp;<a href=\"#E2\" style=\"font-size:smaller;\">Retour</a></div>"
   ]
  },
  {
   "cell_type": "code",
   "execution_count": null,
   "metadata": {},
   "outputs": [],
   "source": [
    "def somme(n):\n",
    "    if n<=0:\n",
    "        return None\n",
    "    # Si le test précédent est faux alors les instructions qui suivent sont exécutées (instruction else inutile ici)\n",
    "    s = 0 \n",
    "    for i in range(1,n+1):\n",
    "        s += i\n",
    "    return s"
   ]
  },
  {
   "cell_type": "markdown",
   "metadata": {},
   "source": [
    "<div id=\"S3\"><b>Solution 3</b>&nbsp;&nbsp;<a href=\"#E3\" style=\"font-size:smaller;\">Retour</a></div>"
   ]
  },
  {
   "cell_type": "code",
   "execution_count": null,
   "metadata": {},
   "outputs": [],
   "source": [
    "def prodImp(n):\n",
    "    p = 1                    # Initialisation de la variable contenant le produit à 1 (et non pas à 0)\n",
    "    for i in range(1,n+1,2): # On utilise un pas de deux : i vaudra 1, 3, 5 ...(on pourrait commencer à 3)\n",
    "        p = p*i              # Ou encore p *= i\n",
    "    return p"
   ]
  },
  {
   "cell_type": "code",
   "execution_count": null,
   "metadata": {},
   "outputs": [],
   "source": [
    "prodImp(5)"
   ]
  },
  {
   "cell_type": "markdown",
   "metadata": {},
   "source": [
    "<div id=\"S4\"><b>Solution 4</b>&nbsp;&nbsp;<a href=\"#E4\" style=\"font-size:smaller;\">Retour</a></div>"
   ]
  },
  {
   "cell_type": "code",
   "execution_count": null,
   "metadata": {},
   "outputs": [],
   "source": [
    "def somme(L):\n",
    "    s = 0\n",
    "    for e in L:   # Le parcours par valeur est le plus simple (la connaissance de l'index est inutile)\n",
    "        s += e\n",
    "    return s"
   ]
  },
  {
   "cell_type": "code",
   "execution_count": null,
   "metadata": {},
   "outputs": [],
   "source": [
    "L = [1,2,3]\n",
    "somme(L)"
   ]
  },
  {
   "cell_type": "markdown",
   "metadata": {},
   "source": [
    "<div id=\"S5\"><b>Solution 5</b>&nbsp;&nbsp;<a href=\"#E5\" style=\"font-size:smaller;\">Retour</a></div>"
   ]
  },
  {
   "cell_type": "code",
   "execution_count": null,
   "metadata": {},
   "outputs": [],
   "source": [
    "def moyenne(L):\n",
    "    return somme(L)/len(L)  # Il est possible de faire appel à une fonction dans une fonction"
   ]
  },
  {
   "cell_type": "code",
   "execution_count": null,
   "metadata": {},
   "outputs": [],
   "source": [
    "moyenne(L)"
   ]
  },
  {
   "cell_type": "markdown",
   "metadata": {},
   "source": [
    "<div id=\"S6\"><b>Solution 6</b>&nbsp;&nbsp;<a href=\"#E6\" style=\"font-size:smaller;\">Retour</a></div>"
   ]
  },
  {
   "cell_type": "code",
   "execution_count": null,
   "metadata": {},
   "outputs": [],
   "source": [
    "p = 1\n",
    "n = 1\n",
    "while p < 1e6:\n",
    "    p = p*n\n",
    "    n = n + 1\n",
    "n-1"
   ]
  },
  {
   "cell_type": "code",
   "execution_count": null,
   "metadata": {},
   "outputs": [],
   "source": []
  }
 ],
 "metadata": {
  "kernelspec": {
   "display_name": "Python 3",
   "language": "python",
   "name": "python3"
  },
  "language_info": {
   "codemirror_mode": {
    "name": "ipython",
    "version": 3
   },
   "file_extension": ".py",
   "mimetype": "text/x-python",
   "name": "python",
   "nbconvert_exporter": "python",
   "pygments_lexer": "ipython3",
   "version": "3.7.1"
  }
 },
 "nbformat": 4,
 "nbformat_minor": 1
}
