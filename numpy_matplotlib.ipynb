{
 "cells": [
  {
   "cell_type": "markdown",
   "metadata": {},
   "source": [
    "<h1><div style=\"color:Sienna;font-family:serif;font-size:larger;text-align:center;border:solid,2px;padding:2%;\">Numpy - Matplotlib</div></h1>\n",
    "\n",
    "<div style=\"color:blue;font-family:serif;padding-left:100px\">\n",
    "    <a href=\"#T1\">Numpy</a><br>\n",
    "    &nbsp;&nbsp;&nbsp;&nbsp;&nbsp;&nbsp;<a href=\"#T11\">Tableaux unidimensionnels</a><br>\n",
    "    &nbsp;&nbsp;&nbsp;&nbsp;&nbsp;&nbsp;&nbsp;&nbsp;&nbsp;&nbsp;&nbsp;&nbsp;<a href=\"#T111\">Définition par extension - Accès aux éléments - Taille</a><br>\n",
    "    &nbsp;&nbsp;&nbsp;&nbsp;&nbsp;&nbsp;&nbsp;&nbsp;&nbsp;&nbsp;&nbsp;&nbsp;<a href=\"#T112\">Propriétés - Type</a><br>\n",
    "    &nbsp;&nbsp;&nbsp;&nbsp;&nbsp;&nbsp;<a href=\"#T12\">Tableaux multidimensionnels</a><br>\n",
    "    &nbsp;&nbsp;&nbsp;&nbsp;&nbsp;&nbsp;&nbsp;&nbsp;&nbsp;&nbsp;&nbsp;&nbsp;<a href=\"#T121\">Création d'un tableau - Accès aux éléments - Taille</a><br>\n",
    "    &nbsp;&nbsp;&nbsp;&nbsp;&nbsp;&nbsp;&nbsp;&nbsp;&nbsp;&nbsp;&nbsp;&nbsp;<a href=\"#T122\">Tableaux préremplis</a><br>\n",
    "    &nbsp;&nbsp;&nbsp;&nbsp;&nbsp;&nbsp;&nbsp;&nbsp;&nbsp;&nbsp;&nbsp;&nbsp;<a href=\"#T123\">Transformation des tableaux</a><br>\n",
    "    &nbsp;&nbsp;&nbsp;&nbsp;&nbsp;&nbsp;<a href=\"#T13\">Extraction de sous-tableaux - Slicing</a><br>\n",
    "    &nbsp;&nbsp;&nbsp;&nbsp;&nbsp;&nbsp;<a href=\"#T14\">Fonctions universelles - ufunc</a><br>\n",
    "    <a href=\"#T2\">Matplotlib</a><br>\n",
    "</div><br>\n",
    "\n",
    "<div style=\"color:Sienna;font-family:serif;padding-left:40%;\">\n",
    "    <a href=\"https://www.numpy.org/\" target=\"_blank\">Documentation Numpy</a><br>\n",
    "    <a href=\"https://matplotlib.org/\" target=\"_blank\">Documentation Matplotlib</a><br>\n",
    "    <a href=\"https://github.com/rougier/matplotlib-tutorial#introduction\" target=\"_blank\">Tutoriel Matplotlib</a>\n",
    "</div>"
   ]
  },
  {
   "cell_type": "markdown",
   "metadata": {},
   "source": [
    "# <div id=\"T1\" style=\"color:blue;font-family:serif;border:solid,1px;padding:1%;\">Numpy</div>"
   ]
  },
  {
   "cell_type": "markdown",
   "metadata": {},
   "source": [
    "<div style=\"border:solid,1px;padding:1%;\">La structure de données fondamentale en numpy est la structure de données de type <b>tableau</b> (type numpy.ndarray).<br>\n",
    "Cette structure possède des analogies et des différences avec la structure de liste (cf. ci-dessous).<br>\n",
    "Une différence importante : <b>les éléments d’un tableau doivent être de même type</b> contrairement aux listes.<br></div>"
   ]
  },
  {
   "cell_type": "markdown",
   "metadata": {},
   "source": [
    "#### <div id=\"T11\" style=\"border-bottom:solid,1px;color:blue\"><b>Tableaux unidimensionnels - \"Vecteurs\"</b></div>"
   ]
  },
  {
   "cell_type": "markdown",
   "metadata": {},
   "source": [
    "#### <div id=\"T111\" style=\"border-left:solid,5px;padding-left:1%\"><b>Définition par extension - Accès aux éléments - Taille</b></div>"
   ]
  },
  {
   "cell_type": "markdown",
   "metadata": {},
   "source": [
    "<div style=\"border:solid,1px;padding:1%;\">\n",
    "Définition d'un tableau par extension : <code>np.array(<i>liste de valeurs</i>)</code><br>\n",
    "Transformation d'une <b>liste L</b> en <b>tableau</b> : <code>np.array(L)</code>.<br>\n",
    "\n",
    "On accède à un élément d’un tableau T comme à un élément d’une liste, via son <b>index</b> (la numérotation commence également à <b>0</b>) grâce à une instruction de la forme <code>T[i]</code>.<br>\n",
    "\n",
    "La taille d’un tableau unidimensionnel T est donnée par <code>T.size</code> (noter l’absence de parenthèses).</div>"
   ]
  },
  {
   "cell_type": "markdown",
   "metadata": {},
   "source": [
    "&#128432; Tester les instructions suivantes<div id=\"E1\"></div>"
   ]
  },
  {
   "cell_type": "code",
   "execution_count": null,
   "metadata": {},
   "outputs": [],
   "source": [
    "import numpy as np\n",
    "\n",
    "T = np.array([7.5,2.9,-4,1])    # Noter parenthèses et crochets\n",
    "T"
   ]
  },
  {
   "cell_type": "code",
   "execution_count": null,
   "metadata": {},
   "outputs": [],
   "source": [
    "print(T[0])\n",
    "print(T.size)\n",
    "print(len(T))"
   ]
  },
  {
   "cell_type": "markdown",
   "metadata": {},
   "source": [
    "#### <div id=\"T112\" style=\"border-left:solid,5px;padding-left:1%\"><b>Propriétés - Type</b></div>"
   ]
  },
  {
   "cell_type": "markdown",
   "metadata": {},
   "source": [
    "&#128432; Tester les instructions suivantes<div id=\"E2\"></div>"
   ]
  },
  {
   "cell_type": "code",
   "execution_count": null,
   "metadata": {},
   "outputs": [],
   "source": [
    "np.array([1,2,3]) + np.array([3,2,1])  # Somme (tableaux de même taille)"
   ]
  },
  {
   "cell_type": "code",
   "execution_count": null,
   "metadata": {},
   "outputs": [],
   "source": [
    "3*np.array([1,2,3])                    # Multiplication par un scalaire"
   ]
  },
  {
   "cell_type": "code",
   "execution_count": null,
   "metadata": {},
   "outputs": [],
   "source": [
    "V = np.array([-1,0,1,2])"
   ]
  },
  {
   "cell_type": "code",
   "execution_count": null,
   "metadata": {},
   "outputs": [],
   "source": [
    "V-1                                    # Le scalaire 1 est traité comme un tableau"
   ]
  },
  {
   "cell_type": "code",
   "execution_count": null,
   "metadata": {},
   "outputs": [],
   "source": [
    "V**2                                   # Fonction appliquée à un tableau"
   ]
  },
  {
   "cell_type": "code",
   "execution_count": null,
   "metadata": {},
   "outputs": [],
   "source": [
    "type(V)                                # Type d'objet"
   ]
  },
  {
   "cell_type": "markdown",
   "metadata": {},
   "source": [
    "<div style=\"border:solid,1px,red;padding:1%;color:red;\"><b>Les tableaux unidimensionnels se comportent comme des vecteurs et non comme des listes</b></div>.<br><br>"
   ]
  },
  {
   "cell_type": "markdown",
   "metadata": {},
   "source": [
    "#### <div id=\"T12\" style=\"border-bottom:solid,1px;color:blue\"><b>Tableaux multidimensionnels</b></div>"
   ]
  },
  {
   "cell_type": "markdown",
   "metadata": {},
   "source": [
    "#### <div id=\"T121\" style=\"border-left:solid,5px;padding-left:1%\"><b>Création d'un tableau - Accès aux éléments - Taille</b></div>"
   ]
  },
  {
   "cell_type": "markdown",
   "metadata": {},
   "source": [
    "<div style=\"border:solid,1px;padding:1%;\">\n",
    "Les tableaux peuvent être multidimensionnels (analogues à une matrice), exemple à 2 dimensions :<br>\n",
    "    <code>T = np.array([[11,12,13],[21,22,23]])</code><br>\n",
    "Ce tableau comporte 2 lignes et 3 colonnes.<br>\n",
    "Lignes et colonnes sont appelés \"<b>axes</b>\" du tableau : la dimension du 1<sup>er</sup> axe (\"axis\") est 2 et la dimension du 2<sup>nd</sup> axe est 3.<br>\n",
    "    \n",
    "On accède à un élément de ce tableau T par <code>T[i,j]</code> ou <code>T[i][j]</code> (la numérotation commence à 0).<br>\n",
    "\n",
    "<table style=\"width:50%\">\n",
    "  <tr>\n",
    "    <th style=\"text-align:center\"><i>Propriétés du tableau</i></th>\n",
    "    <th style=\"text-align:center\"><i>Commande</i></th>\n",
    "  </tr>\n",
    "  <tr>\n",
    "    <td style=\"text-align:left\">Nombre d'axes</td>\n",
    "    <td style=\"text-align:left\"><code>T.ndim</code></td>\n",
    "  </tr>\n",
    "  <tr>\n",
    "      <td style=\"text-align:left\"><b>Dimensions</b></td>\n",
    "    <td style=\"text-align:left\">T.shape</td>\n",
    "  </tr>\n",
    "  <tr>\n",
    "    <td style=\"text-align:left\">Nombre d'éléments</td>\n",
    "    <td style=\"text-align:left\"><code>T.size</code></td>\n",
    "  </tr>\n",
    "  <tr>\n",
    "    <td style=\"text-align:left\">Type des éléments</td>\n",
    "    <td style=\"text-align:left\"><code>T.dtype</code></td>\n",
    "  </tr>\n",
    "</table><br>\n",
    "\n",
    "Les tableaux multidimensionnels possèdent les <b>mêmes propiétés</b> que les tableaux unidimensionnels.\n",
    "</div>"
   ]
  },
  {
   "cell_type": "markdown",
   "metadata": {},
   "source": [
    "&#128432; Tester les instructions suivantes<div id=\"E3\"></div>"
   ]
  },
  {
   "cell_type": "code",
   "execution_count": null,
   "metadata": {},
   "outputs": [],
   "source": [
    "T = np.array([[11,12,13],[21,22,23]] )\n",
    "T"
   ]
  },
  {
   "cell_type": "code",
   "execution_count": null,
   "metadata": {},
   "outputs": [],
   "source": [
    "T[1,2]"
   ]
  },
  {
   "cell_type": "code",
   "execution_count": null,
   "metadata": {},
   "outputs": [],
   "source": [
    "T.ndim"
   ]
  },
  {
   "cell_type": "code",
   "execution_count": null,
   "metadata": {},
   "outputs": [],
   "source": [
    "T.shape"
   ]
  },
  {
   "cell_type": "code",
   "execution_count": null,
   "metadata": {},
   "outputs": [],
   "source": [
    "T.dtype"
   ]
  },
  {
   "cell_type": "markdown",
   "metadata": {},
   "source": [
    "#### <div id=\"T122\" style=\"border-left:solid,5px;padding-left:1%\"><b>Tableaux préremplis</b></div>"
   ]
  },
  {
   "cell_type": "markdown",
   "metadata": {},
   "source": [
    "<div style=\"border:solid,1px;padding:1%;\">\n",
    "<table style=\"width:70%\">\n",
    "  <tr>\n",
    "    <th style=\"text-align:center\"><i>Fonction</i></th>\n",
    "    <th style=\"text-align:center\"><i>Commande</i></th>\n",
    "  </tr>\n",
    "  <tr>\n",
    "    <td style=\"text-align:left\">zeros( )</td>\n",
    "    <td style=\"text-align:left\"><code>np.zeros(4)</code> (1D)<br>\n",
    "        <code>np.zeros((2,3))</code> (2D)</td>\n",
    "  </tr>\n",
    "  <tr>\n",
    "      <td style=\"text-align:left\">ones( )</td>\n",
    "    <td style=\"text-align:left\"><code>np.ones(4)</code> (1D)<br>\n",
    "        <code>np.ones((2,3))</code> (2D)</td>\n",
    "  </tr>\n",
    "  <tr>\n",
    "      <td style=\"text-align:left\"><b>arange(start, stop (exclu), step)</b></td>\n",
    "    <td style=\"text-align:left\"><code>np.arange(5,10,2)</code></td>\n",
    "  </tr>\n",
    "  <tr>\n",
    "    <td style=\"text-align:left\"><b>linspace(start, stop (inclus), nombre valeurs)</b></td>\n",
    "    <td style=\"text-align:left\"><code>np.linspace(5,10,2)</code></td>\n",
    "  </tr>\n",
    "</table>\n",
    "</div>"
   ]
  },
  {
   "cell_type": "markdown",
   "metadata": {},
   "source": [
    "&#128432; Tester les instructions suivantes<div id=\"E4\"></div>"
   ]
  },
  {
   "cell_type": "code",
   "execution_count": null,
   "metadata": {},
   "outputs": [],
   "source": [
    "np.ones(4)"
   ]
  },
  {
   "cell_type": "code",
   "execution_count": null,
   "metadata": {},
   "outputs": [],
   "source": [
    "np.zeros(6)"
   ]
  },
  {
   "cell_type": "code",
   "execution_count": null,
   "metadata": {},
   "outputs": [],
   "source": [
    "np.ones((2,3))"
   ]
  },
  {
   "cell_type": "code",
   "execution_count": null,
   "metadata": {},
   "outputs": [],
   "source": [
    "np.arange(5,10,2)"
   ]
  },
  {
   "cell_type": "code",
   "execution_count": null,
   "metadata": {},
   "outputs": [],
   "source": [
    "np.arange(5,10,2,dtype=float)"
   ]
  },
  {
   "cell_type": "code",
   "execution_count": null,
   "metadata": {},
   "outputs": [],
   "source": [
    "np.linspace(0,10,11)"
   ]
  },
  {
   "cell_type": "markdown",
   "metadata": {},
   "source": [
    "#### <div id=\"T123\" style=\"border-left:solid,5px;padding-left:1%\"><b>Transformation des tableaux</b></div>\n",
    "Pour traiter les éléments d'un tableau, il est parfois utile de modifier sa forme (ses dimensions)."
   ]
  },
  {
   "cell_type": "markdown",
   "metadata": {},
   "source": [
    "&#128432; Tester les instructions suivantes<div id=\"E5\"></div>"
   ]
  },
  {
   "cell_type": "code",
   "execution_count": null,
   "metadata": {},
   "outputs": [],
   "source": [
    "T.flatten()                    # \"Aplatit\" le tableau en un vecteur unidimensionnel"
   ]
  },
  {
   "cell_type": "code",
   "execution_count": null,
   "metadata": {},
   "outputs": [],
   "source": [
    "T.reshape(1,T.size)            # Même effet"
   ]
  },
  {
   "cell_type": "code",
   "execution_count": null,
   "metadata": {},
   "outputs": [],
   "source": [
    "T                              # Le tableau initial n'a pas été modifié"
   ]
  },
  {
   "cell_type": "code",
   "execution_count": null,
   "metadata": {},
   "outputs": [],
   "source": [
    "T1 = T.reshape(3,2)\n",
    "T1"
   ]
  },
  {
   "cell_type": "markdown",
   "metadata": {},
   "source": [
    "#### <div id=\"T13\" style=\"border-bottom:solid,1px;color:blue\"><b> Extraction de sous-tableaux - Slicing</b></div>"
   ]
  },
  {
   "cell_type": "markdown",
   "metadata": {},
   "source": [
    "Les techniques de sclicing sont essentielles pour sélectionner et traiter des éléments dans un tableau (en particulier les images)."
   ]
  },
  {
   "cell_type": "markdown",
   "metadata": {},
   "source": [
    "<div style=\"border:solid,1px;padding:1%;\">\n",
    "<table style=\"width:100%\">\n",
    "  <tr>\n",
    "    <th style=\"text-align:center\"><i>Commande</i></th>\n",
    "    <th style=\"text-align:center\"><i>Effet</i></th>\n",
    "  </tr>\n",
    "  <tr>\n",
    "      <td style=\"text-align:left\"><code>T[i,:]</code> ou <code>T[i,]</code></td>\n",
    "    <td style=\"text-align:left\">renvoie la ligne i</td>\n",
    "  </tr>\n",
    "  <tr>\n",
    "      <td style=\"text-align:left\"><code>T[:,j]</code></td>\n",
    "    <td style=\"text-align:left\">renvoie la colonne j</td>\n",
    "  </tr>\n",
    "  <tr>\n",
    "    <td style=\"text-align:left\"><code>T[i:]</code></td>\n",
    "    <td style=\"text-align:left\">renvoie toutes les lignes à partir de la ligne i (incluse)</td>\n",
    "  </tr>\n",
    "  <tr>\n",
    "    <td style=\"text-align:left\"><code>T[:j]</code></td>\n",
    "    <td style=\"text-align:left\">renvoie toutes les lignes jusqu’à la ligne j (exclue)</td>\n",
    "  </tr>\n",
    "  <tr>\n",
    "    <td style=\"text-align:left\"><code>T[i:j]</code></td>\n",
    "    <td style=\"text-align:left\">renvoie toutes les lignes entre les lignes i (incluse) et j (exclue)</td>\n",
    "  </tr>\n",
    "  <tr>\n",
    "    <td style=\"text-align:left\"><code>T[start:stop:step,:]</code></td>\n",
    "    <td style=\"text-align:left\">renvoie les lignes depuis start jusqu'à stop (exclue) avec le pas step</td>\n",
    "  </tr>\n",
    "  <tr>\n",
    "    <td style=\"text-align:left\"><code>T[:,start:stop:step]</code></td>\n",
    "    <td style=\"text-align:left\">renvoie les colonnes depuis start jusqu'à stop (exclue) avec le pas step</td>\n",
    "  </tr>\n",
    "  <tr>\n",
    "    <td style=\"text-align:left\"><code>T[start:stop:step,j]</code></td>\n",
    "    <td style=\"text-align:left\">(extraction de lignes sur la colonne j)</td>\n",
    "  </tr>\n",
    "  <tr>\n",
    "    <td style=\"text-align:left\"><code>T[i,start:stop:step]</code></td>\n",
    "    <td style=\"text-align:left\">(extraction de colonnes dans la lignes i)</td>\n",
    "  </tr>\n",
    "  <tr>\n",
    "    <td style=\"text-align:left\"><code>T[start:stop:step,start:stop:step]</code></td>\n",
    "    <td style=\"text-align:left\">(combinaison des techniques précédentes)</td>\n",
    "  </tr>\n",
    "</table>\n",
    "</div>"
   ]
  },
  {
   "cell_type": "markdown",
   "metadata": {},
   "source": [
    "&#128432; Tester ces instructions avec le tableau suivant (quelques exemples sont fournis)<div id=\"E6\"></div>"
   ]
  },
  {
   "cell_type": "code",
   "execution_count": null,
   "metadata": {},
   "outputs": [],
   "source": [
    "T = np.array([[11,12,13,14],[21,22,23,24],[31,32,33,34],[41,42,43,44],[51,52,53,54]])\n",
    "T"
   ]
  },
  {
   "cell_type": "code",
   "execution_count": null,
   "metadata": {},
   "outputs": [],
   "source": [
    "T[0,:]"
   ]
  },
  {
   "cell_type": "code",
   "execution_count": null,
   "metadata": {},
   "outputs": [],
   "source": [
    "T[0:5:2,1]"
   ]
  },
  {
   "cell_type": "code",
   "execution_count": null,
   "metadata": {},
   "outputs": [],
   "source": [
    "T = np.array([[11,12,13,14],[21,22,23,24],[31,32,33,34],[41,42,43,44],[51,52,53,54]])\n",
    "T[1:4,1:3]=0\n",
    "T"
   ]
  },
  {
   "cell_type": "code",
   "execution_count": null,
   "metadata": {},
   "outputs": [],
   "source": []
  },
  {
   "cell_type": "markdown",
   "metadata": {},
   "source": [
    "#### <div id=\"T14\" style=\"border-bottom:solid,1px;color:blue\"><b> Fonctions universelles - ufunc</b></div>"
   ]
  },
  {
   "cell_type": "markdown",
   "metadata": {},
   "source": [
    "<div style=\"border:solid,1px;padding:1%;\">\n",
    "    Les fonctions numpy sont des <b>fonctions universelles (ufunc)</b> (ou vectorielles) : elles peuvent être appliquées à des listes ou des tableaux (array) et le résultat est alors un tableau (type numpy.ndarray).<br>\n",
    "La fonction est appliquée « automatiquement » à chaque élément du tableau.<br>\n",
    "A contrario, les fonctions du module math sont des fonctions scalaires (qui ne s'appliquent qu'à des nombres mais ni à des listes ni à des tableaux).<br>\n",
    "    \n",
    "Il est possible de transformer une fonction f(x) définie par l’utilisateur en fonction vectorielle grâce à la commande np.vectorize(f) : cf. <a href=\"https://docs.scipy.org/doc/numpy-1.13.0/reference/generated/numpy.vectorize.html\" target=\"_blank\">vectorize</a>. Cette transformation est nécessaire lorsque la fonction comporte un test.\n",
    "</div>"
   ]
  },
  {
   "cell_type": "markdown",
   "metadata": {},
   "source": [
    "&#128432; Tester les instructions suivantes<div id=\"E6\"></div>"
   ]
  },
  {
   "cell_type": "code",
   "execution_count": null,
   "metadata": {},
   "outputs": [],
   "source": [
    "T = np.array([[11,12,13,14],[21,22,23,24],[31,32,33,34],[41,42,43,44],[51,52,53,54]])\n",
    "np.sin(T)"
   ]
  },
  {
   "cell_type": "code",
   "execution_count": null,
   "metadata": {},
   "outputs": [],
   "source": [
    "np.exp(T/20-1)"
   ]
  },
  {
   "cell_type": "markdown",
   "metadata": {},
   "source": [
    "# <div id=\"T2\" style=\"color:blue;font-family:serif;border:solid,1px;padding:1%;\">Matplotlib</div>"
   ]
  },
  {
   "cell_type": "markdown",
   "metadata": {},
   "source": [
    "La ligne <b>%matplotlib inline</b> n'est utile que pour un <b>notebook</b> (inutile dans un IDE comme Pyzo ou Spyder par exemple)."
   ]
  },
  {
   "cell_type": "markdown",
   "metadata": {},
   "source": [
    "<div style=\"border:solid,1px;padding:1%;\">\n",
    "    Tracé minimal :<br>\n",
    "<code>import matplotlib.pyplot as plt\n",
    " plt.plot(<i>liste/tableau des abscisses</i>, <i>liste/tableau des ordonnées</i>)\n",
    " plt.show()\n",
    "</code></div>"
   ]
  },
  {
   "cell_type": "markdown",
   "metadata": {},
   "source": [
    "&#128432; Tracer une fonction au choix<div id=\"M1\"></div>"
   ]
  },
  {
   "cell_type": "code",
   "execution_count": null,
   "metadata": {},
   "outputs": [],
   "source": []
  },
  {
   "cell_type": "markdown",
   "metadata": {},
   "source": [
    "<b>&diams; Couleur de courbe</b> : [matplotlib.colors](https://matplotlib.org/api/colors_api.html)<br>\n",
    "<code>plt.plot(x,f(x),color='red')</code>  \n",
    "\n",
    "<b>&diams; Epaisseur de courbe</b> :<br>\n",
    "<code>plt.plot(x,f(x),linewidth = 1.6)</code>\n",
    "\n",
    "<b>&diams; Style de courbe</b> : [Lline-properties](https://matplotlib.org/users/pyplot_tutorial.html#controlling-line-properties)<br>\n",
    "<code>plt.plot(x,f(x),linestyle='dashed')</code> ou <code>plt.plot(x,f(x),linestyle='- - ')</code> \n",
    "\n",
    "<b>&diams; Marqueurs de courbe</b> : [markers](https://matplotlib.org/api/markers_api.html#module-matplotlib.markers)<br>\n",
    "<code>plt.plot(x,f(x),marker='+')</code> \n",
    "\n",
    "<b>&diams; Labels (étiquettes) de courbe (utilisé pour la légende)</b> :<br>\n",
    "<code>plt.plot(x,f(x),label='f(x)=2sin(x)')\n",
    "plt.plot(x,f(x),label='$f(x)=\\sqrt{x}$')\n",
    "</code> avec une chaîne LaTeX (formules mathématiques)\n",
    "\n",
    "<b>&diams; Superposition de courbes grâce à plusieurs instructions plot successives</b> :<br>\n",
    "<code>plt.plot(x,f(x))\n",
    "plt.plot(x,g(x))\n",
    "</code>\n",
    "\n",
    "<b>&diams; Légende</b> : [legend](https://matplotlib.org/api/pyplot_api.html#matplotlib.pyplot.legend)<br>\n",
    "<code>plt.legend()\n",
    "plt.legend(loc='lower center') pour préciser la position</code> \n",
    "\n",
    "<b>&diams; Quadrillage de fond</b> :<br>\n",
    "<code>plt.grid()</code>\n",
    "\n",
    "<b>&diams; Axes (étiquettes)</b> :<br>\n",
    "<code>plt.xlabel('x')\n",
    "plt.ylabel('f(x)',fontsize=15,color='green')\n",
    "</code> avec taille de police et couleur de police\n",
    "\n",
    "<b>&diams; Bornes du tracé</b> :<br>\n",
    "<code>plt.xlim(-1,2)</code> de la forme : <code>plt.xlim(debut,fin)</code><br>\n",
    "<code>plt.ylim(0,6)</code><br>\n",
    "Si x est un tableau (ou une liste), <code>x.min()</code> retourne la plus petite valeur de x, <code>x.max()</code> la plus grande.<br>\n",
    "Ces instructions sont utiles dans le cas de branches infinies (fonction exponentielle, tangente…).<br>\n",
    "\n",
    "<b>&diams; Titre du graphe</b> : [title](https://matplotlib.org/api/_as_gen/matplotlib.pyplot.title.html)<br>\n",
    "<code>plt.title('f en fonction de x')\n",
    "plt.title('f en fonction de x',fontsize=20,color='blue')</code> \n",
    "\n",
    "<b>&diams; Titre de la fenêtre (cette instruction doit être la première des instructions plt.XXX car elle crée la fenêtre)</b> :<br>\n",
    "<code>plt.figure('Mon beau graphe')</code>\n",
    "\n",
    "<b>&diams; Sauvegarde d’un graphe au format pdf, png, jpg, svg</b> : [savefig](https://matplotlib.org/api/_as_gen/matplotlib.pyplot.savefig.html)<br>\n",
    "<code>plt.savefig(<i>chemin_fichier</i>,dpi=300)</code><br>\n",
    "Rq : dpi = dot per inch = point par pouce (fixe la résolution de l’image : 150 dpi pour affichage écran, 300 dpi pour impression).\n"
   ]
  },
  {
   "cell_type": "markdown",
   "metadata": {},
   "source": [
    "&#128432; Superposer plusieurs fonctions au choix, avec légende, couleurs...<div id=\"M2\"></div>"
   ]
  },
  {
   "cell_type": "code",
   "execution_count": null,
   "metadata": {},
   "outputs": [],
   "source": []
  },
  {
   "cell_type": "markdown",
   "metadata": {},
   "source": [
    "<div style=\"border:solid,1px;padding:1%;\">\n",
    "    Il est possible de faire beaucoup d'autres choses avec cette bibliothèque : réprésenter des champs scalaires avec courbes de niveaux, des champs vectoriels, des graphes en 3D, animer des courbes...<a href=\"Simulations.ipynb\" target=\"_blank\">Notebook Simulations</a><br>\n",
    "    Pour déplacer (centrer) les axes, tracer des graphes superposés, enrichir le graphe d'annotations...<a href=\"https://github.com/rougier/matplotlib-tutorial#introduction\" target=\"_blank\">Tutoriel Matplotlib</a>\n",
    "</div>"
   ]
  },
  {
   "cell_type": "code",
   "execution_count": null,
   "metadata": {},
   "outputs": [],
   "source": []
  }
 ],
 "metadata": {
  "kernelspec": {
   "display_name": "Python 3",
   "language": "python",
   "name": "python3"
  },
  "language_info": {
   "codemirror_mode": {
    "name": "ipython",
    "version": 3
   },
   "file_extension": ".py",
   "mimetype": "text/x-python",
   "name": "python",
   "nbconvert_exporter": "python",
   "pygments_lexer": "ipython3",
   "version": "3.7.1"
  }
 },
 "nbformat": 4,
 "nbformat_minor": 2
}
