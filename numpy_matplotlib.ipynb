{
 "cells": [
  {
   "cell_type": "markdown",
   "metadata": {},
   "source": [
    "<h1><div style=\"color:Sienna;font-family:serif;font-size:larger;text-align:center;border:solid,2px;padding:2%;\">Numpy - Matplotlib</div></h1>\n",
    "\n",
    "<div style=\"color:blue;font-family:serif;padding-left:100px\">\n",
    "    <a href=\"#T1\">Numpy</a><br>\n",
    "    <a href=\"#T2\">Matplotlib</a><br>\n",
    "</div>"
   ]
  },
  {
   "cell_type": "markdown",
   "metadata": {},
   "source": [
    "# <div id=\"T1\" style=\"color:blue;font-family:serif;border:solid,1px;padding:1%;\">Numpy</div>"
   ]
  },
  {
   "cell_type": "code",
   "execution_count": null,
   "metadata": {},
   "outputs": [],
   "source": []
  },
  {
   "cell_type": "markdown",
   "metadata": {},
   "source": [
    "# <div id=\"T2\" style=\"color:blue;font-family:serif;border:solid,1px;padding:1%;\">Matplotlib</div>"
   ]
  },
  {
   "cell_type": "markdown",
   "metadata": {},
   "source": [
    "La ligne <b>%matplotlib inline</b> n'est utile que pour un notebook (inutile dans un IDE comme Pyzo ou Spyder par exemple)."
   ]
  },
  {
   "cell_type": "code",
   "execution_count": null,
   "metadata": {},
   "outputs": [],
   "source": []
  },
  {
   "cell_type": "markdown",
   "metadata": {
    "solution2": "hidden",
    "solution2_first": true
   },
   "source": [
    "solution"
   ]
  },
  {
   "cell_type": "code",
   "execution_count": null,
   "metadata": {},
   "outputs": [],
   "source": []
  },
  {
   "cell_type": "markdown",
   "metadata": {},
   "source": [
    "&#128432; <b>e1</b><div id=\"Ex\"></div><br>"
   ]
  },
  {
   "cell_type": "markdown",
   "metadata": {},
   "source": [
    "<a href=\"#M1\">Solution 1</a>"
   ]
  },
  {
   "cell_type": "markdown",
   "metadata": {},
   "source": [
    "<hr>\n",
    "<div style=\"color:Sienna;font-family:serif;border:solid,2px;padding:2%;\">\n",
    "    <div style=\"font-size:larger;text-align:center;\">Réponses</div><br>\n",
    "    <div style=\"color:Sienna;font-family:serif;\">Les exercices sont conçus pour être traités dans l'ordre. En conséquence, la réponse à l'exercice n+1 ne reprend pas les commandes identiques à celles de l'exercice n (seules les modifications sont fournies). Ne pas hésiter à rajouter ces commandes en cas de dysfonctionnement (probablement dû à des modifications dans les instructions précédentes).</div>\n",
    "</div>\n",
    "<hr>"
   ]
  },
  {
   "cell_type": "markdown",
   "metadata": {},
   "source": [
    "<div id=\"M1\"><b>Solution 1</b>&nbsp;&nbsp;<a href=\"#Ex\" style=\"font-size:smaller;\">Retour exercices</a></div>"
   ]
  },
  {
   "cell_type": "code",
   "execution_count": null,
   "metadata": {},
   "outputs": [],
   "source": []
  }
 ],
 "metadata": {
  "kernelspec": {
   "display_name": "Python 3",
   "language": "python",
   "name": "python3"
  },
  "language_info": {
   "codemirror_mode": {
    "name": "ipython",
    "version": 3
   },
   "file_extension": ".py",
   "mimetype": "text/x-python",
   "name": "python",
   "nbconvert_exporter": "python",
   "pygments_lexer": "ipython3",
   "version": "3.7.1"
  }
 },
 "nbformat": 4,
 "nbformat_minor": 2
}
